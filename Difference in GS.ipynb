{
 "cells": [
  {
   "cell_type": "markdown",
   "metadata": {},
   "source": [
    "We already knew that the OBC Kitaev ladder has a 4-fold degeneracy at thermodynamics in $X$-phase.\n",
    "But a realistic question is: what distinguish these states?\n",
    "From the pure theoretical analysis, it is actually hard to tell immediately, since all the global symmetries $\\Sigma^X, \\Sigma^Y, \\Sigma^Z$ are relevant.\n",
    "Therefore, it should be helpful if we can make use of the fDMRG's results to inspect this."
   ]
  },
  {
   "cell_type": "code",
   "execution_count": 3,
   "metadata": {},
   "outputs": [],
   "source": [
    "import numpy as np"
   ]
  },
  {
   "cell_type": "code",
   "execution_count": 1,
   "metadata": {},
   "outputs": [],
   "source": [
    "from Majorana import get_Majorana_spectrum"
   ]
  },
  {
   "cell_type": "code",
   "execution_count": 45,
   "metadata": {},
   "outputs": [],
   "source": [
    "def D_n(n, N):\n",
    "    assert n<=2*N\n",
    "    return [('Sigmax', (2*n - 2) % (4*N)), ('Sigmay', (2*n - 1) % (4*N)), ('Sigmay', (2*n) % (4*N)), ('Sigmax', (2*n + 1) % (4*N))]"
   ]
  },
  {
   "cell_type": "code",
   "execution_count": 56,
   "metadata": {},
   "outputs": [
    {
     "name": "stdout",
     "output_type": "stream",
     "text": [
      "$D_0=$ [('Sigmax', 78), ('Sigmay', 79), ('Sigmay', 0), ('Sigmax', 1)]\n",
      "$D_1=$ [('Sigmax', 0), ('Sigmay', 1), ('Sigmay', 2), ('Sigmax', 3)]\n",
      "$D_2=$ [('Sigmax', 2), ('Sigmay', 3), ('Sigmay', 4), ('Sigmax', 5)]\n",
      "$D_3=$ [('Sigmax', 4), ('Sigmay', 5), ('Sigmay', 6), ('Sigmax', 7)]\n",
      "$D_4=$ [('Sigmax', 6), ('Sigmay', 7), ('Sigmay', 8), ('Sigmax', 9)]\n",
      "$D_5=$ [('Sigmax', 8), ('Sigmay', 9), ('Sigmay', 10), ('Sigmax', 11)]\n",
      "$D_6=$ [('Sigmax', 10), ('Sigmay', 11), ('Sigmay', 12), ('Sigmax', 13)]\n",
      "$D_7=$ [('Sigmax', 12), ('Sigmay', 13), ('Sigmay', 14), ('Sigmax', 15)]\n",
      "$D_8=$ [('Sigmax', 14), ('Sigmay', 15), ('Sigmay', 16), ('Sigmax', 17)]\n",
      "$D_9=$ [('Sigmax', 16), ('Sigmay', 17), ('Sigmay', 18), ('Sigmax', 19)]\n",
      "$D_10=$ [('Sigmax', 18), ('Sigmay', 19), ('Sigmay', 20), ('Sigmax', 21)]\n",
      "$D_11=$ [('Sigmax', 20), ('Sigmay', 21), ('Sigmay', 22), ('Sigmax', 23)]\n",
      "$D_12=$ [('Sigmax', 22), ('Sigmay', 23), ('Sigmay', 24), ('Sigmax', 25)]\n",
      "$D_13=$ [('Sigmax', 24), ('Sigmay', 25), ('Sigmay', 26), ('Sigmax', 27)]\n",
      "$D_14=$ [('Sigmax', 26), ('Sigmay', 27), ('Sigmay', 28), ('Sigmax', 29)]\n",
      "$D_15=$ [('Sigmax', 28), ('Sigmay', 29), ('Sigmay', 30), ('Sigmax', 31)]\n",
      "$D_16=$ [('Sigmax', 30), ('Sigmay', 31), ('Sigmay', 32), ('Sigmax', 33)]\n",
      "$D_17=$ [('Sigmax', 32), ('Sigmay', 33), ('Sigmay', 34), ('Sigmax', 35)]\n",
      "$D_18=$ [('Sigmax', 34), ('Sigmay', 35), ('Sigmay', 36), ('Sigmax', 37)]\n",
      "$D_19=$ [('Sigmax', 36), ('Sigmay', 37), ('Sigmay', 38), ('Sigmax', 39)]\n",
      "$D_20=$ [('Sigmax', 38), ('Sigmay', 39), ('Sigmay', 40), ('Sigmax', 41)]\n",
      "$D_21=$ [('Sigmax', 40), ('Sigmay', 41), ('Sigmay', 42), ('Sigmax', 43)]\n",
      "$D_22=$ [('Sigmax', 42), ('Sigmay', 43), ('Sigmay', 44), ('Sigmax', 45)]\n",
      "$D_23=$ [('Sigmax', 44), ('Sigmay', 45), ('Sigmay', 46), ('Sigmax', 47)]\n",
      "$D_24=$ [('Sigmax', 46), ('Sigmay', 47), ('Sigmay', 48), ('Sigmax', 49)]\n",
      "$D_25=$ [('Sigmax', 48), ('Sigmay', 49), ('Sigmay', 50), ('Sigmax', 51)]\n",
      "$D_26=$ [('Sigmax', 50), ('Sigmay', 51), ('Sigmay', 52), ('Sigmax', 53)]\n",
      "$D_27=$ [('Sigmax', 52), ('Sigmay', 53), ('Sigmay', 54), ('Sigmax', 55)]\n",
      "$D_28=$ [('Sigmax', 54), ('Sigmay', 55), ('Sigmay', 56), ('Sigmax', 57)]\n",
      "$D_29=$ [('Sigmax', 56), ('Sigmay', 57), ('Sigmay', 58), ('Sigmax', 59)]\n",
      "$D_30=$ [('Sigmax', 58), ('Sigmay', 59), ('Sigmay', 60), ('Sigmax', 61)]\n",
      "$D_31=$ [('Sigmax', 60), ('Sigmay', 61), ('Sigmay', 62), ('Sigmax', 63)]\n",
      "$D_32=$ [('Sigmax', 62), ('Sigmay', 63), ('Sigmay', 64), ('Sigmax', 65)]\n",
      "$D_33=$ [('Sigmax', 64), ('Sigmay', 65), ('Sigmay', 66), ('Sigmax', 67)]\n",
      "$D_34=$ [('Sigmax', 66), ('Sigmay', 67), ('Sigmay', 68), ('Sigmax', 69)]\n",
      "$D_35=$ [('Sigmax', 68), ('Sigmay', 69), ('Sigmay', 70), ('Sigmax', 71)]\n",
      "$D_36=$ [('Sigmax', 70), ('Sigmay', 71), ('Sigmay', 72), ('Sigmax', 73)]\n",
      "$D_37=$ [('Sigmax', 72), ('Sigmay', 73), ('Sigmay', 74), ('Sigmax', 75)]\n",
      "$D_38=$ [('Sigmax', 74), ('Sigmay', 75), ('Sigmay', 76), ('Sigmax', 77)]\n",
      "$D_39=$ [('Sigmax', 76), ('Sigmay', 77), ('Sigmay', 78), ('Sigmax', 79)]\n",
      "$D_40=$ [('Sigmax', 78), ('Sigmay', 79), ('Sigmay', 0), ('Sigmax', 1)]\n"
     ]
    }
   ],
   "source": [
    "N = 20\n",
    "for n in range(2*N + 1):\n",
    "    print(rf\"$D_{n}=$\", D_n(n, N))"
   ]
  },
  {
   "cell_type": "markdown",
   "metadata": {},
   "source": [
    "## First of all, let's have a look at in what system sizes there will be Majorana zero modes."
   ]
  },
  {
   "cell_type": "code",
   "execution_count": 2,
   "metadata": {},
   "outputs": [],
   "source": [
    "Jx = 1.75\n",
    "Jy = 0.25\n",
    "Jz = 1.00\n",
    "N = 20\n",
    "bc = 'open'\n",
    "method='M2'\n",
    "SigmaY = 1\n",
    "D_list = [1 for i in range(2*N)]"
   ]
  },
  {
   "cell_type": "code",
   "execution_count": 9,
   "metadata": {},
   "outputs": [
    {
     "name": "stdout",
     "output_type": "stream",
     "text": [
      "Unicells N = 1, \n",
      "\tThe smallest eigenvalue -0.6642135623730951\n",
      "Unicells N = 2, \n",
      "\tThe smallest eigenvalue -0.29987135099033363\n",
      "Unicells N = 3, \n",
      "\tThe smallest eigenvalue -0.15720684378039138\n",
      "Unicells N = 4, \n",
      "\tThe smallest eigenvalue -0.08706114667022205\n",
      "Unicells N = 5, \n",
      "\tThe smallest eigenvalue -0.04935620404696699\n",
      "Unicells N = 6, \n",
      "\tThe smallest eigenvalue -0.028266263208656255\n",
      "Unicells N = 7, \n",
      "\tThe smallest eigenvalue -0.01625803734131841\n",
      "Unicells N = 8, \n",
      "\tThe smallest eigenvalue -0.009367853628210857\n",
      "Unicells N = 9, \n",
      "\tThe smallest eigenvalue -0.005401586930431095\n",
      "Unicells N = 10, \n",
      "\tThe smallest eigenvalue -0.003115469211484911\n",
      "Unicells N = 11, \n",
      "\tThe smallest eigenvalue -0.001797098160473455\n",
      "Unicells N = 12, \n",
      "\tThe smallest eigenvalue -0.001036662872998629\n",
      "Unicells N = 13, \n",
      "\tThe smallest eigenvalue -0.0005980118064974895\n",
      "Unicells N = 14, \n",
      "\tThe smallest eigenvalue -0.0003449724005792293\n",
      "Unicells N = 15, \n",
      "\tThe smallest eigenvalue -0.00019900308337323375\n",
      "Unicells N = 16, \n",
      "\tThe smallest eigenvalue -0.00011479833336829668\n",
      "Unicells N = 17, \n",
      "\tThe smallest eigenvalue -6.622339898601069e-05\n",
      "Unicells N = 18, \n",
      "\tThe smallest eigenvalue -3.820211719629212e-05\n",
      "Unicells N = 19, \n",
      "\tThe smallest eigenvalue -2.203755767263377e-05\n",
      "Unicells N = 20, \n",
      "\tThe smallest eigenvalue -1.2712744618614787e-05\n"
     ]
    }
   ],
   "source": [
    "N_list = np.arange(1, 21)\n",
    "\n",
    "for N in N_list:\n",
    "    Ds = [1 for i in range(2*N)]\n",
    "    spec = get_Majorana_spectrum(Jx,Jy,Jz,N,SigmaY,Ds, bc, method=method)\n",
    "    print(f'Unicells N = {N}, \\n\\tThe smallest eigenvalue', spec[-1])"
   ]
  },
  {
   "cell_type": "markdown",
   "metadata": {},
   "source": [
    "Here we can see clearly that the zero mode only appears when the $N$ is at least larger than $10$.\n",
    "\n",
    "This is also why the exact diagonalization is very hard to tell the true degeneracy of ground states.\n",
    "$10$ unicells are composed of $40$ physical spins, which corresponds to the dimension of Hilbert space to be $2^{40}$."
   ]
  },
  {
   "cell_type": "markdown",
   "metadata": {},
   "source": [
    "## Secondly, read the files created days ago"
   ]
  },
  {
   "cell_type": "code",
   "execution_count": 10,
   "metadata": {},
   "outputs": [
    {
     "name": "stderr",
     "output_type": "stream",
     "text": [
      "/home/jerry/anaconda3/lib/python3.7/importlib/_bootstrap.py:219: RuntimeWarning: numpy.ufunc size changed, may indicate binary incompatibility. Expected 192 from C header, got 216 from PyObject\n",
      "  return f(*args, **kwds)\n"
     ]
    }
   ],
   "source": [
    "import pickle\n",
    "f = open(\"DegeneracyData.pkl\",\"rb\")\n",
    "dictfrompickle = pickle.load(f)"
   ]
  },
  {
   "cell_type": "code",
   "execution_count": 12,
   "metadata": {},
   "outputs": [],
   "source": [
    "obc_data = dictfrompickle['OBC_Jx_1.75_Jy_0.25_Jz_1.0']"
   ]
  },
  {
   "cell_type": "code",
   "execution_count": 14,
   "metadata": {},
   "outputs": [
    {
     "data": {
      "text/plain": [
       "([-75.31826974658553,\n",
       "  -75.31826975301674,\n",
       "  -75.31824433393234,\n",
       "  -75.31824432754222,\n",
       "  -75.29076407822888,\n",
       "  -75.2909082425916,\n",
       "  -75.29090838318076,\n",
       "  -75.2908574707103,\n",
       "  -75.2908929192583,\n",
       "  -75.29089295447957],\n",
       " [<tenpy.networks.mps.MPS at 0x7fa5cfdf4190>,\n",
       "  <tenpy.networks.mps.MPS at 0x7fa5cfd5b790>,\n",
       "  <tenpy.networks.mps.MPS at 0x7fa5cfd3c8d0>,\n",
       "  <tenpy.networks.mps.MPS at 0x7fa5cfc9d9d0>,\n",
       "  <tenpy.networks.mps.MPS at 0x7fa5cfc7cad0>,\n",
       "  <tenpy.networks.mps.MPS at 0x7fa5cfbdec10>,\n",
       "  <tenpy.networks.mps.MPS at 0x7fa5cfbbed50>,\n",
       "  <tenpy.networks.mps.MPS at 0x7fa5cfb1de90>,\n",
       "  <tenpy.networks.mps.MPS at 0x7fa5cfafdfd0>,\n",
       "  <tenpy.networks.mps.MPS at 0x7fa5cfa63150>])"
      ]
     },
     "execution_count": 14,
     "metadata": {},
     "output_type": "execute_result"
    }
   ],
   "source": [
    "obc_data[-1]"
   ]
  },
  {
   "cell_type": "code",
   "execution_count": 15,
   "metadata": {},
   "outputs": [],
   "source": [
    "N20_data = obc_data[-1]"
   ]
  },
  {
   "cell_type": "code",
   "execution_count": 17,
   "metadata": {},
   "outputs": [],
   "source": [
    "E_list = N20_data[0]\n",
    "psi_list = N20_data[1]"
   ]
  },
  {
   "cell_type": "code",
   "execution_count": 19,
   "metadata": {},
   "outputs": [
    {
     "data": {
      "text/plain": [
       "1.270632659355897e-05"
      ]
     },
     "execution_count": 19,
     "metadata": {},
     "output_type": "execute_result"
    }
   ],
   "source": [
    "(E_list[2] - E_list[0]) / 2"
   ]
  },
  {
   "cell_type": "markdown",
   "metadata": {},
   "source": [
    "Here we can see that the first four wavefunctions are the lowest-lying states. Furthermore the four states can be divided into 2 groups: the frist group of 2 `psi` and the second group differ in the sign of Majorana zero mode, which should reflect the sign of $\\Sigma^z$"
   ]
  },
  {
   "cell_type": "code",
   "execution_count": 20,
   "metadata": {},
   "outputs": [],
   "source": [
    "psi1 = psi_list[0]\n",
    "psi2 = psi_list[1]\n",
    "psi3 = psi_list[2]\n",
    "psi4 = psi_list[3]"
   ]
  },
  {
   "cell_type": "markdown",
   "metadata": {},
   "source": [
    "Now we can test some properties of these states."
   ]
  },
  {
   "cell_type": "code",
   "execution_count": 24,
   "metadata": {},
   "outputs": [
    {
     "name": "stdout",
     "output_type": "stream",
     "text": [
      "(-6.852794698884723e-15+0j)\n",
      "(-1.4988010832439613e-15+0j)\n",
      "(8.951173136040325e-16+0j)\n",
      "(-4.40619762898109e-16+0j)\n",
      "0j\n",
      "(5.208778287163485e-16+0j)\n"
     ]
    }
   ],
   "source": [
    "print(psi1.overlap(psi2))\n",
    "print(psi1.overlap(psi3))\n",
    "print(psi1.overlap(psi4))\n",
    "print(psi2.overlap(psi3))\n",
    "print(psi2.overlap(psi4))\n",
    "print(psi3.overlap(psi4))"
   ]
  },
  {
   "cell_type": "code",
   "execution_count": 29,
   "metadata": {},
   "outputs": [
    {
     "name": "stdout",
     "output_type": "stream",
     "text": [
      "The 1th state:\n",
      "Expectation of Sigmax -0.9999956520327993\n",
      "Expectation of Sigmay -0.9994928255668557\n",
      "Expectation of Sigmaz 0.9994969305993895\n",
      "\n",
      "The 2th state:\n",
      "Expectation of Sigmax 0.9999957722406015\n",
      "Expectation of Sigmay 0.9999953730458381\n",
      "Expectation of Sigmaz 0.9999996005563951\n",
      "\n",
      "The 3th state:\n",
      "Expectation of Sigmax -0.9995208339958638\n",
      "Expectation of Sigmay 0.9990177670124326\n",
      "Expectation of Sigmaz -0.9994969307074213\n",
      "\n",
      "The 4th state:\n",
      "Expectation of Sigmax 0.9995207138231668\n",
      "Expectation of Sigmay -0.9995203143896304\n",
      "Expectation of Sigmaz -0.9999996005568086\n",
      "\n"
     ]
    }
   ],
   "source": [
    "S_list = ['Sigmax', 'Sigmay', 'Sigmaz']\n",
    "\n",
    "i = 0\n",
    "for psi in [psi1, psi2, psi3, psi4]:\n",
    "    i += 1\n",
    "    print(f'The {i}th state:')\n",
    "    for op in S_list:\n",
    "        print(f'Expectation of {op}', psi.expectation_value_term([(op, i) for i in range(psi1.L)]))\n",
    "    print('')"
   ]
  },
  {
   "cell_type": "code",
   "execution_count": 31,
   "metadata": {},
   "outputs": [
    {
     "data": {
      "text/plain": [
       "20"
      ]
     },
     "execution_count": 31,
     "metadata": {},
     "output_type": "execute_result"
    }
   ],
   "source": [
    "N"
   ]
  },
  {
   "cell_type": "code",
   "execution_count": 32,
   "metadata": {},
   "outputs": [
    {
     "data": {
      "text/plain": [
       "80"
      ]
     },
     "execution_count": 32,
     "metadata": {},
     "output_type": "execute_result"
    }
   ],
   "source": [
    "psi1.L"
   ]
  },
  {
   "cell_type": "code",
   "execution_count": 43,
   "metadata": {},
   "outputs": [
    {
     "name": "stdout",
     "output_type": "stream",
     "text": [
      "The 1th state:\n",
      "Expectation of D_2N 0.9994969306060237\n",
      "\n",
      "The 2th state:\n",
      "Expectation of D_2N 0.9999996005563937\n",
      "\n",
      "The 3th state:\n",
      "Expectation of D_2N -0.9994969307074211\n",
      "\n",
      "The 4th state:\n",
      "Expectation of D_2N -0.9999996005568084\n",
      "\n"
     ]
    }
   ],
   "source": [
    "D_2N = [('Sigmax', 4*N - 2), ('Sigmay', 4*N - 1), ('Sigmay', 0), ('Sigmax', 1)]\n",
    "\n",
    "i=0\n",
    "for psi in [psi1, psi2, psi3, psi4]:\n",
    "    i += 1\n",
    "    print(f'The {i}th state:')\n",
    "    print(f'Expectation of D_2N', psi.expectation_value_term(D_2N))\n",
    "    print('')"
   ]
  },
  {
   "cell_type": "code",
   "execution_count": 58,
   "metadata": {},
   "outputs": [
    {
     "name": "stdout",
     "output_type": "stream",
     "text": [
      "The 1th state:\n",
      "Expectation of D_0 =  1.0\n",
      "Expectation of D_1 =  1.0\n",
      "Expectation of D_2 =  1.0\n",
      "Expectation of D_3 =  1.0\n",
      "Expectation of D_4 =  1.0\n",
      "Expectation of D_5 =  1.0\n",
      "Expectation of D_6 =  1.0\n",
      "Expectation of D_7 =  1.0\n",
      "Expectation of D_8 =  1.0\n",
      "Expectation of D_9 =  1.0\n",
      "Expectation of D_10 =  1.0\n",
      "Expectation of D_11 =  1.0\n",
      "Expectation of D_12 =  1.0\n",
      "Expectation of D_13 =  1.0\n",
      "Expectation of D_14 =  1.0\n",
      "Expectation of D_15 =  1.0\n",
      "Expectation of D_16 =  1.0\n",
      "Expectation of D_17 =  1.0\n",
      "Expectation of D_18 =  1.0\n",
      "Expectation of D_19 =  1.0\n",
      "Expectation of D_20 =  1.0\n",
      "Expectation of D_21 =  1.0\n",
      "Expectation of D_22 =  1.0\n",
      "Expectation of D_23 =  1.0\n",
      "Expectation of D_24 =  1.0\n",
      "Expectation of D_25 =  1.0\n",
      "Expectation of D_26 =  1.0\n",
      "Expectation of D_27 =  1.0\n",
      "Expectation of D_28 =  1.0\n",
      "Expectation of D_29 =  1.0\n",
      "Expectation of D_30 =  1.0\n",
      "Expectation of D_31 =  1.0\n",
      "Expectation of D_32 =  1.0\n",
      "Expectation of D_33 =  1.0\n",
      "Expectation of D_34 =  1.0\n",
      "Expectation of D_35 =  1.0\n",
      "Expectation of D_36 =  1.0\n",
      "Expectation of D_37 =  1.0\n",
      "Expectation of D_38 =  1.0\n",
      "Expectation of D_39 =  1.0\n",
      "\n",
      "The 2th state:\n",
      "Expectation of D_0 =  1.0\n",
      "Expectation of D_1 =  1.0\n",
      "Expectation of D_2 =  1.0\n",
      "Expectation of D_3 =  1.0\n",
      "Expectation of D_4 =  1.0\n",
      "Expectation of D_5 =  1.0\n",
      "Expectation of D_6 =  1.0\n",
      "Expectation of D_7 =  1.0\n",
      "Expectation of D_8 =  1.0\n",
      "Expectation of D_9 =  1.0\n",
      "Expectation of D_10 =  1.0\n",
      "Expectation of D_11 =  1.0\n",
      "Expectation of D_12 =  1.0\n",
      "Expectation of D_13 =  1.0\n",
      "Expectation of D_14 =  1.0\n",
      "Expectation of D_15 =  1.0\n",
      "Expectation of D_16 =  1.0\n",
      "Expectation of D_17 =  1.0\n",
      "Expectation of D_18 =  1.0\n",
      "Expectation of D_19 =  1.0\n",
      "Expectation of D_20 =  1.0\n",
      "Expectation of D_21 =  1.0\n",
      "Expectation of D_22 =  1.0\n",
      "Expectation of D_23 =  1.0\n",
      "Expectation of D_24 =  1.0\n",
      "Expectation of D_25 =  1.0\n",
      "Expectation of D_26 =  1.0\n",
      "Expectation of D_27 =  1.0\n",
      "Expectation of D_28 =  1.0\n",
      "Expectation of D_29 =  1.0\n",
      "Expectation of D_30 =  1.0\n",
      "Expectation of D_31 =  1.0\n",
      "Expectation of D_32 =  1.0\n",
      "Expectation of D_33 =  1.0\n",
      "Expectation of D_34 =  1.0\n",
      "Expectation of D_35 =  1.0\n",
      "Expectation of D_36 =  1.0\n",
      "Expectation of D_37 =  1.0\n",
      "Expectation of D_38 =  1.0\n",
      "Expectation of D_39 =  1.0\n",
      "\n",
      "The 3th state:\n",
      "Expectation of D_0 =  -1.0\n",
      "Expectation of D_1 =  1.0\n",
      "Expectation of D_2 =  1.0\n",
      "Expectation of D_3 =  1.0\n",
      "Expectation of D_4 =  1.0\n",
      "Expectation of D_5 =  1.0\n",
      "Expectation of D_6 =  1.0\n",
      "Expectation of D_7 =  1.0\n",
      "Expectation of D_8 =  1.0\n",
      "Expectation of D_9 =  1.0\n",
      "Expectation of D_10 =  1.0\n",
      "Expectation of D_11 =  1.0\n",
      "Expectation of D_12 =  1.0\n",
      "Expectation of D_13 =  1.0\n",
      "Expectation of D_14 =  1.0\n",
      "Expectation of D_15 =  1.0\n",
      "Expectation of D_16 =  1.0\n",
      "Expectation of D_17 =  1.0\n",
      "Expectation of D_18 =  1.0\n",
      "Expectation of D_19 =  1.0\n",
      "Expectation of D_20 =  1.0\n",
      "Expectation of D_21 =  1.0\n",
      "Expectation of D_22 =  1.0\n",
      "Expectation of D_23 =  1.0\n",
      "Expectation of D_24 =  1.0\n",
      "Expectation of D_25 =  1.0\n",
      "Expectation of D_26 =  1.0\n",
      "Expectation of D_27 =  1.0\n",
      "Expectation of D_28 =  1.0\n",
      "Expectation of D_29 =  1.0\n",
      "Expectation of D_30 =  1.0\n",
      "Expectation of D_31 =  1.0\n",
      "Expectation of D_32 =  1.0\n",
      "Expectation of D_33 =  1.0\n",
      "Expectation of D_34 =  1.0\n",
      "Expectation of D_35 =  1.0\n",
      "Expectation of D_36 =  1.0\n",
      "Expectation of D_37 =  1.0\n",
      "Expectation of D_38 =  1.0\n",
      "Expectation of D_39 =  1.0\n",
      "\n",
      "The 4th state:\n",
      "Expectation of D_0 =  -1.0\n",
      "Expectation of D_1 =  1.0\n",
      "Expectation of D_2 =  1.0\n",
      "Expectation of D_3 =  1.0\n",
      "Expectation of D_4 =  1.0\n",
      "Expectation of D_5 =  1.0\n",
      "Expectation of D_6 =  1.0\n",
      "Expectation of D_7 =  1.0\n",
      "Expectation of D_8 =  1.0\n",
      "Expectation of D_9 =  1.0\n",
      "Expectation of D_10 =  1.0\n",
      "Expectation of D_11 =  1.0\n",
      "Expectation of D_12 =  1.0\n",
      "Expectation of D_13 =  1.0\n",
      "Expectation of D_14 =  1.0\n",
      "Expectation of D_15 =  1.0\n",
      "Expectation of D_16 =  1.0\n",
      "Expectation of D_17 =  1.0\n",
      "Expectation of D_18 =  1.0\n",
      "Expectation of D_19 =  1.0\n",
      "Expectation of D_20 =  1.0\n",
      "Expectation of D_21 =  1.0\n",
      "Expectation of D_22 =  1.0\n",
      "Expectation of D_23 =  1.0\n",
      "Expectation of D_24 =  1.0\n",
      "Expectation of D_25 =  1.0\n",
      "Expectation of D_26 =  1.0\n",
      "Expectation of D_27 =  1.0\n",
      "Expectation of D_28 =  1.0\n",
      "Expectation of D_29 =  1.0\n",
      "Expectation of D_30 =  1.0\n",
      "Expectation of D_31 =  1.0\n",
      "Expectation of D_32 =  1.0\n",
      "Expectation of D_33 =  1.0\n",
      "Expectation of D_34 =  1.0\n",
      "Expectation of D_35 =  1.0\n",
      "Expectation of D_36 =  1.0\n",
      "Expectation of D_37 =  1.0\n",
      "Expectation of D_38 =  1.0\n",
      "Expectation of D_39 =  1.0\n",
      "\n"
     ]
    }
   ],
   "source": [
    "i=0\n",
    "for psi in [psi1, psi2, psi3, psi4]:\n",
    "    i += 1\n",
    "    print(f'The {i}th state:')\n",
    "    for n in range(2*N):\n",
    "        D = D_n(n, N)\n",
    "        print(f'Expectation of D_{n} = ', np.round(psi.expectation_value_term(D)))\n",
    "    print('')"
   ]
  }
 ],
 "metadata": {
  "kernelspec": {
   "display_name": "Python 3",
   "language": "python",
   "name": "python3"
  },
  "language_info": {
   "codemirror_mode": {
    "name": "ipython",
    "version": 3
   },
   "file_extension": ".py",
   "mimetype": "text/x-python",
   "name": "python",
   "nbconvert_exporter": "python",
   "pygments_lexer": "ipython3",
   "version": "3.7.7"
  }
 },
 "nbformat": 4,
 "nbformat_minor": 4
}
