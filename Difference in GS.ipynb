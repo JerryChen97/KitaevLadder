{
 "cells": [
  {
   "cell_type": "markdown",
   "metadata": {},
   "source": [
    "We already knew that the OBC Kitaev ladder has a 4-fold degeneracy at thermodynamics in $X$-phase.\n",
    "But a realistic question is: what distinguish these states?\n",
    "From the pure theoretical analysis, it is actually hard to tell immediately, since all the global symmetries $\\Sigma^X, \\Sigma^Y, \\Sigma^Z$ are relevant.\n",
    "Therefore, it should be helpful if we can make use of the fDMRG's results to inspect this."
   ]
  },
  {
   "cell_type": "code",
   "execution_count": 1,
   "metadata": {},
   "outputs": [],
   "source": [
    "import numpy as np"
   ]
  },
  {
   "cell_type": "code",
   "execution_count": 2,
   "metadata": {},
   "outputs": [],
   "source": [
    "from Majorana import get_Majorana_spectrum"
   ]
  },
  {
   "cell_type": "code",
   "execution_count": 3,
   "metadata": {},
   "outputs": [],
   "source": [
    "def D_n(n, N):\n",
    "    assert n<=2*N\n",
    "    return [('Sigmax', (2*n - 2) % (4*N)), ('Sigmay', (2*n - 1) % (4*N)), ('Sigmay', (2*n) % (4*N)), ('Sigmax', (2*n + 1) % (4*N))]"
   ]
  },
  {
   "cell_type": "code",
   "execution_count": 4,
   "metadata": {},
   "outputs": [
    {
     "name": "stdout",
     "output_type": "stream",
     "text": [
      "$D_0=$ [('Sigmax', 78), ('Sigmay', 79), ('Sigmay', 0), ('Sigmax', 1)]\n",
      "$D_1=$ [('Sigmax', 0), ('Sigmay', 1), ('Sigmay', 2), ('Sigmax', 3)]\n",
      "$D_2=$ [('Sigmax', 2), ('Sigmay', 3), ('Sigmay', 4), ('Sigmax', 5)]\n",
      "$D_3=$ [('Sigmax', 4), ('Sigmay', 5), ('Sigmay', 6), ('Sigmax', 7)]\n",
      "$D_4=$ [('Sigmax', 6), ('Sigmay', 7), ('Sigmay', 8), ('Sigmax', 9)]\n",
      "$D_5=$ [('Sigmax', 8), ('Sigmay', 9), ('Sigmay', 10), ('Sigmax', 11)]\n",
      "$D_6=$ [('Sigmax', 10), ('Sigmay', 11), ('Sigmay', 12), ('Sigmax', 13)]\n",
      "$D_7=$ [('Sigmax', 12), ('Sigmay', 13), ('Sigmay', 14), ('Sigmax', 15)]\n",
      "$D_8=$ [('Sigmax', 14), ('Sigmay', 15), ('Sigmay', 16), ('Sigmax', 17)]\n",
      "$D_9=$ [('Sigmax', 16), ('Sigmay', 17), ('Sigmay', 18), ('Sigmax', 19)]\n",
      "$D_10=$ [('Sigmax', 18), ('Sigmay', 19), ('Sigmay', 20), ('Sigmax', 21)]\n",
      "$D_11=$ [('Sigmax', 20), ('Sigmay', 21), ('Sigmay', 22), ('Sigmax', 23)]\n",
      "$D_12=$ [('Sigmax', 22), ('Sigmay', 23), ('Sigmay', 24), ('Sigmax', 25)]\n",
      "$D_13=$ [('Sigmax', 24), ('Sigmay', 25), ('Sigmay', 26), ('Sigmax', 27)]\n",
      "$D_14=$ [('Sigmax', 26), ('Sigmay', 27), ('Sigmay', 28), ('Sigmax', 29)]\n",
      "$D_15=$ [('Sigmax', 28), ('Sigmay', 29), ('Sigmay', 30), ('Sigmax', 31)]\n",
      "$D_16=$ [('Sigmax', 30), ('Sigmay', 31), ('Sigmay', 32), ('Sigmax', 33)]\n",
      "$D_17=$ [('Sigmax', 32), ('Sigmay', 33), ('Sigmay', 34), ('Sigmax', 35)]\n",
      "$D_18=$ [('Sigmax', 34), ('Sigmay', 35), ('Sigmay', 36), ('Sigmax', 37)]\n",
      "$D_19=$ [('Sigmax', 36), ('Sigmay', 37), ('Sigmay', 38), ('Sigmax', 39)]\n",
      "$D_20=$ [('Sigmax', 38), ('Sigmay', 39), ('Sigmay', 40), ('Sigmax', 41)]\n",
      "$D_21=$ [('Sigmax', 40), ('Sigmay', 41), ('Sigmay', 42), ('Sigmax', 43)]\n",
      "$D_22=$ [('Sigmax', 42), ('Sigmay', 43), ('Sigmay', 44), ('Sigmax', 45)]\n",
      "$D_23=$ [('Sigmax', 44), ('Sigmay', 45), ('Sigmay', 46), ('Sigmax', 47)]\n",
      "$D_24=$ [('Sigmax', 46), ('Sigmay', 47), ('Sigmay', 48), ('Sigmax', 49)]\n",
      "$D_25=$ [('Sigmax', 48), ('Sigmay', 49), ('Sigmay', 50), ('Sigmax', 51)]\n",
      "$D_26=$ [('Sigmax', 50), ('Sigmay', 51), ('Sigmay', 52), ('Sigmax', 53)]\n",
      "$D_27=$ [('Sigmax', 52), ('Sigmay', 53), ('Sigmay', 54), ('Sigmax', 55)]\n",
      "$D_28=$ [('Sigmax', 54), ('Sigmay', 55), ('Sigmay', 56), ('Sigmax', 57)]\n",
      "$D_29=$ [('Sigmax', 56), ('Sigmay', 57), ('Sigmay', 58), ('Sigmax', 59)]\n",
      "$D_30=$ [('Sigmax', 58), ('Sigmay', 59), ('Sigmay', 60), ('Sigmax', 61)]\n",
      "$D_31=$ [('Sigmax', 60), ('Sigmay', 61), ('Sigmay', 62), ('Sigmax', 63)]\n",
      "$D_32=$ [('Sigmax', 62), ('Sigmay', 63), ('Sigmay', 64), ('Sigmax', 65)]\n",
      "$D_33=$ [('Sigmax', 64), ('Sigmay', 65), ('Sigmay', 66), ('Sigmax', 67)]\n",
      "$D_34=$ [('Sigmax', 66), ('Sigmay', 67), ('Sigmay', 68), ('Sigmax', 69)]\n",
      "$D_35=$ [('Sigmax', 68), ('Sigmay', 69), ('Sigmay', 70), ('Sigmax', 71)]\n",
      "$D_36=$ [('Sigmax', 70), ('Sigmay', 71), ('Sigmay', 72), ('Sigmax', 73)]\n",
      "$D_37=$ [('Sigmax', 72), ('Sigmay', 73), ('Sigmay', 74), ('Sigmax', 75)]\n",
      "$D_38=$ [('Sigmax', 74), ('Sigmay', 75), ('Sigmay', 76), ('Sigmax', 77)]\n",
      "$D_39=$ [('Sigmax', 76), ('Sigmay', 77), ('Sigmay', 78), ('Sigmax', 79)]\n",
      "$D_40=$ [('Sigmax', 78), ('Sigmay', 79), ('Sigmay', 0), ('Sigmax', 1)]\n"
     ]
    }
   ],
   "source": [
    "N = 20\n",
    "for n in range(2*N + 1):\n",
    "    print(rf\"$D_{n}=$\", D_n(n, N))"
   ]
  },
  {
   "cell_type": "markdown",
   "metadata": {},
   "source": [
    "## First of all, let's have a look at in what system sizes there will be Majorana zero modes."
   ]
  },
  {
   "cell_type": "code",
   "execution_count": 5,
   "metadata": {},
   "outputs": [],
   "source": [
    "Jx = 1.75\n",
    "Jy = 0.25\n",
    "Jz = 1.00\n",
    "N = 20\n",
    "bc = 'open'\n",
    "method='M2'\n",
    "SigmaY = 1\n",
    "D_list = [1 for i in range(2*N)]"
   ]
  },
  {
   "cell_type": "code",
   "execution_count": 6,
   "metadata": {},
   "outputs": [
    {
     "name": "stdout",
     "output_type": "stream",
     "text": [
      "Unicells N = 1, \n",
      "\tThe smallest eigenvalue -0.6642135623730951\n",
      "Unicells N = 2, \n",
      "\tThe smallest eigenvalue -0.29987135099033363\n",
      "Unicells N = 3, \n",
      "\tThe smallest eigenvalue -0.15720684378039138\n",
      "Unicells N = 4, \n",
      "\tThe smallest eigenvalue -0.08706114667022205\n",
      "Unicells N = 5, \n",
      "\tThe smallest eigenvalue -0.04935620404696699\n",
      "Unicells N = 6, \n",
      "\tThe smallest eigenvalue -0.028266263208656255\n",
      "Unicells N = 7, \n",
      "\tThe smallest eigenvalue -0.01625803734131841\n",
      "Unicells N = 8, \n",
      "\tThe smallest eigenvalue -0.009367853628210857\n",
      "Unicells N = 9, \n",
      "\tThe smallest eigenvalue -0.005401586930431095\n",
      "Unicells N = 10, \n",
      "\tThe smallest eigenvalue -0.003115469211484911\n",
      "Unicells N = 11, \n",
      "\tThe smallest eigenvalue -0.001797098160473455\n",
      "Unicells N = 12, \n",
      "\tThe smallest eigenvalue -0.001036662872998629\n",
      "Unicells N = 13, \n",
      "\tThe smallest eigenvalue -0.0005980118064974895\n",
      "Unicells N = 14, \n",
      "\tThe smallest eigenvalue -0.0003449724005792293\n",
      "Unicells N = 15, \n",
      "\tThe smallest eigenvalue -0.00019900308337323375\n",
      "Unicells N = 16, \n",
      "\tThe smallest eigenvalue -0.00011479833336829668\n",
      "Unicells N = 17, \n",
      "\tThe smallest eigenvalue -6.622339898601069e-05\n",
      "Unicells N = 18, \n",
      "\tThe smallest eigenvalue -3.820211719629212e-05\n",
      "Unicells N = 19, \n",
      "\tThe smallest eigenvalue -2.203755767263377e-05\n",
      "Unicells N = 20, \n",
      "\tThe smallest eigenvalue -1.2712744618614787e-05\n"
     ]
    }
   ],
   "source": [
    "N_list = np.arange(1, 21)\n",
    "\n",
    "for N in N_list:\n",
    "    Ds = [1 for i in range(2*N)]\n",
    "    spec = get_Majorana_spectrum(Jx,Jy,Jz,N,SigmaY,Ds, bc, method=method)\n",
    "    print(f'Unicells N = {N}, \\n\\tThe smallest eigenvalue', spec[-1])"
   ]
  },
  {
   "cell_type": "markdown",
   "metadata": {},
   "source": [
    "Here we can see clearly that the zero mode only appears when the $N$ is at least larger than $10$.\n",
    "\n",
    "This is also why the exact diagonalization is very hard to tell the true degeneracy of ground states.\n",
    "$10$ unicells are composed of $40$ physical spins, which corresponds to the dimension of Hilbert space to be $2^{40}$."
   ]
  },
  {
   "cell_type": "markdown",
   "metadata": {},
   "source": [
    "## Secondly, read the files created days ago"
   ]
  },
  {
   "cell_type": "code",
   "execution_count": 7,
   "metadata": {},
   "outputs": [],
   "source": [
    "import pickle\n",
    "f = open(\"DegeneracyData.pkl\",\"rb\")\n",
    "dictfrompickle = pickle.load(f)"
   ]
  },
  {
   "cell_type": "markdown",
   "metadata": {},
   "source": [
    "## OBC X Phase"
   ]
  },
  {
   "cell_type": "code",
   "execution_count": 68,
   "metadata": {},
   "outputs": [],
   "source": [
    "obc_data = dictfrompickle['OBC_Jx_1.75_Jy_0.25_Jz_1.0']"
   ]
  },
  {
   "cell_type": "code",
   "execution_count": 88,
   "metadata": {},
   "outputs": [
    {
     "name": "stdout",
     "output_type": "stream",
     "text": [
      "System size:  1\n",
      "[-2.82842712e+00 -2.82842712e+00 -2.50000000e+00 -2.50000000e+00\n",
      " -2.00000000e+00 -2.00000000e+00 -1.50000000e+00 -1.50000000e+00\n",
      " -1.83347220e-15 -1.11914950e-15]\n",
      "\n",
      "System size:  2\n",
      "[-6.50440561 -6.50440561 -6.38776578 -6.38776578 -6.32687886 -6.32687886\n",
      " -6.32687886 -6.32687886 -6.20883268 -6.20883205]\n",
      "\n",
      "System size:  3\n",
      "[-10.25562649 -10.25562649 -10.16742278 -10.16742278 -10.16742278\n",
      " -10.16742278 -10.116951   -10.116951   -10.10076811 -10.10076811]\n",
      "\n",
      "System size:  4\n",
      "[-14.0403767  -14.0403767  -13.97720343 -13.97720343 -13.97404006\n",
      " -13.97404006 -13.96909924 -13.96909924 -13.9223026  -13.92230259]\n",
      "\n",
      "System size:  5\n",
      "[-17.84460171 -17.84460171 -17.79571005 -17.79571005 -17.79475937\n",
      " -17.79475937 -17.79475937 -17.79027783 -17.78325192 -17.78325192]\n",
      "\n",
      "System size:  6\n",
      "[-21.66078768 -21.66078768 -21.62076267 -21.62076267 -21.62020114\n",
      " -21.62020114 -21.61834048 -21.61834034 -21.60542289 -21.60542289]\n",
      "\n",
      "System size:  7\n",
      "[-25.48434744 -25.48434744 -25.45183137 -25.45183137 -25.44959715\n",
      " -25.44959715 -25.44931921 -25.44931921 -25.44832798 -25.44832798]\n",
      "\n",
      "System size:  8\n",
      "[-29.31239859 -29.31239859 -29.29366288 -29.29366288 -29.28077155\n",
      " -29.28077155 -29.28062355 -29.28062355 -29.28062355 -29.27674387]\n",
      "\n",
      "System size:  9\n",
      "[-33.14314558 -33.14314558 -33.13234241 -33.13234241 -33.11334546\n",
      " -33.11334544 -33.11326689 -33.11326689 -33.11299699 -33.11299699]\n",
      "\n",
      "System size:  10\n",
      "[-36.97549055 -36.97549055 -36.96925961 -36.96925961 -36.94670938\n",
      " -36.94670933 -36.94656514 -36.94656513 -36.94625851 -36.94625851]\n",
      "\n",
      "System size:  11\n",
      "[-40.80877392 -40.80877392 -40.80517972 -40.80517972 -40.78062541\n",
      " -40.78062538 -40.78054761 -40.78038361 -40.7803836  -40.78006538]\n",
      "\n",
      "System size:  12\n",
      "[-44.64260483 -44.64260483 -44.64053151 -44.64053151 -44.61468937\n",
      " -44.61468931 -44.61451914 -44.61451914 -44.61419707 -44.61419707]\n",
      "\n",
      "System size:  13\n",
      "[-48.47675388 -48.47675388 -48.47555785 -48.47555785 -48.449015\n",
      " -48.44901498 -48.44884279 -48.44884279 -48.44851936 -48.44851936]\n",
      "\n",
      "System size:  14\n",
      "[-52.31108725 -52.31108725 -52.31039731 -52.31039731 -52.28344946\n",
      " -52.28344945 -52.28327658 -52.28327658 -52.28295265 -52.28295263]\n",
      "\n",
      "System size:  15\n",
      "[-56.14552725 -56.14552725 -56.14512925 -56.14512925 -56.11804086\n",
      " -56.11794757 -56.11777443 -56.11777443 -56.11745026 -56.11745026]\n",
      "\n",
      "System size:  16\n",
      "[-59.98002886 -59.98002886 -59.97979927 -59.97979927 -59.95262684\n",
      " -59.95262678 -59.9524826  -59.9524826  -59.95230936 -59.95198516]\n",
      "\n",
      "System size:  17\n",
      "[-63.81456605 -63.81456605 -63.8144336  -63.8144336  -63.78718334\n",
      " -63.78718331 -63.7871326  -63.78703906 -63.78686588 -63.78654147]\n",
      "\n",
      "System size:  18\n",
      "[-67.64912377 -67.64912377 -67.64904737 -67.64904737 -67.62178\n",
      " -67.62177947 -67.62175222 -67.62170143 -67.62143462 -67.62143462]\n",
      "\n",
      "System size:  19\n",
      "[-71.48369334 -71.48369334 -71.48364927 -71.48364927 -71.45635584\n",
      " -71.45635559 -71.45632895 -71.45632837 -71.45627741 -71.45627739]\n",
      "\n",
      "System size:  20\n",
      "[-75.31826975 -75.31826975 -75.31824433 -75.31824433 -75.29090838\n",
      " -75.29090824 -75.29089295 -75.29089292 -75.29085747 -75.29076408]\n",
      "\n"
     ]
    }
   ],
   "source": [
    "n = 0\n",
    "for data in obc_data:\n",
    "    n += 1\n",
    "    print('System size: ', n)\n",
    "    print(np.sort(data[0]))\n",
    "    print('')"
   ]
  },
  {
   "cell_type": "code",
   "execution_count": 84,
   "metadata": {},
   "outputs": [
    {
     "data": {
      "text/plain": [
       "array([-14.0403767 , -14.0403767 , -13.97720343, -13.97720343,\n",
       "       -13.97404006, -13.97404006, -13.96909924, -13.96909924,\n",
       "       -13.9223026 , -13.92230259])"
      ]
     },
     "execution_count": 84,
     "metadata": {},
     "output_type": "execute_result"
    }
   ],
   "source": [
    "np.sort(obc_data[3][0])"
   ]
  },
  {
   "cell_type": "code",
   "execution_count": 85,
   "metadata": {},
   "outputs": [
    {
     "data": {
      "text/plain": [
       "array([-17.84460171, -17.84460171, -17.79571005, -17.79571005,\n",
       "       -17.79475937, -17.79475937, -17.79475937, -17.79027783,\n",
       "       -17.78325192, -17.78325192])"
      ]
     },
     "execution_count": 85,
     "metadata": {},
     "output_type": "execute_result"
    }
   ],
   "source": [
    "np.sort(obc_data[4][0])"
   ]
  },
  {
   "cell_type": "code",
   "execution_count": 70,
   "metadata": {},
   "outputs": [
    {
     "name": "stdout",
     "output_type": "stream",
     "text": [
      "[-2.82842712474619, -2.8284271247461894, -2.500000000000003, -2.5000000000000004]\n",
      "[-6.504405613484441, -6.504405613484435, -6.387765784973299, -6.3877657849733]\n",
      "[-10.25562649368239, -10.255626493682412, -10.167422784783284, -10.167422784783268]\n",
      "[-14.04037669817118, -14.040376698171164, -13.969099243854822, -13.977203434018586]\n",
      "[-17.844601712618843, -17.844601712618868, -17.794759369002215, -17.794759368229062]\n",
      "[-21.660787676401274, -21.660787676401252, -21.618340483924428, -21.6183403384943]\n",
      "[-25.484347443151016, -25.484347443151037, -25.451831368468312, -25.451831368468465]\n",
      "[-29.312398586045017, -29.312398586044942, -29.29366287878862, -29.293662878788638]\n",
      "[-33.14314558137329, -33.14314558137345, -33.13234240751251, -33.132342407512645]\n",
      "[-36.9754905455081, -36.97549054550805, -36.96925960708518, -36.969259607085064]\n",
      "[-40.808773917171784, -40.80877391717193, -40.805179720851164, -40.80517972085093]\n",
      "[-44.642604833079574, -44.64260483307941, -44.640531507333776, -44.640531507333556]\n",
      "[-48.47675387687211, -48.47675387687191, -48.475557853259154, -48.47555785325928]\n",
      "[-52.31108725280629, -52.31108725280576, -52.31039730800837, -52.31039730800892]\n",
      "[-56.14552725309476, -56.14552725309483, -56.14512924692888, -56.1451292469289]\n",
      "[-59.98002886325743, -59.98002886325754, -59.9797992665958, -59.97979926659599]\n",
      "[-63.814566049727965, -63.81456604972775, -63.81443360293359, -63.814433602933796]\n",
      "[-67.64912377138855, -67.64912377138806, -67.64904736716373, -67.64904736716369]\n",
      "[-71.4836933434191, -71.48369334341875, -71.48364926831802, -71.48364926831871]\n",
      "[-75.31826974658553, -75.31826975301674, -75.31824433393234, -75.31824432754222]\n"
     ]
    }
   ],
   "source": [
    "for data in obc_data:\n",
    "    print(data[0][:4])"
   ]
  },
  {
   "cell_type": "code",
   "execution_count": 9,
   "metadata": {},
   "outputs": [
    {
     "data": {
      "text/plain": [
       "([-75.31826974658553,\n",
       "  -75.31826975301674,\n",
       "  -75.31824433393234,\n",
       "  -75.31824432754222,\n",
       "  -75.29076407822888,\n",
       "  -75.2909082425916,\n",
       "  -75.29090838318076,\n",
       "  -75.2908574707103,\n",
       "  -75.2908929192583,\n",
       "  -75.29089295447957],\n",
       " [<tenpy.networks.mps.MPS at 0x7f733ce7ed50>,\n",
       "  <tenpy.networks.mps.MPS at 0x7f733ce67390>,\n",
       "  <tenpy.networks.mps.MPS at 0x7f733cdcb4d0>,\n",
       "  <tenpy.networks.mps.MPS at 0x7f733cdaa5d0>,\n",
       "  <tenpy.networks.mps.MPS at 0x7f733cd0b6d0>,\n",
       "  <tenpy.networks.mps.MPS at 0x7f733ccec810>,\n",
       "  <tenpy.networks.mps.MPS at 0x7f733cc4b950>,\n",
       "  <tenpy.networks.mps.MPS at 0x7f733cc2ba90>,\n",
       "  <tenpy.networks.mps.MPS at 0x7f733cb8bbd0>,\n",
       "  <tenpy.networks.mps.MPS at 0x7f733cb6ad10>])"
      ]
     },
     "execution_count": 9,
     "metadata": {},
     "output_type": "execute_result"
    }
   ],
   "source": [
    "obc_data[-1]"
   ]
  },
  {
   "cell_type": "code",
   "execution_count": 10,
   "metadata": {},
   "outputs": [],
   "source": [
    "N20_data = obc_data[-1]"
   ]
  },
  {
   "cell_type": "code",
   "execution_count": 11,
   "metadata": {},
   "outputs": [],
   "source": [
    "E_list = N20_data[0]\n",
    "psi_list = N20_data[1]"
   ]
  },
  {
   "cell_type": "code",
   "execution_count": 41,
   "metadata": {},
   "outputs": [
    {
     "data": {
      "text/plain": [
       "[-38.346605748678435,\n",
       " -38.318108367945484,\n",
       " -38.318108367933036,\n",
       " -38.31810811252964]"
      ]
     },
     "execution_count": 41,
     "metadata": {},
     "output_type": "execute_result"
    }
   ],
   "source": [
    "E_list"
   ]
  },
  {
   "cell_type": "code",
   "execution_count": 12,
   "metadata": {},
   "outputs": [
    {
     "data": {
      "text/plain": [
       "1.270632659355897e-05"
      ]
     },
     "execution_count": 12,
     "metadata": {},
     "output_type": "execute_result"
    }
   ],
   "source": [
    "(E_list[2] - E_list[0]) / 2"
   ]
  },
  {
   "cell_type": "markdown",
   "metadata": {},
   "source": [
    "Here we can see that the first four wavefunctions are the lowest-lying states. Furthermore the four states can be divided into 2 groups: the frist group of 2 `psi` and the second group differ in the sign of Majorana zero mode, which should reflect the sign of $\\Sigma^z$"
   ]
  },
  {
   "cell_type": "code",
   "execution_count": 13,
   "metadata": {},
   "outputs": [],
   "source": [
    "psi1 = psi_list[0]\n",
    "psi2 = psi_list[1]\n",
    "psi3 = psi_list[2]\n",
    "psi4 = psi_list[3]"
   ]
  },
  {
   "cell_type": "markdown",
   "metadata": {},
   "source": [
    "Now we can test some properties of these states."
   ]
  },
  {
   "cell_type": "code",
   "execution_count": 14,
   "metadata": {},
   "outputs": [
    {
     "name": "stdout",
     "output_type": "stream",
     "text": [
      "(-6.852794698884723e-15+0j)\n",
      "(-1.4988010832439613e-15+0j)\n",
      "(8.951173136040325e-16+0j)\n",
      "(-4.40619762898109e-16+0j)\n",
      "0j\n",
      "(5.208778287163485e-16+0j)\n"
     ]
    }
   ],
   "source": [
    "print(psi1.overlap(psi2))\n",
    "print(psi1.overlap(psi3))\n",
    "print(psi1.overlap(psi4))\n",
    "print(psi2.overlap(psi3))\n",
    "print(psi2.overlap(psi4))\n",
    "print(psi3.overlap(psi4))"
   ]
  },
  {
   "cell_type": "code",
   "execution_count": 15,
   "metadata": {},
   "outputs": [
    {
     "name": "stdout",
     "output_type": "stream",
     "text": [
      "The 1th state:\n",
      "Expectation of Sigmax -0.9999956520327993\n",
      "Expectation of Sigmay -0.9994928255668557\n",
      "Expectation of Sigmaz 0.9994969305993895\n",
      "\n",
      "The 2th state:\n",
      "Expectation of Sigmax 0.9999957722406015\n",
      "Expectation of Sigmay 0.9999953730458381\n",
      "Expectation of Sigmaz 0.9999996005563951\n",
      "\n",
      "The 3th state:\n",
      "Expectation of Sigmax -0.9995208339958638\n",
      "Expectation of Sigmay 0.9990177670124326\n",
      "Expectation of Sigmaz -0.9994969307074213\n",
      "\n",
      "The 4th state:\n",
      "Expectation of Sigmax 0.9995207138231668\n",
      "Expectation of Sigmay -0.9995203143896304\n",
      "Expectation of Sigmaz -0.9999996005568086\n",
      "\n"
     ]
    }
   ],
   "source": [
    "S_list = ['Sigmax', 'Sigmay', 'Sigmaz']\n",
    "\n",
    "i = 0\n",
    "for psi in [psi1, psi2, psi3, psi4]:\n",
    "    i += 1\n",
    "    print(f'The {i}th state:')\n",
    "    for op in S_list:\n",
    "        print(f'Expectation of {op}', psi.expectation_value_term([(op, i) for i in range(psi1.L)]))\n",
    "    print('')"
   ]
  },
  {
   "cell_type": "code",
   "execution_count": 31,
   "metadata": {},
   "outputs": [
    {
     "data": {
      "text/plain": [
       "20"
      ]
     },
     "execution_count": 31,
     "metadata": {},
     "output_type": "execute_result"
    }
   ],
   "source": [
    "N"
   ]
  },
  {
   "cell_type": "code",
   "execution_count": 32,
   "metadata": {},
   "outputs": [
    {
     "data": {
      "text/plain": [
       "80"
      ]
     },
     "execution_count": 32,
     "metadata": {},
     "output_type": "execute_result"
    }
   ],
   "source": [
    "psi1.L"
   ]
  },
  {
   "cell_type": "code",
   "execution_count": 43,
   "metadata": {},
   "outputs": [
    {
     "name": "stdout",
     "output_type": "stream",
     "text": [
      "The 1th state:\n",
      "Expectation of D_2N 0.9994969306060237\n",
      "\n",
      "The 2th state:\n",
      "Expectation of D_2N 0.9999996005563937\n",
      "\n",
      "The 3th state:\n",
      "Expectation of D_2N -0.9994969307074211\n",
      "\n",
      "The 4th state:\n",
      "Expectation of D_2N -0.9999996005568084\n",
      "\n"
     ]
    }
   ],
   "source": [
    "D_2N = [('Sigmax', 4*N - 2), ('Sigmay', 4*N - 1), ('Sigmay', 0), ('Sigmax', 1)]\n",
    "\n",
    "i=0\n",
    "for psi in [psi1, psi2, psi3, psi4]:\n",
    "    i += 1\n",
    "    print(f'The {i}th state:')\n",
    "    print(f'Expectation of D_2N', psi.expectation_value_term(D_2N))\n",
    "    print('')"
   ]
  },
  {
   "cell_type": "code",
   "execution_count": 16,
   "metadata": {},
   "outputs": [
    {
     "name": "stdout",
     "output_type": "stream",
     "text": [
      "The 1th state:\n",
      "Expectation of D_0 =  1.0\n",
      "Expectation of D_1 =  1.0\n",
      "Expectation of D_2 =  1.0\n",
      "Expectation of D_3 =  1.0\n",
      "Expectation of D_4 =  1.0\n",
      "Expectation of D_5 =  1.0\n",
      "Expectation of D_6 =  1.0\n",
      "Expectation of D_7 =  1.0\n",
      "Expectation of D_8 =  1.0\n",
      "Expectation of D_9 =  1.0\n",
      "Expectation of D_10 =  1.0\n",
      "Expectation of D_11 =  1.0\n",
      "Expectation of D_12 =  1.0\n",
      "Expectation of D_13 =  1.0\n",
      "Expectation of D_14 =  1.0\n",
      "Expectation of D_15 =  1.0\n",
      "Expectation of D_16 =  1.0\n",
      "Expectation of D_17 =  1.0\n",
      "Expectation of D_18 =  1.0\n",
      "Expectation of D_19 =  1.0\n",
      "Expectation of D_20 =  1.0\n",
      "Expectation of D_21 =  1.0\n",
      "Expectation of D_22 =  1.0\n",
      "Expectation of D_23 =  1.0\n",
      "Expectation of D_24 =  1.0\n",
      "Expectation of D_25 =  1.0\n",
      "Expectation of D_26 =  1.0\n",
      "Expectation of D_27 =  1.0\n",
      "Expectation of D_28 =  1.0\n",
      "Expectation of D_29 =  1.0\n",
      "Expectation of D_30 =  1.0\n",
      "Expectation of D_31 =  1.0\n",
      "Expectation of D_32 =  1.0\n",
      "Expectation of D_33 =  1.0\n",
      "Expectation of D_34 =  1.0\n",
      "Expectation of D_35 =  1.0\n",
      "Expectation of D_36 =  1.0\n",
      "Expectation of D_37 =  1.0\n",
      "Expectation of D_38 =  1.0\n",
      "Expectation of D_39 =  1.0\n",
      "\n",
      "The 2th state:\n",
      "Expectation of D_0 =  1.0\n",
      "Expectation of D_1 =  1.0\n",
      "Expectation of D_2 =  1.0\n",
      "Expectation of D_3 =  1.0\n",
      "Expectation of D_4 =  1.0\n",
      "Expectation of D_5 =  1.0\n",
      "Expectation of D_6 =  1.0\n",
      "Expectation of D_7 =  1.0\n",
      "Expectation of D_8 =  1.0\n",
      "Expectation of D_9 =  1.0\n",
      "Expectation of D_10 =  1.0\n",
      "Expectation of D_11 =  1.0\n",
      "Expectation of D_12 =  1.0\n",
      "Expectation of D_13 =  1.0\n",
      "Expectation of D_14 =  1.0\n",
      "Expectation of D_15 =  1.0\n",
      "Expectation of D_16 =  1.0\n",
      "Expectation of D_17 =  1.0\n",
      "Expectation of D_18 =  1.0\n",
      "Expectation of D_19 =  1.0\n",
      "Expectation of D_20 =  1.0\n",
      "Expectation of D_21 =  1.0\n",
      "Expectation of D_22 =  1.0\n",
      "Expectation of D_23 =  1.0\n",
      "Expectation of D_24 =  1.0\n",
      "Expectation of D_25 =  1.0\n",
      "Expectation of D_26 =  1.0\n",
      "Expectation of D_27 =  1.0\n",
      "Expectation of D_28 =  1.0\n",
      "Expectation of D_29 =  1.0\n",
      "Expectation of D_30 =  1.0\n",
      "Expectation of D_31 =  1.0\n",
      "Expectation of D_32 =  1.0\n",
      "Expectation of D_33 =  1.0\n",
      "Expectation of D_34 =  1.0\n",
      "Expectation of D_35 =  1.0\n",
      "Expectation of D_36 =  1.0\n",
      "Expectation of D_37 =  1.0\n",
      "Expectation of D_38 =  1.0\n",
      "Expectation of D_39 =  1.0\n",
      "\n",
      "The 3th state:\n",
      "Expectation of D_0 =  -1.0\n",
      "Expectation of D_1 =  1.0\n",
      "Expectation of D_2 =  1.0\n",
      "Expectation of D_3 =  1.0\n",
      "Expectation of D_4 =  1.0\n",
      "Expectation of D_5 =  1.0\n",
      "Expectation of D_6 =  1.0\n",
      "Expectation of D_7 =  1.0\n",
      "Expectation of D_8 =  1.0\n",
      "Expectation of D_9 =  1.0\n",
      "Expectation of D_10 =  1.0\n",
      "Expectation of D_11 =  1.0\n",
      "Expectation of D_12 =  1.0\n",
      "Expectation of D_13 =  1.0\n",
      "Expectation of D_14 =  1.0\n",
      "Expectation of D_15 =  1.0\n",
      "Expectation of D_16 =  1.0\n",
      "Expectation of D_17 =  1.0\n",
      "Expectation of D_18 =  1.0\n",
      "Expectation of D_19 =  1.0\n",
      "Expectation of D_20 =  1.0\n",
      "Expectation of D_21 =  1.0\n",
      "Expectation of D_22 =  1.0\n",
      "Expectation of D_23 =  1.0\n",
      "Expectation of D_24 =  1.0\n",
      "Expectation of D_25 =  1.0\n",
      "Expectation of D_26 =  1.0\n",
      "Expectation of D_27 =  1.0\n",
      "Expectation of D_28 =  1.0\n",
      "Expectation of D_29 =  1.0\n",
      "Expectation of D_30 =  1.0\n",
      "Expectation of D_31 =  1.0\n",
      "Expectation of D_32 =  1.0\n",
      "Expectation of D_33 =  1.0\n",
      "Expectation of D_34 =  1.0\n",
      "Expectation of D_35 =  1.0\n",
      "Expectation of D_36 =  1.0\n",
      "Expectation of D_37 =  1.0\n",
      "Expectation of D_38 =  1.0\n",
      "Expectation of D_39 =  1.0\n",
      "\n",
      "The 4th state:\n",
      "Expectation of D_0 =  -1.0\n",
      "Expectation of D_1 =  1.0\n",
      "Expectation of D_2 =  1.0\n",
      "Expectation of D_3 =  1.0\n",
      "Expectation of D_4 =  1.0\n",
      "Expectation of D_5 =  1.0\n",
      "Expectation of D_6 =  1.0\n",
      "Expectation of D_7 =  1.0\n",
      "Expectation of D_8 =  1.0\n",
      "Expectation of D_9 =  1.0\n",
      "Expectation of D_10 =  1.0\n",
      "Expectation of D_11 =  1.0\n",
      "Expectation of D_12 =  1.0\n",
      "Expectation of D_13 =  1.0\n",
      "Expectation of D_14 =  1.0\n",
      "Expectation of D_15 =  1.0\n",
      "Expectation of D_16 =  1.0\n",
      "Expectation of D_17 =  1.0\n",
      "Expectation of D_18 =  1.0\n",
      "Expectation of D_19 =  1.0\n",
      "Expectation of D_20 =  1.0\n",
      "Expectation of D_21 =  1.0\n",
      "Expectation of D_22 =  1.0\n",
      "Expectation of D_23 =  1.0\n",
      "Expectation of D_24 =  1.0\n",
      "Expectation of D_25 =  1.0\n",
      "Expectation of D_26 =  1.0\n",
      "Expectation of D_27 =  1.0\n",
      "Expectation of D_28 =  1.0\n",
      "Expectation of D_29 =  1.0\n",
      "Expectation of D_30 =  1.0\n",
      "Expectation of D_31 =  1.0\n",
      "Expectation of D_32 =  1.0\n",
      "Expectation of D_33 =  1.0\n",
      "Expectation of D_34 =  1.0\n",
      "Expectation of D_35 =  1.0\n",
      "Expectation of D_36 =  1.0\n",
      "Expectation of D_37 =  1.0\n",
      "Expectation of D_38 =  1.0\n",
      "Expectation of D_39 =  1.0\n",
      "\n"
     ]
    }
   ],
   "source": [
    "i=0\n",
    "for psi in [psi1, psi2, psi3, psi4]:\n",
    "    i += 1\n",
    "    print(f'The {i}th state:')\n",
    "    for n in range(2*N):\n",
    "        D = D_n(n, N)\n",
    "        print(f'Expectation of D_{n} = ', np.round(psi.expectation_value_term(D)))\n",
    "    print('')"
   ]
  },
  {
   "cell_type": "markdown",
   "metadata": {},
   "source": [
    "## PBC X Phase"
   ]
  },
  {
   "cell_type": "code",
   "execution_count": 18,
   "metadata": {},
   "outputs": [],
   "source": [
    "pbc_data = dictfrompickle['PBC_Jx_1.75_Jy_0.25_Jz_1.0']"
   ]
  },
  {
   "cell_type": "code",
   "execution_count": 19,
   "metadata": {},
   "outputs": [
    {
     "data": {
      "text/plain": [
       "([-38.346605748678435,\n",
       "  -38.318108367945484,\n",
       "  -38.318108367933036,\n",
       "  -38.31810811252964],\n",
       " [<tenpy.networks.mps.MPS at 0x7f733f78a910>,\n",
       "  <tenpy.networks.mps.MPS at 0x7f733f7477d0>,\n",
       "  <tenpy.networks.mps.MPS at 0x7f733f779090>,\n",
       "  <tenpy.networks.mps.MPS at 0x7f733f729910>])"
      ]
     },
     "execution_count": 19,
     "metadata": {},
     "output_type": "execute_result"
    }
   ],
   "source": [
    "pbc_data[-1]"
   ]
  },
  {
   "cell_type": "code",
   "execution_count": 20,
   "metadata": {},
   "outputs": [],
   "source": [
    "N20_data = pbc_data[-1]"
   ]
  },
  {
   "cell_type": "code",
   "execution_count": 21,
   "metadata": {},
   "outputs": [],
   "source": [
    "E_list = N20_data[0]\n",
    "psi_list = N20_data[1]"
   ]
  },
  {
   "cell_type": "code",
   "execution_count": 22,
   "metadata": {},
   "outputs": [
    {
     "data": {
      "text/plain": [
       "0.014248690372699713"
      ]
     },
     "execution_count": 22,
     "metadata": {},
     "output_type": "execute_result"
    }
   ],
   "source": [
    "(E_list[2] - E_list[0]) / 2"
   ]
  },
  {
   "cell_type": "markdown",
   "metadata": {},
   "source": [
    "Here we can see that the first four wavefunctions are the lowest-lying states. Furthermore the four states can be divided into 2 groups: the frist group of 2 `psi` and the second group differ in the sign of Majorana zero mode, which should reflect the sign of $\\Sigma^z$"
   ]
  },
  {
   "cell_type": "code",
   "execution_count": 23,
   "metadata": {},
   "outputs": [],
   "source": [
    "psi1 = psi_list[0]\n",
    "psi2 = psi_list[1]\n",
    "psi3 = psi_list[2]\n",
    "psi4 = psi_list[3]"
   ]
  },
  {
   "cell_type": "markdown",
   "metadata": {},
   "source": [
    "Now we can test some properties of these states."
   ]
  },
  {
   "cell_type": "code",
   "execution_count": 24,
   "metadata": {},
   "outputs": [
    {
     "name": "stdout",
     "output_type": "stream",
     "text": [
      "(7.216449660063518e-16+0j)\n",
      "(3.589522342556384e-16+0j)\n",
      "(8.109455916100086e-16+0j)\n",
      "(-2.940480624944678e-16+0j)\n",
      "(-2.6504023617606147e-16+0j)\n",
      "(2.369453692711368e-16+0j)\n"
     ]
    }
   ],
   "source": [
    "print(psi1.overlap(psi2))\n",
    "print(psi1.overlap(psi3))\n",
    "print(psi1.overlap(psi4))\n",
    "print(psi2.overlap(psi3))\n",
    "print(psi2.overlap(psi4))\n",
    "print(psi3.overlap(psi4))"
   ]
  },
  {
   "cell_type": "code",
   "execution_count": 25,
   "metadata": {},
   "outputs": [
    {
     "name": "stdout",
     "output_type": "stream",
     "text": [
      "The 1th state:\n",
      "Expectation of Sigmax 0.9999999999999971\n",
      "Expectation of Sigmay 0.99999999999975\n",
      "Expectation of Sigmaz 0.9999999999997482\n",
      "\n",
      "The 2th state:\n",
      "Expectation of Sigmax 1.0000000000000009\n",
      "Expectation of Sigmay -0.9999999999996172\n",
      "Expectation of Sigmaz -0.9999999999996162\n",
      "\n",
      "The 3th state:\n",
      "Expectation of Sigmax 0.999999999999994\n",
      "Expectation of Sigmay -0.9999999999999767\n",
      "Expectation of Sigmaz -0.9999999999999747\n",
      "\n",
      "The 4th state:\n",
      "Expectation of Sigmax 0.9999999999136162\n",
      "Expectation of Sigmay -0.9999995051950334\n",
      "Expectation of Sigmaz -0.9999995052207675\n",
      "\n"
     ]
    }
   ],
   "source": [
    "S_list = ['Sigmax', 'Sigmay', 'Sigmaz']\n",
    "\n",
    "i = 0\n",
    "for psi in [psi1, psi2, psi3, psi4]:\n",
    "    i += 1\n",
    "    print(f'The {i}th state:')\n",
    "    for op in S_list:\n",
    "        print(f'Expectation of {op}', psi.expectation_value_term([(op, i) for i in range(psi1.L)]))\n",
    "    print('')"
   ]
  },
  {
   "cell_type": "code",
   "execution_count": 37,
   "metadata": {},
   "outputs": [],
   "source": [
    "N=psi1.L//4"
   ]
  },
  {
   "cell_type": "code",
   "execution_count": 38,
   "metadata": {},
   "outputs": [
    {
     "data": {
      "text/plain": [
       "40"
      ]
     },
     "execution_count": 38,
     "metadata": {},
     "output_type": "execute_result"
    }
   ],
   "source": [
    "psi1.L"
   ]
  },
  {
   "cell_type": "code",
   "execution_count": 39,
   "metadata": {},
   "outputs": [
    {
     "name": "stdout",
     "output_type": "stream",
     "text": [
      "The 1th state:\n",
      "Expectation of D_2N 0.9999999999999987\n",
      "\n",
      "The 2th state:\n",
      "Expectation of D_2N -0.9999998615362924\n",
      "\n",
      "The 3th state:\n",
      "Expectation of D_2N 0.9999998615368909\n",
      "\n",
      "The 4th state:\n",
      "Expectation of D_2N 0.9999992502931927\n",
      "\n"
     ]
    }
   ],
   "source": [
    "N=10\n",
    "D_2N = [('Sigmax', 4*N - 2), ('Sigmay', 4*N - 1), ('Sigmay', 0), ('Sigmax', 1)]\n",
    "\n",
    "i=0\n",
    "for psi in [psi1, psi2, psi3, psi4]:\n",
    "    i += 1\n",
    "    print(f'The {i}th state:')\n",
    "    print(f'Expectation of D_2N', psi.expectation_value_term(D_2N))\n",
    "    print('')"
   ]
  },
  {
   "cell_type": "code",
   "execution_count": 40,
   "metadata": {
    "scrolled": true
   },
   "outputs": [
    {
     "name": "stdout",
     "output_type": "stream",
     "text": [
      "The 1th state:\n",
      "Expectation of D_0 =  1.0\n",
      "Expectation of D_1 =  1.0\n",
      "Expectation of D_2 =  1.0\n",
      "Expectation of D_3 =  1.0\n",
      "Expectation of D_4 =  1.0\n",
      "Expectation of D_5 =  1.0\n",
      "Expectation of D_6 =  1.0\n",
      "Expectation of D_7 =  1.0\n",
      "Expectation of D_8 =  1.0\n",
      "Expectation of D_9 =  1.0\n",
      "Expectation of D_10 =  1.0\n",
      "Expectation of D_11 =  1.0\n",
      "Expectation of D_12 =  1.0\n",
      "Expectation of D_13 =  1.0\n",
      "Expectation of D_14 =  1.0\n",
      "Expectation of D_15 =  1.0\n",
      "Expectation of D_16 =  1.0\n",
      "Expectation of D_17 =  1.0\n",
      "Expectation of D_18 =  1.0\n",
      "Expectation of D_19 =  1.0\n",
      "\n",
      "The 2th state:\n",
      "Expectation of D_0 =  -1.0\n",
      "Expectation of D_1 =  1.0\n",
      "Expectation of D_2 =  1.0\n",
      "Expectation of D_3 =  1.0\n",
      "Expectation of D_4 =  1.0\n",
      "Expectation of D_5 =  1.0\n",
      "Expectation of D_6 =  1.0\n",
      "Expectation of D_7 =  1.0\n",
      "Expectation of D_8 =  1.0\n",
      "Expectation of D_9 =  1.0\n",
      "Expectation of D_10 =  1.0\n",
      "Expectation of D_11 =  1.0\n",
      "Expectation of D_12 =  1.0\n",
      "Expectation of D_13 =  1.0\n",
      "Expectation of D_14 =  1.0\n",
      "Expectation of D_15 =  1.0\n",
      "Expectation of D_16 =  1.0\n",
      "Expectation of D_17 =  1.0\n",
      "Expectation of D_18 =  1.0\n",
      "Expectation of D_19 =  1.0\n",
      "\n",
      "The 3th state:\n",
      "Expectation of D_0 =  1.0\n",
      "Expectation of D_1 =  1.0\n",
      "Expectation of D_2 =  -1.0\n",
      "Expectation of D_3 =  1.0\n",
      "Expectation of D_4 =  1.0\n",
      "Expectation of D_5 =  1.0\n",
      "Expectation of D_6 =  1.0\n",
      "Expectation of D_7 =  1.0\n",
      "Expectation of D_8 =  1.0\n",
      "Expectation of D_9 =  1.0\n",
      "Expectation of D_10 =  1.0\n",
      "Expectation of D_11 =  1.0\n",
      "Expectation of D_12 =  1.0\n",
      "Expectation of D_13 =  1.0\n",
      "Expectation of D_14 =  1.0\n",
      "Expectation of D_15 =  1.0\n",
      "Expectation of D_16 =  1.0\n",
      "Expectation of D_17 =  1.0\n",
      "Expectation of D_18 =  1.0\n",
      "Expectation of D_19 =  1.0\n",
      "\n",
      "The 4th state:\n",
      "Expectation of D_0 =  1.0\n",
      "Expectation of D_1 =  -1.0\n",
      "Expectation of D_2 =  1.0\n",
      "Expectation of D_3 =  1.0\n",
      "Expectation of D_4 =  1.0\n",
      "Expectation of D_5 =  1.0\n",
      "Expectation of D_6 =  1.0\n",
      "Expectation of D_7 =  1.0\n",
      "Expectation of D_8 =  1.0\n",
      "Expectation of D_9 =  1.0\n",
      "Expectation of D_10 =  1.0\n",
      "Expectation of D_11 =  1.0\n",
      "Expectation of D_12 =  1.0\n",
      "Expectation of D_13 =  1.0\n",
      "Expectation of D_14 =  1.0\n",
      "Expectation of D_15 =  1.0\n",
      "Expectation of D_16 =  1.0\n",
      "Expectation of D_17 =  1.0\n",
      "Expectation of D_18 =  1.0\n",
      "Expectation of D_19 =  1.0\n",
      "\n"
     ]
    }
   ],
   "source": [
    "i=0\n",
    "for psi in [psi1, psi2, psi3, psi4]:\n",
    "    i += 1\n",
    "    print(f'The {i}th state:')\n",
    "    for n in range(2*N):\n",
    "        D = D_n(n, N)\n",
    "        print(f'Expectation of D_{n} = ', np.round(psi.expectation_value_term(D)))\n",
    "    print('')"
   ]
  },
  {
   "cell_type": "markdown",
   "metadata": {},
   "source": [
    "## PBC Z Phase"
   ]
  },
  {
   "cell_type": "code",
   "execution_count": 57,
   "metadata": {},
   "outputs": [],
   "source": [
    "pbc_data_Z = dictfrompickle['PBC_Jx_1.0_Jy_1.0_Jz_1.0']"
   ]
  },
  {
   "cell_type": "code",
   "execution_count": 58,
   "metadata": {},
   "outputs": [
    {
     "data": {
      "text/plain": [
       "([-33.552236475338546,\n",
       "  -33.552162295175904,\n",
       "  -32.87742419963248,\n",
       "  -32.87722627175848],\n",
       " [<tenpy.networks.mps.MPS at 0x7f733fd6fd90>,\n",
       "  <tenpy.networks.mps.MPS at 0x7f733fd2ac50>,\n",
       "  <tenpy.networks.mps.MPS at 0x7f733fcdc510>,\n",
       "  <tenpy.networks.mps.MPS at 0x7f733fc8cd90>])"
      ]
     },
     "execution_count": 58,
     "metadata": {},
     "output_type": "execute_result"
    }
   ],
   "source": [
    "pbc_data_Z[-1]"
   ]
  },
  {
   "cell_type": "code",
   "execution_count": 59,
   "metadata": {},
   "outputs": [],
   "source": [
    "N20_data = pbc_data_Z[-1]"
   ]
  },
  {
   "cell_type": "code",
   "execution_count": 60,
   "metadata": {},
   "outputs": [],
   "source": [
    "E_list = N20_data[0]\n",
    "psi_list = N20_data[1]"
   ]
  },
  {
   "cell_type": "code",
   "execution_count": 61,
   "metadata": {},
   "outputs": [
    {
     "data": {
      "text/plain": [
       "0.3374061378530335"
      ]
     },
     "execution_count": 61,
     "metadata": {},
     "output_type": "execute_result"
    }
   ],
   "source": [
    "(E_list[2] - E_list[0]) / 2"
   ]
  },
  {
   "cell_type": "markdown",
   "metadata": {},
   "source": [
    "Here we can see that the first four wavefunctions are the lowest-lying states. Furthermore the four states can be divided into 2 groups: the frist group of 2 `psi` and the second group differ in the sign of Majorana zero mode, which should reflect the sign of $\\Sigma^z$"
   ]
  },
  {
   "cell_type": "code",
   "execution_count": 62,
   "metadata": {},
   "outputs": [],
   "source": [
    "psi1 = psi_list[0]\n",
    "psi2 = psi_list[1]\n",
    "psi3 = psi_list[2]\n",
    "psi4 = psi_list[3]"
   ]
  },
  {
   "cell_type": "markdown",
   "metadata": {},
   "source": [
    "Now we can test some properties of these states."
   ]
  },
  {
   "cell_type": "code",
   "execution_count": 63,
   "metadata": {},
   "outputs": [
    {
     "name": "stdout",
     "output_type": "stream",
     "text": [
      "(1.2250013961879044e-15+0j)\n",
      "(1.0486350605069494e-18+0j)\n",
      "(3.47360027738621e-24+0j)\n",
      "(-2.1019864598023027e-19+0j)\n",
      "(4.680944638763541e-25+0j)\n",
      "(1.1667953740326672e-15+0j)\n"
     ]
    }
   ],
   "source": [
    "print(psi1.overlap(psi2))\n",
    "print(psi1.overlap(psi3))\n",
    "print(psi1.overlap(psi4))\n",
    "print(psi2.overlap(psi3))\n",
    "print(psi2.overlap(psi4))\n",
    "print(psi3.overlap(psi4))"
   ]
  },
  {
   "cell_type": "code",
   "execution_count": 64,
   "metadata": {},
   "outputs": [
    {
     "name": "stdout",
     "output_type": "stream",
     "text": [
      "The 1th state:\n",
      "Expectation of Sigmax 0.9999999923335177\n",
      "Expectation of Sigmay 0.9999999922935977\n",
      "Expectation of Sigmaz 0.9999999999589402\n",
      "\n",
      "The 2th state:\n",
      "Expectation of Sigmax -0.9999999923224724\n",
      "Expectation of Sigmay -0.9999999922706755\n",
      "Expectation of Sigmaz 0.9999999999249949\n",
      "\n",
      "The 3th state:\n",
      "Expectation of Sigmax 0.9999964367311769\n",
      "Expectation of Sigmay 0.9999964367311763\n",
      "Expectation of Sigmaz 1.0000000000000004\n",
      "\n",
      "The 4th state:\n",
      "Expectation of Sigmax -0.9999964377046662\n",
      "Expectation of Sigmay -0.9999964376966581\n",
      "Expectation of Sigmaz 0.9999999998577417\n",
      "\n"
     ]
    }
   ],
   "source": [
    "S_list = ['Sigmax', 'Sigmay', 'Sigmaz']\n",
    "\n",
    "i = 0\n",
    "for psi in [psi1, psi2, psi3, psi4]:\n",
    "    i += 1\n",
    "    print(f'The {i}th state:')\n",
    "    for op in S_list:\n",
    "        print(f'Expectation of {op}', psi.expectation_value_term([(op, i) for i in range(psi1.L)]))\n",
    "    print('')"
   ]
  },
  {
   "cell_type": "code",
   "execution_count": 67,
   "metadata": {},
   "outputs": [
    {
     "name": "stdout",
     "output_type": "stream",
     "text": [
      "0.9999999922935967\n",
      "-0.9999999922706737\n"
     ]
    }
   ],
   "source": [
    "N = psi1.L//4\n",
    "Sz_half = [(op, 4*i) for i in range(N)] + [(op, 4*i+3) for i in range(N)]\n",
    "print(psi1.expectation_value_term(Sz_half))\n",
    "print(psi2.expectation_value_term(Sz_half))"
   ]
  },
  {
   "cell_type": "code",
   "execution_count": 53,
   "metadata": {},
   "outputs": [],
   "source": [
    "N=psi1.L//4"
   ]
  },
  {
   "cell_type": "code",
   "execution_count": 54,
   "metadata": {},
   "outputs": [
    {
     "data": {
      "text/plain": [
       "40"
      ]
     },
     "execution_count": 54,
     "metadata": {},
     "output_type": "execute_result"
    }
   ],
   "source": [
    "psi1.L"
   ]
  },
  {
   "cell_type": "code",
   "execution_count": 55,
   "metadata": {},
   "outputs": [
    {
     "name": "stdout",
     "output_type": "stream",
     "text": [
      "The 1th state:\n",
      "Expectation of D_2N 0.9999999999589408\n",
      "\n",
      "The 2th state:\n",
      "Expectation of D_2N 0.9999999999249952\n",
      "\n",
      "The 3th state:\n",
      "Expectation of D_2N 0.9999969715715455\n",
      "\n",
      "The 4th state:\n",
      "Expectation of D_2N 0.9999999998577411\n",
      "\n"
     ]
    }
   ],
   "source": [
    "N=10\n",
    "D_2N = [('Sigmax', 4*N - 2), ('Sigmay', 4*N - 1), ('Sigmay', 0), ('Sigmax', 1)]\n",
    "\n",
    "i=0\n",
    "for psi in [psi1, psi2, psi3, psi4]:\n",
    "    i += 1\n",
    "    print(f'The {i}th state:')\n",
    "    print(f'Expectation of D_2N', psi.expectation_value_term(D_2N))\n",
    "    print('')"
   ]
  },
  {
   "cell_type": "code",
   "execution_count": 56,
   "metadata": {
    "scrolled": true
   },
   "outputs": [
    {
     "name": "stdout",
     "output_type": "stream",
     "text": [
      "The 1th state:\n",
      "Expectation of D_0 =  1.0\n",
      "Expectation of D_1 =  1.0\n",
      "Expectation of D_2 =  1.0\n",
      "Expectation of D_3 =  1.0\n",
      "Expectation of D_4 =  1.0\n",
      "Expectation of D_5 =  1.0\n",
      "Expectation of D_6 =  1.0\n",
      "Expectation of D_7 =  1.0\n",
      "Expectation of D_8 =  1.0\n",
      "Expectation of D_9 =  1.0\n",
      "Expectation of D_10 =  1.0\n",
      "Expectation of D_11 =  1.0\n",
      "Expectation of D_12 =  1.0\n",
      "Expectation of D_13 =  1.0\n",
      "Expectation of D_14 =  1.0\n",
      "Expectation of D_15 =  1.0\n",
      "Expectation of D_16 =  1.0\n",
      "Expectation of D_17 =  1.0\n",
      "Expectation of D_18 =  1.0\n",
      "Expectation of D_19 =  1.0\n",
      "\n",
      "The 2th state:\n",
      "Expectation of D_0 =  1.0\n",
      "Expectation of D_1 =  1.0\n",
      "Expectation of D_2 =  1.0\n",
      "Expectation of D_3 =  1.0\n",
      "Expectation of D_4 =  1.0\n",
      "Expectation of D_5 =  1.0\n",
      "Expectation of D_6 =  1.0\n",
      "Expectation of D_7 =  1.0\n",
      "Expectation of D_8 =  1.0\n",
      "Expectation of D_9 =  1.0\n",
      "Expectation of D_10 =  1.0\n",
      "Expectation of D_11 =  1.0\n",
      "Expectation of D_12 =  1.0\n",
      "Expectation of D_13 =  1.0\n",
      "Expectation of D_14 =  1.0\n",
      "Expectation of D_15 =  1.0\n",
      "Expectation of D_16 =  1.0\n",
      "Expectation of D_17 =  1.0\n",
      "Expectation of D_18 =  1.0\n",
      "Expectation of D_19 =  1.0\n",
      "\n",
      "The 3th state:\n",
      "Expectation of D_0 =  1.0\n",
      "Expectation of D_1 =  1.0\n",
      "Expectation of D_2 =  -1.0\n",
      "Expectation of D_3 =  1.0\n",
      "Expectation of D_4 =  -1.0\n",
      "Expectation of D_5 =  1.0\n",
      "Expectation of D_6 =  1.0\n",
      "Expectation of D_7 =  1.0\n",
      "Expectation of D_8 =  1.0\n",
      "Expectation of D_9 =  1.0\n",
      "Expectation of D_10 =  1.0\n",
      "Expectation of D_11 =  1.0\n",
      "Expectation of D_12 =  1.0\n",
      "Expectation of D_13 =  1.0\n",
      "Expectation of D_14 =  1.0\n",
      "Expectation of D_15 =  1.0\n",
      "Expectation of D_16 =  1.0\n",
      "Expectation of D_17 =  1.0\n",
      "Expectation of D_18 =  1.0\n",
      "Expectation of D_19 =  1.0\n",
      "\n",
      "The 4th state:\n",
      "Expectation of D_0 =  1.0\n",
      "Expectation of D_1 =  1.0\n",
      "Expectation of D_2 =  -1.0\n",
      "Expectation of D_3 =  1.0\n",
      "Expectation of D_4 =  -1.0\n",
      "Expectation of D_5 =  1.0\n",
      "Expectation of D_6 =  1.0\n",
      "Expectation of D_7 =  1.0\n",
      "Expectation of D_8 =  1.0\n",
      "Expectation of D_9 =  1.0\n",
      "Expectation of D_10 =  1.0\n",
      "Expectation of D_11 =  1.0\n",
      "Expectation of D_12 =  1.0\n",
      "Expectation of D_13 =  1.0\n",
      "Expectation of D_14 =  1.0\n",
      "Expectation of D_15 =  1.0\n",
      "Expectation of D_16 =  1.0\n",
      "Expectation of D_17 =  1.0\n",
      "Expectation of D_18 =  1.0\n",
      "Expectation of D_19 =  1.0\n",
      "\n"
     ]
    }
   ],
   "source": [
    "i=0\n",
    "for psi in [psi1, psi2, psi3, psi4]:\n",
    "    i += 1\n",
    "    print(f'The {i}th state:')\n",
    "    for n in range(2*N):\n",
    "        D = D_n(n, N)\n",
    "        print(f'Expectation of D_{n} = ', np.round(psi.expectation_value_term(D)))\n",
    "    print('')"
   ]
  },
  {
   "cell_type": "code",
   "execution_count": null,
   "metadata": {},
   "outputs": [],
   "source": []
  }
 ],
 "metadata": {
  "kernelspec": {
   "display_name": "Python 3",
   "language": "python",
   "name": "python3"
  },
  "language_info": {
   "codemirror_mode": {
    "name": "ipython",
    "version": 3
   },
   "file_extension": ".py",
   "mimetype": "text/x-python",
   "name": "python",
   "nbconvert_exporter": "python",
   "pygments_lexer": "ipython3",
   "version": "3.7.7"
  }
 },
 "nbformat": 4,
 "nbformat_minor": 4
}
