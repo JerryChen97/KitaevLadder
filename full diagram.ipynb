{
 "cells": [
  {
   "cell_type": "code",
   "execution_count": 12,
   "metadata": {},
   "outputs": [],
   "source": [
    "from rotation import get_xyz\n",
    "from kitaev_ladder import load_data\n",
    "import numpy as np\n",
    "import matplotlib.pyplot as plt"
   ]
  },
  {
   "cell_type": "code",
   "execution_count": 9,
   "metadata": {},
   "outputs": [],
   "source": [
    "a_step = 0.05\n",
    "b_step = 0.05\n",
    "\n",
    "chi = 100\n",
    "L = 3\n",
    "N_sweeps_check=1\n",
    "max_sweeps=20\n",
    "verbose=0\n",
    "# folder name\n",
    "prefix = f'data_L_{L}_comb/'"
   ]
  },
  {
   "cell_type": "code",
   "execution_count": 14,
   "metadata": {},
   "outputs": [
    {
     "name": "stdout",
     "output_type": "stream",
     "text": [
      "[[-1.   -1.   -1.   ... -1.   -1.   -1.  ]\n",
      " [-0.95 -0.95 -0.95 ... -0.95 -0.95 -0.95]\n",
      " [-0.9  -0.9  -0.9  ... -0.9  -0.9  -0.9 ]\n",
      " ...\n",
      " [ 0.9   0.9   0.9  ...  0.9   0.9   0.9 ]\n",
      " [ 0.95  0.95  0.95 ...  0.95  0.95  0.95]\n",
      " [ 1.    1.    1.   ...  1.    1.    1.  ]]\n"
     ]
    }
   ],
   "source": [
    "def any_J_equal_zero(Jx, Jy, Jz):\n",
    "    return (Jx == 0 or Jy == 0 or Jz == 0)\n",
    "\n",
    "def f(a, b):\n",
    "    \n",
    "    Jx, Jy, Jz = get_xyz(a, b, biased=False)\n",
    "    \n",
    "    if any_J_equal_zero(Jx, Jy, Jz):\n",
    "        return np.nan\n",
    "    \n",
    "    data = load_data(chi=chi, Jx=Jx, Jy=Jy, Jz=Jz, L=L, prefix=prefix)\n",
    "    if data==-1:\n",
    "        return np.nan\n",
    "    psi = data['psi']\n",
    "    \n",
    "    sweeps_stat = data['sweeps_stat']\n",
    "#     print(\"Sweeps: \", sweeps_stat['sweep'])\n",
    "    last_sweep = len(sweeps_stat['sweep']) * N_sweeps_check\n",
    "    max_sweeps = data['parameters']['max_sweeps']\n",
    "    return float(np.mean(psi.entanglement_entropy()))\n",
    "    if max_sweeps == last_sweep:\n",
    "        return np.nan\n",
    "    else:\n",
    "        return float(np.mean(psi.entanglement_entropy()))\n",
    "\n",
    "ff = np.frompyfunc(f, 2, 1)\n",
    "\n",
    "a = np.arange(-1, 1+a_step, a_step)\n",
    "b = np.arange(-1, 1+b_step, b_step)\n",
    "\n",
    "A, B = np.meshgrid(a, b)\n",
    "print(B)"
   ]
  },
  {
   "cell_type": "code",
   "execution_count": 15,
   "metadata": {},
   "outputs": [
    {
     "name": "stdout",
     "output_type": "stream",
     "text": [
      "[[nan nan nan ... nan nan nan]\n",
      " [nan nan 0.8673588761802186 ... 0.8673588761802243 nan nan]\n",
      " [nan 0.8673588761800729 nan ... nan 0.8673588761802075 nan]\n",
      " ...\n",
      " [nan 0.8673588761802238 nan ... nan 0.8673588761802193 nan]\n",
      " [nan nan 0.8673588761802059 ... 0.8673588761802268 nan nan]\n",
      " [nan nan nan ... nan nan nan]]\n"
     ]
    }
   ],
   "source": [
    "entangle = ff(A, B)\n",
    "print(entangle)"
   ]
  },
  {
   "cell_type": "code",
   "execution_count": 16,
   "metadata": {},
   "outputs": [
    {
     "data": {
      "text/plain": [
       "Text(0, 0.5, '$b$')"
      ]
     },
     "execution_count": 16,
     "metadata": {},
     "output_type": "execute_result"
    },
    {
     "data": {
      "image/png": "[encoded data removed]",
      "text/plain": [
       "<Figure size 432x288 with 2 Axes>"
      ]
     },
     "metadata": {
      "needs_background": "light"
     },
     "output_type": "display_data"
    }
   ],
   "source": [
    "Z = entangle\n",
    "Z = np.vstack(Z[:, :]).astype(np.float)\n",
    "plt.imshow(Z, extent=[a[0], a[-1], b[0], b[-1]], origin='lower',\n",
    "           cmap='viridis')\n",
    "plt.colorbar()\n",
    "plt.axis(aspect='image')\n",
    "plt.title(r\"$S$\")\n",
    "plt.xlabel(r'$a$')\n",
    "plt.ylabel(r'$b$')\n",
    "# plt.savefig(f'entanglement entropy L={L}.png')"
   ]
  },
  {
   "cell_type": "markdown",
   "metadata": {},
   "source": [
    "Find the large point looking yellow"
   ]
  },
  {
   "cell_type": "code",
   "execution_count": 22,
   "metadata": {},
   "outputs": [
    {
     "name": "stdout",
     "output_type": "stream",
     "text": [
      "32\n"
     ]
    }
   ],
   "source": [
    "test = Z[:, 1]\n",
    "x = test > 2\n",
    "i = 0\n",
    "for x0 in x:\n",
    "    if x0 == True:\n",
    "        print(i)\n",
    "        pass\n",
    "    i += 1\n",
    "    pass"
   ]
  },
  {
   "cell_type": "code",
   "execution_count": 25,
   "metadata": {},
   "outputs": [
    {
     "name": "stdout",
     "output_type": "stream",
     "text": [
      "A:  -0.95\n",
      "B:  0.6000000000000014\n"
     ]
    }
   ],
   "source": [
    "Z[32, 1]\n",
    "print(\"A: \", A[32, 1])\n",
    "print(\"B: \", B[32, 1])"
   ]
  },
  {
   "cell_type": "markdown",
   "metadata": {},
   "source": [
    "Try directly do the computation"
   ]
  },
  {
   "cell_type": "code",
   "execution_count": 26,
   "metadata": {},
   "outputs": [],
   "source": [
    "from kitaev_ladder import run_atomic"
   ]
  },
  {
   "cell_type": "code",
   "execution_count": 34,
   "metadata": {},
   "outputs": [
    {
     "name": "stdout",
     "output_type": "stream",
     "text": [
      "parameter 'verbose'=1 for KitaevLadderModel\n",
      "parameter 'L'=3 for KitaevLadderModel\n",
      "parameter 'conserve'=None for KitaevLadderModel\n",
      "parameter 'Jx'=-0.175 for KitaevLadderModel\n",
      "parameter 'Jy'=-0.775 for KitaevLadderModel\n",
      "parameter 'Jz'=0.05 for KitaevLadderModel\n",
      "\n",
      "\n",
      "================================================================================\n",
      "==============================START==============================\n",
      "================================================================================\n",
      "Chi =  100 \n",
      "\n",
      "parameter 'verbose'=1 for Sweep\n",
      "parameter 'trunc_params'={'chi_max': 4, 'svd_min': 1e-10} for Sweep\n",
      "Initial sweeps...\n",
      "parameter 'start_env'=10 for Sweep\n",
      "Updating environment\n",
      "..........\n",
      "parameter 'N_sweeps_check'=10 for DMRG\n",
      "parameter 'max_sweeps'=200 for DMRG\n",
      "parameter 'max_E_err'=1e-06 for DMRG\n",
      "parameter 'max_S_err'=1e-05 for DMRG\n",
      "parameter 'mixer'=True for Sweep\n",
      "parameter 'mixer_params'={'amplitude': 0.0001, 'decay': 1.2, 'disable_after': 50} for Sweep\n",
      "Updating environment\n",
      ".....\n",
      "================================================================================\n",
      "sweep 10, age = 612\n",
      "Energy = -0.0982236500731416, S = nan, norm_err = 1.8e-09\n",
      "Current memory usage 308.3 MB, time elapsed: 33.7 s\n",
      "Delta E = nan, Delta S = 0.0000e+00 (per sweep)\n",
      "max_trunc_err = 1.7881e-09, max_E_trunc = -1.9678e-11\n",
      "MPS bond dimensions: [100, 100, 100, 100, 100, 100, 100, 100, 100, 100, 100, 100]\n",
      "Updating environment\n",
      ".....\n",
      "================================================================================\n",
      "sweep 20, age = 972\n",
      "Energy = -0.0982276301033380, S = nan, norm_err = 9.7e-11\n",
      "Current memory usage 315.9 MB, time elapsed: 73.0 s\n",
      "Delta E = -3.9800e-07, Delta S = 0.0000e+00 (per sweep)\n",
      "max_trunc_err = 7.7261e-11, max_E_trunc = 2.5580e-13\n",
      "MPS bond dimensions: [100, 100, 100, 100, 100, 100, 100, 100, 100, 100, 100, 100]\n",
      "Convergence criterium reached with enabled mixer.\n",
      "disable mixer and continue\n",
      "Updating environment\n",
      ".....\n",
      "================================================================================\n",
      "sweep 30, age = 1332\n",
      "Energy = -0.0982276446673159, S = 1.5822929960232244, norm_err = 2.8e-11\n",
      "Current memory usage 320.6 MB, time elapsed: 107.1 s\n",
      "Delta E = -1.4564e-09, Delta S = nan (per sweep)\n",
      "max_trunc_err = 9.3625e-14, max_E_trunc = 1.1369e-13\n",
      "MPS bond dimensions: [100, 100, 100, 100, 100, 100, 100, 100, 100, 100, 100, 100]\n",
      "Updating environment\n",
      ".....\n",
      "================================================================================\n",
      "sweep 40, age = 1692\n",
      "Energy = -0.0982276449109456, S = 1.5823014736450725, norm_err = 8.5e-12\n",
      "Current memory usage 320.6 MB, time elapsed: 140.5 s\n",
      "Delta E = -2.4363e-11, Delta S = 8.4776e-07 (per sweep)\n",
      "max_trunc_err = 6.7373e-15, max_E_trunc = 4.8317e-13\n",
      "MPS bond dimensions: [100, 100, 100, 100, 100, 100, 100, 100, 100, 100, 100, 100]\n",
      "================================================================================\n",
      "DMRG finished after 40 sweeps.\n",
      "total size = 1692, maximum chi = 100\n",
      "================================================================================\n",
      "Before the canonicalization:\n",
      "Bond dim =  [100, 100, 100, 100, 100, 100, 100, 100, 100, 100, 100, 100]\n",
      "Canonicalizing...\n"
     ]
    },
    {
     "name": "stderr",
     "output_type": "stream",
     "text": [
      "/home/jerry/anaconda3/lib/python3.7/site-packages/tenpy/networks/mps.py:2174: UserWarning: canonical_form_infinite: project to smaller bond dimension\n",
      "  Gl, Wr = self._canonical_form_correct_left(i1, Gl, Wr)\n",
      "/home/jerry/anaconda3/lib/python3.7/site-packages/tenpy/networks/mps.py:2195: UserWarning: canonical_form_infinite: project to smaller bond dimension\n",
      "  Gl, Wr = self._canonical_form_correct_left(j1, Gl, Wr_list[j1 % L])\n"
     ]
    },
    {
     "name": "stdout",
     "output_type": "stream",
     "text": [
      "The norm is:  1.0\n",
      "The overlap is:  (0.9999999999999873-2.1503318307801547e-17j)\n",
      "After the canonicalization:\n",
      "Bond dim =  [76, 88, 77, 90, 82, 100, 87, 97, 82, 96, 80, 91]\n",
      "Computing properties\n",
      "Optimizing\n",
      "Loop for chi=100 done.\n",
      "================================================================================\n",
      "============================== END ==============================\n",
      "================================================================================\n"
     ]
    }
   ],
   "source": [
    "Jx, Jy, Jz = get_xyz(-0.95, 0.6)\n",
    "result = run_atomic(\n",
    "    Jx=Jx,\n",
    "    Jy=Jy,\n",
    "    Jz=Jz,\n",
    "    L=3,\n",
    "    chi=100,\n",
    "    max_S_err=1e-5\n",
    ")"
   ]
  },
  {
   "cell_type": "code",
   "execution_count": 41,
   "metadata": {},
   "outputs": [
    {
     "name": "stdout",
     "output_type": "stream",
     "text": [
      "parameter 'verbose'=1 for KitaevLadderModel\n",
      "parameter 'L'=1 for KitaevLadderModel\n",
      "parameter 'conserve'=None for KitaevLadderModel\n",
      "parameter 'Jx'=-0.2 for KitaevLadderModel\n",
      "parameter 'Jy'=-0.75 for KitaevLadderModel\n",
      "parameter 'Jz'=0.05 for KitaevLadderModel\n",
      "\n",
      "\n",
      "================================================================================\n",
      "==============================START==============================\n",
      "================================================================================\n",
      "Chi =  100 \n",
      "\n",
      "parameter 'verbose'=1 for Sweep\n",
      "parameter 'trunc_params'={'chi_max': 4, 'svd_min': 1e-10} for Sweep\n",
      "Initial sweeps...\n",
      "parameter 'start_env'=10 for Sweep\n",
      "Updating environment\n",
      "..........\n",
      "parameter 'N_sweeps_check'=10 for DMRG\n",
      "parameter 'max_sweeps'=200 for DMRG\n",
      "parameter 'max_E_err'=1e-06 for DMRG\n",
      "parameter 'max_S_err'=1e-05 for DMRG\n",
      "parameter 'mixer'=True for Sweep\n",
      "parameter 'mixer_params'={'amplitude': 0.0001, 'decay': 1.2, 'disable_after': 50} for Sweep\n",
      "Updating environment\n",
      ".....\n",
      "================================================================================\n",
      "sweep 10, age = 204\n",
      "Energy = 0.1804994271094270, S = nan, norm_err = 3.9e-01\n",
      "Current memory usage 328.1 MB, time elapsed: 16.1 s\n",
      "Delta E = nan, Delta S = 0.0000e+00 (per sweep)\n",
      "max_trunc_err = 1.4263e-08, max_E_trunc = -3.9406e-10\n",
      "MPS bond dimensions: [100, 100, 100, 100]\n",
      "Updating environment\n",
      ".....\n",
      "================================================================================\n",
      "sweep 20, age = 324\n",
      "Energy = 0.2059678555643201, S = nan, norm_err = 4.8e-02\n",
      "Current memory usage 328.1 MB, time elapsed: 31.6 s\n",
      "Delta E = 2.5468e-03, Delta S = 0.0000e+00 (per sweep)\n",
      "max_trunc_err = 4.5432e-10, max_E_trunc = -1.1257e-10\n",
      "MPS bond dimensions: [100, 100, 100, 100]\n",
      "Convergence criterium reached with enabled mixer.\n",
      "disable mixer and continue\n",
      "Updating environment\n",
      ".....\n",
      "================================================================================\n",
      "sweep 30, age = 444\n",
      "Energy = -0.0955366282155827, S = 1.5593635292276391, norm_err = 3.7e-05\n",
      "Current memory usage 328.1 MB, time elapsed: 42.9 s\n",
      "Delta E = -3.0150e-02, Delta S = nan (per sweep)\n",
      "max_trunc_err = 1.9421e-09, max_E_trunc = -6.0602e-11\n",
      "MPS bond dimensions: [100, 100, 100, 100]\n",
      "Updating environment\n",
      ".....\n",
      "================================================================================\n",
      "sweep 40, age = 564\n",
      "Energy = -0.0955150128914761, S = 1.6192455595097746, norm_err = 3.5e-03\n",
      "Current memory usage 328.1 MB, time elapsed: 54.1 s\n",
      "Delta E = 2.1615e-06, Delta S = 5.9882e-03 (per sweep)\n",
      "max_trunc_err = 1.5034e-09, max_E_trunc = -2.6140e-10\n",
      "MPS bond dimensions: [100, 100, 100, 100]\n",
      "Updating environment\n",
      ".....\n",
      "================================================================================\n",
      "sweep 50, age = 684\n",
      "Energy = -0.0953901349681168, S = 0.7044554881008469, norm_err = 8.8e-06\n",
      "Current memory usage 328.1 MB, time elapsed: 66.0 s\n",
      "Delta E = 1.2488e-05, Delta S = -9.1479e-02 (per sweep)\n",
      "max_trunc_err = 5.7255e-10, max_E_trunc = -4.8963e-11\n",
      "MPS bond dimensions: [100, 100, 100, 100]\n",
      "Updating environment\n",
      ".....\n",
      "================================================================================\n",
      "sweep 60, age = 804\n",
      "Energy = -0.0663905216768583, S = 1.7461431501489328, norm_err = 5.0e-02\n",
      "Current memory usage 328.1 MB, time elapsed: 77.1 s\n",
      "Delta E = 2.9000e-03, Delta S = 1.0417e-01 (per sweep)\n",
      "max_trunc_err = 2.4920e-09, max_E_trunc = -4.3524e-10\n",
      "MPS bond dimensions: [100, 100, 100, 100]\n",
      "Updating environment\n",
      ".....\n",
      "================================================================================\n",
      "sweep 70, age = 924\n",
      "Energy = -0.0954787893984097, S = 1.4714299466356668, norm_err = 1.3e-04\n",
      "Current memory usage 328.1 MB, time elapsed: 88.9 s\n",
      "Delta E = -2.9088e-03, Delta S = -2.7471e-02 (per sweep)\n",
      "max_trunc_err = 4.1685e-09, max_E_trunc = -3.0049e-10\n",
      "MPS bond dimensions: [100, 100, 100, 100]\n",
      "Updating environment\n",
      ".....\n",
      "================================================================================\n",
      "sweep 80, age = 1044\n",
      "Energy = -0.0954949053178318, S = 0.7902226507712499, norm_err = 4.7e-03\n",
      "Current memory usage 329.4 MB, time elapsed: 100.2 s\n",
      "Delta E = -1.6116e-06, Delta S = -6.8121e-02 (per sweep)\n",
      "max_trunc_err = 2.6095e-10, max_E_trunc = -1.1759e-10\n",
      "MPS bond dimensions: [100, 100, 100, 100]\n",
      "Updating environment\n",
      ".....\n",
      "================================================================================\n",
      "sweep 90, age = 1164\n",
      "Energy = 0.1922024701637799, S = 1.6844671502335753, norm_err = 5.0e-02\n",
      "Current memory usage 329.4 MB, time elapsed: 112.7 s\n",
      "Delta E = 2.8770e-02, Delta S = 8.9424e-02 (per sweep)\n",
      "max_trunc_err = 4.8406e-09, max_E_trunc = -1.3507e-10\n",
      "MPS bond dimensions: [100, 100, 100, 100]\n",
      "Updating environment\n",
      ".....\n",
      "================================================================================\n",
      "sweep 100, age = 1284\n",
      "Energy = -0.0953711348484525, S = 1.4466347241671742, norm_err = 1.4e-04\n",
      "Current memory usage 329.8 MB, time elapsed: 124.9 s\n",
      "Delta E = -2.8757e-02, Delta S = -2.3783e-02 (per sweep)\n",
      "max_trunc_err = 2.0417e-09, max_E_trunc = -8.5876e-11\n",
      "MPS bond dimensions: [100, 100, 100, 100]\n",
      "Updating environment\n",
      ".....\n",
      "================================================================================\n",
      "sweep 110, age = 1404\n",
      "Energy = -0.0872598731226155, S = 1.5382967785329407, norm_err = 9.7e-03\n",
      "Current memory usage 329.8 MB, time elapsed: 135.9 s\n",
      "Delta E = 8.1113e-04, Delta S = 9.1662e-03 (per sweep)\n",
      "max_trunc_err = 1.2400e-09, max_E_trunc = -1.9162e-10\n",
      "MPS bond dimensions: [100, 100, 100, 100]\n",
      "Updating environment\n",
      ".....\n",
      "================================================================================\n",
      "sweep 120, age = 1524\n",
      "Energy = -0.0955285763294711, S = 0.9284017137720012, norm_err = 7.2e-07\n",
      "Current memory usage 329.9 MB, time elapsed: 147.6 s\n",
      "Delta E = -8.2687e-04, Delta S = -6.0990e-02 (per sweep)\n",
      "max_trunc_err = 5.5991e-10, max_E_trunc = -1.4072e-10\n",
      "MPS bond dimensions: [100, 100, 100, 100]\n",
      "Updating environment\n",
      ".....\n",
      "================================================================================\n",
      "sweep 130, age = 1644\n",
      "Energy = 0.0105224002003617, S = 1.7142345481439503, norm_err = 1.3e-01\n",
      "Current memory usage 329.9 MB, time elapsed: 160.0 s\n",
      "Delta E = 1.0605e-02, Delta S = 7.8583e-02 (per sweep)\n",
      "max_trunc_err = 8.4010e-10, max_E_trunc = -8.7738e-11\n",
      "MPS bond dimensions: [100, 100, 100, 100]\n",
      "Updating environment\n",
      ".....\n",
      "================================================================================\n",
      "sweep 140, age = 1764\n",
      "Energy = 0.0269395571574229, S = 1.8636907160716003, norm_err = 9.4e-03\n",
      "Current memory usage 329.9 MB, time elapsed: 173.2 s\n",
      "Delta E = 1.6417e-03, Delta S = 1.4946e-02 (per sweep)\n",
      "max_trunc_err = 9.1483e-10, max_E_trunc = -3.1474e-10\n",
      "MPS bond dimensions: [100, 100, 100, 100]\n",
      "Updating environment\n",
      ".....\n",
      "================================================================================\n",
      "sweep 150, age = 1884\n",
      "Energy = -0.0955263092421568, S = 1.0789359484324492, norm_err = 7.2e-06\n",
      "Current memory usage 332.7 MB, time elapsed: 186.0 s\n",
      "Delta E = -1.2247e-02, Delta S = -7.8475e-02 (per sweep)\n",
      "max_trunc_err = 2.5081e-10, max_E_trunc = -1.5149e-10\n",
      "MPS bond dimensions: [100, 100, 100, 100]\n",
      "Updating environment\n",
      ".....\n",
      "================================================================================\n",
      "sweep 160, age = 2004\n",
      "Energy = 0.3254223194174983, S = 2.1574487591301952, norm_err = 2.6e-01\n",
      "Current memory usage 332.7 MB, time elapsed: 197.9 s\n",
      "Delta E = 4.2095e-02, Delta S = 1.0785e-01 (per sweep)\n",
      "max_trunc_err = 2.1922e-09, max_E_trunc = -3.9185e-10\n",
      "MPS bond dimensions: [100, 100, 100, 100]\n",
      "Updating environment\n",
      ".....\n",
      "================================================================================\n",
      "sweep 170, age = 2124\n",
      "Energy = -0.0235055413351617, S = 1.4728045493406752, norm_err = 9.3e-02\n",
      "Current memory usage 334.5 MB, time elapsed: 209.4 s\n",
      "Delta E = -3.4893e-02, Delta S = -6.8464e-02 (per sweep)\n",
      "max_trunc_err = 6.5715e-10, max_E_trunc = -2.0816e-10\n",
      "MPS bond dimensions: [100, 100, 100, 100]\n",
      "Updating environment\n",
      ".....\n",
      "================================================================================\n",
      "sweep 180, age = 2244\n",
      "Energy = -0.0951511144558133, S = 1.2535244822733320, norm_err = 3.0e-04\n",
      "Current memory usage 334.5 MB, time elapsed: 221.5 s\n",
      "Delta E = -7.1646e-03, Delta S = -2.1928e-02 (per sweep)\n",
      "max_trunc_err = 1.1226e-09, max_E_trunc = -2.2405e-10\n",
      "MPS bond dimensions: [100, 100, 100, 100]\n"
     ]
    },
    {
     "name": "stdout",
     "output_type": "stream",
     "text": [
      "Updating environment\n",
      ".....\n",
      "================================================================================\n",
      "sweep 190, age = 2364\n",
      "Energy = 0.0299811928217188, S = 1.6424771413149606, norm_err = 1.5e-01\n",
      "Current memory usage 334.5 MB, time elapsed: 233.3 s\n",
      "Delta E = 1.2513e-02, Delta S = 3.8895e-02 (per sweep)\n",
      "max_trunc_err = 1.3658e-09, max_E_trunc = -2.7870e-10\n",
      "MPS bond dimensions: [100, 100, 100, 100]\n",
      "Updating environment\n",
      ".....\n",
      "================================================================================\n",
      "sweep 200, age = 2484\n",
      "Energy = 0.1886402417719424, S = 2.1149110180766812, norm_err = 6.5e-02\n",
      "Current memory usage 334.5 MB, time elapsed: 245.3 s\n",
      "Delta E = 1.5866e-02, Delta S = 4.7243e-02 (per sweep)\n",
      "max_trunc_err = 6.6587e-10, max_E_trunc = -1.4833e-10\n",
      "MPS bond dimensions: [100, 100, 100, 100]\n",
      "norm_tol=1.00e-05 not reached, norm_err=6.46e-02\n",
      "Updating environment\n",
      "."
     ]
    },
    {
     "name": "stderr",
     "output_type": "stream",
     "text": [
      "/home/jerry/anaconda3/lib/python3.7/site-packages/tenpy/algorithms/dmrg.py:446: UserWarning: final DMRG state not in canonical form within `norm_tol` = 1.00e-05\n",
      "  warnings.warn(msg.format(nt=norm_tol))\n"
     ]
    },
    {
     "name": "stdout",
     "output_type": "stream",
     "text": [
      "....\n",
      "================================================================================\n",
      "DMRG finished after 200 sweeps.\n",
      "total size = 2524, maximum chi = 100\n",
      "================================================================================\n",
      "Before the canonicalization:\n",
      "Bond dim =  [100, 100, 100, 100]\n",
      "Canonicalizing...\n",
      "The norm is:  1.0\n",
      "The overlap is:  (1.0000000002033624-2.7755575615628914e-17j)\n",
      "After the canonicalization:\n",
      "Bond dim =  [100, 100, 100, 100]\n",
      "Computing properties\n",
      "Optimizing\n",
      "Loop for chi=100 done.\n",
      "================================================================================\n",
      "============================== END ==============================\n",
      "================================================================================\n"
     ]
    },
    {
     "data": {
      "text/plain": [
       "1.90708716783943"
      ]
     },
     "execution_count": 41,
     "metadata": {},
     "output_type": "execute_result"
    }
   ],
   "source": [
    "Jx, Jy, Jz = get_xyz(-0.95, 0.6 - b_step)\n",
    "result = run_atomic(\n",
    "    Jx=Jx,\n",
    "    Jy=Jy,\n",
    "    Jz=Jz,\n",
    "    L=1,\n",
    "    chi=100,\n",
    "    max_S_err=1e-5\n",
    ")\n",
    "psi = result['psi']\n",
    "S = np.mean(psi.entanglement_entropy())\n",
    "S"
   ]
  },
  {
   "cell_type": "code",
   "execution_count": 37,
   "metadata": {},
   "outputs": [
    {
     "data": {
      "text/plain": [
       "1.5823014736494343"
      ]
     },
     "execution_count": 37,
     "metadata": {},
     "output_type": "execute_result"
    }
   ],
   "source": [
    "initial_psi = load_data()"
   ]
  },
  {
   "cell_type": "code",
   "execution_count": 36,
   "metadata": {},
   "outputs": [
    {
     "data": {
      "text/plain": [
       "Text(0, 0.5, '$b$')"
      ]
     },
     "execution_count": 36,
     "metadata": {},
     "output_type": "execute_result"
    },
    {
     "data": {
      "image/png": "[encoded data removed]",
      "text/plain": [
       "<Figure size 432x288 with 2 Axes>"
      ]
     },
     "metadata": {
      "needs_background": "light"
     },
     "output_type": "display_data"
    }
   ],
   "source": [
    "Z[32, 1] = S\n",
    "plt.imshow(Z, extent=[a[0], a[-1], b[0], b[-1]], origin='lower',\n",
    "           cmap='viridis')\n",
    "plt.colorbar()\n",
    "plt.axis(aspect='image')\n",
    "plt.title(r\"$S$\")\n",
    "plt.xlabel(r'$a$')\n",
    "plt.ylabel(r'$b$')"
   ]
  },
  {
   "cell_type": "markdown",
   "metadata": {},
   "source": [
    "Investigate the overlap"
   ]
  },
  {
   "cell_type": "code",
   "execution_count": 44,
   "metadata": {},
   "outputs": [],
   "source": [
    "\n",
    "def overlap(a, b, da=0, db=-b_step):\n",
    "    Jx, Jy, Jz = get_xyz(a, b, biased=False)    \n",
    "    if any_J_equal_zero(Jx, Jy, Jz):\n",
    "        return np.nan\n",
    "    \n",
    "    data = load_data(chi=chi, Jx=Jx, Jy=Jy, Jz=Jz, L=L, prefix=prefix)\n",
    "    if data==-1:\n",
    "        return np.nan\n",
    "    psi = data['psi']\n",
    "    \n",
    "    Jx, Jy, Jz = get_xyz(a+da, b+db, biased=False)\n",
    "    if any_J_equal_zero(Jx, Jy, Jz):\n",
    "        return np.nan\n",
    "    \n",
    "    data2 = load_data(chi=chi, Jx=Jx, Jy=Jy, Jz=Jz, L=L, prefix=prefix)\n",
    "    if data2==-1:\n",
    "        return np.nan\n",
    "    psi2 = data2['psi']\n",
    "    \n",
    "    return psi.overlap(psi2)\n",
    "    \n",
    "Overlap = np.frompyfunc(overlap, 2, 1)\n"
   ]
  },
  {
   "cell_type": "code",
   "execution_count": 49,
   "metadata": {},
   "outputs": [],
   "source": [
    "overlap_map = Overlap(A, B)"
   ]
  },
  {
   "cell_type": "code",
   "execution_count": 56,
   "metadata": {},
   "outputs": [],
   "source": [
    "overlap_map_real = [[np.real(j) for j in i] for i in overlap_map]"
   ]
  },
  {
   "cell_type": "code",
   "execution_count": 57,
   "metadata": {},
   "outputs": [
    {
     "data": {
      "text/plain": [
       "Text(0, 0.5, '$b$')"
      ]
     },
     "execution_count": 57,
     "metadata": {},
     "output_type": "execute_result"
    },
    {
     "data": {
      "image/png": "[encoded data removed]",
      "text/plain": [
       "<Figure size 432x288 with 2 Axes>"
      ]
     },
     "metadata": {
      "needs_background": "light"
     },
     "output_type": "display_data"
    }
   ],
   "source": [
    "plt.imshow(overlap_map_real, extent=[a[0], a[-1], b[0], b[-1]], origin='lower',\n",
    "           cmap='viridis')\n",
    "plt.colorbar()\n",
    "plt.axis(aspect='image')\n",
    "plt.title(r\"$Downward Overlap$\")\n",
    "plt.xlabel(r'$a$')\n",
    "plt.ylabel(r'$b$')"
   ]
  },
  {
   "cell_type": "code",
   "execution_count": null,
   "metadata": {},
   "outputs": [],
   "source": []
  }
 ],
 "metadata": {
  "kernelspec": {
   "display_name": "Python 3",
   "language": "python",
   "name": "python3"
  },
  "language_info": {
   "codemirror_mode": {
    "name": "ipython",
    "version": 3
   },
   "file_extension": ".py",
   "mimetype": "text/x-python",
   "name": "python",
   "nbconvert_exporter": "python",
   "pygments_lexer": "ipython3",
   "version": "3.7.7"
  }
 },
 "nbformat": 4,
 "nbformat_minor": 4
}
