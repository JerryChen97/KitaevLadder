{
 "cells": [
  {
   "cell_type": "code",
   "execution_count": 12,
   "metadata": {},
   "outputs": [],
   "source": [
    "from rotation import get_xyz\n",
    "from kitaev_ladder import load_data\n",
    "import numpy as np\n",
    "import matplotlib.pyplot as plt"
   ]
  },
  {
   "cell_type": "code",
   "execution_count": 9,
   "metadata": {},
   "outputs": [],
   "source": [
    "a_step = 0.05\n",
    "b_step = 0.05\n",
    "\n",
    "chi = 100\n",
    "L = 3\n",
    "N_sweeps_check=1\n",
    "max_sweeps=20\n",
    "verbose=0\n",
    "# folder name\n",
    "prefix = f'data_L_{L}_comb/'"
   ]
  },
  {
   "cell_type": "code",
   "execution_count": 14,
   "metadata": {},
   "outputs": [
    {
     "name": "stdout",
     "output_type": "stream",
     "text": [
      "[[-1.   -1.   -1.   ... -1.   -1.   -1.  ]\n",
      " [-0.95 -0.95 -0.95 ... -0.95 -0.95 -0.95]\n",
      " [-0.9  -0.9  -0.9  ... -0.9  -0.9  -0.9 ]\n",
      " ...\n",
      " [ 0.9   0.9   0.9  ...  0.9   0.9   0.9 ]\n",
      " [ 0.95  0.95  0.95 ...  0.95  0.95  0.95]\n",
      " [ 1.    1.    1.   ...  1.    1.    1.  ]]\n"
     ]
    }
   ],
   "source": [
    "def any_J_equal_zero(Jx, Jy, Jz):\n",
    "    return (Jx == 0 or Jy == 0 or Jz == 0)\n",
    "\n",
    "def f(a, b):\n",
    "    \n",
    "    Jx, Jy, Jz = get_xyz(a, b, biased=False)\n",
    "    \n",
    "    if any_J_equal_zero(Jx, Jy, Jz):\n",
    "        return np.nan\n",
    "    \n",
    "    data = load_data(chi=chi, Jx=Jx, Jy=Jy, Jz=Jz, L=L, prefix=prefix)\n",
    "    if data==-1:\n",
    "        return np.nan\n",
    "    psi = data['psi']\n",
    "    \n",
    "    sweeps_stat = data['sweeps_stat']\n",
    "#     print(\"Sweeps: \", sweeps_stat['sweep'])\n",
    "    last_sweep = len(sweeps_stat['sweep']) * N_sweeps_check\n",
    "    max_sweeps = data['parameters']['max_sweeps']\n",
    "    return float(np.mean(psi.entanglement_entropy()))\n",
    "    if max_sweeps == last_sweep:\n",
    "        return np.nan\n",
    "    else:\n",
    "        return float(np.mean(psi.entanglement_entropy()))\n",
    "\n",
    "ff = np.frompyfunc(f, 2, 1)\n",
    "\n",
    "a = np.arange(-1, 1+a_step, a_step)\n",
    "b = np.arange(-1, 1+b_step, b_step)\n",
    "\n",
    "A, B = np.meshgrid(a, b)\n",
    "print(B)"
   ]
  },
  {
   "cell_type": "code",
   "execution_count": 15,
   "metadata": {},
   "outputs": [
    {
     "name": "stdout",
     "output_type": "stream",
     "text": [
      "[[nan nan nan ... nan nan nan]\n",
      " [nan nan 0.8673588761802186 ... 0.8673588761802243 nan nan]\n",
      " [nan 0.8673588761800729 nan ... nan 0.8673588761802075 nan]\n",
      " ...\n",
      " [nan 0.8673588761802238 nan ... nan 0.8673588761802193 nan]\n",
      " [nan nan 0.8673588761802059 ... 0.8673588761802268 nan nan]\n",
      " [nan nan nan ... nan nan nan]]\n"
     ]
    }
   ],
   "source": [
    "entangle = ff(A, B)\n",
    "print(entangle)"
   ]
  },
  {
   "cell_type": "code",
   "execution_count": 16,
   "metadata": {},
   "outputs": [
    {
     "data": {
      "text/plain": [
       "Text(0, 0.5, '$b$')"
      ]
     },
     "execution_count": 16,
     "metadata": {},
     "output_type": "execute_result"
    },
    {
     "data": {
      "image/png": "[encoded data removed]",
      "text/plain": [
       "<Figure size 432x288 with 2 Axes>"
      ]
     },
     "metadata": {
      "needs_background": "light"
     },
     "output_type": "display_data"
    }
   ],
   "source": [
    "Z = entangle\n",
    "Z = np.vstack(Z[:, :]).astype(np.float)\n",
    "plt.imshow(Z, extent=[a[0], a[-1], b[0], b[-1]], origin='lower',\n",
    "           cmap='viridis')\n",
    "plt.colorbar()\n",
    "plt.axis(aspect='image')\n",
    "plt.title(r\"$S$\")\n",
    "plt.xlabel(r'$a$')\n",
    "plt.ylabel(r'$b$')\n",
    "# plt.savefig(f'entanglement entropy L={L}.png')"
   ]
  },
  {
   "cell_type": "markdown",
   "metadata": {},
   "source": [
    "Find the large point looking yellow"
   ]
  },
  {
   "cell_type": "code",
   "execution_count": 22,
   "metadata": {},
   "outputs": [
    {
     "name": "stdout",
     "output_type": "stream",
     "text": [
      "32\n"
     ]
    }
   ],
   "source": [
    "test = Z[:, 1]\n",
    "x = test > 2\n",
    "i = 0\n",
    "for x0 in x:\n",
    "    if x0 == True:\n",
    "        print(i)\n",
    "        pass\n",
    "    i += 1\n",
    "    pass"
   ]
  },
  {
   "cell_type": "code",
   "execution_count": 25,
   "metadata": {},
   "outputs": [
    {
     "name": "stdout",
     "output_type": "stream",
     "text": [
      "A:  -0.95\n",
      "B:  0.6000000000000014\n"
     ]
    }
   ],
   "source": [
    "Z[32, 1]\n",
    "print(\"A: \", A[32, 1])\n",
    "print(\"B: \", B[32, 1])"
   ]
  },
  {
   "cell_type": "markdown",
   "metadata": {},
   "source": [
    "Try directly do the computation"
   ]
  },
  {
   "cell_type": "code",
   "execution_count": 26,
   "metadata": {},
   "outputs": [],
   "source": [
    "from kitaev_ladder import run_atomic"
   ]
  },
  {
   "cell_type": "code",
   "execution_count": 34,
   "metadata": {},
   "outputs": [
    {
     "name": "stdout",
     "output_type": "stream",
     "text": [
      "parameter 'verbose'=1 for KitaevLadderModel\n",
      "parameter 'L'=3 for KitaevLadderModel\n",
      "parameter 'conserve'=None for KitaevLadderModel\n",
      "parameter 'Jx'=-0.175 for KitaevLadderModel\n",
      "parameter 'Jy'=-0.775 for KitaevLadderModel\n",
      "parameter 'Jz'=0.05 for KitaevLadderModel\n",
      "\n",
      "\n",
      "================================================================================\n",
      "==============================START==============================\n",
      "================================================================================\n",
      "Chi =  100 \n",
      "\n",
      "parameter 'verbose'=1 for Sweep\n",
      "parameter 'trunc_params'={'chi_max': 4, 'svd_min': 1e-10} for Sweep\n",
      "Initial sweeps...\n",
      "parameter 'start_env'=10 for Sweep\n",
      "Updating environment\n",
      "..........\n",
      "parameter 'N_sweeps_check'=10 for DMRG\n",
      "parameter 'max_sweeps'=200 for DMRG\n",
      "parameter 'max_E_err'=1e-06 for DMRG\n",
      "parameter 'max_S_err'=1e-05 for DMRG\n",
      "parameter 'mixer'=True for Sweep\n",
      "parameter 'mixer_params'={'amplitude': 0.0001, 'decay': 1.2, 'disable_after': 50} for Sweep\n",
      "Updating environment\n",
      ".....\n",
      "================================================================================\n",
      "sweep 10, age = 612\n",
      "Energy = -0.0982236500731416, S = nan, norm_err = 1.8e-09\n",
      "Current memory usage 308.3 MB, time elapsed: 33.7 s\n",
      "Delta E = nan, Delta S = 0.0000e+00 (per sweep)\n",
      "max_trunc_err = 1.7881e-09, max_E_trunc = -1.9678e-11\n",
      "MPS bond dimensions: [100, 100, 100, 100, 100, 100, 100, 100, 100, 100, 100, 100]\n",
      "Updating environment\n",
      ".....\n",
      "================================================================================\n",
      "sweep 20, age = 972\n",
      "Energy = -0.0982276301033380, S = nan, norm_err = 9.7e-11\n",
      "Current memory usage 315.9 MB, time elapsed: 73.0 s\n",
      "Delta E = -3.9800e-07, Delta S = 0.0000e+00 (per sweep)\n",
      "max_trunc_err = 7.7261e-11, max_E_trunc = 2.5580e-13\n",
      "MPS bond dimensions: [100, 100, 100, 100, 100, 100, 100, 100, 100, 100, 100, 100]\n",
      "Convergence criterium reached with enabled mixer.\n",
      "disable mixer and continue\n",
      "Updating environment\n",
      ".....\n",
      "================================================================================\n",
      "sweep 30, age = 1332\n",
      "Energy = -0.0982276446673159, S = 1.5822929960232244, norm_err = 2.8e-11\n",
      "Current memory usage 320.6 MB, time elapsed: 107.1 s\n",
      "Delta E = -1.4564e-09, Delta S = nan (per sweep)\n",
      "max_trunc_err = 9.3625e-14, max_E_trunc = 1.1369e-13\n",
      "MPS bond dimensions: [100, 100, 100, 100, 100, 100, 100, 100, 100, 100, 100, 100]\n",
      "Updating environment\n",
      ".....\n",
      "================================================================================\n",
      "sweep 40, age = 1692\n",
      "Energy = -0.0982276449109456, S = 1.5823014736450725, norm_err = 8.5e-12\n",
      "Current memory usage 320.6 MB, time elapsed: 140.5 s\n",
      "Delta E = -2.4363e-11, Delta S = 8.4776e-07 (per sweep)\n",
      "max_trunc_err = 6.7373e-15, max_E_trunc = 4.8317e-13\n",
      "MPS bond dimensions: [100, 100, 100, 100, 100, 100, 100, 100, 100, 100, 100, 100]\n",
      "================================================================================\n",
      "DMRG finished after 40 sweeps.\n",
      "total size = 1692, maximum chi = 100\n",
      "================================================================================\n",
      "Before the canonicalization:\n",
      "Bond dim =  [100, 100, 100, 100, 100, 100, 100, 100, 100, 100, 100, 100]\n",
      "Canonicalizing...\n"
     ]
    },
    {
     "name": "stderr",
     "output_type": "stream",
     "text": [
      "/home/jerry/anaconda3/lib/python3.7/site-packages/tenpy/networks/mps.py:2174: UserWarning: canonical_form_infinite: project to smaller bond dimension\n",
      "  Gl, Wr = self._canonical_form_correct_left(i1, Gl, Wr)\n",
      "/home/jerry/anaconda3/lib/python3.7/site-packages/tenpy/networks/mps.py:2195: UserWarning: canonical_form_infinite: project to smaller bond dimension\n",
      "  Gl, Wr = self._canonical_form_correct_left(j1, Gl, Wr_list[j1 % L])\n"
     ]
    },
    {
     "name": "stdout",
     "output_type": "stream",
     "text": [
      "The norm is:  1.0\n",
      "The overlap is:  (0.9999999999999873-2.1503318307801547e-17j)\n",
      "After the canonicalization:\n",
      "Bond dim =  [76, 88, 77, 90, 82, 100, 87, 97, 82, 96, 80, 91]\n",
      "Computing properties\n",
      "Optimizing\n",
      "Loop for chi=100 done.\n",
      "================================================================================\n",
      "============================== END ==============================\n",
      "================================================================================\n"
     ]
    }
   ],
   "source": [
    "Jx, Jy, Jz = get_xyz(-0.95, 0.6)\n",
    "result = run_atomic(\n",
    "    Jx=Jx,\n",
    "    Jy=Jy,\n",
    "    Jz=Jz,\n",
    "    L=3,\n",
    "    chi=100,\n",
    "    max_S_err=1e-5\n",
    ")"
   ]
  },
  {
   "cell_type": "code",
   "execution_count": null,
   "metadata": {},
   "outputs": [
    {
     "name": "stdout",
     "output_type": "stream",
     "text": [
      "parameter 'verbose'=1 for KitaevLadderModel\n",
      "parameter 'L'=2 for KitaevLadderModel\n",
      "parameter 'conserve'=None for KitaevLadderModel\n",
      "parameter 'Jx'=-0.2 for KitaevLadderModel\n",
      "parameter 'Jy'=-0.75 for KitaevLadderModel\n",
      "parameter 'Jz'=0.05 for KitaevLadderModel\n",
      "\n",
      "\n",
      "================================================================================\n",
      "==============================START==============================\n",
      "================================================================================\n",
      "Chi =  100 \n",
      "\n",
      "parameter 'verbose'=1 for Sweep\n",
      "parameter 'trunc_params'={'chi_max': 4, 'svd_min': 1e-10} for Sweep\n",
      "Initial sweeps...\n",
      "parameter 'start_env'=10 for Sweep\n",
      "Updating environment\n",
      "..........\n",
      "parameter 'N_sweeps_check'=10 for DMRG\n",
      "parameter 'max_sweeps'=200 for DMRG\n",
      "parameter 'max_E_err'=1e-06 for DMRG\n",
      "parameter 'max_S_err'=1e-05 for DMRG\n",
      "parameter 'mixer'=True for Sweep\n",
      "parameter 'mixer_params'={'amplitude': 0.0001, 'decay': 1.2, 'disable_after': 50} for Sweep\n",
      "Updating environment\n",
      ".....\n",
      "================================================================================\n",
      "sweep 10, age = 408\n",
      "Energy = -0.0955443848297606, S = nan, norm_err = 3.2e-09\n",
      "Current memory usage 328.1 MB, time elapsed: 23.1 s\n",
      "Delta E = nan, Delta S = 0.0000e+00 (per sweep)\n",
      "max_trunc_err = 3.2512e-10, max_E_trunc = -2.0677e-12\n",
      "MPS bond dimensions: [100, 100, 100, 100, 100, 100, 100, 100]\n",
      "Updating environment\n",
      ".....\n",
      "================================================================================\n",
      "sweep 20, age = 648\n",
      "Energy = -0.0955446283926675, S = nan, norm_err = 2.8e-09\n",
      "Current memory usage 328.1 MB, time elapsed: 50.5 s\n",
      "Delta E = -2.4356e-08, Delta S = 0.0000e+00 (per sweep)\n",
      "max_trunc_err = 7.2346e-12, max_E_trunc = -1.8474e-13\n",
      "MPS bond dimensions: [100, 100, 100, 100, 100, 100, 100, 100]\n",
      "Convergence criterium reached with enabled mixer.\n",
      "disable mixer and continue\n",
      "Updating environment\n",
      ".....\n",
      "================================================================================\n",
      "sweep 30, age = 888\n",
      "Energy = -0.0955369150237129, S = 1.3681753472654075, norm_err = 1.2e-07\n",
      "Current memory usage 328.1 MB, time elapsed: 73.4 s\n",
      "Delta E = 7.7134e-07, Delta S = nan (per sweep)\n",
      "max_trunc_err = 4.0907e-10, max_E_trunc = -6.6862e-11\n",
      "MPS bond dimensions: [100, 100, 100, 100, 100, 100, 100, 100]\n",
      "Updating environment\n",
      ".....\n",
      "================================================================================\n",
      "sweep 40, age = 1128\n",
      "Energy = -0.0955435790876713, S = 1.5831770411138228, norm_err = 1.1e-08\n",
      "Current memory usage 328.1 MB, time elapsed: 96.0 s\n",
      "Delta E = -6.6641e-07, Delta S = 2.1500e-02 (per sweep)\n",
      "max_trunc_err = 8.1576e-11, max_E_trunc = -2.5437e-12\n",
      "MPS bond dimensions: [100, 100, 100, 100, 100, 100, 100, 100]\n",
      "Updating environment\n",
      ".....\n",
      "================================================================================\n",
      "sweep 50, age = 1368\n",
      "Energy = -0.0955443114908849, S = 1.5890586720825621, norm_err = 4.6e-09\n",
      "Current memory usage 328.1 MB, time elapsed: 119.3 s\n",
      "Delta E = -7.3240e-08, Delta S = 5.8816e-04 (per sweep)\n",
      "max_trunc_err = 2.7403e-11, max_E_trunc = -1.7906e-12\n",
      "MPS bond dimensions: [100, 100, 100, 100, 100, 100, 100, 100]\n",
      "Updating environment\n",
      ".....\n",
      "================================================================================\n",
      "sweep 60, age = 1608\n",
      "Energy = -0.0955446331184930, S = 1.5898500825930548, norm_err = 9.3e-10\n",
      "Current memory usage 328.1 MB, time elapsed: 141.9 s\n",
      "Delta E = -3.2163e-08, Delta S = 7.9141e-05 (per sweep)\n",
      "max_trunc_err = 9.0927e-13, max_E_trunc = 1.7053e-13\n",
      "MPS bond dimensions: [100, 100, 100, 100, 100, 100, 100, 100]\n"
     ]
    }
   ],
   "source": [
    "Jx, Jy, Jz = get_xyz(-0.95, 0.6 - b_step)\n",
    "result = run_atomic(\n",
    "    Jx=Jx,\n",
    "    Jy=Jy,\n",
    "    Jz=Jz,\n",
    "    L=2,\n",
    "    chi=100,\n",
    "    max_S_err=1e-5\n",
    ")\n",
    "psi = result['psi']\n",
    "S = np.mean(psi.entanglement_entropy())\n",
    "S"
   ]
  },
  {
   "cell_type": "code",
   "execution_count": 37,
   "metadata": {},
   "outputs": [
    {
     "data": {
      "text/plain": [
       "1.5823014736494343"
      ]
     },
     "execution_count": 37,
     "metadata": {},
     "output_type": "execute_result"
    }
   ],
   "source": [
    "initial_psi = load_data()"
   ]
  },
  {
   "cell_type": "code",
   "execution_count": 36,
   "metadata": {},
   "outputs": [
    {
     "data": {
      "text/plain": [
       "Text(0, 0.5, '$b$')"
      ]
     },
     "execution_count": 36,
     "metadata": {},
     "output_type": "execute_result"
    },
    {
     "data": {
      "image/png": "[encoded data removed]",
      "text/plain": [
       "<Figure size 432x288 with 2 Axes>"
      ]
     },
     "metadata": {
      "needs_background": "light"
     },
     "output_type": "display_data"
    }
   ],
   "source": [
    "Z[32, 1] = S\n",
    "plt.imshow(Z, extent=[a[0], a[-1], b[0], b[-1]], origin='lower',\n",
    "           cmap='viridis')\n",
    "plt.colorbar()\n",
    "plt.axis(aspect='image')\n",
    "plt.title(r\"$S$\")\n",
    "plt.xlabel(r'$a$')\n",
    "plt.ylabel(r'$b$')"
   ]
  },
  {
   "cell_type": "code",
   "execution_count": null,
   "metadata": {},
   "outputs": [],
   "source": []
  }
 ],
 "metadata": {
  "kernelspec": {
   "display_name": "Python 3",
   "language": "python",
   "name": "python3"
  },
  "language_info": {
   "codemirror_mode": {
    "name": "ipython",
    "version": 3
   },
   "file_extension": ".py",
   "mimetype": "text/x-python",
   "name": "python",
   "nbconvert_exporter": "python",
   "pygments_lexer": "ipython3",
   "version": "3.7.7"
  }
 },
 "nbformat": 4,
 "nbformat_minor": 4
}
