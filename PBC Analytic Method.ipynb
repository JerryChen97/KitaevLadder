{
 "cells": [
  {
   "cell_type": "markdown",
   "metadata": {},
   "source": [
    "# Comparison between efficiencies of two different methods to get the eigenvalues of $M$"
   ]
  },
  {
   "cell_type": "code",
   "execution_count": 17,
   "metadata": {},
   "outputs": [],
   "source": [
    "from Majorana import get_Majorana_spectrum, decompose_skew_schur, H_fermionic_skew"
   ]
  },
  {
   "cell_type": "code",
   "execution_count": 2,
   "metadata": {},
   "outputs": [],
   "source": [
    "import numpy as np\n",
    "import matplotlib.pyplot as plt\n",
    "from time import time"
   ]
  },
  {
   "cell_type": "code",
   "execution_count": 3,
   "metadata": {},
   "outputs": [],
   "source": [
    "Jx = 1.75\n",
    "Jy = 0.25\n",
    "Jz = 1.0\n",
    "N = 20\n",
    "D_list = [1 for i in range(2*N)]\n",
    "bc = 'periodic'\n",
    "SigmaY = 1"
   ]
  },
  {
   "cell_type": "code",
   "execution_count": 4,
   "metadata": {},
   "outputs": [
    {
     "name": "stdout",
     "output_type": "stream",
     "text": [
      "Time elapsed for iM: 0.9910497665405273\n",
      "Time elapsed for M2: 0.5523169040679932\n"
     ]
    }
   ],
   "source": [
    "repeat = 1000\n",
    "\n",
    "for method in ['iM', 'M2']:\n",
    "    begin = time()\n",
    "    \n",
    "    for rep in range(repeat):\n",
    "        get_Majorana_spectrum(Jx, Jy, Jz, N, SigmaY, D_list, bc, method=method)\n",
    "    \n",
    "    end = time()\n",
    "    print(f'Time elapsed for {method}: {end - begin}')"
   ]
  },
  {
   "cell_type": "markdown",
   "metadata": {},
   "source": [
    "So apparently the better one will be `M2`."
   ]
  },
  {
   "cell_type": "markdown",
   "metadata": {},
   "source": [
    "# Different `D`'s energies"
   ]
  },
  {
   "cell_type": "markdown",
   "metadata": {},
   "source": [
    "## $\\Sigma^y = 1$"
   ]
  },
  {
   "cell_type": "code",
   "execution_count": 6,
   "metadata": {
    "scrolled": true
   },
   "outputs": [
    {
     "data": {
      "text/plain": [
       "Text(0, 0.5, 'Energy')"
      ]
     },
     "execution_count": 6,
     "metadata": {},
     "output_type": "execute_result"
    },
    {
     "data": {
      "image/png": "[encoded data removed]",
      "text/plain": [
       "<Figure size 432x288 with 1 Axes>"
      ]
     },
     "metadata": {
      "needs_background": "light"
     },
     "output_type": "display_data"
    }
   ],
   "source": [
    "D_list = [1 for i in range(2*N)]\n",
    "\n",
    "E_list = []\n",
    "\n",
    "for i in range(2*N):\n",
    "    D_list_1 = D_list.copy()\n",
    "    D_list_1[i] *= -1\n",
    "    E = (np.sum(get_Majorana_spectrum(Jx, Jy, Jz, N, SigmaY, D_list_1, bc, method='M2')))\n",
    "    E_list.append(E)\n",
    "    \n",
    "plt.plot(np.arange(1, 2*N+1), E_list, 'o')\n",
    "plt.title(f'Excitation Energy flipping one D, OBC, J=({Jx}, {Jy}, {Jz})')\n",
    "plt.xlabel('Site of Flipped D')\n",
    "plt.ylabel('Energy')"
   ]
  },
  {
   "cell_type": "markdown",
   "metadata": {},
   "source": [
    "## $\\Sigma^y = -1$"
   ]
  },
  {
   "cell_type": "code",
   "execution_count": 9,
   "metadata": {
    "scrolled": true
   },
   "outputs": [
    {
     "data": {
      "text/plain": [
       "Text(0, 0.5, 'Energy')"
      ]
     },
     "execution_count": 9,
     "metadata": {},
     "output_type": "execute_result"
    },
    {
     "data": {
      "image/png": "[encoded data removed]",
      "text/plain": [
       "<Figure size 432x288 with 1 Axes>"
      ]
     },
     "metadata": {
      "needs_background": "light"
     },
     "output_type": "display_data"
    }
   ],
   "source": [
    "SigmaY = -1\n",
    "\n",
    "D_list = [1 for i in range(2*N)]\n",
    "\n",
    "E_list = []\n",
    "\n",
    "for i in range(2*N):\n",
    "    D_list_1 = D_list.copy()\n",
    "    D_list_1[i] *= -1\n",
    "    E = (np.sum(get_Majorana_spectrum(Jx, Jy, Jz, N, SigmaY, D_list_1, bc, method='M2')))\n",
    "    E_list.append(E)\n",
    "    \n",
    "plt.plot(np.arange(1, 2*N+1), E_list, 'o')\n",
    "plt.title(f'Excitation Energy flipping one D, OBC, J=({Jx}, {Jy}, {Jz})')\n",
    "plt.xlabel('Site of Flipped D')\n",
    "plt.ylabel('Energy')"
   ]
  },
  {
   "cell_type": "markdown",
   "metadata": {},
   "source": [
    "## Comparison between different SigmaY"
   ]
  },
  {
   "cell_type": "code",
   "execution_count": 10,
   "metadata": {},
   "outputs": [],
   "source": [
    "SigmaY = 1\n",
    "spec1 = get_Majorana_spectrum(Jx, Jy, Jz, N, SigmaY, D_list_1, bc, method='M2')\n",
    "\n",
    "SigmaY = -1\n",
    "spec2 = get_Majorana_spectrum(Jx, Jy, Jz, N, SigmaY, D_list_1, bc, method='M2')"
   ]
  },
  {
   "cell_type": "code",
   "execution_count": 11,
   "metadata": {},
   "outputs": [
    {
     "data": {
      "text/plain": [
       "array([-2.65401557, -2.50660712, -2.50654654, -2.50517103, -2.50475728,\n",
       "       -2.50324543, -2.50267621, -2.50111917, -2.50046449, -2.49965696,\n",
       "       -2.49320943, -2.48554856, -2.46995488, -2.45801251, -2.42980253,\n",
       "       -2.41397193, -2.36959693, -2.35051157, -2.2870718 , -2.26537401,\n",
       "       -2.18085734, -2.15709468, -2.05047709, -2.02508814, -1.89638259,\n",
       "       -1.86971561, -1.72002639, -1.6923639 , -1.52400735, -1.49558973,\n",
       "       -1.31239805, -1.28344905, -1.0915507 , -1.06231926, -0.87220515,\n",
       "       -0.84308112, -0.67501626, -0.64704783, -0.53990982, -0.51852778])"
      ]
     },
     "execution_count": 11,
     "metadata": {},
     "output_type": "execute_result"
    }
   ],
   "source": [
    "spec1"
   ]
  },
  {
   "cell_type": "code",
   "execution_count": 12,
   "metadata": {},
   "outputs": [
    {
     "data": {
      "text/plain": [
       "array([-2.65401557, -2.50659589, -2.50653229, -2.50523075, -2.50484636,\n",
       "       -2.50314624, -2.50262139, -2.50108892, -2.50040066, -2.49954293,\n",
       "       -2.49415003, -2.48346709, -2.47364139, -2.45220804, -2.43825079,\n",
       "       -2.40236932, -2.38482764, -2.3312307 , -2.31076372, -2.23697669,\n",
       "       -2.21418508, -2.11868211, -2.09405769, -1.97632799, -1.95026117,\n",
       "       -1.81085417, -1.78365729, -1.62426069, -1.5961923 , -1.41982299,\n",
       "       -1.3911115 , -1.20260105, -1.17347534, -0.98073472, -0.95148946,\n",
       "       -0.76888849, -0.74011485, -0.59645497, -0.57035397, -0.50898701])"
      ]
     },
     "execution_count": 12,
     "metadata": {},
     "output_type": "execute_result"
    }
   ],
   "source": [
    "spec2"
   ]
  },
  {
   "cell_type": "code",
   "execution_count": 15,
   "metadata": {},
   "outputs": [
    {
     "data": {
      "image/png": "[encoded data removed]",
      "text/plain": [
       "<Figure size 432x288 with 1 Axes>"
      ]
     },
     "metadata": {
      "needs_background": "light"
     },
     "output_type": "display_data"
    },
    {
     "name": "stdout",
     "output_type": "stream",
     "text": [
      "-76.66442178754338 -76.6644192555351\n"
     ]
    }
   ],
   "source": [
    "plt.plot(spec1, 'o')\n",
    "plt.plot(spec2, 'o')\n",
    "\n",
    "plt.show()\n",
    "\n",
    "print(np.sum(spec1), np.sum(spec2))"
   ]
  },
  {
   "cell_type": "markdown",
   "metadata": {},
   "source": [
    "### The Parity"
   ]
  },
  {
   "cell_type": "code",
   "execution_count": 21,
   "metadata": {
    "scrolled": true
   },
   "outputs": [
    {
     "name": "stdout",
     "output_type": "stream",
     "text": [
      "Parity: 1.0\n",
      "Parity: 1.0\n",
      "Parity: 1.0\n",
      "Parity: 1.0\n",
      "Parity: 1.0\n",
      "Parity: 1.0\n",
      "Parity: 1.0\n",
      "Parity: 1.0\n",
      "Parity: 1.0\n",
      "Parity: 1.0\n",
      "Parity: 1.0\n",
      "Parity: 1.0\n",
      "Parity: 1.0\n",
      "Parity: 1.0\n",
      "Parity: 1.0\n",
      "Parity: 1.0\n",
      "Parity: 1.0\n",
      "Parity: 1.0\n",
      "Parity: 1.0\n",
      "Parity: 1.0\n",
      "Parity: 1.0\n",
      "Parity: 1.0\n",
      "Parity: 1.0\n",
      "Parity: 1.0\n",
      "Parity: 1.0\n",
      "Parity: 1.0\n",
      "Parity: 1.0\n",
      "Parity: 1.0\n",
      "Parity: 1.0\n",
      "Parity: 1.0\n",
      "Parity: 1.0\n",
      "Parity: 1.0\n",
      "Parity: 1.0\n",
      "Parity: 1.0\n",
      "Parity: 1.0\n",
      "Parity: 1.0\n",
      "Parity: 1.0\n",
      "Parity: 1.0\n",
      "Parity: 1.0\n",
      "Parity: 1.0\n"
     ]
    }
   ],
   "source": [
    "SigmaY = -1\n",
    "\n",
    "D_list = [1 for i in range(2*N)]\n",
    "\n",
    "E_list = []\n",
    "\n",
    "for i in range(2*N):\n",
    "    D_list_1 = D_list.copy()\n",
    "    D_list_1[i] *= -1\n",
    "    H_skew = H_fermionic_skew(Jx, Jy, Jz, N, SigmaY, D_list_1, bc)\n",
    "    t, Q = decompose_skew_schur(H_skew)\n",
    "    print(f'Parity: {np.round(np.linalg.det(Q) * np.prod(D_list_1))}')\n",
    "#     E = (np.sum(get_Majorana_spectrum(Jx, Jy, Jz, N, SigmaY, D_list_1, bc, method='M2')))\n",
    "    E_list.append(E)"
   ]
  },
  {
   "cell_type": "code",
   "execution_count": 22,
   "metadata": {
    "scrolled": true
   },
   "outputs": [
    {
     "name": "stdout",
     "output_type": "stream",
     "text": [
      "Parity: -1.0\n",
      "Parity: -1.0\n",
      "Parity: -1.0\n",
      "Parity: -1.0\n",
      "Parity: -1.0\n",
      "Parity: -1.0\n",
      "Parity: -1.0\n",
      "Parity: -1.0\n",
      "Parity: -1.0\n",
      "Parity: -1.0\n",
      "Parity: -1.0\n",
      "Parity: -1.0\n",
      "Parity: -1.0\n",
      "Parity: -1.0\n",
      "Parity: -1.0\n",
      "Parity: -1.0\n",
      "Parity: -1.0\n",
      "Parity: -1.0\n",
      "Parity: -1.0\n",
      "Parity: -1.0\n",
      "Parity: -1.0\n",
      "Parity: -1.0\n",
      "Parity: -1.0\n",
      "Parity: -1.0\n",
      "Parity: -1.0\n",
      "Parity: -1.0\n",
      "Parity: -1.0\n",
      "Parity: -1.0\n",
      "Parity: -1.0\n",
      "Parity: -1.0\n",
      "Parity: -1.0\n",
      "Parity: -1.0\n",
      "Parity: -1.0\n",
      "Parity: -1.0\n",
      "Parity: -1.0\n",
      "Parity: -1.0\n",
      "Parity: -1.0\n",
      "Parity: -1.0\n",
      "Parity: -1.0\n",
      "Parity: -1.0\n"
     ]
    }
   ],
   "source": [
    "SigmaY = 1\n",
    "\n",
    "D_list = [1 for i in range(2*N)]\n",
    "\n",
    "E_list = []\n",
    "\n",
    "for i in range(2*N):\n",
    "    D_list_1 = D_list.copy()\n",
    "    D_list_1[i] *= -1\n",
    "    H_skew = H_fermionic_skew(Jx, Jy, Jz, N, SigmaY, D_list_1, bc)\n",
    "    t, Q = decompose_skew_schur(H_skew)\n",
    "    print(f'Parity: {np.round(np.linalg.det(Q) * np.prod(D_list_1))}')\n",
    "#     E = (np.sum(get_Majorana_spectrum(Jx, Jy, Jz, N, SigmaY, D_list_1, bc, method='M2')))\n",
    "    E_list.append(E)"
   ]
  },
  {
   "cell_type": "markdown",
   "metadata": {},
   "source": [
    "Just as what we expected:\n",
    " - In the PBC Kitaev Ladder, flipping any one of the `D`'s\n",
    " - The change of the value of `SigmaY`, either plus one or minus one, will change the parity directly"
   ]
  },
  {
   "cell_type": "code",
   "execution_count": 8,
   "metadata": {},
   "outputs": [
    {
     "name": "stdout",
     "output_type": "stream",
     "text": [
      "The energy of the ground state: -76.69171675725474\n",
      "The energy of the 1st excited state with 1 vortex: -76.66442178754338\n"
     ]
    }
   ],
   "source": [
    "E_gs = np.sum(get_Majorana_spectrum(Jx, Jy, Jz, N, SigmaY, D_list, bc, method='M2'))\n",
    "print(f'The energy of the ground state: {E_gs}')\n",
    "print(f'The energy of the 1st excited state with 1 vortex: {E_list[0]}')"
   ]
  },
  {
   "cell_type": "markdown",
   "metadata": {},
   "source": [
    "# Two `D`'s flipped"
   ]
  },
  {
   "cell_type": "code",
   "execution_count": 31,
   "metadata": {},
   "outputs": [
    {
     "data": {
      "text/plain": [
       "Text(0, 0.5, 'Energy')"
      ]
     },
     "execution_count": 31,
     "metadata": {},
     "output_type": "execute_result"
    },
    {
     "data": {
      "image/png": "[encoded data removed]",
      "text/plain": [
       "<Figure size 432x288 with 1 Axes>"
      ]
     },
     "metadata": {
      "needs_background": "light"
     },
     "output_type": "display_data"
    }
   ],
   "source": [
    "SigmaY = -1\n",
    "\n",
    "D_list = [1 for i in range(2*N)]\n",
    "    \n",
    "\n",
    "E_list_2 = []\n",
    "\n",
    "for i in range(1, 2*N):\n",
    "    D_list_2 = D_list.copy()\n",
    "    D_list_2[0] *= -1\n",
    "    D_list_2[i] *= -1\n",
    "#     if i == 2*N - 1:\n",
    "#         D_list_2[0] *= -1\n",
    "#     else:\n",
    "#         D_list_2[i+1] *= -1\n",
    "    E = (np.sum(get_Majorana_spectrum(Jx, Jy, Jz, N, SigmaY, D_list_2, bc, method='M2')))\n",
    "    E_list_2.append(E)\n",
    "    \n",
    "plt.plot(np.arange(1, 2*N), E_list_2, 'o')\n",
    "plt.title(f'Excitation Energy flipping two D, OBC, J=({Jx}, {Jy}, {Jz})')\n",
    "plt.xlabel('Site of Flipped D')\n",
    "plt.ylabel('Energy')"
   ]
  },
  {
   "cell_type": "code",
   "execution_count": 26,
   "metadata": {},
   "outputs": [
    {
     "data": {
      "text/plain": [
       "Text(0, 0.5, 'Energy')"
      ]
     },
     "execution_count": 26,
     "metadata": {},
     "output_type": "execute_result"
    },
    {
     "data": {
      "image/png": "[encoded data removed]",
      "text/plain": [
       "<Figure size 432x288 with 1 Axes>"
      ]
     },
     "metadata": {
      "needs_background": "light"
     },
     "output_type": "display_data"
    }
   ],
   "source": [
    "SigmaY = -1\n",
    "\n",
    "D_list = [1 for i in range(2*N)]\n",
    "\n",
    "E_list_3 = []\n",
    "\n",
    "for i in range(2*N - 2):\n",
    "    D_list_3 = D_list.copy()\n",
    "    D_list_3[i] *= -1\n",
    "    \n",
    "    D_list_3[i+2] *= -1\n",
    "    E = (np.sum(get_Majorana_spectrum(Jx, Jy, Jz, N, SigmaY, D_list_3, bc, method='M2')))\n",
    "    E_list_3.append(E)\n",
    "    \n",
    "plt.plot(E_list_3, 'o')\n",
    "plt.title(f'Excitation Energy flipping two D, OBC, J=({Jx}, {Jy}, {Jz})')\n",
    "plt.xlabel('Site of Flipped D')\n",
    "plt.ylabel('Energy')"
   ]
  },
  {
   "cell_type": "code",
   "execution_count": 28,
   "metadata": {},
   "outputs": [
    {
     "name": "stdout",
     "output_type": "stream",
     "text": [
      "-76.64076866476397\n",
      "-76.6386694368138\n"
     ]
    }
   ],
   "source": [
    "print(E_list_2[0])\n",
    "print(E_list_3[0])"
   ]
  }
 ],
 "metadata": {
  "kernelspec": {
   "display_name": "Python 3",
   "language": "python",
   "name": "python3"
  },
  "language_info": {
   "codemirror_mode": {
    "name": "ipython",
    "version": 3
   },
   "file_extension": ".py",
   "mimetype": "text/x-python",
   "name": "python",
   "nbconvert_exporter": "python",
   "pygments_lexer": "ipython3",
   "version": "3.7.7"
  }
 },
 "nbformat": 4,
 "nbformat_minor": 4
}
