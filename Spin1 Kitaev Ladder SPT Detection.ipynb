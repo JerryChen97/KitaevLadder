{
 "cells": [
  {
   "cell_type": "code",
   "execution_count": 14,
   "metadata": {},
   "outputs": [],
   "source": [
    "import numpy as np\n",
    "\n",
    "from kitaev_ladder_snake1 import load_data\n",
    "\n",
    "from utility import linspace\n",
    "\n",
    "\n",
    "from tenpy.networks.site import SpinSite\n",
    "from tenpy.networks.mps import TransferMatrix\n",
    "import tenpy.linalg.np_conserved as npc"
   ]
  },
  {
   "cell_type": "code",
   "execution_count": 9,
   "metadata": {},
   "outputs": [],
   "source": [
    "psi = load_data(chi=64, Jx=0.5, Jy=0.5, Jz=1.0, L=2, prefix='Spin1_full_map_high_precision/')['psi'].copy()\n",
    "\n"
   ]
  },
  {
   "cell_type": "code",
   "execution_count": 20,
   "metadata": {},
   "outputs": [],
   "source": [
    "def detect_SPT_D2(psi):\n",
    "    \n",
    "    op_list = ['Sx', 'Sy']\n",
    "    U_list = []\n",
    "    \n",
    "    for op in op_list:\n",
    "        \n",
    "        \n",
    "        s = SpinSite(S=1, conserve=None)\n",
    "        op = npc.expm(1.j * (np.pi) * s.get_op(op))\n",
    "        \n",
    "        # First of all, save a copy of the input wavefunction psi\n",
    "        psi_copy = psi.copy()\n",
    "        for i in range(psi_copy.L):\n",
    "            psi_copy.apply_local_op(i, op)\n",
    "        \n",
    "        TM = TransferMatrix(psi, psi_copy)\n",
    "        eta, G = TM.eigenvectors(num_ev=1)\n",
    "#         if not np.allclose(eta, 1):\n",
    "#             print(f'eta={eta}')\n",
    "#             raise ValueError('The largest eigenvalue of the transfer matrix is not 1!')\n",
    "        if not np.allclose(np.abs(eta), 1, atol=0.01):\n",
    "            return 0\n",
    "        \n",
    "        U = G[0]\n",
    "        Uop = U.split_legs()\n",
    "        chi=(Uop.shape[0])\n",
    "        Uop *= np.sqrt(chi) # rescale it\n",
    "        U_list.append(Uop)\n",
    "\n",
    "    U1 = U_list[0]\n",
    "    U2 = U_list[1]\n",
    "    U12 = npc.tensordot(U1, U2, axes=([1], [0]))\n",
    "    U21 = npc.tensordot(U2, U1, axes=([1], [0]))\n",
    "    return npc.inner(U12, U21.conj()) / chi"
   ]
  },
  {
   "cell_type": "code",
   "execution_count": 21,
   "metadata": {},
   "outputs": [],
   "source": [
    "def detect_SPT_D2_upper_Z(psi):\n",
    "    \n",
    "#     op_list = ['Sigmax', 'Sigmay']\n",
    "    U_list = []\n",
    "    \n",
    "    op = 'Sz'\n",
    "    s = SpinSite(S=1, conserve=None)\n",
    "    op = npc.expm(1.j * (np.pi) * s.get_op(op))\n",
    "    \n",
    "    \n",
    "    ###### The upper ######\n",
    "    # First of all, save a copy of the input wavefunction psi\n",
    "    psi_copy = psi.copy()\n",
    "    \n",
    "    # Then calculate the specific properties of the wavefunction\n",
    "    N = psi_copy.L // 4 # The number of unicells\n",
    "    for i in range(N):\n",
    "        psi_copy.apply_local_op(2*i, op)\n",
    "        psi_copy.apply_local_op(2*i+3, op)\n",
    "\n",
    "    TM = TransferMatrix(psi, psi_copy)\n",
    "    eta, G = TM.eigenvectors(num_ev=1)\n",
    "#         if not np.allclose(eta, 1):\n",
    "#             print(f'eta={eta}')\n",
    "#             raise ValueError('The largest eigenvalue of the transfer matrix is not 1!')\n",
    "    if not np.allclose(np.abs(eta), 1, atol=0.01):\n",
    "        return 0\n",
    "    \n",
    "    \n",
    "    U = G[0]\n",
    "    Uop = U.split_legs()\n",
    "    chi=(Uop.shape[0])\n",
    "    Uop *= np.sqrt(chi) # rescale it\n",
    "    U_list.append(Uop)\n",
    "\n",
    "    ###### The lower ######\n",
    "    # First of all, save a copy of the input wavefunction psi\n",
    "    psi_copy = psi.copy()\n",
    "    \n",
    "    # Then calculate the specific properties of the wavefunction\n",
    "    N = psi_copy.L // 4 # The number of unicells\n",
    "    for i in range(N): # apply the operators\n",
    "        psi_copy.apply_local_op(2*i+1, op)\n",
    "        psi_copy.apply_local_op(2*i+2, op)\n",
    "\n",
    "    TM = TransferMatrix(psi, psi_copy)\n",
    "    eta, G = TM.eigenvectors(num_ev=1)\n",
    "#         if not np.allclose(eta, 1):\n",
    "#             print(f'eta={eta}')\n",
    "#             raise ValueError('The largest eigenvalue of the transfer matrix is not 1!')\n",
    "    if not np.allclose(np.abs(eta), 1, atol=0.01):\n",
    "        return 0\n",
    "    \n",
    "    \n",
    "    U = G[0]\n",
    "    Uop = U.split_legs()\n",
    "    chi=(Uop.shape[0])\n",
    "    Uop *= np.sqrt(chi) # rescale it\n",
    "    U_list.append(Uop)\n",
    "        \n",
    "    \n",
    "    U1 = U_list[0]\n",
    "    U2 = U_list[1]\n",
    "    U12 = npc.tensordot(U1, U2, axes=([1], [0]))\n",
    "    U21 = npc.tensordot(U2, U1, axes=([1], [0]))\n",
    "    return npc.inner(U12, U21.conj()) / chi"
   ]
  },
  {
   "cell_type": "code",
   "execution_count": 22,
   "metadata": {},
   "outputs": [
    {
     "name": "stderr",
     "output_type": "stream",
     "text": [
      "/home/jerry/anaconda3/lib/python3.7/site-packages/ipykernel_launcher.py:35: FutureWarning: inner(): `axes` currently defaults to 'range', will change to 'labels'\n"
     ]
    },
    {
     "data": {
      "text/plain": [
       "(1.000000156832415+5.639228061588096e-17j)"
      ]
     },
     "execution_count": 22,
     "metadata": {},
     "output_type": "execute_result"
    }
   ],
   "source": [
    "detect_SPT_D2(psi)"
   ]
  },
  {
   "cell_type": "code",
   "execution_count": 24,
   "metadata": {},
   "outputs": [
    {
     "name": "stdout",
     "output_type": "stream",
     "text": [
      "XY =  (1.0000001568324162+4.229421046191072e-17j)\n",
      "ZZ =  (1.0001033940601671+7.04903507698512e-17j)\n"
     ]
    },
    {
     "name": "stderr",
     "output_type": "stream",
     "text": [
      "/home/jerry/anaconda3/lib/python3.7/site-packages/ipykernel_launcher.py:35: FutureWarning: inner(): `axes` currently defaults to 'range', will change to 'labels'\n",
      "/home/jerry/anaconda3/lib/python3.7/site-packages/ipykernel_launcher.py:66: FutureWarning: inner(): `axes` currently defaults to 'range', will change to 'labels'\n"
     ]
    }
   ],
   "source": [
    "psi = load_data(chi=64, Jx=1.5, Jy=0.5, Jz=1.0, L=2, prefix='Spin1_full_map_high_precision/')['psi'].copy()\n",
    "\n",
    "print(\"XY = \", detect_SPT_D2(psi))\n",
    "print(\"ZZ = \", detect_SPT_D2_upper_Z(psi))"
   ]
  },
  {
   "cell_type": "code",
   "execution_count": 27,
   "metadata": {},
   "outputs": [
    {
     "name": "stdout",
     "output_type": "stream",
     "text": [
      "XY =  (0.9999999999999999-1.3877787807814457e-17j)\n",
      "ZZ =  (1.0000000000000018+0j)\n"
     ]
    },
    {
     "name": "stderr",
     "output_type": "stream",
     "text": [
      "/home/jerry/anaconda3/lib/python3.7/site-packages/ipykernel_launcher.py:35: FutureWarning: inner(): `axes` currently defaults to 'range', will change to 'labels'\n",
      "/home/jerry/anaconda3/lib/python3.7/site-packages/ipykernel_launcher.py:66: FutureWarning: inner(): `axes` currently defaults to 'range', will change to 'labels'\n"
     ]
    }
   ],
   "source": [
    "psi = load_data(chi=64, Jx=0.75, Jy=0.75, Jz=1.0, L=2, prefix='Spin1_full_map_high_precision/')['psi'].copy()\n",
    "\n",
    "print(\"XY = \", detect_SPT_D2(psi))\n",
    "print(\"ZZ = \", detect_SPT_D2_upper_Z(psi))"
   ]
  },
  {
   "cell_type": "code",
   "execution_count": 28,
   "metadata": {},
   "outputs": [
    {
     "name": "stdout",
     "output_type": "stream",
     "text": [
      "XY =  0\n",
      "ZZ =  0\n"
     ]
    }
   ],
   "source": [
    "psi = load_data(chi=64, Jx=1.0, Jy=1.0, Jz=1.0, L=2, prefix='Spin1_full_map_high_precision/')['psi'].copy()\n",
    "\n",
    "print(\"XY = \", detect_SPT_D2(psi))\n",
    "print(\"ZZ = \", detect_SPT_D2_upper_Z(psi))"
   ]
  },
  {
   "cell_type": "code",
   "execution_count": 29,
   "metadata": {},
   "outputs": [
    {
     "name": "stdout",
     "output_type": "stream",
     "text": [
      "XY =  (1.0000657885919018-1.644774851296528e-17j)\n",
      "ZZ =  (1.0000657886208022+0j)\n"
     ]
    },
    {
     "name": "stderr",
     "output_type": "stream",
     "text": [
      "/home/jerry/anaconda3/lib/python3.7/site-packages/ipykernel_launcher.py:35: FutureWarning: inner(): `axes` currently defaults to 'range', will change to 'labels'\n",
      "/home/jerry/anaconda3/lib/python3.7/site-packages/ipykernel_launcher.py:66: FutureWarning: inner(): `axes` currently defaults to 'range', will change to 'labels'\n"
     ]
    }
   ],
   "source": [
    "psi = load_data(chi=64, Jx=0.5, Jy=0.5, Jz=1.0, L=2, prefix='Spin1_full_map_high_precision/')['psi'].copy()\n",
    "\n",
    "print(\"XY = \", detect_SPT_D2(psi))\n",
    "print(\"ZZ = \", detect_SPT_D2_upper_Z(psi))"
   ]
  },
  {
   "cell_type": "code",
   "execution_count": 31,
   "metadata": {},
   "outputs": [],
   "source": [
    "n = 100\n",
    "Jx_list = linspace(1.0, 1.99, n)\n",
    "Jy_list = linspace(1.0, 0.01, n)\n",
    "psi_list = [load_data(chi=64, Jx=Jx_list[i], Jy=Jy_list[i], Jz=1.0, L=2, prefix='Spin1_full_map_high_precision/')['psi'].copy() for i in range(n)]"
   ]
  },
  {
   "cell_type": "code",
   "execution_count": 32,
   "metadata": {},
   "outputs": [
    {
     "name": "stderr",
     "output_type": "stream",
     "text": [
      "/home/jerry/anaconda3/lib/python3.7/site-packages/ipykernel_launcher.py:35: FutureWarning: inner(): `axes` currently defaults to 'range', will change to 'labels'\n",
      "/home/jerry/anaconda3/lib/python3.7/site-packages/ipykernel_launcher.py:35: FutureWarning: inner(): `axes` currently defaults to 'range', will change to 'labels'\n",
      "/home/jerry/anaconda3/lib/python3.7/site-packages/ipykernel_launcher.py:35: FutureWarning: inner(): `axes` currently defaults to 'range', will change to 'labels'\n",
      "/home/jerry/anaconda3/lib/python3.7/site-packages/ipykernel_launcher.py:35: FutureWarning: inner(): `axes` currently defaults to 'range', will change to 'labels'\n",
      "/home/jerry/anaconda3/lib/python3.7/site-packages/ipykernel_launcher.py:35: FutureWarning: inner(): `axes` currently defaults to 'range', will change to 'labels'\n",
      "/home/jerry/anaconda3/lib/python3.7/site-packages/ipykernel_launcher.py:35: FutureWarning: inner(): `axes` currently defaults to 'range', will change to 'labels'\n",
      "/home/jerry/anaconda3/lib/python3.7/site-packages/ipykernel_launcher.py:35: FutureWarning: inner(): `axes` currently defaults to 'range', will change to 'labels'\n",
      "/home/jerry/anaconda3/lib/python3.7/site-packages/ipykernel_launcher.py:35: FutureWarning: inner(): `axes` currently defaults to 'range', will change to 'labels'\n",
      "/home/jerry/anaconda3/lib/python3.7/site-packages/ipykernel_launcher.py:35: FutureWarning: inner(): `axes` currently defaults to 'range', will change to 'labels'\n",
      "/home/jerry/anaconda3/lib/python3.7/site-packages/ipykernel_launcher.py:35: FutureWarning: inner(): `axes` currently defaults to 'range', will change to 'labels'\n",
      "/home/jerry/anaconda3/lib/python3.7/site-packages/ipykernel_launcher.py:35: FutureWarning: inner(): `axes` currently defaults to 'range', will change to 'labels'\n",
      "/home/jerry/anaconda3/lib/python3.7/site-packages/ipykernel_launcher.py:35: FutureWarning: inner(): `axes` currently defaults to 'range', will change to 'labels'\n",
      "/home/jerry/anaconda3/lib/python3.7/site-packages/ipykernel_launcher.py:35: FutureWarning: inner(): `axes` currently defaults to 'range', will change to 'labels'\n",
      "/home/jerry/anaconda3/lib/python3.7/site-packages/ipykernel_launcher.py:35: FutureWarning: inner(): `axes` currently defaults to 'range', will change to 'labels'\n",
      "/home/jerry/anaconda3/lib/python3.7/site-packages/ipykernel_launcher.py:35: FutureWarning: inner(): `axes` currently defaults to 'range', will change to 'labels'\n",
      "/home/jerry/anaconda3/lib/python3.7/site-packages/ipykernel_launcher.py:35: FutureWarning: inner(): `axes` currently defaults to 'range', will change to 'labels'\n",
      "/home/jerry/anaconda3/lib/python3.7/site-packages/ipykernel_launcher.py:35: FutureWarning: inner(): `axes` currently defaults to 'range', will change to 'labels'\n",
      "/home/jerry/anaconda3/lib/python3.7/site-packages/ipykernel_launcher.py:35: FutureWarning: inner(): `axes` currently defaults to 'range', will change to 'labels'\n",
      "/home/jerry/anaconda3/lib/python3.7/site-packages/ipykernel_launcher.py:35: FutureWarning: inner(): `axes` currently defaults to 'range', will change to 'labels'\n",
      "/home/jerry/anaconda3/lib/python3.7/site-packages/ipykernel_launcher.py:35: FutureWarning: inner(): `axes` currently defaults to 'range', will change to 'labels'\n",
      "/home/jerry/anaconda3/lib/python3.7/site-packages/ipykernel_launcher.py:35: FutureWarning: inner(): `axes` currently defaults to 'range', will change to 'labels'\n",
      "/home/jerry/anaconda3/lib/python3.7/site-packages/ipykernel_launcher.py:35: FutureWarning: inner(): `axes` currently defaults to 'range', will change to 'labels'\n",
      "/home/jerry/anaconda3/lib/python3.7/site-packages/ipykernel_launcher.py:35: FutureWarning: inner(): `axes` currently defaults to 'range', will change to 'labels'\n",
      "/home/jerry/anaconda3/lib/python3.7/site-packages/ipykernel_launcher.py:35: FutureWarning: inner(): `axes` currently defaults to 'range', will change to 'labels'\n",
      "/home/jerry/anaconda3/lib/python3.7/site-packages/ipykernel_launcher.py:35: FutureWarning: inner(): `axes` currently defaults to 'range', will change to 'labels'\n",
      "/home/jerry/anaconda3/lib/python3.7/site-packages/ipykernel_launcher.py:35: FutureWarning: inner(): `axes` currently defaults to 'range', will change to 'labels'\n",
      "/home/jerry/anaconda3/lib/python3.7/site-packages/ipykernel_launcher.py:35: FutureWarning: inner(): `axes` currently defaults to 'range', will change to 'labels'\n",
      "/home/jerry/anaconda3/lib/python3.7/site-packages/ipykernel_launcher.py:35: FutureWarning: inner(): `axes` currently defaults to 'range', will change to 'labels'\n",
      "/home/jerry/anaconda3/lib/python3.7/site-packages/ipykernel_launcher.py:35: FutureWarning: inner(): `axes` currently defaults to 'range', will change to 'labels'\n",
      "/home/jerry/anaconda3/lib/python3.7/site-packages/ipykernel_launcher.py:35: FutureWarning: inner(): `axes` currently defaults to 'range', will change to 'labels'\n",
      "/home/jerry/anaconda3/lib/python3.7/site-packages/ipykernel_launcher.py:35: FutureWarning: inner(): `axes` currently defaults to 'range', will change to 'labels'\n",
      "/home/jerry/anaconda3/lib/python3.7/site-packages/ipykernel_launcher.py:35: FutureWarning: inner(): `axes` currently defaults to 'range', will change to 'labels'\n",
      "/home/jerry/anaconda3/lib/python3.7/site-packages/ipykernel_launcher.py:35: FutureWarning: inner(): `axes` currently defaults to 'range', will change to 'labels'\n",
      "/home/jerry/anaconda3/lib/python3.7/site-packages/ipykernel_launcher.py:35: FutureWarning: inner(): `axes` currently defaults to 'range', will change to 'labels'\n",
      "/home/jerry/anaconda3/lib/python3.7/site-packages/ipykernel_launcher.py:35: FutureWarning: inner(): `axes` currently defaults to 'range', will change to 'labels'\n",
      "/home/jerry/anaconda3/lib/python3.7/site-packages/ipykernel_launcher.py:35: FutureWarning: inner(): `axes` currently defaults to 'range', will change to 'labels'\n",
      "/home/jerry/anaconda3/lib/python3.7/site-packages/ipykernel_launcher.py:35: FutureWarning: inner(): `axes` currently defaults to 'range', will change to 'labels'\n",
      "/home/jerry/anaconda3/lib/python3.7/site-packages/ipykernel_launcher.py:35: FutureWarning: inner(): `axes` currently defaults to 'range', will change to 'labels'\n",
      "/home/jerry/anaconda3/lib/python3.7/site-packages/ipykernel_launcher.py:35: FutureWarning: inner(): `axes` currently defaults to 'range', will change to 'labels'\n",
      "/home/jerry/anaconda3/lib/python3.7/site-packages/ipykernel_launcher.py:35: FutureWarning: inner(): `axes` currently defaults to 'range', will change to 'labels'\n",
      "/home/jerry/anaconda3/lib/python3.7/site-packages/ipykernel_launcher.py:35: FutureWarning: inner(): `axes` currently defaults to 'range', will change to 'labels'\n",
      "/home/jerry/anaconda3/lib/python3.7/site-packages/ipykernel_launcher.py:35: FutureWarning: inner(): `axes` currently defaults to 'range', will change to 'labels'\n",
      "/home/jerry/anaconda3/lib/python3.7/site-packages/ipykernel_launcher.py:35: FutureWarning: inner(): `axes` currently defaults to 'range', will change to 'labels'\n",
      "/home/jerry/anaconda3/lib/python3.7/site-packages/ipykernel_launcher.py:35: FutureWarning: inner(): `axes` currently defaults to 'range', will change to 'labels'\n",
      "/home/jerry/anaconda3/lib/python3.7/site-packages/ipykernel_launcher.py:35: FutureWarning: inner(): `axes` currently defaults to 'range', will change to 'labels'\n",
      "/home/jerry/anaconda3/lib/python3.7/site-packages/ipykernel_launcher.py:35: FutureWarning: inner(): `axes` currently defaults to 'range', will change to 'labels'\n",
      "/home/jerry/anaconda3/lib/python3.7/site-packages/ipykernel_launcher.py:35: FutureWarning: inner(): `axes` currently defaults to 'range', will change to 'labels'\n",
      "/home/jerry/anaconda3/lib/python3.7/site-packages/ipykernel_launcher.py:35: FutureWarning: inner(): `axes` currently defaults to 'range', will change to 'labels'\n",
      "/home/jerry/anaconda3/lib/python3.7/site-packages/ipykernel_launcher.py:35: FutureWarning: inner(): `axes` currently defaults to 'range', will change to 'labels'\n",
      "/home/jerry/anaconda3/lib/python3.7/site-packages/ipykernel_launcher.py:35: FutureWarning: inner(): `axes` currently defaults to 'range', will change to 'labels'\n",
      "/home/jerry/anaconda3/lib/python3.7/site-packages/ipykernel_launcher.py:35: FutureWarning: inner(): `axes` currently defaults to 'range', will change to 'labels'\n",
      "/home/jerry/anaconda3/lib/python3.7/site-packages/ipykernel_launcher.py:35: FutureWarning: inner(): `axes` currently defaults to 'range', will change to 'labels'\n"
     ]
    },
    {
     "name": "stderr",
     "output_type": "stream",
     "text": [
      "/home/jerry/anaconda3/lib/python3.7/site-packages/ipykernel_launcher.py:35: FutureWarning: inner(): `axes` currently defaults to 'range', will change to 'labels'\n",
      "/home/jerry/anaconda3/lib/python3.7/site-packages/ipykernel_launcher.py:35: FutureWarning: inner(): `axes` currently defaults to 'range', will change to 'labels'\n",
      "/home/jerry/anaconda3/lib/python3.7/site-packages/ipykernel_launcher.py:35: FutureWarning: inner(): `axes` currently defaults to 'range', will change to 'labels'\n",
      "/home/jerry/anaconda3/lib/python3.7/site-packages/ipykernel_launcher.py:35: FutureWarning: inner(): `axes` currently defaults to 'range', will change to 'labels'\n",
      "/home/jerry/anaconda3/lib/python3.7/site-packages/ipykernel_launcher.py:35: FutureWarning: inner(): `axes` currently defaults to 'range', will change to 'labels'\n",
      "/home/jerry/anaconda3/lib/python3.7/site-packages/ipykernel_launcher.py:35: FutureWarning: inner(): `axes` currently defaults to 'range', will change to 'labels'\n",
      "/home/jerry/anaconda3/lib/python3.7/site-packages/ipykernel_launcher.py:35: FutureWarning: inner(): `axes` currently defaults to 'range', will change to 'labels'\n",
      "/home/jerry/anaconda3/lib/python3.7/site-packages/ipykernel_launcher.py:35: FutureWarning: inner(): `axes` currently defaults to 'range', will change to 'labels'\n",
      "/home/jerry/anaconda3/lib/python3.7/site-packages/ipykernel_launcher.py:35: FutureWarning: inner(): `axes` currently defaults to 'range', will change to 'labels'\n",
      "/home/jerry/anaconda3/lib/python3.7/site-packages/ipykernel_launcher.py:35: FutureWarning: inner(): `axes` currently defaults to 'range', will change to 'labels'\n",
      "/home/jerry/anaconda3/lib/python3.7/site-packages/ipykernel_launcher.py:35: FutureWarning: inner(): `axes` currently defaults to 'range', will change to 'labels'\n",
      "/home/jerry/anaconda3/lib/python3.7/site-packages/ipykernel_launcher.py:35: FutureWarning: inner(): `axes` currently defaults to 'range', will change to 'labels'\n",
      "/home/jerry/anaconda3/lib/python3.7/site-packages/ipykernel_launcher.py:35: FutureWarning: inner(): `axes` currently defaults to 'range', will change to 'labels'\n",
      "/home/jerry/anaconda3/lib/python3.7/site-packages/ipykernel_launcher.py:35: FutureWarning: inner(): `axes` currently defaults to 'range', will change to 'labels'\n",
      "/home/jerry/anaconda3/lib/python3.7/site-packages/ipykernel_launcher.py:35: FutureWarning: inner(): `axes` currently defaults to 'range', will change to 'labels'\n",
      "/home/jerry/anaconda3/lib/python3.7/site-packages/ipykernel_launcher.py:35: FutureWarning: inner(): `axes` currently defaults to 'range', will change to 'labels'\n",
      "/home/jerry/anaconda3/lib/python3.7/site-packages/ipykernel_launcher.py:35: FutureWarning: inner(): `axes` currently defaults to 'range', will change to 'labels'\n",
      "/home/jerry/anaconda3/lib/python3.7/site-packages/ipykernel_launcher.py:35: FutureWarning: inner(): `axes` currently defaults to 'range', will change to 'labels'\n",
      "/home/jerry/anaconda3/lib/python3.7/site-packages/ipykernel_launcher.py:35: FutureWarning: inner(): `axes` currently defaults to 'range', will change to 'labels'\n",
      "/home/jerry/anaconda3/lib/python3.7/site-packages/ipykernel_launcher.py:35: FutureWarning: inner(): `axes` currently defaults to 'range', will change to 'labels'\n",
      "/home/jerry/anaconda3/lib/python3.7/site-packages/ipykernel_launcher.py:35: FutureWarning: inner(): `axes` currently defaults to 'range', will change to 'labels'\n",
      "/home/jerry/anaconda3/lib/python3.7/site-packages/ipykernel_launcher.py:35: FutureWarning: inner(): `axes` currently defaults to 'range', will change to 'labels'\n",
      "/home/jerry/anaconda3/lib/python3.7/site-packages/ipykernel_launcher.py:35: FutureWarning: inner(): `axes` currently defaults to 'range', will change to 'labels'\n",
      "/home/jerry/anaconda3/lib/python3.7/site-packages/ipykernel_launcher.py:35: FutureWarning: inner(): `axes` currently defaults to 'range', will change to 'labels'\n",
      "/home/jerry/anaconda3/lib/python3.7/site-packages/ipykernel_launcher.py:35: FutureWarning: inner(): `axes` currently defaults to 'range', will change to 'labels'\n",
      "/home/jerry/anaconda3/lib/python3.7/site-packages/ipykernel_launcher.py:35: FutureWarning: inner(): `axes` currently defaults to 'range', will change to 'labels'\n",
      "/home/jerry/anaconda3/lib/python3.7/site-packages/ipykernel_launcher.py:35: FutureWarning: inner(): `axes` currently defaults to 'range', will change to 'labels'\n",
      "/home/jerry/anaconda3/lib/python3.7/site-packages/ipykernel_launcher.py:35: FutureWarning: inner(): `axes` currently defaults to 'range', will change to 'labels'\n",
      "/home/jerry/anaconda3/lib/python3.7/site-packages/ipykernel_launcher.py:35: FutureWarning: inner(): `axes` currently defaults to 'range', will change to 'labels'\n",
      "/home/jerry/anaconda3/lib/python3.7/site-packages/ipykernel_launcher.py:35: FutureWarning: inner(): `axes` currently defaults to 'range', will change to 'labels'\n",
      "/home/jerry/anaconda3/lib/python3.7/site-packages/ipykernel_launcher.py:35: FutureWarning: inner(): `axes` currently defaults to 'range', will change to 'labels'\n",
      "/home/jerry/anaconda3/lib/python3.7/site-packages/ipykernel_launcher.py:35: FutureWarning: inner(): `axes` currently defaults to 'range', will change to 'labels'\n",
      "/home/jerry/anaconda3/lib/python3.7/site-packages/ipykernel_launcher.py:35: FutureWarning: inner(): `axes` currently defaults to 'range', will change to 'labels'\n"
     ]
    }
   ],
   "source": [
    "XY_list = [detect_SPT_D2(psi) for psi in psi_list]"
   ]
  },
  {
   "cell_type": "code",
   "execution_count": 33,
   "metadata": {},
   "outputs": [],
   "source": [
    "import matplotlib.pyplot as plt"
   ]
  },
  {
   "cell_type": "code",
   "execution_count": 34,
   "metadata": {},
   "outputs": [
    {
     "name": "stderr",
     "output_type": "stream",
     "text": [
      "/home/jerry/anaconda3/lib/python3.7/site-packages/numpy/core/_asarray.py:83: ComplexWarning: Casting complex values to real discards the imaginary part\n",
      "  return array(a, dtype, copy=False, order=order)\n"
     ]
    },
    {
     "data": {
      "text/plain": [
       "[<matplotlib.lines.Line2D at 0x7fd084278810>]"
      ]
     },
     "execution_count": 34,
     "metadata": {},
     "output_type": "execute_result"
    },
    {
     "data": {
      "image/png": "[encoded data removed]",
      "text/plain": [
       "<Figure size 432x288 with 1 Axes>"
      ]
     },
     "metadata": {
      "needs_background": "light"
     },
     "output_type": "display_data"
    }
   ],
   "source": [
    "plt.plot(Jx_list, XY_list)"
   ]
  },
  {
   "cell_type": "code",
   "execution_count": null,
   "metadata": {},
   "outputs": [],
   "source": []
  }
 ],
 "metadata": {
  "kernelspec": {
   "display_name": "Python 3",
   "language": "python",
   "name": "python3"
  },
  "language_info": {
   "codemirror_mode": {
    "name": "ipython",
    "version": 3
   },
   "file_extension": ".py",
   "mimetype": "text/x-python",
   "name": "python",
   "nbconvert_exporter": "python",
   "pygments_lexer": "ipython3",
   "version": "3.7.7"
  }
 },
 "nbformat": 4,
 "nbformat_minor": 4
}
