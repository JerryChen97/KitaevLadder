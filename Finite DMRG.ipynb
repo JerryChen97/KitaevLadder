{
 "cells": [
  {
   "cell_type": "markdown",
   "metadata": {},
   "source": [
    "# Applying Finite DMRG to Kitaev Ladder Model\n",
    "\n",
    "In this notebook, we will begin our trial of finite DMRG on Kitaev ladders.\n",
    "\n",
    "Firstly, we will carry a demo copied from the official examples, and checked the following conclusion using Ising model:\n",
    "\n",
    " - the typical distribution of entanglement over unit cells of a gapped state\n",
    " - the typical distribution of entanglement over unit cells of a gapless state\n",
    " \n",
    "Secondly, we will carry the finite DMRG over a confirmed gapless state of Kitaev ladder, the double Kitaev string `J = (1, 1, 0)`, and a confirmed gapped state, `(a, b) = (.75, .5)`;\n",
    " \n"
   ]
  },
  {
   "cell_type": "markdown",
   "metadata": {},
   "source": [
    "## The demo usage of finite DMRG in TeNPy"
   ]
  },
  {
   "cell_type": "code",
   "execution_count": 26,
   "metadata": {},
   "outputs": [],
   "source": [
    "import numpy as np\n",
    "import scipy.sparse as sparse\n",
    "import scipy.sparse.linalg.eigen.arpack as arp\n",
    "import warnings\n",
    "import scipy.integrate\n",
    "\n",
    "from matplotlib.pyplot import *\n",
    "from scipy.optimize import curve_fit, leastsq"
   ]
  },
  {
   "cell_type": "code",
   "execution_count": 2,
   "metadata": {},
   "outputs": [],
   "source": [
    "from tenpy.networks.mps import MPS\n",
    "from tenpy.models.tf_ising import TFIChain\n",
    "from tenpy.models.spins import SpinModel\n",
    "from tenpy.algorithms import dmrg"
   ]
  },
  {
   "cell_type": "code",
   "execution_count": 50,
   "metadata": {},
   "outputs": [
    {
     "ename": "ImportError",
     "evalue": "cannot import name 'load_data' from 'kitaev_ladder' (/home/jerry/Downloads/KitaevLadder/kitaev_ladder.py)",
     "output_type": "error",
     "traceback": [
      "\u001b[0;31m---------------------------------------------------------------------------\u001b[0m",
      "\u001b[0;31mImportError\u001b[0m                               Traceback (most recent call last)",
      "\u001b[0;32m<ipython-input-50-680a3ac5c82f>\u001b[0m in \u001b[0;36m<module>\u001b[0;34m\u001b[0m\n\u001b[1;32m      1\u001b[0m \u001b[0;32mfrom\u001b[0m \u001b[0mnumpy\u001b[0m \u001b[0;32mimport\u001b[0m \u001b[0mpi\u001b[0m\u001b[0;34m\u001b[0m\u001b[0;34m\u001b[0m\u001b[0m\n\u001b[0;32m----> 2\u001b[0;31m \u001b[0;32mfrom\u001b[0m \u001b[0mkitaev_ladder\u001b[0m \u001b[0;32mimport\u001b[0m \u001b[0mKitaevLadderModel\u001b[0m\u001b[0;34m,\u001b[0m \u001b[0mload_data\u001b[0m\u001b[0;34m,\u001b[0m \u001b[0mrun_atomic\u001b[0m\u001b[0;34m,\u001b[0m \u001b[0msave_after_run\u001b[0m\u001b[0;34m\u001b[0m\u001b[0;34m\u001b[0m\u001b[0m\n\u001b[0m\u001b[1;32m      3\u001b[0m \u001b[0;32mfrom\u001b[0m \u001b[0mrotation\u001b[0m \u001b[0;32mimport\u001b[0m \u001b[0mget_xyz\u001b[0m\u001b[0;34m,\u001b[0m \u001b[0mdecimals\u001b[0m\u001b[0;34m\u001b[0m\u001b[0;34m\u001b[0m\u001b[0m\n\u001b[1;32m      4\u001b[0m \u001b[0;31m# path toolkits\u001b[0m\u001b[0;34m\u001b[0m\u001b[0;34m\u001b[0m\u001b[0;34m\u001b[0m\u001b[0m\n\u001b[1;32m      5\u001b[0m \u001b[0;32mfrom\u001b[0m \u001b[0mpathlib\u001b[0m \u001b[0;32mimport\u001b[0m \u001b[0mPath\u001b[0m\u001b[0;34m\u001b[0m\u001b[0;34m\u001b[0m\u001b[0m\n",
      "\u001b[0;31mImportError\u001b[0m: cannot import name 'load_data' from 'kitaev_ladder' (/home/jerry/Downloads/KitaevLadder/kitaev_ladder.py)"
     ]
    }
   ],
   "source": [
    "from numpy import pi\n",
    "from kitaev_ladder import KitaevLadderModel, load_data, run_atomic, save_after_run\n",
    "from rotation import get_xyz, decimals\n",
    "# path toolkits\n",
    "from pathlib import Path"
   ]
  },
  {
   "cell_type": "code",
   "execution_count": 3,
   "metadata": {},
   "outputs": [],
   "source": [
    "def finite_gs_energy(L, J, g):\n",
    "    \"\"\"For comparison: obtain ground state energy from exact diagonalization.\n",
    "    Exponentially expensive in L, only works for small enough `L` <~ 20.\n",
    "    \"\"\"\n",
    "    if L >= 20:\n",
    "        warnings.warn(\"Large L: Exact diagonalization might take a long time!\")\n",
    "    # get single site operaors\n",
    "    sx = sparse.csr_matrix(np.array([[0., 1.], [1., 0.]]))\n",
    "    sz = sparse.csr_matrix(np.array([[1., 0.], [0., -1.]]))\n",
    "    id = sparse.csr_matrix(np.eye(2))\n",
    "    sx_list = []  # sx_list[i] = kron([id, id, ..., id, sx, id, .... id])\n",
    "    sz_list = []\n",
    "    for i_site in range(L):\n",
    "        x_ops = [id] * L\n",
    "        z_ops = [id] * L\n",
    "        x_ops[i_site] = sx\n",
    "        z_ops[i_site] = sz\n",
    "        X = x_ops[0]\n",
    "        Z = z_ops[0]\n",
    "        for j in range(1, L):\n",
    "            X = sparse.kron(X, x_ops[j], 'csr')\n",
    "            Z = sparse.kron(Z, z_ops[j], 'csr')\n",
    "        sx_list.append(X)\n",
    "        sz_list.append(Z)\n",
    "    H_xx = sparse.csr_matrix((2**L, 2**L))\n",
    "    H_z = sparse.csr_matrix((2**L, 2**L))\n",
    "    for i in range(L - 1):\n",
    "        H_xx = H_xx + sx_list[i] * sx_list[(i + 1) % L]\n",
    "    for i in range(L):\n",
    "        H_z = H_z + sz_list[i]\n",
    "    H = -J * H_xx - g * H_z\n",
    "    E, V = arp.eigsh(H, k=1, which='SA', return_eigenvectors=True, ncv=20)\n",
    "    return E[0]\n"
   ]
  },
  {
   "cell_type": "code",
   "execution_count": 4,
   "metadata": {},
   "outputs": [],
   "source": [
    "def example_DMRG_tf_ising_finite(L, g, verbose=True):\n",
    "    print(\"finite DMRG, transverse field Ising model\")\n",
    "    print(\"L={L:d}, g={g:.2f}\".format(L=L, g=g))\n",
    "    model_params = dict(L=L, J=1., g=g, bc_MPS='finite', conserve=None, verbose=verbose)\n",
    "    M = TFIChain(model_params)\n",
    "    product_state = [\"up\"] * M.lat.N_sites\n",
    "    psi = MPS.from_product_state(M.lat.mps_sites(), product_state, bc=M.lat.bc_MPS)\n",
    "    dmrg_params = {\n",
    "        'mixer': None,  # setting this to True helps to escape local minima\n",
    "        'max_E_err': 1.e-10,\n",
    "        'trunc_params': {\n",
    "            'chi_max': 30,\n",
    "            'svd_min': 1.e-10\n",
    "        },\n",
    "        'verbose': verbose,\n",
    "        'combine': True\n",
    "    }\n",
    "    info = dmrg.run(psi, M, dmrg_params)  # the main work...\n",
    "    E = info['E']\n",
    "    print(\"E = {E:.13f}\".format(E=E))\n",
    "    print(\"final bond dimensions: \", psi.chi)\n",
    "    mag_x = np.sum(psi.expectation_value(\"Sigmax\"))\n",
    "    mag_z = np.sum(psi.expectation_value(\"Sigmaz\"))\n",
    "    print(\"magnetization in X = {mag_x:.5f}\".format(mag_x=mag_x))\n",
    "    print(\"magnetization in Z = {mag_z:.5f}\".format(mag_z=mag_z))\n",
    "    if L < 20:  # compare to exact result\n",
    "#         from tfi_exact import finite_gs_energy\n",
    "        E_exact = finite_gs_energy(L, 1., g)\n",
    "        print(\"Exact diagonalization: E = {E:.13f}\".format(E=E_exact))\n",
    "        print(\"relative error: \", abs((E - E_exact) / E_exact))\n",
    "    return E, psi, M"
   ]
  },
  {
   "cell_type": "code",
   "execution_count": null,
   "metadata": {},
   "outputs": [],
   "source": []
  },
  {
   "cell_type": "markdown",
   "metadata": {},
   "source": [
    "## The gapless Ising"
   ]
  },
  {
   "cell_type": "code",
   "execution_count": 5,
   "metadata": {},
   "outputs": [
    {
     "name": "stdout",
     "output_type": "stream",
     "text": [
      "finite DMRG, transverse field Ising model\n",
      "L=10, g=1.00\n",
      "Reading 'bc_MPS'='finite' for config TFIChain\n",
      "Reading 'conserve'=None for config TFIChain\n",
      "Reading 'L'=10 for config TFIChain\n",
      "Reading 'J'=1.0 for config TFIChain\n",
      "Reading 'g'=1.0 for config TFIChain\n",
      "Reading 'combine'=True for config DMRG\n",
      "Subconfig 'trunc_params'=Config(<3 options>, 'trunc_params') for config DMRG\n",
      "Reading 'max_E_err'=1e-10 for config DMRG\n",
      "Reading 'mixer'=None for config DMRG\n",
      "================================================================================\n",
      "sweep 10, age = 10\n",
      "Energy = -12.3814899996547751, S = 0.3370841145840079, norm_err = 6.4e-15\n",
      "Current memory usage 105.2 MB, time elapsed: 1.0 s\n",
      "Delta E = nan, Delta S = nan (per sweep)\n",
      "max_trunc_err = 9.8706e-21, max_E_trunc = 1.4211e-14\n",
      "MPS bond dimensions: [2, 4, 8, 14, 19, 14, 8, 4, 2]\n",
      "================================================================================\n",
      "sweep 20, age = 10\n",
      "Energy = -12.3814899996547663, S = 0.3370841145840076, norm_err = 9.5e-15\n",
      "Current memory usage 105.2 MB, time elapsed: 2.0 s\n",
      "Delta E = 8.8818e-16, Delta S = -3.3307e-17 (per sweep)\n",
      "max_trunc_err = 9.8706e-21, max_E_trunc = 5.3291e-15\n",
      "MPS bond dimensions: [2, 4, 8, 14, 19, 14, 8, 4, 2]\n",
      "================================================================================\n",
      "DMRG finished after 20 sweeps.\n",
      "total size = 10, maximum chi = 19\n",
      "================================================================================\n",
      "E = -12.3814899996548\n",
      "final bond dimensions:  [2, 4, 8, 14, 19, 14, 8, 4, 2]\n",
      "magnetization in X = -0.00000\n",
      "magnetization in Z = 7.32255\n",
      "Exact diagonalization: E = -12.3814899996548\n",
      "relative error:  1.4346874563964276e-16\n"
     ]
    }
   ],
   "source": [
    "E, psi, M = example_DMRG_tf_ising_finite(L=10, g=1., verbose=True)"
   ]
  },
  {
   "cell_type": "code",
   "execution_count": 6,
   "metadata": {},
   "outputs": [],
   "source": [
    "entanglement_entropy = psi.entanglement_entropy()\n",
    "entanglement_spectrum = psi.entanglement_spectrum()"
   ]
  },
  {
   "cell_type": "code",
   "execution_count": 7,
   "metadata": {},
   "outputs": [
    {
     "data": {
      "text/plain": [
       "array([0.26485952, 0.32877245, 0.35930702, 0.37441333, 0.37905241,\n",
       "       0.37441333, 0.35930702, 0.32877245, 0.26485952])"
      ]
     },
     "execution_count": 7,
     "metadata": {},
     "output_type": "execute_result"
    }
   ],
   "source": [
    "entanglement_entropy"
   ]
  },
  {
   "cell_type": "code",
   "execution_count": 8,
   "metadata": {},
   "outputs": [
    {
     "data": {
      "text/plain": [
       "[array([0.07730669, 2.59837909]),\n",
       " array([ 0.10648949,  2.29439336,  8.659313  , 10.84721688]),\n",
       " array([ 0.1217556 ,  2.17009021,  7.78873602,  9.83707063, 15.82878799,\n",
       "        17.8771226 , 23.49576841, 25.54410302]),\n",
       " array([ 0.12957971,  2.11313206,  7.42800359,  9.41155593, 14.72907782,\n",
       "        16.71263016, 22.02750169, 24.01105404, 24.29541742, 26.27896976,\n",
       "        31.5938418 , 33.57739581, 38.89494311, 40.87936836]),\n",
       " array([ 0.1320149 ,  2.09622416,  7.32434428,  9.28855354, 14.4364347 ,\n",
       "        16.40064396, 21.62876408, 23.54650688, 23.59297335, 25.51071614,\n",
       "        30.73883633, 32.70304675, 35.46322309, 37.42743313, 37.85093981,\n",
       "        39.81532374, 42.65595721, 44.62018793, 45.03992791]),\n",
       " array([ 0.12957971,  2.11313206,  7.42800359,  9.41155593, 14.72907782,\n",
       "        16.71263016, 22.02750169, 24.01105404, 24.29541742, 26.27896976,\n",
       "        31.59384183, 33.57739584, 38.89494387, 40.87936845]),\n",
       " array([ 0.1217556 ,  2.17009021,  7.78873602,  9.83707063, 15.82878799,\n",
       "        17.8771226 , 23.49576841, 25.54410302]),\n",
       " array([ 0.10648949,  2.29439336,  8.659313  , 10.84721688]),\n",
       " array([0.07730669, 2.59837909])]"
      ]
     },
     "execution_count": 8,
     "metadata": {},
     "output_type": "execute_result"
    }
   ],
   "source": [
    "entanglement_spectrum"
   ]
  },
  {
   "cell_type": "code",
   "execution_count": 11,
   "metadata": {},
   "outputs": [
    {
     "data": {
      "text/plain": [
       "[<matplotlib.lines.Line2D at 0x7f22ec9f02d0>]"
      ]
     },
     "execution_count": 11,
     "metadata": {},
     "output_type": "execute_result"
    },
    {
     "data": {
      "image/png": "[encoded data removed]",
      "text/plain": [
       "<Figure size 432x288 with 1 Axes>"
      ]
     },
     "metadata": {
      "needs_background": "light"
     },
     "output_type": "display_data"
    }
   ],
   "source": [
    "plot(entanglement_entropy)"
   ]
  },
  {
   "cell_type": "code",
   "execution_count": 45,
   "metadata": {},
   "outputs": [
    {
     "name": "stdout",
     "output_type": "stream",
     "text": [
      "finite DMRG, transverse field Ising model\n",
      "L=100, g=1.00\n",
      "Reading 'bc_MPS'='finite' for config TFIChain\n",
      "Reading 'conserve'=None for config TFIChain\n",
      "Reading 'L'=100 for config TFIChain\n",
      "Reading 'J'=1.0 for config TFIChain\n",
      "Reading 'g'=1.0 for config TFIChain\n",
      "Reading 'combine'=True for config DMRG\n",
      "Subconfig 'trunc_params'=Config(<3 options>, 'trunc_params') for config DMRG\n",
      "Reading 'max_E_err'=1e-10 for config DMRG\n",
      "Reading 'mixer'=None for config DMRG\n",
      "================================================================================\n",
      "sweep 10, age = 100\n",
      "Energy = -126.9618767395063657, S = 0.5277993943516751, norm_err = 9.6e-10\n",
      "Current memory usage 293.1 MB, time elapsed: 21.3 s\n",
      "Delta E = nan, Delta S = nan (per sweep)\n",
      "max_trunc_err = 6.7100e-13, max_E_trunc = 5.1301e-12\n",
      "MPS bond dimensions: [2, 4, 8, 16, 22, 30, 30, 30, 30, 30, 30, 30, 30, 30, 30, 30, 30, 30, 30, 30, 30, 30, 30, 30, 30, 30, 30, 30, 30, 30, 30, 30, 30, 30, 30, 30, 30, 30, 30, 30, 30, 30, 30, 30, 30, 30, 30, 30, 30, 30, 30, 30, 30, 30, 30, 30, 30, 30, 30, 30, 30, 30, 30, 30, 30, 30, 30, 30, 30, 30, 30, 30, 30, 30, 30, 30, 30, 30, 30, 30, 30, 30, 30, 30, 30, 30, 30, 30, 30, 30, 30, 30, 30, 30, 22, 16, 8, 4, 2]\n",
      "================================================================================\n",
      "sweep 20, age = 100\n",
      "Energy = -126.9618767395075736, S = 0.5277993942342408, norm_err = 9.0e-10\n",
      "Current memory usage 293.1 MB, time elapsed: 39.7 s\n",
      "Delta E = -1.2079e-13, Delta S = -1.1743e-11 (per sweep)\n",
      "max_trunc_err = 6.6139e-13, max_E_trunc = 5.0306e-12\n",
      "MPS bond dimensions: [2, 4, 8, 16, 22, 30, 30, 30, 30, 30, 30, 30, 30, 30, 30, 30, 30, 30, 30, 30, 30, 30, 30, 30, 30, 30, 30, 30, 30, 30, 30, 30, 30, 30, 30, 30, 30, 30, 30, 30, 30, 30, 30, 30, 30, 30, 30, 30, 30, 30, 30, 30, 30, 30, 30, 30, 30, 30, 30, 30, 30, 30, 30, 30, 30, 30, 30, 30, 30, 30, 30, 30, 30, 30, 30, 30, 30, 30, 30, 30, 30, 30, 30, 30, 30, 30, 30, 30, 30, 30, 30, 30, 30, 30, 22, 16, 8, 4, 2]\n",
      "================================================================================\n",
      "DMRG finished after 20 sweeps.\n",
      "total size = 100, maximum chi = 30\n",
      "================================================================================\n",
      "E = -126.9618767395076\n",
      "final bond dimensions:  [2, 4, 8, 16, 22, 30, 30, 30, 30, 30, 30, 30, 30, 30, 30, 30, 30, 30, 30, 30, 30, 30, 30, 30, 30, 30, 30, 30, 30, 30, 30, 30, 30, 30, 30, 30, 30, 30, 30, 30, 30, 30, 30, 30, 30, 30, 30, 30, 30, 30, 30, 30, 30, 30, 30, 30, 30, 30, 30, 30, 30, 30, 30, 30, 30, 30, 30, 30, 30, 30, 30, 30, 30, 30, 30, 30, 30, 30, 30, 30, 30, 30, 30, 30, 30, 30, 30, 30, 30, 30, 30, 30, 30, 30, 22, 16, 8, 4, 2]\n",
      "magnetization in X = -0.00000\n",
      "magnetization in Z = 65.33198\n"
     ]
    }
   ],
   "source": [
    "L = 100\n",
    "E, psi, M = example_DMRG_tf_ising_finite(L=L, g=1., verbose=True)\n",
    "entanglement_entropy = psi.entanglement_entropy()"
   ]
  },
  {
   "cell_type": "code",
   "execution_count": 47,
   "metadata": {},
   "outputs": [
    {
     "data": {
      "image/png": "[encoded data removed]",
      "text/plain": [
       "<Figure size 432x288 with 1 Axes>"
      ]
     },
     "metadata": {
      "needs_background": "light"
     },
     "output_type": "display_data"
    }
   ],
   "source": [
    "L_bond = L-1\n",
    "sites = np.arange(L_bond) + 1\n",
    "def func (x, c, b):\n",
    "    return (c / 6) * np.log( (2 * L / np.pi) * np.sin( np.pi * x / L ) ) + b\n",
    "\n",
    "result = curve_fit(func, sites, entanglement_entropy, p0=[.5, .26])\n",
    "c, b = result[0]\n",
    "\n",
    "plot(sites, entanglement_entropy, 'o', label='Data Points')\n",
    "\n",
    "x = np.linspace(1, L_bond, 1000)\n",
    "plot(x, func(x, c, b), label=r'Curve Fitted: $S=\\frac{c}{6}\\ln[\\frac{2 L}{\\pi} \\sin (\\frac{\\pi x}{L})] + b, c=%.2f, b=%.2f$' % (c, b))\n",
    "legend()\n",
    "show()\n"
   ]
  },
  {
   "cell_type": "markdown",
   "metadata": {},
   "source": [
    "## Gapped Ising"
   ]
  },
  {
   "cell_type": "code",
   "execution_count": 48,
   "metadata": {},
   "outputs": [
    {
     "name": "stdout",
     "output_type": "stream",
     "text": [
      "finite DMRG, transverse field Ising model\n",
      "L=100, g=0.50\n",
      "Reading 'bc_MPS'='finite' for config TFIChain\n",
      "Reading 'conserve'=None for config TFIChain\n",
      "Reading 'L'=100 for config TFIChain\n",
      "Reading 'J'=1.0 for config TFIChain\n",
      "Reading 'g'=0.5 for config TFIChain\n",
      "Reading 'combine'=True for config DMRG\n",
      "Subconfig 'trunc_params'=Config(<3 options>, 'trunc_params') for config DMRG\n",
      "Reading 'max_E_err'=1e-10 for config DMRG\n",
      "Reading 'mixer'=None for config DMRG\n",
      "================================================================================\n",
      "sweep 10, age = 100\n",
      "Energy = -105.4837699496445680, S = 0.0035607045280003, norm_err = 1.0e-13\n",
      "Current memory usage 303.2 MB, time elapsed: 12.5 s\n",
      "Delta E = nan, Delta S = nan (per sweep)\n",
      "max_trunc_err = 1.2456e-20, max_E_trunc = 1.4211e-13\n",
      "MPS bond dimensions: [2, 4, 8, 11, 12, 13, 14, 13, 13, 12, 12, 12, 11, 11, 10, 10, 10, 10, 10, 10, 10, 10, 10, 10, 10, 10, 10, 10, 10, 10, 10, 10, 10, 10, 10, 10, 10, 10, 10, 10, 10, 10, 10, 10, 10, 10, 10, 10, 10, 10, 10, 10, 10, 10, 10, 10, 10, 10, 10, 10, 10, 10, 10, 10, 10, 10, 10, 10, 10, 10, 10, 10, 10, 10, 10, 10, 10, 10, 10, 10, 10, 10, 10, 10, 10, 11, 11, 12, 12, 12, 13, 13, 14, 13, 12, 11, 8, 4, 2]\n",
      "================================================================================\n",
      "sweep 20, age = 100\n",
      "Energy = -105.4837699496443832, S = 0.0035607045280002, norm_err = 1.0e-13\n",
      "Current memory usage 303.2 MB, time elapsed: 24.9 s\n",
      "Delta E = 1.8474e-14, Delta S = -1.0625e-17 (per sweep)\n",
      "max_trunc_err = 1.0720e-20, max_E_trunc = 1.1369e-13\n",
      "MPS bond dimensions: [2, 4, 8, 11, 12, 13, 14, 13, 13, 12, 12, 12, 11, 11, 11, 10, 10, 10, 10, 10, 10, 10, 10, 10, 10, 10, 10, 10, 10, 10, 10, 10, 10, 10, 10, 10, 10, 10, 10, 10, 10, 10, 10, 10, 10, 10, 10, 10, 10, 10, 10, 10, 10, 10, 10, 10, 10, 10, 10, 10, 10, 10, 10, 10, 10, 10, 10, 10, 10, 10, 10, 10, 10, 10, 10, 10, 10, 10, 10, 10, 10, 10, 10, 10, 11, 11, 11, 12, 12, 12, 13, 13, 14, 13, 12, 11, 8, 4, 2]\n",
      "================================================================================\n",
      "DMRG finished after 20 sweeps.\n",
      "total size = 100, maximum chi = 14\n",
      "================================================================================\n",
      "E = -105.4837699496444\n",
      "final bond dimensions:  [2, 4, 8, 11, 12, 13, 14, 13, 13, 12, 12, 12, 11, 11, 11, 10, 10, 10, 10, 10, 10, 10, 10, 10, 10, 10, 10, 10, 10, 10, 10, 10, 10, 10, 10, 10, 10, 10, 10, 10, 10, 10, 10, 10, 10, 10, 10, 10, 10, 10, 10, 10, 10, 10, 10, 10, 10, 10, 10, 10, 10, 10, 10, 10, 10, 10, 10, 10, 10, 10, 10, 10, 10, 10, 10, 10, 10, 10, 10, 10, 10, 10, 10, 10, 11, 11, 11, 12, 12, 12, 13, 13, 14, 13, 12, 11, 8, 4, 2]\n",
      "magnetization in X = -96.22413\n",
      "magnetization in Z = 26.40238\n"
     ]
    }
   ],
   "source": [
    "L = 100\n",
    "g = .5\n",
    "E, psi, M = example_DMRG_tf_ising_finite(L=L, g=g, verbose=True)\n",
    "entanglement_entropy = psi.entanglement_entropy()"
   ]
  },
  {
   "cell_type": "code",
   "execution_count": 49,
   "metadata": {},
   "outputs": [
    {
     "data": {
      "image/png": "[encoded data removed]",
      "text/plain": [
       "<Figure size 432x288 with 1 Axes>"
      ]
     },
     "metadata": {
      "needs_background": "light"
     },
     "output_type": "display_data"
    }
   ],
   "source": [
    "L_bond = L-1\n",
    "sites = np.arange(L_bond) + 1\n",
    "def func (x, c, b):\n",
    "    return (c / 6) * np.log( (2 * L / np.pi) * np.sin( np.pi * x / L ) ) + b\n",
    "\n",
    "result = curve_fit(func, sites, entanglement_entropy, p0=[.5, .26])\n",
    "c, b = result[0]\n",
    "\n",
    "plot(sites, entanglement_entropy, 'o', label='Data Points')\n",
    "\n",
    "x = np.linspace(1, L_bond, 1000)\n",
    "plot(x, func(x, c, b), label=r'Curve Fitted: $S=\\frac{c}{6}\\ln[\\frac{2 L}{\\pi} \\sin (\\frac{\\pi x}{L})] + b, c=%.2f, b=%.2f$' % (c, b))\n",
    "legend()\n",
    "show()\n"
   ]
  },
  {
   "cell_type": "markdown",
   "metadata": {},
   "source": [
    "Now we basically know how to carry the finite DMRG on Ising model.\n",
    "\n",
    "Let's do something over our Kitaev ladders!"
   ]
  },
  {
   "cell_type": "markdown",
   "metadata": {},
   "source": [
    "## Kitaev Ladder"
   ]
  },
  {
   "cell_type": "code",
   "execution_count": null,
   "metadata": {},
   "outputs": [],
   "source": []
  }
 ],
 "metadata": {
  "kernelspec": {
   "display_name": "Python 3",
   "language": "python",
   "name": "python3"
  },
  "language_info": {
   "codemirror_mode": {
    "name": "ipython",
    "version": 3
   },
   "file_extension": ".py",
   "mimetype": "text/x-python",
   "name": "python",
   "nbconvert_exporter": "python",
   "pygments_lexer": "ipython3",
   "version": "3.7.7"
  }
 },
 "nbformat": 4,
 "nbformat_minor": 4
}
