{
 "cells": [
  {
   "cell_type": "markdown",
   "metadata": {},
   "source": [
    "In this nb, we will only generate two lines in the whole phase diagram of spin-`1/2` Kitaev ladder:\n",
    " - $J_x = J_y >= 0$\n",
    " - $J_x + J_y = 2 J_z, J_x > J_y >= 0$"
   ]
  },
  {
   "cell_type": "markdown",
   "metadata": {},
   "source": [
    "The sweep order is: start from the point `Jx=Jy=Jz`, i.e. `111`, and then generate three different lists of data points in three directions."
   ]
  },
  {
   "cell_type": "code",
   "execution_count": 1,
   "metadata": {},
   "outputs": [],
   "source": [
    "import numpy as np"
   ]
  },
  {
   "cell_type": "code",
   "execution_count": 2,
   "metadata": {},
   "outputs": [],
   "source": [
    "from kitaev_ladder_snake1 import run_atomic, save_after_run, load_data"
   ]
  },
  {
   "cell_type": "code",
   "execution_count": 3,
   "metadata": {},
   "outputs": [],
   "source": [
    "from utility import linspace"
   ]
  },
  {
   "cell_type": "code",
   "execution_count": 4,
   "metadata": {},
   "outputs": [],
   "source": [
    "from time import time"
   ]
  },
  {
   "cell_type": "markdown",
   "metadata": {},
   "source": [
    "# Infinite DMRG"
   ]
  },
  {
   "cell_type": "markdown",
   "metadata": {},
   "source": [
    "## Initiate the first point with a list of `chi`"
   ]
  },
  {
   "cell_type": "code",
   "execution_count": 5,
   "metadata": {},
   "outputs": [
    {
     "name": "stdout",
     "output_type": "stream",
     "text": [
      "This file already existed. Pass.\n",
      "This file already existed. Pass.\n",
      "This file already existed. Pass.\n",
      "This file already existed. Pass.\n",
      "This file already existed. Pass.\n",
      "This file already existed. Pass.\n",
      "This file already existed. Pass.\n",
      "This file already existed. Pass.\n",
      "This file already existed. Pass.\n"
     ]
    }
   ],
   "source": [
    "#### Parameter Setting ####\n",
    "chi_list = [2**k for k in range(9)]\n",
    "chi_m = chi_list[-1]\n",
    "\n",
    "L = 4\n",
    "# the folder name for storing data\n",
    "folder_prefix = f'Spin_half_snake1_L_{L}_chi_{chi_m}_two_lines/' # high resolution means the smallest step is 0.01\n",
    "\n",
    "# generate the function for running and storing the data in the folder we want\n",
    "run_save = save_after_run(run_atomic, folder_prefix=folder_prefix)\n",
    "\n",
    "initial_psi = None\n",
    "\n",
    "Jx = 1.0\n",
    "Jy = 1.0\n",
    "Jz = 1.0\n",
    "\n",
    "for chi in chi_list:\n",
    "    result = run_save(Jx=Jx, Jy=Jy, Jz=Jz, L=L, chi=chi, initial_psi=initial_psi, verbose=0)\n",
    "    if result==0: # this file already exists\n",
    "        result = load_data(Jx=Jx,Jy=Jy,Jz=Jz,L=L,chi=chi,prefix=folder_prefix)\n",
    "        pass \n",
    "    initial_psi=result['psi'].copy()"
   ]
  },
  {
   "cell_type": "markdown",
   "metadata": {},
   "source": [
    "## Generate three lines one by one"
   ]
  },
  {
   "cell_type": "code",
   "execution_count": 6,
   "metadata": {},
   "outputs": [
    {
     "name": "stdout",
     "output_type": "stream",
     "text": [
      "The minimal difference will be  0.01\n",
      "The number of data points on each line is  100\n"
     ]
    }
   ],
   "source": [
    "#### The precision ####\n",
    "delta = 0.01\n",
    "print('The minimal difference will be ', delta)\n",
    "N = int(np.round(1 / delta))\n",
    "print('The number of data points on each line is ', N)"
   ]
  },
  {
   "cell_type": "code",
   "execution_count": 7,
   "metadata": {
    "scrolled": true
   },
   "outputs": [
    {
     "name": "stdout",
     "output_type": "stream",
     "text": [
      "This file already existed. Pass.\n",
      "This file already existed. Pass.\n",
      "This file already existed. Pass.\n",
      "This file already existed. Pass.\n",
      "This file already existed. Pass.\n",
      "This file already existed. Pass.\n",
      "This file already existed. Pass.\n",
      "This file already existed. Pass.\n",
      "This file already existed. Pass.\n",
      "This file already existed. Pass.\n",
      "This file already existed. Pass.\n",
      "This file already existed. Pass.\n",
      "This file already existed. Pass.\n",
      "This file already existed. Pass.\n",
      "This file already existed. Pass.\n",
      "This file already existed. Pass.\n",
      "This file already existed. Pass.\n",
      "This file already existed. Pass.\n",
      "This file already existed. Pass.\n",
      "This file already existed. Pass.\n",
      "This file already existed. Pass.\n",
      "This file already existed. Pass.\n",
      "This file already existed. Pass.\n",
      "This file already existed. Pass.\n",
      "This file already existed. Pass.\n",
      "This file already existed. Pass.\n",
      "This file already existed. Pass.\n",
      "This file already existed. Pass.\n",
      "This file already existed. Pass.\n",
      "This file already existed. Pass.\n",
      "This file already existed. Pass.\n",
      "This file already existed. Pass.\n",
      "This file already existed. Pass.\n",
      "This file already existed. Pass.\n",
      "This file already existed. Pass.\n",
      "This file already existed. Pass.\n",
      "This file already existed. Pass.\n",
      "This file already existed. Pass.\n",
      "This file already existed. Pass.\n",
      "This file already existed. Pass.\n",
      "This file already existed. Pass.\n",
      "This file already existed. Pass.\n",
      "This file already existed. Pass.\n",
      "This file already existed. Pass.\n",
      "This file already existed. Pass.\n",
      "This file already existed. Pass.\n",
      "This file already existed. Pass.\n",
      "This file already existed. Pass.\n",
      "This file already existed. Pass.\n",
      "This file already existed. Pass.\n",
      "This file already existed. Pass.\n",
      "This file already existed. Pass.\n",
      "This file already existed. Pass.\n",
      "This file already existed. Pass.\n",
      "This file already existed. Pass.\n",
      "This file already existed. Pass.\n",
      "This file already existed. Pass.\n",
      "This file already existed. Pass.\n",
      "This file already existed. Pass.\n",
      "This file already existed. Pass.\n",
      "This file already existed. Pass.\n",
      "This file already existed. Pass.\n",
      "This file already existed. Pass.\n",
      "This file already existed. Pass.\n",
      "This file already existed. Pass.\n",
      "This file already existed. Pass.\n",
      "This file already existed. Pass.\n",
      "This file already existed. Pass.\n",
      "This file already existed. Pass.\n",
      "This file already existed. Pass.\n",
      "This file already existed. Pass.\n",
      "This file already existed. Pass.\n",
      "This file already existed. Pass.\n",
      "This file already existed. Pass.\n",
      "This file already existed. Pass.\n",
      "This file already existed. Pass.\n",
      "This file already existed. Pass.\n",
      "This file already existed. Pass.\n",
      "This file already existed. Pass.\n",
      "This file already existed. Pass.\n",
      "This file already existed. Pass.\n",
      "This file already existed. Pass.\n",
      "This file already existed. Pass.\n",
      "This file already existed. Pass.\n",
      "This file already existed. Pass.\n",
      "This file already existed. Pass.\n",
      "This file already existed. Pass.\n",
      "This file already existed. Pass.\n",
      "This file already existed. Pass.\n",
      "This file already existed. Pass.\n",
      "This file already existed. Pass.\n",
      "This file already existed. Pass.\n",
      "This file already existed. Pass.\n",
      "This file already existed. Pass.\n",
      "This file already existed. Pass.\n",
      "This file already existed. Pass.\n",
      "This file already existed. Pass.\n",
      "This file already existed. Pass.\n",
      "This file already existed. Pass.\n",
      "This file already existed. Pass.\n"
     ]
    }
   ],
   "source": [
    "J_list_1 = linspace(1+delta, 2, N)\n",
    "chi = chi_m\n",
    "\n",
    "# read the wave function in the first point, 111\n",
    "Jx = 1.0\n",
    "Jy = 1.0\n",
    "Jz = 1.0\n",
    "initial_psi = load_data(Jx=Jx,Jy=Jy,Jz=Jz,L=L,chi=chi,prefix=folder_prefix)['psi'].copy()\n",
    "\n",
    "for J in J_list_1:\n",
    "    Jx = J\n",
    "    Jy = J\n",
    "    result = run_save(Jx=Jx, Jy=Jy, Jz=Jz, L=L, chi=chi, initial_psi=initial_psi, verbose=0)\n",
    "    if result==0: # this file already exists\n",
    "        result = load_data(Jx=Jx,Jy=Jy,Jz=Jz,L=L,chi=chi,prefix=folder_prefix)\n",
    "        pass \n",
    "    initial_psi=result['psi'].copy()"
   ]
  },
  {
   "cell_type": "code",
   "execution_count": 8,
   "metadata": {
    "scrolled": true
   },
   "outputs": [
    {
     "name": "stdout",
     "output_type": "stream",
     "text": [
      "This file already existed. Pass.\n",
      "This file already existed. Pass.\n",
      "This file already existed. Pass.\n",
      "This file already existed. Pass.\n",
      "This file already existed. Pass.\n",
      "This file already existed. Pass.\n",
      "This file already existed. Pass.\n",
      "This file already existed. Pass.\n",
      "This file already existed. Pass.\n",
      "This file already existed. Pass.\n",
      "This file already existed. Pass.\n",
      "This file already existed. Pass.\n",
      "This file already existed. Pass.\n",
      "This file already existed. Pass.\n",
      "This file already existed. Pass.\n",
      "This file already existed. Pass.\n",
      "This file already existed. Pass.\n",
      "This file already existed. Pass.\n",
      "This file already existed. Pass.\n",
      "This file already existed. Pass.\n",
      "This file already existed. Pass.\n",
      "This file already existed. Pass.\n",
      "This file already existed. Pass.\n",
      "This file already existed. Pass.\n",
      "This file already existed. Pass.\n",
      "This file already existed. Pass.\n",
      "This file already existed. Pass.\n",
      "This file already existed. Pass.\n",
      "This file already existed. Pass.\n",
      "This file already existed. Pass.\n",
      "This file already existed. Pass.\n",
      "This file already existed. Pass.\n",
      "This file already existed. Pass.\n",
      "This file already existed. Pass.\n",
      "This file already existed. Pass.\n",
      "This file already existed. Pass.\n",
      "This file already existed. Pass.\n",
      "This file already existed. Pass.\n",
      "This file already existed. Pass.\n",
      "This file already existed. Pass.\n",
      "This file already existed. Pass.\n",
      "This file already existed. Pass.\n",
      "This file already existed. Pass.\n",
      "This file already existed. Pass.\n",
      "This file already existed. Pass.\n",
      "This file already existed. Pass.\n",
      "This file already existed. Pass.\n",
      "This file already existed. Pass.\n",
      "This file already existed. Pass.\n",
      "This file already existed. Pass.\n",
      "This file already existed. Pass.\n",
      "This file already existed. Pass.\n",
      "This file already existed. Pass.\n",
      "This file already existed. Pass.\n",
      "This file already existed. Pass.\n",
      "This file already existed. Pass.\n",
      "This file already existed. Pass.\n",
      "This file already existed. Pass.\n",
      "This file already existed. Pass.\n",
      "This file already existed. Pass.\n",
      "This file already existed. Pass.\n",
      "This file already existed. Pass.\n",
      "This file already existed. Pass.\n",
      "This file already existed. Pass.\n",
      "This file already existed. Pass.\n",
      "This file already existed. Pass.\n",
      "This file already existed. Pass.\n",
      "This file already existed. Pass.\n",
      "This file already existed. Pass.\n",
      "This file already existed. Pass.\n",
      "This file already existed. Pass.\n",
      "This file already existed. Pass.\n",
      "This file already existed. Pass.\n",
      "This file already existed. Pass.\n",
      "This file already existed. Pass.\n",
      "This file already existed. Pass.\n",
      "This file already existed. Pass.\n",
      "This file already existed. Pass.\n",
      "This file already existed. Pass.\n",
      "This file already existed. Pass.\n",
      "This file already existed. Pass.\n",
      "This file already existed. Pass.\n",
      "This file already existed. Pass.\n",
      "This file already existed. Pass.\n",
      "This file already existed. Pass.\n",
      "This file already existed. Pass.\n",
      "This file already existed. Pass.\n",
      "This file already existed. Pass.\n",
      "This file already existed. Pass.\n",
      "This file already existed. Pass.\n",
      "This file already existed. Pass.\n",
      "This file already existed. Pass.\n",
      "This file already existed. Pass.\n",
      "This file already existed. Pass.\n",
      "This file already existed. Pass.\n",
      "This file already existed. Pass.\n",
      "This file already existed. Pass.\n",
      "This file already existed. Pass.\n",
      "This file already existed. Pass.\n",
      "This file already existed. Pass.\n"
     ]
    }
   ],
   "source": [
    "J_list_1 = linspace(1-delta, 0, N)\n",
    "chi = chi_m\n",
    "\n",
    "# read the wave function in the first point, 111\n",
    "Jx = 1.0\n",
    "Jy = 1.0\n",
    "Jz = 1.0\n",
    "initial_psi = load_data(Jx=Jx,Jy=Jy,Jz=Jz,L=L,chi=chi,prefix=folder_prefix)['psi'].copy()\n",
    "\n",
    "for J in J_list_1:\n",
    "    Jx = J\n",
    "    Jy = J\n",
    "    result = run_save(Jx=Jx, Jy=Jy, Jz=Jz, L=L, chi=chi, initial_psi=initial_psi, verbose=0)\n",
    "    if result==0: # this file already exists\n",
    "        result = load_data(Jx=Jx,Jy=Jy,Jz=Jz,L=L,chi=chi,prefix=folder_prefix)\n",
    "        pass \n",
    "    initial_psi=result['psi'].copy()"
   ]
  },
  {
   "cell_type": "code",
   "execution_count": 9,
   "metadata": {
    "scrolled": true
   },
   "outputs": [
    {
     "name": "stdout",
     "output_type": "stream",
     "text": [
      "This file already existed. Pass.\n",
      "This file already existed. Pass.\n",
      "This file already existed. Pass.\n",
      "This file already existed. Pass.\n",
      "This file already existed. Pass.\n",
      "This file already existed. Pass.\n",
      "This file already existed. Pass.\n",
      "This file already existed. Pass.\n",
      "This file already existed. Pass.\n",
      "This file already existed. Pass.\n",
      "This file already existed. Pass.\n",
      "This file already existed. Pass.\n",
      "This file already existed. Pass.\n",
      "This file already existed. Pass.\n",
      "This file already existed. Pass.\n",
      "This file already existed. Pass.\n",
      "This file already existed. Pass.\n",
      "This file already existed. Pass.\n",
      "This file already existed. Pass.\n",
      "This file already existed. Pass.\n",
      "This file already existed. Pass.\n",
      "This file already existed. Pass.\n",
      "This file already existed. Pass.\n",
      "This file already existed. Pass.\n",
      "This file already existed. Pass.\n",
      "This file already existed. Pass.\n",
      "This file already existed. Pass.\n",
      "This file already existed. Pass.\n",
      "This file already existed. Pass.\n",
      "This file already existed. Pass.\n",
      "This file already existed. Pass.\n",
      "This file already existed. Pass.\n",
      "This file already existed. Pass.\n",
      "This file already existed. Pass.\n",
      "This file already existed. Pass.\n",
      "This file already existed. Pass.\n",
      "This file already existed. Pass.\n",
      "This file already existed. Pass.\n",
      "This file already existed. Pass.\n",
      "This file already existed. Pass.\n",
      "This file already existed. Pass.\n",
      "This file already existed. Pass.\n",
      "This file already existed. Pass.\n",
      "This file already existed. Pass.\n",
      "This file already existed. Pass.\n",
      "This file already existed. Pass.\n",
      "This file already existed. Pass.\n",
      "This file already existed. Pass.\n",
      "This file already existed. Pass.\n",
      "This file already existed. Pass.\n",
      "This file already existed. Pass.\n",
      "This file already existed. Pass.\n",
      "This file already existed. Pass.\n",
      "This file already existed. Pass.\n",
      "This file already existed. Pass.\n",
      "This file already existed. Pass.\n",
      "This file already existed. Pass.\n",
      "This file already existed. Pass.\n",
      "This file already existed. Pass.\n",
      "This file already existed. Pass.\n",
      "This file already existed. Pass.\n",
      "This file already existed. Pass.\n",
      "This file already existed. Pass.\n",
      "This file already existed. Pass.\n",
      "This file already existed. Pass.\n",
      "This file already existed. Pass.\n",
      "This file already existed. Pass.\n",
      "This file already existed. Pass.\n",
      "This file already existed. Pass.\n",
      "This file already existed. Pass.\n",
      "This file already existed. Pass.\n",
      "This file already existed. Pass.\n",
      "This file already existed. Pass.\n",
      "This file already existed. Pass.\n",
      "This file already existed. Pass.\n",
      "This file already existed. Pass.\n",
      "This file already existed. Pass.\n",
      "This file already existed. Pass.\n",
      "This file already existed. Pass.\n",
      "This file already existed. Pass.\n",
      "This file already existed. Pass.\n",
      "This file already existed. Pass.\n",
      "This file already existed. Pass.\n",
      "This file already existed. Pass.\n",
      "This file already existed. Pass.\n",
      "This file already existed. Pass.\n",
      "This file already existed. Pass.\n",
      "This file already existed. Pass.\n",
      "This file already existed. Pass.\n",
      "This file already existed. Pass.\n",
      "This file already existed. Pass.\n",
      "This file already existed. Pass.\n",
      "This file already existed. Pass.\n",
      "This file already existed. Pass.\n",
      "This file already existed. Pass.\n",
      "This file already existed. Pass.\n",
      "This file already existed. Pass.\n",
      "This file already existed. Pass.\n",
      "This file already existed. Pass.\n",
      "This file already existed. Pass.\n"
     ]
    }
   ],
   "source": [
    "J_list_1 = linspace(1+delta, 2, N)\n",
    "chi = chi_m\n",
    "\n",
    "# read the wave function in the first point, 111\n",
    "Jx = 1.0\n",
    "Jy = 1.0\n",
    "Jz = 1.0\n",
    "initial_psi = load_data(Jx=Jx,Jy=Jy,Jz=Jz,L=L,chi=chi,prefix=folder_prefix)['psi'].copy()\n",
    "\n",
    "for J in J_list_1:\n",
    "    Jx = J\n",
    "    Jy = np.round(2-J, decimals=3)\n",
    "    result = run_save(Jx=Jx, Jy=Jy, Jz=Jz, L=L, chi=chi, initial_psi=initial_psi, verbose=0)\n",
    "    if result==0: # this file already exists\n",
    "        result = load_data(Jx=Jx,Jy=Jy,Jz=Jz,L=L,chi=chi,prefix=folder_prefix)\n",
    "        pass \n",
    "    initial_psi=result['psi'].copy()"
   ]
  },
  {
   "cell_type": "code",
   "execution_count": 12,
   "metadata": {
    "scrolled": true
   },
   "outputs": [
    {
     "name": "stderr",
     "output_type": "stream",
     "text": [
      "/home/jerry/anaconda3/lib/python3.7/site-packages/tenpy/networks/mps.py:2334: UserWarning: canonical_form_infinite: project to smaller bond dimension\n",
      "  Gl, Wr = self._canonical_form_correct_left(i1, Gl, Wr)\n",
      "/home/jerry/anaconda3/lib/python3.7/site-packages/tenpy/networks/mps.py:2179: UserWarning: canonical_form_infinite: project to smaller bond dimension\n",
      "  self.canonical_form_infinite(renormalize)\n",
      "/home/jerry/anaconda3/lib/python3.7/site-packages/tenpy/networks/mps.py:2355: UserWarning: canonical_form_infinite: project to smaller bond dimension\n",
      "  Gl, Wr = self._canonical_form_correct_left(j1, Gl, Wr_list[j1 % L])\n"
     ]
    },
    {
     "name": "stdout",
     "output_type": "stream",
     "text": [
      "Computing properties\n"
     ]
    },
    {
     "name": "stderr",
     "output_type": "stream",
     "text": [
      "/home/jerry/anaconda3/lib/python3.7/site-packages/tenpy/networks/mps.py:2334: UserWarning: canonical_form_infinite: project to smaller bond dimension\n",
      "  Gl, Wr = self._canonical_form_correct_left(i1, Gl, Wr)\n",
      "/home/jerry/anaconda3/lib/python3.7/site-packages/tenpy/networks/mps.py:2179: UserWarning: canonical_form_infinite: project to smaller bond dimension\n",
      "  self.canonical_form_infinite(renormalize)\n",
      "/home/jerry/anaconda3/lib/python3.7/site-packages/tenpy/networks/mps.py:2355: UserWarning: canonical_form_infinite: project to smaller bond dimension\n",
      "  Gl, Wr = self._canonical_form_correct_left(j1, Gl, Wr_list[j1 % L])\n"
     ]
    },
    {
     "name": "stdout",
     "output_type": "stream",
     "text": [
      "Computing properties\n"
     ]
    },
    {
     "name": "stderr",
     "output_type": "stream",
     "text": [
      "/home/jerry/anaconda3/lib/python3.7/site-packages/tenpy/networks/mps.py:2334: UserWarning: canonical_form_infinite: project to smaller bond dimension\n",
      "  Gl, Wr = self._canonical_form_correct_left(i1, Gl, Wr)\n",
      "/home/jerry/anaconda3/lib/python3.7/site-packages/tenpy/networks/mps.py:2179: UserWarning: canonical_form_infinite: project to smaller bond dimension\n",
      "  self.canonical_form_infinite(renormalize)\n",
      "/home/jerry/anaconda3/lib/python3.7/site-packages/tenpy/networks/mps.py:2355: UserWarning: canonical_form_infinite: project to smaller bond dimension\n",
      "  Gl, Wr = self._canonical_form_correct_left(j1, Gl, Wr_list[j1 % L])\n"
     ]
    },
    {
     "name": "stdout",
     "output_type": "stream",
     "text": [
      "Computing properties\n"
     ]
    },
    {
     "name": "stderr",
     "output_type": "stream",
     "text": [
      "/home/jerry/anaconda3/lib/python3.7/site-packages/tenpy/networks/mps.py:2334: UserWarning: canonical_form_infinite: project to smaller bond dimension\n",
      "  Gl, Wr = self._canonical_form_correct_left(i1, Gl, Wr)\n",
      "/home/jerry/anaconda3/lib/python3.7/site-packages/tenpy/networks/mps.py:2179: UserWarning: canonical_form_infinite: project to smaller bond dimension\n",
      "  self.canonical_form_infinite(renormalize)\n",
      "/home/jerry/anaconda3/lib/python3.7/site-packages/tenpy/networks/mps.py:2355: UserWarning: canonical_form_infinite: project to smaller bond dimension\n",
      "  Gl, Wr = self._canonical_form_correct_left(j1, Gl, Wr_list[j1 % L])\n"
     ]
    },
    {
     "name": "stdout",
     "output_type": "stream",
     "text": [
      "Computing properties\n"
     ]
    },
    {
     "name": "stderr",
     "output_type": "stream",
     "text": [
      "/home/jerry/anaconda3/lib/python3.7/site-packages/tenpy/networks/mps.py:2334: UserWarning: canonical_form_infinite: project to smaller bond dimension\n",
      "  Gl, Wr = self._canonical_form_correct_left(i1, Gl, Wr)\n",
      "/home/jerry/anaconda3/lib/python3.7/site-packages/tenpy/networks/mps.py:2179: UserWarning: canonical_form_infinite: project to smaller bond dimension\n",
      "  self.canonical_form_infinite(renormalize)\n",
      "/home/jerry/anaconda3/lib/python3.7/site-packages/tenpy/networks/mps.py:2355: UserWarning: canonical_form_infinite: project to smaller bond dimension\n",
      "  Gl, Wr = self._canonical_form_correct_left(j1, Gl, Wr_list[j1 % L])\n"
     ]
    },
    {
     "name": "stdout",
     "output_type": "stream",
     "text": [
      "Computing properties\n"
     ]
    },
    {
     "name": "stderr",
     "output_type": "stream",
     "text": [
      "/home/jerry/anaconda3/lib/python3.7/site-packages/tenpy/networks/mps.py:2334: UserWarning: canonical_form_infinite: project to smaller bond dimension\n",
      "  Gl, Wr = self._canonical_form_correct_left(i1, Gl, Wr)\n",
      "/home/jerry/anaconda3/lib/python3.7/site-packages/tenpy/networks/mps.py:2179: UserWarning: canonical_form_infinite: project to smaller bond dimension\n",
      "  self.canonical_form_infinite(renormalize)\n",
      "/home/jerry/anaconda3/lib/python3.7/site-packages/tenpy/networks/mps.py:2355: UserWarning: canonical_form_infinite: project to smaller bond dimension\n",
      "  Gl, Wr = self._canonical_form_correct_left(j1, Gl, Wr_list[j1 % L])\n"
     ]
    },
    {
     "name": "stdout",
     "output_type": "stream",
     "text": [
      "Computing properties\n"
     ]
    },
    {
     "name": "stderr",
     "output_type": "stream",
     "text": [
      "/home/jerry/anaconda3/lib/python3.7/site-packages/tenpy/networks/mps.py:2334: UserWarning: canonical_form_infinite: project to smaller bond dimension\n",
      "  Gl, Wr = self._canonical_form_correct_left(i1, Gl, Wr)\n",
      "/home/jerry/anaconda3/lib/python3.7/site-packages/tenpy/networks/mps.py:2179: UserWarning: canonical_form_infinite: project to smaller bond dimension\n",
      "  self.canonical_form_infinite(renormalize)\n",
      "/home/jerry/anaconda3/lib/python3.7/site-packages/tenpy/networks/mps.py:2355: UserWarning: canonical_form_infinite: project to smaller bond dimension\n",
      "  Gl, Wr = self._canonical_form_correct_left(j1, Gl, Wr_list[j1 % L])\n"
     ]
    },
    {
     "name": "stdout",
     "output_type": "stream",
     "text": [
      "Computing properties\n"
     ]
    },
    {
     "name": "stderr",
     "output_type": "stream",
     "text": [
      "/home/jerry/anaconda3/lib/python3.7/site-packages/tenpy/networks/mps.py:2334: UserWarning: canonical_form_infinite: project to smaller bond dimension\n",
      "  Gl, Wr = self._canonical_form_correct_left(i1, Gl, Wr)\n",
      "/home/jerry/anaconda3/lib/python3.7/site-packages/tenpy/networks/mps.py:2179: UserWarning: canonical_form_infinite: project to smaller bond dimension\n",
      "  self.canonical_form_infinite(renormalize)\n",
      "/home/jerry/anaconda3/lib/python3.7/site-packages/tenpy/networks/mps.py:2355: UserWarning: canonical_form_infinite: project to smaller bond dimension\n",
      "  Gl, Wr = self._canonical_form_correct_left(j1, Gl, Wr_list[j1 % L])\n"
     ]
    },
    {
     "name": "stdout",
     "output_type": "stream",
     "text": [
      "Computing properties\n"
     ]
    },
    {
     "name": "stderr",
     "output_type": "stream",
     "text": [
      "/home/jerry/anaconda3/lib/python3.7/site-packages/tenpy/networks/mps.py:2334: UserWarning: canonical_form_infinite: project to smaller bond dimension\n",
      "  Gl, Wr = self._canonical_form_correct_left(i1, Gl, Wr)\n",
      "/home/jerry/anaconda3/lib/python3.7/site-packages/tenpy/networks/mps.py:2179: UserWarning: canonical_form_infinite: project to smaller bond dimension\n",
      "  self.canonical_form_infinite(renormalize)\n",
      "/home/jerry/anaconda3/lib/python3.7/site-packages/tenpy/networks/mps.py:2355: UserWarning: canonical_form_infinite: project to smaller bond dimension\n",
      "  Gl, Wr = self._canonical_form_correct_left(j1, Gl, Wr_list[j1 % L])\n"
     ]
    },
    {
     "name": "stdout",
     "output_type": "stream",
     "text": [
      "Computing properties\n"
     ]
    },
    {
     "name": "stderr",
     "output_type": "stream",
     "text": [
      "/home/jerry/anaconda3/lib/python3.7/site-packages/tenpy/networks/mps.py:2334: UserWarning: canonical_form_infinite: project to smaller bond dimension\n",
      "  Gl, Wr = self._canonical_form_correct_left(i1, Gl, Wr)\n",
      "/home/jerry/anaconda3/lib/python3.7/site-packages/tenpy/networks/mps.py:2179: UserWarning: canonical_form_infinite: project to smaller bond dimension\n",
      "  self.canonical_form_infinite(renormalize)\n",
      "/home/jerry/anaconda3/lib/python3.7/site-packages/tenpy/networks/mps.py:2355: UserWarning: canonical_form_infinite: project to smaller bond dimension\n",
      "  Gl, Wr = self._canonical_form_correct_left(j1, Gl, Wr_list[j1 % L])\n"
     ]
    },
    {
     "name": "stdout",
     "output_type": "stream",
     "text": [
      "Computing properties\n"
     ]
    },
    {
     "name": "stderr",
     "output_type": "stream",
     "text": [
      "/home/jerry/anaconda3/lib/python3.7/site-packages/tenpy/networks/mps.py:2334: UserWarning: canonical_form_infinite: project to smaller bond dimension\n",
      "  Gl, Wr = self._canonical_form_correct_left(i1, Gl, Wr)\n",
      "/home/jerry/anaconda3/lib/python3.7/site-packages/tenpy/networks/mps.py:2179: UserWarning: canonical_form_infinite: project to smaller bond dimension\n",
      "  self.canonical_form_infinite(renormalize)\n",
      "/home/jerry/anaconda3/lib/python3.7/site-packages/tenpy/networks/mps.py:2355: UserWarning: canonical_form_infinite: project to smaller bond dimension\n",
      "  Gl, Wr = self._canonical_form_correct_left(j1, Gl, Wr_list[j1 % L])\n"
     ]
    },
    {
     "name": "stdout",
     "output_type": "stream",
     "text": [
      "Computing properties\n"
     ]
    },
    {
     "name": "stderr",
     "output_type": "stream",
     "text": [
      "/home/jerry/anaconda3/lib/python3.7/site-packages/tenpy/networks/mps.py:2334: UserWarning: canonical_form_infinite: project to smaller bond dimension\n",
      "  Gl, Wr = self._canonical_form_correct_left(i1, Gl, Wr)\n",
      "/home/jerry/anaconda3/lib/python3.7/site-packages/tenpy/networks/mps.py:2179: UserWarning: canonical_form_infinite: project to smaller bond dimension\n",
      "  self.canonical_form_infinite(renormalize)\n",
      "/home/jerry/anaconda3/lib/python3.7/site-packages/tenpy/networks/mps.py:2355: UserWarning: canonical_form_infinite: project to smaller bond dimension\n",
      "  Gl, Wr = self._canonical_form_correct_left(j1, Gl, Wr_list[j1 % L])\n"
     ]
    },
    {
     "name": "stdout",
     "output_type": "stream",
     "text": [
      "Computing properties\n"
     ]
    },
    {
     "name": "stderr",
     "output_type": "stream",
     "text": [
      "/home/jerry/anaconda3/lib/python3.7/site-packages/tenpy/networks/mps.py:2334: UserWarning: canonical_form_infinite: project to smaller bond dimension\n",
      "  Gl, Wr = self._canonical_form_correct_left(i1, Gl, Wr)\n",
      "/home/jerry/anaconda3/lib/python3.7/site-packages/tenpy/networks/mps.py:2179: UserWarning: canonical_form_infinite: project to smaller bond dimension\n",
      "  self.canonical_form_infinite(renormalize)\n",
      "/home/jerry/anaconda3/lib/python3.7/site-packages/tenpy/networks/mps.py:2355: UserWarning: canonical_form_infinite: project to smaller bond dimension\n",
      "  Gl, Wr = self._canonical_form_correct_left(j1, Gl, Wr_list[j1 % L])\n"
     ]
    },
    {
     "name": "stdout",
     "output_type": "stream",
     "text": [
      "Computing properties\n"
     ]
    },
    {
     "name": "stderr",
     "output_type": "stream",
     "text": [
      "/home/jerry/anaconda3/lib/python3.7/site-packages/tenpy/networks/mps.py:2334: UserWarning: canonical_form_infinite: project to smaller bond dimension\n",
      "  Gl, Wr = self._canonical_form_correct_left(i1, Gl, Wr)\n",
      "/home/jerry/anaconda3/lib/python3.7/site-packages/tenpy/networks/mps.py:2179: UserWarning: canonical_form_infinite: project to smaller bond dimension\n",
      "  self.canonical_form_infinite(renormalize)\n",
      "/home/jerry/anaconda3/lib/python3.7/site-packages/tenpy/networks/mps.py:2355: UserWarning: canonical_form_infinite: project to smaller bond dimension\n",
      "  Gl, Wr = self._canonical_form_correct_left(j1, Gl, Wr_list[j1 % L])\n"
     ]
    },
    {
     "name": "stdout",
     "output_type": "stream",
     "text": [
      "Computing properties\n"
     ]
    },
    {
     "name": "stderr",
     "output_type": "stream",
     "text": [
      "/home/jerry/anaconda3/lib/python3.7/site-packages/tenpy/networks/mps.py:2334: UserWarning: canonical_form_infinite: project to smaller bond dimension\n",
      "  Gl, Wr = self._canonical_form_correct_left(i1, Gl, Wr)\n",
      "/home/jerry/anaconda3/lib/python3.7/site-packages/tenpy/networks/mps.py:2179: UserWarning: canonical_form_infinite: project to smaller bond dimension\n",
      "  self.canonical_form_infinite(renormalize)\n",
      "/home/jerry/anaconda3/lib/python3.7/site-packages/tenpy/networks/mps.py:2355: UserWarning: canonical_form_infinite: project to smaller bond dimension\n",
      "  Gl, Wr = self._canonical_form_correct_left(j1, Gl, Wr_list[j1 % L])\n"
     ]
    },
    {
     "name": "stdout",
     "output_type": "stream",
     "text": [
      "Computing properties\n"
     ]
    },
    {
     "name": "stderr",
     "output_type": "stream",
     "text": [
      "/home/jerry/anaconda3/lib/python3.7/site-packages/tenpy/networks/mps.py:2334: UserWarning: canonical_form_infinite: project to smaller bond dimension\n",
      "  Gl, Wr = self._canonical_form_correct_left(i1, Gl, Wr)\n",
      "/home/jerry/anaconda3/lib/python3.7/site-packages/tenpy/networks/mps.py:2179: UserWarning: canonical_form_infinite: project to smaller bond dimension\n",
      "  self.canonical_form_infinite(renormalize)\n",
      "/home/jerry/anaconda3/lib/python3.7/site-packages/tenpy/networks/mps.py:2355: UserWarning: canonical_form_infinite: project to smaller bond dimension\n",
      "  Gl, Wr = self._canonical_form_correct_left(j1, Gl, Wr_list[j1 % L])\n"
     ]
    },
    {
     "name": "stdout",
     "output_type": "stream",
     "text": [
      "Computing properties\n"
     ]
    },
    {
     "name": "stderr",
     "output_type": "stream",
     "text": [
      "/home/jerry/anaconda3/lib/python3.7/site-packages/tenpy/networks/mps.py:2334: UserWarning: canonical_form_infinite: project to smaller bond dimension\n",
      "  Gl, Wr = self._canonical_form_correct_left(i1, Gl, Wr)\n",
      "/home/jerry/anaconda3/lib/python3.7/site-packages/tenpy/networks/mps.py:2179: UserWarning: canonical_form_infinite: project to smaller bond dimension\n",
      "  self.canonical_form_infinite(renormalize)\n",
      "/home/jerry/anaconda3/lib/python3.7/site-packages/tenpy/networks/mps.py:2355: UserWarning: canonical_form_infinite: project to smaller bond dimension\n",
      "  Gl, Wr = self._canonical_form_correct_left(j1, Gl, Wr_list[j1 % L])\n"
     ]
    },
    {
     "name": "stdout",
     "output_type": "stream",
     "text": [
      "Computing properties\n"
     ]
    },
    {
     "name": "stderr",
     "output_type": "stream",
     "text": [
      "/home/jerry/anaconda3/lib/python3.7/site-packages/tenpy/networks/mps.py:2334: UserWarning: canonical_form_infinite: project to smaller bond dimension\n",
      "  Gl, Wr = self._canonical_form_correct_left(i1, Gl, Wr)\n",
      "/home/jerry/anaconda3/lib/python3.7/site-packages/tenpy/networks/mps.py:2179: UserWarning: canonical_form_infinite: project to smaller bond dimension\n",
      "  self.canonical_form_infinite(renormalize)\n",
      "/home/jerry/anaconda3/lib/python3.7/site-packages/tenpy/networks/mps.py:2355: UserWarning: canonical_form_infinite: project to smaller bond dimension\n",
      "  Gl, Wr = self._canonical_form_correct_left(j1, Gl, Wr_list[j1 % L])\n"
     ]
    },
    {
     "name": "stdout",
     "output_type": "stream",
     "text": [
      "Computing properties\n"
     ]
    },
    {
     "name": "stderr",
     "output_type": "stream",
     "text": [
      "/home/jerry/anaconda3/lib/python3.7/site-packages/tenpy/networks/mps.py:2334: UserWarning: canonical_form_infinite: project to smaller bond dimension\n",
      "  Gl, Wr = self._canonical_form_correct_left(i1, Gl, Wr)\n",
      "/home/jerry/anaconda3/lib/python3.7/site-packages/tenpy/networks/mps.py:2179: UserWarning: canonical_form_infinite: project to smaller bond dimension\n",
      "  self.canonical_form_infinite(renormalize)\n",
      "/home/jerry/anaconda3/lib/python3.7/site-packages/tenpy/networks/mps.py:2355: UserWarning: canonical_form_infinite: project to smaller bond dimension\n",
      "  Gl, Wr = self._canonical_form_correct_left(j1, Gl, Wr_list[j1 % L])\n"
     ]
    },
    {
     "name": "stdout",
     "output_type": "stream",
     "text": [
      "Computing properties\n"
     ]
    },
    {
     "name": "stderr",
     "output_type": "stream",
     "text": [
      "/home/jerry/anaconda3/lib/python3.7/site-packages/tenpy/networks/mps.py:2334: UserWarning: canonical_form_infinite: project to smaller bond dimension\n",
      "  Gl, Wr = self._canonical_form_correct_left(i1, Gl, Wr)\n",
      "/home/jerry/anaconda3/lib/python3.7/site-packages/tenpy/networks/mps.py:2179: UserWarning: canonical_form_infinite: project to smaller bond dimension\n",
      "  self.canonical_form_infinite(renormalize)\n",
      "/home/jerry/anaconda3/lib/python3.7/site-packages/tenpy/networks/mps.py:2355: UserWarning: canonical_form_infinite: project to smaller bond dimension\n",
      "  Gl, Wr = self._canonical_form_correct_left(j1, Gl, Wr_list[j1 % L])\n"
     ]
    },
    {
     "name": "stdout",
     "output_type": "stream",
     "text": [
      "Computing properties\n"
     ]
    },
    {
     "name": "stderr",
     "output_type": "stream",
     "text": [
      "/home/jerry/anaconda3/lib/python3.7/site-packages/tenpy/networks/mps.py:2334: UserWarning: canonical_form_infinite: project to smaller bond dimension\n",
      "  Gl, Wr = self._canonical_form_correct_left(i1, Gl, Wr)\n",
      "/home/jerry/anaconda3/lib/python3.7/site-packages/tenpy/networks/mps.py:2179: UserWarning: canonical_form_infinite: project to smaller bond dimension\n",
      "  self.canonical_form_infinite(renormalize)\n",
      "/home/jerry/anaconda3/lib/python3.7/site-packages/tenpy/networks/mps.py:2355: UserWarning: canonical_form_infinite: project to smaller bond dimension\n",
      "  Gl, Wr = self._canonical_form_correct_left(j1, Gl, Wr_list[j1 % L])\n"
     ]
    },
    {
     "name": "stdout",
     "output_type": "stream",
     "text": [
      "Computing properties\n"
     ]
    },
    {
     "name": "stderr",
     "output_type": "stream",
     "text": [
      "/home/jerry/anaconda3/lib/python3.7/site-packages/tenpy/networks/mps.py:2334: UserWarning: canonical_form_infinite: project to smaller bond dimension\n",
      "  Gl, Wr = self._canonical_form_correct_left(i1, Gl, Wr)\n",
      "/home/jerry/anaconda3/lib/python3.7/site-packages/tenpy/networks/mps.py:2179: UserWarning: canonical_form_infinite: project to smaller bond dimension\n",
      "  self.canonical_form_infinite(renormalize)\n",
      "/home/jerry/anaconda3/lib/python3.7/site-packages/tenpy/networks/mps.py:2355: UserWarning: canonical_form_infinite: project to smaller bond dimension\n",
      "  Gl, Wr = self._canonical_form_correct_left(j1, Gl, Wr_list[j1 % L])\n"
     ]
    },
    {
     "name": "stdout",
     "output_type": "stream",
     "text": [
      "Computing properties\n"
     ]
    },
    {
     "name": "stderr",
     "output_type": "stream",
     "text": [
      "/home/jerry/anaconda3/lib/python3.7/site-packages/tenpy/networks/mps.py:2334: UserWarning: canonical_form_infinite: project to smaller bond dimension\n",
      "  Gl, Wr = self._canonical_form_correct_left(i1, Gl, Wr)\n",
      "/home/jerry/anaconda3/lib/python3.7/site-packages/tenpy/networks/mps.py:2179: UserWarning: canonical_form_infinite: project to smaller bond dimension\n",
      "  self.canonical_form_infinite(renormalize)\n",
      "/home/jerry/anaconda3/lib/python3.7/site-packages/tenpy/networks/mps.py:2355: UserWarning: canonical_form_infinite: project to smaller bond dimension\n",
      "  Gl, Wr = self._canonical_form_correct_left(j1, Gl, Wr_list[j1 % L])\n"
     ]
    },
    {
     "name": "stdout",
     "output_type": "stream",
     "text": [
      "Computing properties\n"
     ]
    },
    {
     "name": "stderr",
     "output_type": "stream",
     "text": [
      "/home/jerry/anaconda3/lib/python3.7/site-packages/tenpy/networks/mps.py:2334: UserWarning: canonical_form_infinite: project to smaller bond dimension\n",
      "  Gl, Wr = self._canonical_form_correct_left(i1, Gl, Wr)\n",
      "/home/jerry/anaconda3/lib/python3.7/site-packages/tenpy/networks/mps.py:2179: UserWarning: canonical_form_infinite: project to smaller bond dimension\n",
      "  self.canonical_form_infinite(renormalize)\n",
      "/home/jerry/anaconda3/lib/python3.7/site-packages/tenpy/networks/mps.py:2355: UserWarning: canonical_form_infinite: project to smaller bond dimension\n",
      "  Gl, Wr = self._canonical_form_correct_left(j1, Gl, Wr_list[j1 % L])\n"
     ]
    },
    {
     "name": "stdout",
     "output_type": "stream",
     "text": [
      "Computing properties\n"
     ]
    },
    {
     "name": "stderr",
     "output_type": "stream",
     "text": [
      "/home/jerry/anaconda3/lib/python3.7/site-packages/tenpy/networks/mps.py:2334: UserWarning: canonical_form_infinite: project to smaller bond dimension\n",
      "  Gl, Wr = self._canonical_form_correct_left(i1, Gl, Wr)\n",
      "/home/jerry/anaconda3/lib/python3.7/site-packages/tenpy/networks/mps.py:2179: UserWarning: canonical_form_infinite: project to smaller bond dimension\n",
      "  self.canonical_form_infinite(renormalize)\n",
      "/home/jerry/anaconda3/lib/python3.7/site-packages/tenpy/networks/mps.py:2355: UserWarning: canonical_form_infinite: project to smaller bond dimension\n",
      "  Gl, Wr = self._canonical_form_correct_left(j1, Gl, Wr_list[j1 % L])\n"
     ]
    },
    {
     "name": "stdout",
     "output_type": "stream",
     "text": [
      "Computing properties\n"
     ]
    },
    {
     "name": "stderr",
     "output_type": "stream",
     "text": [
      "/home/jerry/anaconda3/lib/python3.7/site-packages/tenpy/networks/mps.py:2334: UserWarning: canonical_form_infinite: project to smaller bond dimension\n",
      "  Gl, Wr = self._canonical_form_correct_left(i1, Gl, Wr)\n",
      "/home/jerry/anaconda3/lib/python3.7/site-packages/tenpy/networks/mps.py:2179: UserWarning: canonical_form_infinite: project to smaller bond dimension\n",
      "  self.canonical_form_infinite(renormalize)\n",
      "/home/jerry/anaconda3/lib/python3.7/site-packages/tenpy/networks/mps.py:2355: UserWarning: canonical_form_infinite: project to smaller bond dimension\n",
      "  Gl, Wr = self._canonical_form_correct_left(j1, Gl, Wr_list[j1 % L])\n"
     ]
    },
    {
     "name": "stdout",
     "output_type": "stream",
     "text": [
      "Computing properties\n"
     ]
    },
    {
     "name": "stderr",
     "output_type": "stream",
     "text": [
      "/home/jerry/anaconda3/lib/python3.7/site-packages/tenpy/networks/mps.py:2334: UserWarning: canonical_form_infinite: project to smaller bond dimension\n",
      "  Gl, Wr = self._canonical_form_correct_left(i1, Gl, Wr)\n",
      "/home/jerry/anaconda3/lib/python3.7/site-packages/tenpy/networks/mps.py:2179: UserWarning: canonical_form_infinite: project to smaller bond dimension\n",
      "  self.canonical_form_infinite(renormalize)\n",
      "/home/jerry/anaconda3/lib/python3.7/site-packages/tenpy/networks/mps.py:2355: UserWarning: canonical_form_infinite: project to smaller bond dimension\n",
      "  Gl, Wr = self._canonical_form_correct_left(j1, Gl, Wr_list[j1 % L])\n"
     ]
    },
    {
     "name": "stdout",
     "output_type": "stream",
     "text": [
      "Computing properties\n"
     ]
    },
    {
     "name": "stderr",
     "output_type": "stream",
     "text": [
      "/home/jerry/anaconda3/lib/python3.7/site-packages/tenpy/networks/mps.py:2334: UserWarning: canonical_form_infinite: project to smaller bond dimension\n",
      "  Gl, Wr = self._canonical_form_correct_left(i1, Gl, Wr)\n",
      "/home/jerry/anaconda3/lib/python3.7/site-packages/tenpy/networks/mps.py:2179: UserWarning: canonical_form_infinite: project to smaller bond dimension\n",
      "  self.canonical_form_infinite(renormalize)\n",
      "/home/jerry/anaconda3/lib/python3.7/site-packages/tenpy/networks/mps.py:2355: UserWarning: canonical_form_infinite: project to smaller bond dimension\n",
      "  Gl, Wr = self._canonical_form_correct_left(j1, Gl, Wr_list[j1 % L])\n"
     ]
    },
    {
     "name": "stdout",
     "output_type": "stream",
     "text": [
      "Computing properties\n"
     ]
    },
    {
     "name": "stderr",
     "output_type": "stream",
     "text": [
      "/home/jerry/anaconda3/lib/python3.7/site-packages/tenpy/networks/mps.py:2334: UserWarning: canonical_form_infinite: project to smaller bond dimension\n",
      "  Gl, Wr = self._canonical_form_correct_left(i1, Gl, Wr)\n",
      "/home/jerry/anaconda3/lib/python3.7/site-packages/tenpy/networks/mps.py:2179: UserWarning: canonical_form_infinite: project to smaller bond dimension\n",
      "  self.canonical_form_infinite(renormalize)\n",
      "/home/jerry/anaconda3/lib/python3.7/site-packages/tenpy/networks/mps.py:2355: UserWarning: canonical_form_infinite: project to smaller bond dimension\n",
      "  Gl, Wr = self._canonical_form_correct_left(j1, Gl, Wr_list[j1 % L])\n"
     ]
    },
    {
     "name": "stdout",
     "output_type": "stream",
     "text": [
      "Computing properties\n"
     ]
    },
    {
     "name": "stderr",
     "output_type": "stream",
     "text": [
      "/home/jerry/anaconda3/lib/python3.7/site-packages/tenpy/networks/mps.py:2334: UserWarning: canonical_form_infinite: project to smaller bond dimension\n",
      "  Gl, Wr = self._canonical_form_correct_left(i1, Gl, Wr)\n",
      "/home/jerry/anaconda3/lib/python3.7/site-packages/tenpy/networks/mps.py:2179: UserWarning: canonical_form_infinite: project to smaller bond dimension\n",
      "  self.canonical_form_infinite(renormalize)\n",
      "/home/jerry/anaconda3/lib/python3.7/site-packages/tenpy/networks/mps.py:2355: UserWarning: canonical_form_infinite: project to smaller bond dimension\n",
      "  Gl, Wr = self._canonical_form_correct_left(j1, Gl, Wr_list[j1 % L])\n"
     ]
    },
    {
     "name": "stdout",
     "output_type": "stream",
     "text": [
      "Computing properties\n"
     ]
    },
    {
     "name": "stderr",
     "output_type": "stream",
     "text": [
      "/home/jerry/anaconda3/lib/python3.7/site-packages/tenpy/networks/mps.py:2334: UserWarning: canonical_form_infinite: project to smaller bond dimension\n",
      "  Gl, Wr = self._canonical_form_correct_left(i1, Gl, Wr)\n",
      "/home/jerry/anaconda3/lib/python3.7/site-packages/tenpy/networks/mps.py:2179: UserWarning: canonical_form_infinite: project to smaller bond dimension\n",
      "  self.canonical_form_infinite(renormalize)\n",
      "/home/jerry/anaconda3/lib/python3.7/site-packages/tenpy/networks/mps.py:2355: UserWarning: canonical_form_infinite: project to smaller bond dimension\n",
      "  Gl, Wr = self._canonical_form_correct_left(j1, Gl, Wr_list[j1 % L])\n"
     ]
    },
    {
     "name": "stdout",
     "output_type": "stream",
     "text": [
      "Computing properties\n"
     ]
    },
    {
     "name": "stderr",
     "output_type": "stream",
     "text": [
      "/home/jerry/anaconda3/lib/python3.7/site-packages/tenpy/networks/mps.py:2334: UserWarning: canonical_form_infinite: project to smaller bond dimension\n",
      "  Gl, Wr = self._canonical_form_correct_left(i1, Gl, Wr)\n",
      "/home/jerry/anaconda3/lib/python3.7/site-packages/tenpy/networks/mps.py:2179: UserWarning: canonical_form_infinite: project to smaller bond dimension\n",
      "  self.canonical_form_infinite(renormalize)\n",
      "/home/jerry/anaconda3/lib/python3.7/site-packages/tenpy/networks/mps.py:2355: UserWarning: canonical_form_infinite: project to smaller bond dimension\n",
      "  Gl, Wr = self._canonical_form_correct_left(j1, Gl, Wr_list[j1 % L])\n"
     ]
    },
    {
     "name": "stdout",
     "output_type": "stream",
     "text": [
      "Computing properties\n"
     ]
    },
    {
     "name": "stderr",
     "output_type": "stream",
     "text": [
      "/home/jerry/anaconda3/lib/python3.7/site-packages/tenpy/networks/mps.py:2334: UserWarning: canonical_form_infinite: project to smaller bond dimension\n",
      "  Gl, Wr = self._canonical_form_correct_left(i1, Gl, Wr)\n",
      "/home/jerry/anaconda3/lib/python3.7/site-packages/tenpy/networks/mps.py:2179: UserWarning: canonical_form_infinite: project to smaller bond dimension\n",
      "  self.canonical_form_infinite(renormalize)\n",
      "/home/jerry/anaconda3/lib/python3.7/site-packages/tenpy/networks/mps.py:2355: UserWarning: canonical_form_infinite: project to smaller bond dimension\n",
      "  Gl, Wr = self._canonical_form_correct_left(j1, Gl, Wr_list[j1 % L])\n"
     ]
    },
    {
     "name": "stdout",
     "output_type": "stream",
     "text": [
      "Computing properties\n"
     ]
    },
    {
     "name": "stderr",
     "output_type": "stream",
     "text": [
      "/home/jerry/anaconda3/lib/python3.7/site-packages/tenpy/networks/mps.py:2334: UserWarning: canonical_form_infinite: project to smaller bond dimension\n",
      "  Gl, Wr = self._canonical_form_correct_left(i1, Gl, Wr)\n",
      "/home/jerry/anaconda3/lib/python3.7/site-packages/tenpy/networks/mps.py:2179: UserWarning: canonical_form_infinite: project to smaller bond dimension\n",
      "  self.canonical_form_infinite(renormalize)\n",
      "/home/jerry/anaconda3/lib/python3.7/site-packages/tenpy/networks/mps.py:2355: UserWarning: canonical_form_infinite: project to smaller bond dimension\n",
      "  Gl, Wr = self._canonical_form_correct_left(j1, Gl, Wr_list[j1 % L])\n"
     ]
    },
    {
     "name": "stdout",
     "output_type": "stream",
     "text": [
      "Computing properties\n"
     ]
    },
    {
     "name": "stderr",
     "output_type": "stream",
     "text": [
      "/home/jerry/anaconda3/lib/python3.7/site-packages/tenpy/networks/mps.py:2334: UserWarning: canonical_form_infinite: project to smaller bond dimension\n",
      "  Gl, Wr = self._canonical_form_correct_left(i1, Gl, Wr)\n",
      "/home/jerry/anaconda3/lib/python3.7/site-packages/tenpy/networks/mps.py:2179: UserWarning: canonical_form_infinite: project to smaller bond dimension\n",
      "  self.canonical_form_infinite(renormalize)\n",
      "/home/jerry/anaconda3/lib/python3.7/site-packages/tenpy/networks/mps.py:2355: UserWarning: canonical_form_infinite: project to smaller bond dimension\n",
      "  Gl, Wr = self._canonical_form_correct_left(j1, Gl, Wr_list[j1 % L])\n"
     ]
    },
    {
     "name": "stdout",
     "output_type": "stream",
     "text": [
      "Computing properties\n"
     ]
    },
    {
     "name": "stderr",
     "output_type": "stream",
     "text": [
      "/home/jerry/anaconda3/lib/python3.7/site-packages/tenpy/networks/mps.py:2334: UserWarning: canonical_form_infinite: project to smaller bond dimension\n",
      "  Gl, Wr = self._canonical_form_correct_left(i1, Gl, Wr)\n",
      "/home/jerry/anaconda3/lib/python3.7/site-packages/tenpy/networks/mps.py:2179: UserWarning: canonical_form_infinite: project to smaller bond dimension\n",
      "  self.canonical_form_infinite(renormalize)\n",
      "/home/jerry/anaconda3/lib/python3.7/site-packages/tenpy/networks/mps.py:2355: UserWarning: canonical_form_infinite: project to smaller bond dimension\n",
      "  Gl, Wr = self._canonical_form_correct_left(j1, Gl, Wr_list[j1 % L])\n"
     ]
    },
    {
     "name": "stdout",
     "output_type": "stream",
     "text": [
      "Computing properties\n"
     ]
    },
    {
     "name": "stderr",
     "output_type": "stream",
     "text": [
      "/home/jerry/anaconda3/lib/python3.7/site-packages/tenpy/networks/mps.py:2334: UserWarning: canonical_form_infinite: project to smaller bond dimension\n",
      "  Gl, Wr = self._canonical_form_correct_left(i1, Gl, Wr)\n",
      "/home/jerry/anaconda3/lib/python3.7/site-packages/tenpy/networks/mps.py:2179: UserWarning: canonical_form_infinite: project to smaller bond dimension\n",
      "  self.canonical_form_infinite(renormalize)\n",
      "/home/jerry/anaconda3/lib/python3.7/site-packages/tenpy/networks/mps.py:2355: UserWarning: canonical_form_infinite: project to smaller bond dimension\n",
      "  Gl, Wr = self._canonical_form_correct_left(j1, Gl, Wr_list[j1 % L])\n"
     ]
    },
    {
     "name": "stdout",
     "output_type": "stream",
     "text": [
      "Computing properties\n"
     ]
    },
    {
     "name": "stderr",
     "output_type": "stream",
     "text": [
      "/home/jerry/anaconda3/lib/python3.7/site-packages/tenpy/networks/mps.py:2334: UserWarning: canonical_form_infinite: project to smaller bond dimension\n",
      "  Gl, Wr = self._canonical_form_correct_left(i1, Gl, Wr)\n",
      "/home/jerry/anaconda3/lib/python3.7/site-packages/tenpy/networks/mps.py:2179: UserWarning: canonical_form_infinite: project to smaller bond dimension\n",
      "  self.canonical_form_infinite(renormalize)\n",
      "/home/jerry/anaconda3/lib/python3.7/site-packages/tenpy/networks/mps.py:2355: UserWarning: canonical_form_infinite: project to smaller bond dimension\n",
      "  Gl, Wr = self._canonical_form_correct_left(j1, Gl, Wr_list[j1 % L])\n"
     ]
    },
    {
     "name": "stdout",
     "output_type": "stream",
     "text": [
      "Computing properties\n"
     ]
    },
    {
     "name": "stderr",
     "output_type": "stream",
     "text": [
      "/home/jerry/anaconda3/lib/python3.7/site-packages/tenpy/networks/mps.py:2334: UserWarning: canonical_form_infinite: project to smaller bond dimension\n",
      "  Gl, Wr = self._canonical_form_correct_left(i1, Gl, Wr)\n",
      "/home/jerry/anaconda3/lib/python3.7/site-packages/tenpy/networks/mps.py:2179: UserWarning: canonical_form_infinite: project to smaller bond dimension\n",
      "  self.canonical_form_infinite(renormalize)\n",
      "/home/jerry/anaconda3/lib/python3.7/site-packages/tenpy/networks/mps.py:2355: UserWarning: canonical_form_infinite: project to smaller bond dimension\n",
      "  Gl, Wr = self._canonical_form_correct_left(j1, Gl, Wr_list[j1 % L])\n"
     ]
    },
    {
     "name": "stdout",
     "output_type": "stream",
     "text": [
      "Computing properties\n"
     ]
    },
    {
     "name": "stderr",
     "output_type": "stream",
     "text": [
      "/home/jerry/anaconda3/lib/python3.7/site-packages/tenpy/networks/mps.py:2334: UserWarning: canonical_form_infinite: project to smaller bond dimension\n",
      "  Gl, Wr = self._canonical_form_correct_left(i1, Gl, Wr)\n",
      "/home/jerry/anaconda3/lib/python3.7/site-packages/tenpy/networks/mps.py:2179: UserWarning: canonical_form_infinite: project to smaller bond dimension\n",
      "  self.canonical_form_infinite(renormalize)\n",
      "/home/jerry/anaconda3/lib/python3.7/site-packages/tenpy/networks/mps.py:2355: UserWarning: canonical_form_infinite: project to smaller bond dimension\n",
      "  Gl, Wr = self._canonical_form_correct_left(j1, Gl, Wr_list[j1 % L])\n"
     ]
    },
    {
     "name": "stdout",
     "output_type": "stream",
     "text": [
      "Computing properties\n"
     ]
    },
    {
     "name": "stderr",
     "output_type": "stream",
     "text": [
      "/home/jerry/anaconda3/lib/python3.7/site-packages/tenpy/networks/mps.py:2334: UserWarning: canonical_form_infinite: project to smaller bond dimension\n",
      "  Gl, Wr = self._canonical_form_correct_left(i1, Gl, Wr)\n",
      "/home/jerry/anaconda3/lib/python3.7/site-packages/tenpy/networks/mps.py:2179: UserWarning: canonical_form_infinite: project to smaller bond dimension\n",
      "  self.canonical_form_infinite(renormalize)\n",
      "/home/jerry/anaconda3/lib/python3.7/site-packages/tenpy/networks/mps.py:2355: UserWarning: canonical_form_infinite: project to smaller bond dimension\n",
      "  Gl, Wr = self._canonical_form_correct_left(j1, Gl, Wr_list[j1 % L])\n"
     ]
    },
    {
     "name": "stdout",
     "output_type": "stream",
     "text": [
      "Computing properties\n"
     ]
    },
    {
     "name": "stderr",
     "output_type": "stream",
     "text": [
      "/home/jerry/anaconda3/lib/python3.7/site-packages/tenpy/networks/mps.py:2334: UserWarning: canonical_form_infinite: project to smaller bond dimension\n",
      "  Gl, Wr = self._canonical_form_correct_left(i1, Gl, Wr)\n",
      "/home/jerry/anaconda3/lib/python3.7/site-packages/tenpy/networks/mps.py:2179: UserWarning: canonical_form_infinite: project to smaller bond dimension\n",
      "  self.canonical_form_infinite(renormalize)\n",
      "/home/jerry/anaconda3/lib/python3.7/site-packages/tenpy/networks/mps.py:2355: UserWarning: canonical_form_infinite: project to smaller bond dimension\n",
      "  Gl, Wr = self._canonical_form_correct_left(j1, Gl, Wr_list[j1 % L])\n"
     ]
    },
    {
     "name": "stdout",
     "output_type": "stream",
     "text": [
      "Computing properties\n"
     ]
    },
    {
     "name": "stderr",
     "output_type": "stream",
     "text": [
      "/home/jerry/anaconda3/lib/python3.7/site-packages/tenpy/networks/mps.py:2334: UserWarning: canonical_form_infinite: project to smaller bond dimension\n",
      "  Gl, Wr = self._canonical_form_correct_left(i1, Gl, Wr)\n",
      "/home/jerry/anaconda3/lib/python3.7/site-packages/tenpy/networks/mps.py:2179: UserWarning: canonical_form_infinite: project to smaller bond dimension\n",
      "  self.canonical_form_infinite(renormalize)\n",
      "/home/jerry/anaconda3/lib/python3.7/site-packages/tenpy/networks/mps.py:2355: UserWarning: canonical_form_infinite: project to smaller bond dimension\n",
      "  Gl, Wr = self._canonical_form_correct_left(j1, Gl, Wr_list[j1 % L])\n"
     ]
    },
    {
     "name": "stdout",
     "output_type": "stream",
     "text": [
      "Computing properties\n"
     ]
    },
    {
     "name": "stderr",
     "output_type": "stream",
     "text": [
      "/home/jerry/anaconda3/lib/python3.7/site-packages/tenpy/networks/mps.py:2334: UserWarning: canonical_form_infinite: project to smaller bond dimension\n",
      "  Gl, Wr = self._canonical_form_correct_left(i1, Gl, Wr)\n",
      "/home/jerry/anaconda3/lib/python3.7/site-packages/tenpy/networks/mps.py:2179: UserWarning: canonical_form_infinite: project to smaller bond dimension\n",
      "  self.canonical_form_infinite(renormalize)\n",
      "/home/jerry/anaconda3/lib/python3.7/site-packages/tenpy/networks/mps.py:2355: UserWarning: canonical_form_infinite: project to smaller bond dimension\n",
      "  Gl, Wr = self._canonical_form_correct_left(j1, Gl, Wr_list[j1 % L])\n"
     ]
    },
    {
     "name": "stdout",
     "output_type": "stream",
     "text": [
      "Computing properties\n"
     ]
    },
    {
     "name": "stderr",
     "output_type": "stream",
     "text": [
      "/home/jerry/anaconda3/lib/python3.7/site-packages/tenpy/networks/mps.py:2334: UserWarning: canonical_form_infinite: project to smaller bond dimension\n",
      "  Gl, Wr = self._canonical_form_correct_left(i1, Gl, Wr)\n",
      "/home/jerry/anaconda3/lib/python3.7/site-packages/tenpy/networks/mps.py:2179: UserWarning: canonical_form_infinite: project to smaller bond dimension\n",
      "  self.canonical_form_infinite(renormalize)\n",
      "/home/jerry/anaconda3/lib/python3.7/site-packages/tenpy/networks/mps.py:2355: UserWarning: canonical_form_infinite: project to smaller bond dimension\n",
      "  Gl, Wr = self._canonical_form_correct_left(j1, Gl, Wr_list[j1 % L])\n"
     ]
    },
    {
     "name": "stdout",
     "output_type": "stream",
     "text": [
      "Computing properties\n"
     ]
    },
    {
     "name": "stderr",
     "output_type": "stream",
     "text": [
      "/home/jerry/anaconda3/lib/python3.7/site-packages/tenpy/networks/mps.py:2334: UserWarning: canonical_form_infinite: project to smaller bond dimension\n",
      "  Gl, Wr = self._canonical_form_correct_left(i1, Gl, Wr)\n",
      "/home/jerry/anaconda3/lib/python3.7/site-packages/tenpy/networks/mps.py:2179: UserWarning: canonical_form_infinite: project to smaller bond dimension\n",
      "  self.canonical_form_infinite(renormalize)\n",
      "/home/jerry/anaconda3/lib/python3.7/site-packages/tenpy/networks/mps.py:2355: UserWarning: canonical_form_infinite: project to smaller bond dimension\n",
      "  Gl, Wr = self._canonical_form_correct_left(j1, Gl, Wr_list[j1 % L])\n"
     ]
    },
    {
     "name": "stdout",
     "output_type": "stream",
     "text": [
      "Computing properties\n"
     ]
    },
    {
     "name": "stderr",
     "output_type": "stream",
     "text": [
      "/home/jerry/anaconda3/lib/python3.7/site-packages/tenpy/networks/mps.py:2334: UserWarning: canonical_form_infinite: project to smaller bond dimension\n",
      "  Gl, Wr = self._canonical_form_correct_left(i1, Gl, Wr)\n",
      "/home/jerry/anaconda3/lib/python3.7/site-packages/tenpy/networks/mps.py:2179: UserWarning: canonical_form_infinite: project to smaller bond dimension\n",
      "  self.canonical_form_infinite(renormalize)\n",
      "/home/jerry/anaconda3/lib/python3.7/site-packages/tenpy/networks/mps.py:2355: UserWarning: canonical_form_infinite: project to smaller bond dimension\n",
      "  Gl, Wr = self._canonical_form_correct_left(j1, Gl, Wr_list[j1 % L])\n"
     ]
    },
    {
     "name": "stdout",
     "output_type": "stream",
     "text": [
      "Computing properties\n"
     ]
    },
    {
     "name": "stderr",
     "output_type": "stream",
     "text": [
      "/home/jerry/anaconda3/lib/python3.7/site-packages/tenpy/networks/mps.py:2334: UserWarning: canonical_form_infinite: project to smaller bond dimension\n",
      "  Gl, Wr = self._canonical_form_correct_left(i1, Gl, Wr)\n",
      "/home/jerry/anaconda3/lib/python3.7/site-packages/tenpy/networks/mps.py:2179: UserWarning: canonical_form_infinite: project to smaller bond dimension\n",
      "  self.canonical_form_infinite(renormalize)\n",
      "/home/jerry/anaconda3/lib/python3.7/site-packages/tenpy/networks/mps.py:2355: UserWarning: canonical_form_infinite: project to smaller bond dimension\n",
      "  Gl, Wr = self._canonical_form_correct_left(j1, Gl, Wr_list[j1 % L])\n"
     ]
    },
    {
     "name": "stdout",
     "output_type": "stream",
     "text": [
      "Computing properties\n"
     ]
    },
    {
     "name": "stderr",
     "output_type": "stream",
     "text": [
      "/home/jerry/anaconda3/lib/python3.7/site-packages/tenpy/networks/mps.py:2334: UserWarning: canonical_form_infinite: project to smaller bond dimension\n",
      "  Gl, Wr = self._canonical_form_correct_left(i1, Gl, Wr)\n",
      "/home/jerry/anaconda3/lib/python3.7/site-packages/tenpy/networks/mps.py:2179: UserWarning: canonical_form_infinite: project to smaller bond dimension\n",
      "  self.canonical_form_infinite(renormalize)\n",
      "/home/jerry/anaconda3/lib/python3.7/site-packages/tenpy/networks/mps.py:2355: UserWarning: canonical_form_infinite: project to smaller bond dimension\n",
      "  Gl, Wr = self._canonical_form_correct_left(j1, Gl, Wr_list[j1 % L])\n"
     ]
    },
    {
     "name": "stdout",
     "output_type": "stream",
     "text": [
      "Computing properties\n"
     ]
    },
    {
     "name": "stderr",
     "output_type": "stream",
     "text": [
      "/home/jerry/anaconda3/lib/python3.7/site-packages/tenpy/algorithms/dmrg.py:416: UserWarning: final DMRG state not in canonical form within `norm_tol` = 1.00e-05\n",
      "  warnings.warn(msg.format(nt=norm_tol))\n",
      "/home/jerry/anaconda3/lib/python3.7/site-packages/tenpy/networks/mps.py:2334: UserWarning: canonical_form_infinite: project to smaller bond dimension\n",
      "  Gl, Wr = self._canonical_form_correct_left(i1, Gl, Wr)\n",
      "/home/jerry/anaconda3/lib/python3.7/site-packages/tenpy/networks/mps.py:2355: UserWarning: canonical_form_infinite: project to smaller bond dimension\n",
      "  Gl, Wr = self._canonical_form_correct_left(j1, Gl, Wr_list[j1 % L])\n",
      "/home/jerry/anaconda3/lib/python3.7/site-packages/tenpy/networks/mps.py:2334: UserWarning: canonical_form_infinite: project to smaller bond dimension\n",
      "  Gl, Wr = self._canonical_form_correct_left(i1, Gl, Wr)\n",
      "/home/jerry/anaconda3/lib/python3.7/site-packages/tenpy/networks/mps.py:2355: UserWarning: canonical_form_infinite: project to smaller bond dimension\n",
      "  Gl, Wr = self._canonical_form_correct_left(j1, Gl, Wr_list[j1 % L])\n"
     ]
    },
    {
     "name": "stdout",
     "output_type": "stream",
     "text": [
      "Computing properties\n"
     ]
    },
    {
     "name": "stderr",
     "output_type": "stream",
     "text": [
      "/home/jerry/anaconda3/lib/python3.7/site-packages/tenpy/algorithms/dmrg.py:416: UserWarning: final DMRG state not in canonical form within `norm_tol` = 1.00e-05\n",
      "  warnings.warn(msg.format(nt=norm_tol))\n",
      "/home/jerry/anaconda3/lib/python3.7/site-packages/tenpy/networks/mps.py:2334: UserWarning: canonical_form_infinite: project to smaller bond dimension\n",
      "  Gl, Wr = self._canonical_form_correct_left(i1, Gl, Wr)\n",
      "/home/jerry/anaconda3/lib/python3.7/site-packages/tenpy/networks/mps.py:2355: UserWarning: canonical_form_infinite: project to smaller bond dimension\n",
      "  Gl, Wr = self._canonical_form_correct_left(j1, Gl, Wr_list[j1 % L])\n",
      "/home/jerry/anaconda3/lib/python3.7/site-packages/tenpy/networks/mps.py:2355: UserWarning: canonical_form_infinite: project to smaller bond dimension\n",
      "  Gl, Wr = self._canonical_form_correct_left(j1, Gl, Wr_list[j1 % L])\n"
     ]
    },
    {
     "name": "stdout",
     "output_type": "stream",
     "text": [
      "Computing properties\n"
     ]
    },
    {
     "name": "stderr",
     "output_type": "stream",
     "text": [
      "/home/jerry/anaconda3/lib/python3.7/site-packages/tenpy/networks/mps.py:2334: UserWarning: canonical_form_infinite: project to smaller bond dimension\n",
      "  Gl, Wr = self._canonical_form_correct_left(i1, Gl, Wr)\n",
      "/home/jerry/anaconda3/lib/python3.7/site-packages/tenpy/networks/mps.py:2179: UserWarning: canonical_form_infinite: project to smaller bond dimension\n",
      "  self.canonical_form_infinite(renormalize)\n",
      "/home/jerry/anaconda3/lib/python3.7/site-packages/tenpy/networks/mps.py:2355: UserWarning: canonical_form_infinite: project to smaller bond dimension\n",
      "  Gl, Wr = self._canonical_form_correct_left(j1, Gl, Wr_list[j1 % L])\n"
     ]
    },
    {
     "name": "stdout",
     "output_type": "stream",
     "text": [
      "Computing properties\n"
     ]
    },
    {
     "name": "stderr",
     "output_type": "stream",
     "text": [
      "/home/jerry/anaconda3/lib/python3.7/site-packages/tenpy/networks/mps.py:2334: UserWarning: canonical_form_infinite: project to smaller bond dimension\n",
      "  Gl, Wr = self._canonical_form_correct_left(i1, Gl, Wr)\n",
      "/home/jerry/anaconda3/lib/python3.7/site-packages/tenpy/networks/mps.py:2179: UserWarning: canonical_form_infinite: project to smaller bond dimension\n",
      "  self.canonical_form_infinite(renormalize)\n",
      "/home/jerry/anaconda3/lib/python3.7/site-packages/tenpy/networks/mps.py:2355: UserWarning: canonical_form_infinite: project to smaller bond dimension\n",
      "  Gl, Wr = self._canonical_form_correct_left(j1, Gl, Wr_list[j1 % L])\n"
     ]
    },
    {
     "name": "stdout",
     "output_type": "stream",
     "text": [
      "Computing properties\n"
     ]
    },
    {
     "name": "stderr",
     "output_type": "stream",
     "text": [
      "/home/jerry/anaconda3/lib/python3.7/site-packages/tenpy/networks/mps.py:2334: UserWarning: canonical_form_infinite: project to smaller bond dimension\n",
      "  Gl, Wr = self._canonical_form_correct_left(i1, Gl, Wr)\n",
      "/home/jerry/anaconda3/lib/python3.7/site-packages/tenpy/networks/mps.py:2179: UserWarning: canonical_form_infinite: project to smaller bond dimension\n",
      "  self.canonical_form_infinite(renormalize)\n",
      "/home/jerry/anaconda3/lib/python3.7/site-packages/tenpy/networks/mps.py:2355: UserWarning: canonical_form_infinite: project to smaller bond dimension\n",
      "  Gl, Wr = self._canonical_form_correct_left(j1, Gl, Wr_list[j1 % L])\n"
     ]
    },
    {
     "name": "stdout",
     "output_type": "stream",
     "text": [
      "Computing properties\n"
     ]
    },
    {
     "name": "stderr",
     "output_type": "stream",
     "text": [
      "/home/jerry/anaconda3/lib/python3.7/site-packages/tenpy/networks/mps.py:2334: UserWarning: canonical_form_infinite: project to smaller bond dimension\n",
      "  Gl, Wr = self._canonical_form_correct_left(i1, Gl, Wr)\n",
      "/home/jerry/anaconda3/lib/python3.7/site-packages/tenpy/networks/mps.py:2179: UserWarning: canonical_form_infinite: project to smaller bond dimension\n",
      "  self.canonical_form_infinite(renormalize)\n",
      "/home/jerry/anaconda3/lib/python3.7/site-packages/tenpy/networks/mps.py:2355: UserWarning: canonical_form_infinite: project to smaller bond dimension\n",
      "  Gl, Wr = self._canonical_form_correct_left(j1, Gl, Wr_list[j1 % L])\n"
     ]
    },
    {
     "name": "stdout",
     "output_type": "stream",
     "text": [
      "Computing properties\n"
     ]
    },
    {
     "name": "stderr",
     "output_type": "stream",
     "text": [
      "/home/jerry/anaconda3/lib/python3.7/site-packages/tenpy/networks/mps.py:2334: UserWarning: canonical_form_infinite: project to smaller bond dimension\n",
      "  Gl, Wr = self._canonical_form_correct_left(i1, Gl, Wr)\n",
      "/home/jerry/anaconda3/lib/python3.7/site-packages/tenpy/networks/mps.py:2179: UserWarning: canonical_form_infinite: project to smaller bond dimension\n",
      "  self.canonical_form_infinite(renormalize)\n",
      "/home/jerry/anaconda3/lib/python3.7/site-packages/tenpy/networks/mps.py:2355: UserWarning: canonical_form_infinite: project to smaller bond dimension\n",
      "  Gl, Wr = self._canonical_form_correct_left(j1, Gl, Wr_list[j1 % L])\n"
     ]
    },
    {
     "name": "stdout",
     "output_type": "stream",
     "text": [
      "Computing properties\n"
     ]
    },
    {
     "name": "stderr",
     "output_type": "stream",
     "text": [
      "/home/jerry/anaconda3/lib/python3.7/site-packages/tenpy/networks/mps.py:2334: UserWarning: canonical_form_infinite: project to smaller bond dimension\n",
      "  Gl, Wr = self._canonical_form_correct_left(i1, Gl, Wr)\n",
      "/home/jerry/anaconda3/lib/python3.7/site-packages/tenpy/networks/mps.py:2179: UserWarning: canonical_form_infinite: project to smaller bond dimension\n",
      "  self.canonical_form_infinite(renormalize)\n",
      "/home/jerry/anaconda3/lib/python3.7/site-packages/tenpy/networks/mps.py:2355: UserWarning: canonical_form_infinite: project to smaller bond dimension\n",
      "  Gl, Wr = self._canonical_form_correct_left(j1, Gl, Wr_list[j1 % L])\n"
     ]
    },
    {
     "name": "stdout",
     "output_type": "stream",
     "text": [
      "Computing properties\n"
     ]
    },
    {
     "name": "stderr",
     "output_type": "stream",
     "text": [
      "/home/jerry/anaconda3/lib/python3.7/site-packages/tenpy/networks/mps.py:2334: UserWarning: canonical_form_infinite: project to smaller bond dimension\n",
      "  Gl, Wr = self._canonical_form_correct_left(i1, Gl, Wr)\n",
      "/home/jerry/anaconda3/lib/python3.7/site-packages/tenpy/networks/mps.py:2179: UserWarning: canonical_form_infinite: project to smaller bond dimension\n",
      "  self.canonical_form_infinite(renormalize)\n",
      "/home/jerry/anaconda3/lib/python3.7/site-packages/tenpy/networks/mps.py:2355: UserWarning: canonical_form_infinite: project to smaller bond dimension\n",
      "  Gl, Wr = self._canonical_form_correct_left(j1, Gl, Wr_list[j1 % L])\n"
     ]
    },
    {
     "name": "stdout",
     "output_type": "stream",
     "text": [
      "Computing properties\n"
     ]
    },
    {
     "name": "stderr",
     "output_type": "stream",
     "text": [
      "/home/jerry/anaconda3/lib/python3.7/site-packages/tenpy/networks/mps.py:2334: UserWarning: canonical_form_infinite: project to smaller bond dimension\n",
      "  Gl, Wr = self._canonical_form_correct_left(i1, Gl, Wr)\n",
      "/home/jerry/anaconda3/lib/python3.7/site-packages/tenpy/networks/mps.py:2179: UserWarning: canonical_form_infinite: project to smaller bond dimension\n",
      "  self.canonical_form_infinite(renormalize)\n",
      "/home/jerry/anaconda3/lib/python3.7/site-packages/tenpy/networks/mps.py:2355: UserWarning: canonical_form_infinite: project to smaller bond dimension\n",
      "  Gl, Wr = self._canonical_form_correct_left(j1, Gl, Wr_list[j1 % L])\n"
     ]
    },
    {
     "name": "stdout",
     "output_type": "stream",
     "text": [
      "Computing properties\n"
     ]
    },
    {
     "name": "stderr",
     "output_type": "stream",
     "text": [
      "/home/jerry/anaconda3/lib/python3.7/site-packages/tenpy/networks/mps.py:2334: UserWarning: canonical_form_infinite: project to smaller bond dimension\n",
      "  Gl, Wr = self._canonical_form_correct_left(i1, Gl, Wr)\n",
      "/home/jerry/anaconda3/lib/python3.7/site-packages/tenpy/networks/mps.py:2179: UserWarning: canonical_form_infinite: project to smaller bond dimension\n",
      "  self.canonical_form_infinite(renormalize)\n",
      "/home/jerry/anaconda3/lib/python3.7/site-packages/tenpy/networks/mps.py:2355: UserWarning: canonical_form_infinite: project to smaller bond dimension\n",
      "  Gl, Wr = self._canonical_form_correct_left(j1, Gl, Wr_list[j1 % L])\n"
     ]
    },
    {
     "name": "stdout",
     "output_type": "stream",
     "text": [
      "Computing properties\n"
     ]
    },
    {
     "name": "stderr",
     "output_type": "stream",
     "text": [
      "/home/jerry/anaconda3/lib/python3.7/site-packages/tenpy/networks/mps.py:2334: UserWarning: canonical_form_infinite: project to smaller bond dimension\n",
      "  Gl, Wr = self._canonical_form_correct_left(i1, Gl, Wr)\n",
      "/home/jerry/anaconda3/lib/python3.7/site-packages/tenpy/networks/mps.py:2179: UserWarning: canonical_form_infinite: project to smaller bond dimension\n",
      "  self.canonical_form_infinite(renormalize)\n",
      "/home/jerry/anaconda3/lib/python3.7/site-packages/tenpy/networks/mps.py:2355: UserWarning: canonical_form_infinite: project to smaller bond dimension\n",
      "  Gl, Wr = self._canonical_form_correct_left(j1, Gl, Wr_list[j1 % L])\n"
     ]
    },
    {
     "name": "stdout",
     "output_type": "stream",
     "text": [
      "Computing properties\n"
     ]
    },
    {
     "name": "stderr",
     "output_type": "stream",
     "text": [
      "/home/jerry/anaconda3/lib/python3.7/site-packages/tenpy/networks/mps.py:2334: UserWarning: canonical_form_infinite: project to smaller bond dimension\n",
      "  Gl, Wr = self._canonical_form_correct_left(i1, Gl, Wr)\n",
      "/home/jerry/anaconda3/lib/python3.7/site-packages/tenpy/networks/mps.py:2179: UserWarning: canonical_form_infinite: project to smaller bond dimension\n",
      "  self.canonical_form_infinite(renormalize)\n",
      "/home/jerry/anaconda3/lib/python3.7/site-packages/tenpy/networks/mps.py:2355: UserWarning: canonical_form_infinite: project to smaller bond dimension\n",
      "  Gl, Wr = self._canonical_form_correct_left(j1, Gl, Wr_list[j1 % L])\n"
     ]
    },
    {
     "name": "stdout",
     "output_type": "stream",
     "text": [
      "Computing properties\n"
     ]
    },
    {
     "name": "stderr",
     "output_type": "stream",
     "text": [
      "/home/jerry/anaconda3/lib/python3.7/site-packages/tenpy/networks/mps.py:2334: UserWarning: canonical_form_infinite: project to smaller bond dimension\n",
      "  Gl, Wr = self._canonical_form_correct_left(i1, Gl, Wr)\n",
      "/home/jerry/anaconda3/lib/python3.7/site-packages/tenpy/networks/mps.py:2179: UserWarning: canonical_form_infinite: project to smaller bond dimension\n",
      "  self.canonical_form_infinite(renormalize)\n",
      "/home/jerry/anaconda3/lib/python3.7/site-packages/tenpy/networks/mps.py:2355: UserWarning: canonical_form_infinite: project to smaller bond dimension\n",
      "  Gl, Wr = self._canonical_form_correct_left(j1, Gl, Wr_list[j1 % L])\n"
     ]
    },
    {
     "name": "stdout",
     "output_type": "stream",
     "text": [
      "Computing properties\n"
     ]
    },
    {
     "name": "stderr",
     "output_type": "stream",
     "text": [
      "/home/jerry/anaconda3/lib/python3.7/site-packages/tenpy/networks/mps.py:2334: UserWarning: canonical_form_infinite: project to smaller bond dimension\n",
      "  Gl, Wr = self._canonical_form_correct_left(i1, Gl, Wr)\n",
      "/home/jerry/anaconda3/lib/python3.7/site-packages/tenpy/networks/mps.py:2179: UserWarning: canonical_form_infinite: project to smaller bond dimension\n",
      "  self.canonical_form_infinite(renormalize)\n",
      "/home/jerry/anaconda3/lib/python3.7/site-packages/tenpy/networks/mps.py:2355: UserWarning: canonical_form_infinite: project to smaller bond dimension\n",
      "  Gl, Wr = self._canonical_form_correct_left(j1, Gl, Wr_list[j1 % L])\n"
     ]
    },
    {
     "name": "stdout",
     "output_type": "stream",
     "text": [
      "Computing properties\n"
     ]
    },
    {
     "name": "stderr",
     "output_type": "stream",
     "text": [
      "/home/jerry/anaconda3/lib/python3.7/site-packages/tenpy/networks/mps.py:2334: UserWarning: canonical_form_infinite: project to smaller bond dimension\n",
      "  Gl, Wr = self._canonical_form_correct_left(i1, Gl, Wr)\n",
      "/home/jerry/anaconda3/lib/python3.7/site-packages/tenpy/networks/mps.py:2179: UserWarning: canonical_form_infinite: project to smaller bond dimension\n",
      "  self.canonical_form_infinite(renormalize)\n",
      "/home/jerry/anaconda3/lib/python3.7/site-packages/tenpy/networks/mps.py:2355: UserWarning: canonical_form_infinite: project to smaller bond dimension\n",
      "  Gl, Wr = self._canonical_form_correct_left(j1, Gl, Wr_list[j1 % L])\n"
     ]
    },
    {
     "name": "stdout",
     "output_type": "stream",
     "text": [
      "Computing properties\n"
     ]
    },
    {
     "name": "stderr",
     "output_type": "stream",
     "text": [
      "/home/jerry/anaconda3/lib/python3.7/site-packages/tenpy/networks/mps.py:2334: UserWarning: canonical_form_infinite: project to smaller bond dimension\n",
      "  Gl, Wr = self._canonical_form_correct_left(i1, Gl, Wr)\n",
      "/home/jerry/anaconda3/lib/python3.7/site-packages/tenpy/networks/mps.py:2179: UserWarning: canonical_form_infinite: project to smaller bond dimension\n",
      "  self.canonical_form_infinite(renormalize)\n",
      "/home/jerry/anaconda3/lib/python3.7/site-packages/tenpy/networks/mps.py:2355: UserWarning: canonical_form_infinite: project to smaller bond dimension\n",
      "  Gl, Wr = self._canonical_form_correct_left(j1, Gl, Wr_list[j1 % L])\n"
     ]
    },
    {
     "name": "stdout",
     "output_type": "stream",
     "text": [
      "Computing properties\n"
     ]
    },
    {
     "name": "stderr",
     "output_type": "stream",
     "text": [
      "/home/jerry/anaconda3/lib/python3.7/site-packages/tenpy/networks/mps.py:2334: UserWarning: canonical_form_infinite: project to smaller bond dimension\n",
      "  Gl, Wr = self._canonical_form_correct_left(i1, Gl, Wr)\n",
      "/home/jerry/anaconda3/lib/python3.7/site-packages/tenpy/networks/mps.py:2179: UserWarning: canonical_form_infinite: project to smaller bond dimension\n",
      "  self.canonical_form_infinite(renormalize)\n",
      "/home/jerry/anaconda3/lib/python3.7/site-packages/tenpy/networks/mps.py:2355: UserWarning: canonical_form_infinite: project to smaller bond dimension\n",
      "  Gl, Wr = self._canonical_form_correct_left(j1, Gl, Wr_list[j1 % L])\n"
     ]
    },
    {
     "name": "stdout",
     "output_type": "stream",
     "text": [
      "Computing properties\n"
     ]
    },
    {
     "name": "stderr",
     "output_type": "stream",
     "text": [
      "/home/jerry/anaconda3/lib/python3.7/site-packages/tenpy/networks/mps.py:2334: UserWarning: canonical_form_infinite: project to smaller bond dimension\n",
      "  Gl, Wr = self._canonical_form_correct_left(i1, Gl, Wr)\n",
      "/home/jerry/anaconda3/lib/python3.7/site-packages/tenpy/networks/mps.py:2179: UserWarning: canonical_form_infinite: project to smaller bond dimension\n",
      "  self.canonical_form_infinite(renormalize)\n",
      "/home/jerry/anaconda3/lib/python3.7/site-packages/tenpy/networks/mps.py:2355: UserWarning: canonical_form_infinite: project to smaller bond dimension\n",
      "  Gl, Wr = self._canonical_form_correct_left(j1, Gl, Wr_list[j1 % L])\n"
     ]
    },
    {
     "name": "stdout",
     "output_type": "stream",
     "text": [
      "Computing properties\n"
     ]
    },
    {
     "name": "stderr",
     "output_type": "stream",
     "text": [
      "/home/jerry/anaconda3/lib/python3.7/site-packages/tenpy/networks/mps.py:2334: UserWarning: canonical_form_infinite: project to smaller bond dimension\n",
      "  Gl, Wr = self._canonical_form_correct_left(i1, Gl, Wr)\n",
      "/home/jerry/anaconda3/lib/python3.7/site-packages/tenpy/networks/mps.py:2179: UserWarning: canonical_form_infinite: project to smaller bond dimension\n",
      "  self.canonical_form_infinite(renormalize)\n",
      "/home/jerry/anaconda3/lib/python3.7/site-packages/tenpy/networks/mps.py:2355: UserWarning: canonical_form_infinite: project to smaller bond dimension\n",
      "  Gl, Wr = self._canonical_form_correct_left(j1, Gl, Wr_list[j1 % L])\n"
     ]
    },
    {
     "name": "stdout",
     "output_type": "stream",
     "text": [
      "Computing properties\n"
     ]
    },
    {
     "name": "stderr",
     "output_type": "stream",
     "text": [
      "/home/jerry/anaconda3/lib/python3.7/site-packages/tenpy/networks/mps.py:2334: UserWarning: canonical_form_infinite: project to smaller bond dimension\n",
      "  Gl, Wr = self._canonical_form_correct_left(i1, Gl, Wr)\n",
      "/home/jerry/anaconda3/lib/python3.7/site-packages/tenpy/networks/mps.py:2179: UserWarning: canonical_form_infinite: project to smaller bond dimension\n",
      "  self.canonical_form_infinite(renormalize)\n",
      "/home/jerry/anaconda3/lib/python3.7/site-packages/tenpy/networks/mps.py:2355: UserWarning: canonical_form_infinite: project to smaller bond dimension\n",
      "  Gl, Wr = self._canonical_form_correct_left(j1, Gl, Wr_list[j1 % L])\n"
     ]
    },
    {
     "name": "stdout",
     "output_type": "stream",
     "text": [
      "Computing properties\n"
     ]
    },
    {
     "name": "stderr",
     "output_type": "stream",
     "text": [
      "/home/jerry/anaconda3/lib/python3.7/site-packages/tenpy/networks/mps.py:2334: UserWarning: canonical_form_infinite: project to smaller bond dimension\n",
      "  Gl, Wr = self._canonical_form_correct_left(i1, Gl, Wr)\n",
      "/home/jerry/anaconda3/lib/python3.7/site-packages/tenpy/networks/mps.py:2179: UserWarning: canonical_form_infinite: project to smaller bond dimension\n",
      "  self.canonical_form_infinite(renormalize)\n",
      "/home/jerry/anaconda3/lib/python3.7/site-packages/tenpy/networks/mps.py:2355: UserWarning: canonical_form_infinite: project to smaller bond dimension\n",
      "  Gl, Wr = self._canonical_form_correct_left(j1, Gl, Wr_list[j1 % L])\n"
     ]
    },
    {
     "name": "stdout",
     "output_type": "stream",
     "text": [
      "Computing properties\n"
     ]
    },
    {
     "name": "stderr",
     "output_type": "stream",
     "text": [
      "/home/jerry/anaconda3/lib/python3.7/site-packages/tenpy/networks/mps.py:2334: UserWarning: canonical_form_infinite: project to smaller bond dimension\n",
      "  Gl, Wr = self._canonical_form_correct_left(i1, Gl, Wr)\n",
      "/home/jerry/anaconda3/lib/python3.7/site-packages/tenpy/networks/mps.py:2179: UserWarning: canonical_form_infinite: project to smaller bond dimension\n",
      "  self.canonical_form_infinite(renormalize)\n",
      "/home/jerry/anaconda3/lib/python3.7/site-packages/tenpy/networks/mps.py:2355: UserWarning: canonical_form_infinite: project to smaller bond dimension\n",
      "  Gl, Wr = self._canonical_form_correct_left(j1, Gl, Wr_list[j1 % L])\n"
     ]
    },
    {
     "name": "stdout",
     "output_type": "stream",
     "text": [
      "Computing properties\n"
     ]
    },
    {
     "name": "stderr",
     "output_type": "stream",
     "text": [
      "/home/jerry/anaconda3/lib/python3.7/site-packages/tenpy/networks/mps.py:2334: UserWarning: canonical_form_infinite: project to smaller bond dimension\n",
      "  Gl, Wr = self._canonical_form_correct_left(i1, Gl, Wr)\n",
      "/home/jerry/anaconda3/lib/python3.7/site-packages/tenpy/networks/mps.py:2179: UserWarning: canonical_form_infinite: project to smaller bond dimension\n",
      "  self.canonical_form_infinite(renormalize)\n",
      "/home/jerry/anaconda3/lib/python3.7/site-packages/tenpy/networks/mps.py:2355: UserWarning: canonical_form_infinite: project to smaller bond dimension\n",
      "  Gl, Wr = self._canonical_form_correct_left(j1, Gl, Wr_list[j1 % L])\n"
     ]
    },
    {
     "name": "stdout",
     "output_type": "stream",
     "text": [
      "Computing properties\n"
     ]
    },
    {
     "name": "stderr",
     "output_type": "stream",
     "text": [
      "/home/jerry/anaconda3/lib/python3.7/site-packages/tenpy/networks/mps.py:2334: UserWarning: canonical_form_infinite: project to smaller bond dimension\n",
      "  Gl, Wr = self._canonical_form_correct_left(i1, Gl, Wr)\n",
      "/home/jerry/anaconda3/lib/python3.7/site-packages/tenpy/networks/mps.py:2179: UserWarning: canonical_form_infinite: project to smaller bond dimension\n",
      "  self.canonical_form_infinite(renormalize)\n",
      "/home/jerry/anaconda3/lib/python3.7/site-packages/tenpy/networks/mps.py:2355: UserWarning: canonical_form_infinite: project to smaller bond dimension\n",
      "  Gl, Wr = self._canonical_form_correct_left(j1, Gl, Wr_list[j1 % L])\n"
     ]
    },
    {
     "name": "stdout",
     "output_type": "stream",
     "text": [
      "Computing properties\n"
     ]
    },
    {
     "name": "stderr",
     "output_type": "stream",
     "text": [
      "/home/jerry/anaconda3/lib/python3.7/site-packages/tenpy/networks/mps.py:2334: UserWarning: canonical_form_infinite: project to smaller bond dimension\n",
      "  Gl, Wr = self._canonical_form_correct_left(i1, Gl, Wr)\n",
      "/home/jerry/anaconda3/lib/python3.7/site-packages/tenpy/networks/mps.py:2179: UserWarning: canonical_form_infinite: project to smaller bond dimension\n",
      "  self.canonical_form_infinite(renormalize)\n",
      "/home/jerry/anaconda3/lib/python3.7/site-packages/tenpy/networks/mps.py:2355: UserWarning: canonical_form_infinite: project to smaller bond dimension\n",
      "  Gl, Wr = self._canonical_form_correct_left(j1, Gl, Wr_list[j1 % L])\n"
     ]
    },
    {
     "name": "stdout",
     "output_type": "stream",
     "text": [
      "Computing properties\n"
     ]
    },
    {
     "name": "stderr",
     "output_type": "stream",
     "text": [
      "/home/jerry/anaconda3/lib/python3.7/site-packages/tenpy/networks/mps.py:2334: UserWarning: canonical_form_infinite: project to smaller bond dimension\n",
      "  Gl, Wr = self._canonical_form_correct_left(i1, Gl, Wr)\n",
      "/home/jerry/anaconda3/lib/python3.7/site-packages/tenpy/networks/mps.py:2179: UserWarning: canonical_form_infinite: project to smaller bond dimension\n",
      "  self.canonical_form_infinite(renormalize)\n",
      "/home/jerry/anaconda3/lib/python3.7/site-packages/tenpy/networks/mps.py:2355: UserWarning: canonical_form_infinite: project to smaller bond dimension\n",
      "  Gl, Wr = self._canonical_form_correct_left(j1, Gl, Wr_list[j1 % L])\n"
     ]
    },
    {
     "name": "stdout",
     "output_type": "stream",
     "text": [
      "Computing properties\n"
     ]
    },
    {
     "name": "stderr",
     "output_type": "stream",
     "text": [
      "/home/jerry/anaconda3/lib/python3.7/site-packages/tenpy/networks/mps.py:2334: UserWarning: canonical_form_infinite: project to smaller bond dimension\n",
      "  Gl, Wr = self._canonical_form_correct_left(i1, Gl, Wr)\n",
      "/home/jerry/anaconda3/lib/python3.7/site-packages/tenpy/networks/mps.py:2179: UserWarning: canonical_form_infinite: project to smaller bond dimension\n",
      "  self.canonical_form_infinite(renormalize)\n",
      "/home/jerry/anaconda3/lib/python3.7/site-packages/tenpy/networks/mps.py:2355: UserWarning: canonical_form_infinite: project to smaller bond dimension\n",
      "  Gl, Wr = self._canonical_form_correct_left(j1, Gl, Wr_list[j1 % L])\n"
     ]
    },
    {
     "name": "stdout",
     "output_type": "stream",
     "text": [
      "Computing properties\n"
     ]
    },
    {
     "name": "stderr",
     "output_type": "stream",
     "text": [
      "/home/jerry/anaconda3/lib/python3.7/site-packages/tenpy/networks/mps.py:2334: UserWarning: canonical_form_infinite: project to smaller bond dimension\n",
      "  Gl, Wr = self._canonical_form_correct_left(i1, Gl, Wr)\n",
      "/home/jerry/anaconda3/lib/python3.7/site-packages/tenpy/networks/mps.py:2179: UserWarning: canonical_form_infinite: project to smaller bond dimension\n",
      "  self.canonical_form_infinite(renormalize)\n",
      "/home/jerry/anaconda3/lib/python3.7/site-packages/tenpy/networks/mps.py:2355: UserWarning: canonical_form_infinite: project to smaller bond dimension\n",
      "  Gl, Wr = self._canonical_form_correct_left(j1, Gl, Wr_list[j1 % L])\n"
     ]
    },
    {
     "name": "stdout",
     "output_type": "stream",
     "text": [
      "Computing properties\n"
     ]
    },
    {
     "name": "stderr",
     "output_type": "stream",
     "text": [
      "/home/jerry/anaconda3/lib/python3.7/site-packages/tenpy/networks/mps.py:2334: UserWarning: canonical_form_infinite: project to smaller bond dimension\n",
      "  Gl, Wr = self._canonical_form_correct_left(i1, Gl, Wr)\n",
      "/home/jerry/anaconda3/lib/python3.7/site-packages/tenpy/networks/mps.py:2179: UserWarning: canonical_form_infinite: project to smaller bond dimension\n",
      "  self.canonical_form_infinite(renormalize)\n",
      "/home/jerry/anaconda3/lib/python3.7/site-packages/tenpy/networks/mps.py:2355: UserWarning: canonical_form_infinite: project to smaller bond dimension\n",
      "  Gl, Wr = self._canonical_form_correct_left(j1, Gl, Wr_list[j1 % L])\n"
     ]
    },
    {
     "name": "stdout",
     "output_type": "stream",
     "text": [
      "Computing properties\n"
     ]
    },
    {
     "name": "stderr",
     "output_type": "stream",
     "text": [
      "/home/jerry/anaconda3/lib/python3.7/site-packages/tenpy/networks/mps.py:2334: UserWarning: canonical_form_infinite: project to smaller bond dimension\n",
      "  Gl, Wr = self._canonical_form_correct_left(i1, Gl, Wr)\n",
      "/home/jerry/anaconda3/lib/python3.7/site-packages/tenpy/networks/mps.py:2355: UserWarning: canonical_form_infinite: project to smaller bond dimension\n",
      "  Gl, Wr = self._canonical_form_correct_left(j1, Gl, Wr_list[j1 % L])\n"
     ]
    },
    {
     "name": "stdout",
     "output_type": "stream",
     "text": [
      "Computing properties\n"
     ]
    },
    {
     "name": "stderr",
     "output_type": "stream",
     "text": [
      "/home/jerry/anaconda3/lib/python3.7/site-packages/tenpy/networks/mps.py:2334: UserWarning: canonical_form_infinite: project to smaller bond dimension\n",
      "  Gl, Wr = self._canonical_form_correct_left(i1, Gl, Wr)\n",
      "/home/jerry/anaconda3/lib/python3.7/site-packages/tenpy/networks/mps.py:2355: UserWarning: canonical_form_infinite: project to smaller bond dimension\n",
      "  Gl, Wr = self._canonical_form_correct_left(j1, Gl, Wr_list[j1 % L])\n"
     ]
    },
    {
     "name": "stdout",
     "output_type": "stream",
     "text": [
      "Computing properties\n"
     ]
    },
    {
     "name": "stderr",
     "output_type": "stream",
     "text": [
      "/home/jerry/anaconda3/lib/python3.7/site-packages/tenpy/networks/mps.py:2334: UserWarning: canonical_form_infinite: project to smaller bond dimension\n",
      "  Gl, Wr = self._canonical_form_correct_left(i1, Gl, Wr)\n",
      "/home/jerry/anaconda3/lib/python3.7/site-packages/tenpy/networks/mps.py:2179: UserWarning: canonical_form_infinite: project to smaller bond dimension\n",
      "  self.canonical_form_infinite(renormalize)\n",
      "/home/jerry/anaconda3/lib/python3.7/site-packages/tenpy/networks/mps.py:2355: UserWarning: canonical_form_infinite: project to smaller bond dimension\n",
      "  Gl, Wr = self._canonical_form_correct_left(j1, Gl, Wr_list[j1 % L])\n"
     ]
    },
    {
     "name": "stdout",
     "output_type": "stream",
     "text": [
      "Computing properties\n"
     ]
    },
    {
     "name": "stderr",
     "output_type": "stream",
     "text": [
      "/home/jerry/anaconda3/lib/python3.7/site-packages/tenpy/networks/mps.py:2334: UserWarning: canonical_form_infinite: project to smaller bond dimension\n",
      "  Gl, Wr = self._canonical_form_correct_left(i1, Gl, Wr)\n",
      "/home/jerry/anaconda3/lib/python3.7/site-packages/tenpy/networks/mps.py:2179: UserWarning: canonical_form_infinite: project to smaller bond dimension\n",
      "  self.canonical_form_infinite(renormalize)\n",
      "/home/jerry/anaconda3/lib/python3.7/site-packages/tenpy/networks/mps.py:2355: UserWarning: canonical_form_infinite: project to smaller bond dimension\n",
      "  Gl, Wr = self._canonical_form_correct_left(j1, Gl, Wr_list[j1 % L])\n"
     ]
    },
    {
     "name": "stdout",
     "output_type": "stream",
     "text": [
      "Computing properties\n"
     ]
    },
    {
     "name": "stderr",
     "output_type": "stream",
     "text": [
      "/home/jerry/anaconda3/lib/python3.7/site-packages/tenpy/networks/mps.py:2334: UserWarning: canonical_form_infinite: project to smaller bond dimension\n",
      "  Gl, Wr = self._canonical_form_correct_left(i1, Gl, Wr)\n",
      "/home/jerry/anaconda3/lib/python3.7/site-packages/tenpy/networks/mps.py:2179: UserWarning: canonical_form_infinite: project to smaller bond dimension\n",
      "  self.canonical_form_infinite(renormalize)\n",
      "/home/jerry/anaconda3/lib/python3.7/site-packages/tenpy/networks/mps.py:2355: UserWarning: canonical_form_infinite: project to smaller bond dimension\n",
      "  Gl, Wr = self._canonical_form_correct_left(j1, Gl, Wr_list[j1 % L])\n"
     ]
    },
    {
     "name": "stdout",
     "output_type": "stream",
     "text": [
      "Computing properties\n"
     ]
    },
    {
     "name": "stderr",
     "output_type": "stream",
     "text": [
      "/home/jerry/anaconda3/lib/python3.7/site-packages/tenpy/networks/mps.py:2334: UserWarning: canonical_form_infinite: project to smaller bond dimension\n",
      "  Gl, Wr = self._canonical_form_correct_left(i1, Gl, Wr)\n",
      "/home/jerry/anaconda3/lib/python3.7/site-packages/tenpy/networks/mps.py:2179: UserWarning: canonical_form_infinite: project to smaller bond dimension\n",
      "  self.canonical_form_infinite(renormalize)\n",
      "/home/jerry/anaconda3/lib/python3.7/site-packages/tenpy/networks/mps.py:2355: UserWarning: canonical_form_infinite: project to smaller bond dimension\n",
      "  Gl, Wr = self._canonical_form_correct_left(j1, Gl, Wr_list[j1 % L])\n"
     ]
    },
    {
     "name": "stdout",
     "output_type": "stream",
     "text": [
      "Computing properties\n"
     ]
    },
    {
     "name": "stderr",
     "output_type": "stream",
     "text": [
      "/home/jerry/anaconda3/lib/python3.7/site-packages/tenpy/networks/mps.py:2334: UserWarning: canonical_form_infinite: project to smaller bond dimension\n",
      "  Gl, Wr = self._canonical_form_correct_left(i1, Gl, Wr)\n",
      "/home/jerry/anaconda3/lib/python3.7/site-packages/tenpy/networks/mps.py:2179: UserWarning: canonical_form_infinite: project to smaller bond dimension\n",
      "  self.canonical_form_infinite(renormalize)\n",
      "/home/jerry/anaconda3/lib/python3.7/site-packages/tenpy/networks/mps.py:2355: UserWarning: canonical_form_infinite: project to smaller bond dimension\n",
      "  Gl, Wr = self._canonical_form_correct_left(j1, Gl, Wr_list[j1 % L])\n"
     ]
    },
    {
     "name": "stdout",
     "output_type": "stream",
     "text": [
      "Computing properties\n"
     ]
    },
    {
     "name": "stderr",
     "output_type": "stream",
     "text": [
      "/home/jerry/anaconda3/lib/python3.7/site-packages/tenpy/networks/mps.py:2334: UserWarning: canonical_form_infinite: project to smaller bond dimension\n",
      "  Gl, Wr = self._canonical_form_correct_left(i1, Gl, Wr)\n",
      "/home/jerry/anaconda3/lib/python3.7/site-packages/tenpy/networks/mps.py:2179: UserWarning: canonical_form_infinite: project to smaller bond dimension\n",
      "  self.canonical_form_infinite(renormalize)\n",
      "/home/jerry/anaconda3/lib/python3.7/site-packages/tenpy/networks/mps.py:2355: UserWarning: canonical_form_infinite: project to smaller bond dimension\n",
      "  Gl, Wr = self._canonical_form_correct_left(j1, Gl, Wr_list[j1 % L])\n"
     ]
    },
    {
     "name": "stdout",
     "output_type": "stream",
     "text": [
      "Computing properties\n"
     ]
    },
    {
     "name": "stderr",
     "output_type": "stream",
     "text": [
      "/home/jerry/anaconda3/lib/python3.7/site-packages/tenpy/networks/mps.py:2334: UserWarning: canonical_form_infinite: project to smaller bond dimension\n",
      "  Gl, Wr = self._canonical_form_correct_left(i1, Gl, Wr)\n",
      "/home/jerry/anaconda3/lib/python3.7/site-packages/tenpy/networks/mps.py:2179: UserWarning: canonical_form_infinite: project to smaller bond dimension\n",
      "  self.canonical_form_infinite(renormalize)\n",
      "/home/jerry/anaconda3/lib/python3.7/site-packages/tenpy/networks/mps.py:2355: UserWarning: canonical_form_infinite: project to smaller bond dimension\n",
      "  Gl, Wr = self._canonical_form_correct_left(j1, Gl, Wr_list[j1 % L])\n"
     ]
    },
    {
     "name": "stdout",
     "output_type": "stream",
     "text": [
      "Computing properties\n"
     ]
    },
    {
     "name": "stderr",
     "output_type": "stream",
     "text": [
      "/home/jerry/anaconda3/lib/python3.7/site-packages/tenpy/networks/mps.py:2334: UserWarning: canonical_form_infinite: project to smaller bond dimension\n",
      "  Gl, Wr = self._canonical_form_correct_left(i1, Gl, Wr)\n",
      "/home/jerry/anaconda3/lib/python3.7/site-packages/tenpy/networks/mps.py:2179: UserWarning: canonical_form_infinite: project to smaller bond dimension\n",
      "  self.canonical_form_infinite(renormalize)\n",
      "/home/jerry/anaconda3/lib/python3.7/site-packages/tenpy/networks/mps.py:2355: UserWarning: canonical_form_infinite: project to smaller bond dimension\n",
      "  Gl, Wr = self._canonical_form_correct_left(j1, Gl, Wr_list[j1 % L])\n"
     ]
    },
    {
     "name": "stdout",
     "output_type": "stream",
     "text": [
      "Computing properties\n"
     ]
    },
    {
     "name": "stderr",
     "output_type": "stream",
     "text": [
      "/home/jerry/anaconda3/lib/python3.7/site-packages/tenpy/networks/mps.py:2334: UserWarning: canonical_form_infinite: project to smaller bond dimension\n",
      "  Gl, Wr = self._canonical_form_correct_left(i1, Gl, Wr)\n",
      "/home/jerry/anaconda3/lib/python3.7/site-packages/tenpy/networks/mps.py:2179: UserWarning: canonical_form_infinite: project to smaller bond dimension\n",
      "  self.canonical_form_infinite(renormalize)\n",
      "/home/jerry/anaconda3/lib/python3.7/site-packages/tenpy/networks/mps.py:2355: UserWarning: canonical_form_infinite: project to smaller bond dimension\n",
      "  Gl, Wr = self._canonical_form_correct_left(j1, Gl, Wr_list[j1 % L])\n"
     ]
    },
    {
     "name": "stdout",
     "output_type": "stream",
     "text": [
      "Computing properties\n"
     ]
    },
    {
     "name": "stderr",
     "output_type": "stream",
     "text": [
      "/home/jerry/anaconda3/lib/python3.7/site-packages/tenpy/networks/mps.py:2334: UserWarning: canonical_form_infinite: project to smaller bond dimension\n",
      "  Gl, Wr = self._canonical_form_correct_left(i1, Gl, Wr)\n",
      "/home/jerry/anaconda3/lib/python3.7/site-packages/tenpy/networks/mps.py:2179: UserWarning: canonical_form_infinite: project to smaller bond dimension\n",
      "  self.canonical_form_infinite(renormalize)\n",
      "/home/jerry/anaconda3/lib/python3.7/site-packages/tenpy/networks/mps.py:2355: UserWarning: canonical_form_infinite: project to smaller bond dimension\n",
      "  Gl, Wr = self._canonical_form_correct_left(j1, Gl, Wr_list[j1 % L])\n"
     ]
    },
    {
     "name": "stdout",
     "output_type": "stream",
     "text": [
      "Computing properties\n"
     ]
    },
    {
     "name": "stderr",
     "output_type": "stream",
     "text": [
      "/home/jerry/anaconda3/lib/python3.7/site-packages/tenpy/networks/mps.py:2334: UserWarning: canonical_form_infinite: project to smaller bond dimension\n",
      "  Gl, Wr = self._canonical_form_correct_left(i1, Gl, Wr)\n",
      "/home/jerry/anaconda3/lib/python3.7/site-packages/tenpy/networks/mps.py:2179: UserWarning: canonical_form_infinite: project to smaller bond dimension\n",
      "  self.canonical_form_infinite(renormalize)\n",
      "/home/jerry/anaconda3/lib/python3.7/site-packages/tenpy/networks/mps.py:2355: UserWarning: canonical_form_infinite: project to smaller bond dimension\n",
      "  Gl, Wr = self._canonical_form_correct_left(j1, Gl, Wr_list[j1 % L])\n"
     ]
    },
    {
     "name": "stdout",
     "output_type": "stream",
     "text": [
      "Computing properties\n"
     ]
    },
    {
     "name": "stderr",
     "output_type": "stream",
     "text": [
      "/home/jerry/anaconda3/lib/python3.7/site-packages/tenpy/networks/mps.py:2334: UserWarning: canonical_form_infinite: project to smaller bond dimension\n",
      "  Gl, Wr = self._canonical_form_correct_left(i1, Gl, Wr)\n",
      "/home/jerry/anaconda3/lib/python3.7/site-packages/tenpy/networks/mps.py:2179: UserWarning: canonical_form_infinite: project to smaller bond dimension\n",
      "  self.canonical_form_infinite(renormalize)\n",
      "/home/jerry/anaconda3/lib/python3.7/site-packages/tenpy/networks/mps.py:2355: UserWarning: canonical_form_infinite: project to smaller bond dimension\n",
      "  Gl, Wr = self._canonical_form_correct_left(j1, Gl, Wr_list[j1 % L])\n"
     ]
    },
    {
     "name": "stdout",
     "output_type": "stream",
     "text": [
      "Computing properties\n"
     ]
    },
    {
     "name": "stderr",
     "output_type": "stream",
     "text": [
      "/home/jerry/anaconda3/lib/python3.7/site-packages/tenpy/networks/mps.py:2334: UserWarning: canonical_form_infinite: project to smaller bond dimension\n",
      "  Gl, Wr = self._canonical_form_correct_left(i1, Gl, Wr)\n",
      "/home/jerry/anaconda3/lib/python3.7/site-packages/tenpy/networks/mps.py:2179: UserWarning: canonical_form_infinite: project to smaller bond dimension\n",
      "  self.canonical_form_infinite(renormalize)\n",
      "/home/jerry/anaconda3/lib/python3.7/site-packages/tenpy/networks/mps.py:2355: UserWarning: canonical_form_infinite: project to smaller bond dimension\n",
      "  Gl, Wr = self._canonical_form_correct_left(j1, Gl, Wr_list[j1 % L])\n"
     ]
    },
    {
     "name": "stdout",
     "output_type": "stream",
     "text": [
      "Computing properties\n"
     ]
    },
    {
     "name": "stderr",
     "output_type": "stream",
     "text": [
      "/home/jerry/anaconda3/lib/python3.7/site-packages/tenpy/networks/mps.py:2334: UserWarning: canonical_form_infinite: project to smaller bond dimension\n",
      "  Gl, Wr = self._canonical_form_correct_left(i1, Gl, Wr)\n",
      "/home/jerry/anaconda3/lib/python3.7/site-packages/tenpy/networks/mps.py:2179: UserWarning: canonical_form_infinite: project to smaller bond dimension\n",
      "  self.canonical_form_infinite(renormalize)\n",
      "/home/jerry/anaconda3/lib/python3.7/site-packages/tenpy/networks/mps.py:2355: UserWarning: canonical_form_infinite: project to smaller bond dimension\n",
      "  Gl, Wr = self._canonical_form_correct_left(j1, Gl, Wr_list[j1 % L])\n"
     ]
    },
    {
     "name": "stdout",
     "output_type": "stream",
     "text": [
      "Computing properties\n"
     ]
    },
    {
     "name": "stderr",
     "output_type": "stream",
     "text": [
      "/home/jerry/anaconda3/lib/python3.7/site-packages/tenpy/networks/mps.py:2334: UserWarning: canonical_form_infinite: project to smaller bond dimension\n",
      "  Gl, Wr = self._canonical_form_correct_left(i1, Gl, Wr)\n",
      "/home/jerry/anaconda3/lib/python3.7/site-packages/tenpy/networks/mps.py:2179: UserWarning: canonical_form_infinite: project to smaller bond dimension\n",
      "  self.canonical_form_infinite(renormalize)\n",
      "/home/jerry/anaconda3/lib/python3.7/site-packages/tenpy/networks/mps.py:2355: UserWarning: canonical_form_infinite: project to smaller bond dimension\n",
      "  Gl, Wr = self._canonical_form_correct_left(j1, Gl, Wr_list[j1 % L])\n"
     ]
    },
    {
     "name": "stdout",
     "output_type": "stream",
     "text": [
      "Computing properties\n"
     ]
    },
    {
     "name": "stderr",
     "output_type": "stream",
     "text": [
      "/home/jerry/anaconda3/lib/python3.7/site-packages/tenpy/networks/mps.py:2334: UserWarning: canonical_form_infinite: project to smaller bond dimension\n",
      "  Gl, Wr = self._canonical_form_correct_left(i1, Gl, Wr)\n",
      "/home/jerry/anaconda3/lib/python3.7/site-packages/tenpy/networks/mps.py:2179: UserWarning: canonical_form_infinite: project to smaller bond dimension\n",
      "  self.canonical_form_infinite(renormalize)\n",
      "/home/jerry/anaconda3/lib/python3.7/site-packages/tenpy/networks/mps.py:2355: UserWarning: canonical_form_infinite: project to smaller bond dimension\n",
      "  Gl, Wr = self._canonical_form_correct_left(j1, Gl, Wr_list[j1 % L])\n"
     ]
    },
    {
     "name": "stdout",
     "output_type": "stream",
     "text": [
      "Computing properties\n"
     ]
    },
    {
     "name": "stderr",
     "output_type": "stream",
     "text": [
      "/home/jerry/anaconda3/lib/python3.7/site-packages/tenpy/networks/mps.py:2334: UserWarning: canonical_form_infinite: project to smaller bond dimension\n",
      "  Gl, Wr = self._canonical_form_correct_left(i1, Gl, Wr)\n",
      "/home/jerry/anaconda3/lib/python3.7/site-packages/tenpy/networks/mps.py:2179: UserWarning: canonical_form_infinite: project to smaller bond dimension\n",
      "  self.canonical_form_infinite(renormalize)\n",
      "/home/jerry/anaconda3/lib/python3.7/site-packages/tenpy/networks/mps.py:2355: UserWarning: canonical_form_infinite: project to smaller bond dimension\n",
      "  Gl, Wr = self._canonical_form_correct_left(j1, Gl, Wr_list[j1 % L])\n"
     ]
    },
    {
     "name": "stdout",
     "output_type": "stream",
     "text": [
      "Computing properties\n"
     ]
    },
    {
     "name": "stderr",
     "output_type": "stream",
     "text": [
      "/home/jerry/anaconda3/lib/python3.7/site-packages/tenpy/networks/mps.py:2334: UserWarning: canonical_form_infinite: project to smaller bond dimension\n",
      "  Gl, Wr = self._canonical_form_correct_left(i1, Gl, Wr)\n",
      "/home/jerry/anaconda3/lib/python3.7/site-packages/tenpy/networks/mps.py:2179: UserWarning: canonical_form_infinite: project to smaller bond dimension\n",
      "  self.canonical_form_infinite(renormalize)\n",
      "/home/jerry/anaconda3/lib/python3.7/site-packages/tenpy/networks/mps.py:2355: UserWarning: canonical_form_infinite: project to smaller bond dimension\n",
      "  Gl, Wr = self._canonical_form_correct_left(j1, Gl, Wr_list[j1 % L])\n"
     ]
    },
    {
     "name": "stdout",
     "output_type": "stream",
     "text": [
      "Computing properties\n"
     ]
    },
    {
     "name": "stderr",
     "output_type": "stream",
     "text": [
      "/home/jerry/anaconda3/lib/python3.7/site-packages/tenpy/networks/mps.py:2334: UserWarning: canonical_form_infinite: project to smaller bond dimension\n",
      "  Gl, Wr = self._canonical_form_correct_left(i1, Gl, Wr)\n",
      "/home/jerry/anaconda3/lib/python3.7/site-packages/tenpy/networks/mps.py:2179: UserWarning: canonical_form_infinite: project to smaller bond dimension\n",
      "  self.canonical_form_infinite(renormalize)\n",
      "/home/jerry/anaconda3/lib/python3.7/site-packages/tenpy/networks/mps.py:2355: UserWarning: canonical_form_infinite: project to smaller bond dimension\n",
      "  Gl, Wr = self._canonical_form_correct_left(j1, Gl, Wr_list[j1 % L])\n"
     ]
    },
    {
     "name": "stdout",
     "output_type": "stream",
     "text": [
      "Computing properties\n"
     ]
    }
   ],
   "source": [
    "J_list_1 = linspace(1-delta, 0, N)\n",
    "chi = chi_m\n",
    "\n",
    "# read the wave function in the first point, 111\n",
    "Jx = 1.0\n",
    "Jy = 1.0\n",
    "Jz = 1.0\n",
    "initial_psi = load_data(Jx=Jx,Jy=Jy,Jz=Jz,L=L,chi=chi,prefix=folder_prefix)['psi'].copy()\n",
    "\n",
    "for J in J_list_1:\n",
    "    Jx = J\n",
    "    Jy = np.round(2-J, decimals=3)\n",
    "    result = run_save(Jx=Jx, Jy=Jy, Jz=Jz, L=L, chi=chi, initial_psi=initial_psi, verbose=0)\n",
    "    if result==0: # this file already exists\n",
    "        result = load_data(Jx=Jx,Jy=Jy,Jz=Jz,L=L,chi=chi,prefix=folder_prefix)\n",
    "        pass \n",
    "    initial_psi=result['psi'].copy()"
   ]
  },
  {
   "cell_type": "code",
   "execution_count": 11,
   "metadata": {},
   "outputs": [
    {
     "name": "stdout",
     "output_type": "stream",
     "text": [
      "This file already existed. Pass.\n",
      "This file already existed. Pass.\n",
      "This file already existed. Pass.\n",
      "This file already existed. Pass.\n",
      "This file already existed. Pass.\n",
      "This file already existed. Pass.\n",
      "This file already existed. Pass.\n",
      "This file already existed. Pass.\n",
      "This file already existed. Pass.\n",
      "This file already existed. Pass.\n",
      "This file already existed. Pass.\n",
      "This file already existed. Pass.\n",
      "This file already existed. Pass.\n",
      "This file already existed. Pass.\n",
      "This file already existed. Pass.\n",
      "This file already existed. Pass.\n",
      "This file already existed. Pass.\n",
      "This file already existed. Pass.\n",
      "This file already existed. Pass.\n",
      "This file already existed. Pass.\n",
      "This file already existed. Pass.\n",
      "This file already existed. Pass.\n",
      "This file already existed. Pass.\n",
      "This file already existed. Pass.\n",
      "This file already existed. Pass.\n",
      "This file already existed. Pass.\n",
      "This file already existed. Pass.\n",
      "This file already existed. Pass.\n",
      "This file already existed. Pass.\n",
      "This file already existed. Pass.\n",
      "This file already existed. Pass.\n",
      "This file already existed. Pass.\n",
      "This file already existed. Pass.\n",
      "This file already existed. Pass.\n",
      "This file already existed. Pass.\n",
      "This file already existed. Pass.\n",
      "This file already existed. Pass.\n",
      "This file already existed. Pass.\n",
      "This file already existed. Pass.\n",
      "This file already existed. Pass.\n",
      "This file already existed. Pass.\n",
      "This file already existed. Pass.\n",
      "This file already existed. Pass.\n",
      "This file already existed. Pass.\n",
      "This file already existed. Pass.\n",
      "This file already existed. Pass.\n",
      "This file already existed. Pass.\n",
      "This file already existed. Pass.\n",
      "This file already existed. Pass.\n",
      "This file already existed. Pass.\n",
      "This file already existed. Pass.\n",
      "This file already existed. Pass.\n",
      "This file already existed. Pass.\n",
      "This file already existed. Pass.\n",
      "This file already existed. Pass.\n",
      "This file already existed. Pass.\n",
      "This file already existed. Pass.\n",
      "This file already existed. Pass.\n",
      "This file already existed. Pass.\n",
      "This file already existed. Pass.\n",
      "This file already existed. Pass.\n",
      "This file already existed. Pass.\n",
      "This file already existed. Pass.\n",
      "This file already existed. Pass.\n",
      "This file already existed. Pass.\n",
      "This file already existed. Pass.\n",
      "This file already existed. Pass.\n",
      "This file already existed. Pass.\n",
      "This file already existed. Pass.\n",
      "This file already existed. Pass.\n",
      "This file already existed. Pass.\n",
      "This file already existed. Pass.\n",
      "This file already existed. Pass.\n",
      "This file already existed. Pass.\n",
      "This file already existed. Pass.\n",
      "This file already existed. Pass.\n",
      "This file already existed. Pass.\n",
      "This file already existed. Pass.\n",
      "This file already existed. Pass.\n",
      "This file already existed. Pass.\n",
      "This file already existed. Pass.\n",
      "This file already existed. Pass.\n",
      "This file already existed. Pass.\n",
      "This file already existed. Pass.\n",
      "This file already existed. Pass.\n",
      "This file already existed. Pass.\n",
      "This file already existed. Pass.\n",
      "This file already existed. Pass.\n",
      "This file already existed. Pass.\n",
      "This file already existed. Pass.\n",
      "This file already existed. Pass.\n",
      "This file already existed. Pass.\n",
      "This file already existed. Pass.\n",
      "This file already existed. Pass.\n",
      "This file already existed. Pass.\n",
      "This file already existed. Pass.\n",
      "This file already existed. Pass.\n",
      "This file already existed. Pass.\n",
      "This file already existed. Pass.\n",
      "This file already existed. Pass.\n"
     ]
    }
   ],
   "source": [
    "J_list_1 = linspace(1+delta, 2, N)\n",
    "chi = chi_m\n",
    "\n",
    "# read the wave function in the first point, 111\n",
    "Jx = 1.0\n",
    "Jy = 1.0\n",
    "Jz = 1.0\n",
    "initial_psi = load_data(Jx=Jx,Jy=Jy,Jz=Jz,L=L,chi=chi,prefix=folder_prefix)['psi'].copy()\n",
    "\n",
    "for J in J_list_1:\n",
    "    Jx = J\n",
    "    Jy = np.round(2-J, decimals=3)\n",
    "    result = run_save(Jx=Jx, Jy=Jy, Jz=Jz, L=L, chi=chi, initial_psi=initial_psi, verbose=0)\n",
    "    if result==0: # this file already exists\n",
    "        result = load_data(Jx=Jx,Jy=Jy,Jz=Jz,L=L,chi=chi,prefix=folder_prefix)\n",
    "        pass \n",
    "    initial_psi=result['psi'].copy()"
   ]
  },
  {
   "cell_type": "markdown",
   "metadata": {},
   "source": [
    "## Read somethin g to test"
   ]
  },
  {
   "cell_type": "code",
   "execution_count": 17,
   "metadata": {},
   "outputs": [
    {
     "data": {
      "text/plain": [
       "-0.5"
      ]
     },
     "execution_count": 17,
     "metadata": {},
     "output_type": "execute_result"
    }
   ],
   "source": [
    "Jx = 0.\n",
    "Jy = 0.\n",
    "Jz = 1.0\n",
    "\n",
    "result = load_data(Jx=Jx,Jy=Jy,Jz=Jz,L=L,chi=chi,prefix=folder_prefix)\n",
    "result['energy']"
   ]
  },
  {
   "cell_type": "code",
   "execution_count": 21,
   "metadata": {},
   "outputs": [],
   "source": [
    "Jx = 1.9\n",
    "Jy = 0.1\n",
    "Jz = 1.0\n",
    "\n",
    "result = load_data(Jx=Jx,Jy=Jy,Jz=Jz,L=L,chi=chi,prefix=folder_prefix)"
   ]
  },
  {
   "cell_type": "code",
   "execution_count": 22,
   "metadata": {},
   "outputs": [
    {
     "data": {
      "text/plain": [
       "-1.019605134358926"
      ]
     },
     "execution_count": 22,
     "metadata": {},
     "output_type": "execute_result"
    }
   ],
   "source": [
    "result['energy']"
   ]
  },
  {
   "cell_type": "code",
   "execution_count": 23,
   "metadata": {},
   "outputs": [
    {
     "data": {
      "text/plain": [
       "-1.0196051343587242"
      ]
     },
     "execution_count": 23,
     "metadata": {},
     "output_type": "execute_result"
    }
   ],
   "source": [
    "from analytic_spin_half import energy_average_true\n",
    "-energy_average_true(Jx=Jx, Jy=Jy, Jz=Jz)[0]"
   ]
  },
  {
   "cell_type": "markdown",
   "metadata": {},
   "source": [
    "So right now I believe that, at least the energy has been calculated correctly"
   ]
  },
  {
   "cell_type": "markdown",
   "metadata": {},
   "source": [
    "### test on the perturbative theory"
   ]
  },
  {
   "cell_type": "code",
   "execution_count": 38,
   "metadata": {},
   "outputs": [],
   "source": [
    "# different orders of energy correction\n",
    "H0 = lambda x,y,z:-x/2\n",
    "H2 = lambda x,y,z:-(z**2+y**2)/(8*x)\n",
    "H3 = lambda x,y,z:-(z*z*y)/(16*x)\n",
    "H12 = lambda x,y,z:H0(x,y,z)+H2(x,y,z)\n",
    "H123 = lambda x,y,z:H0(x,y,z)+H2(x,y,z)+H3(x,y,z)\n",
    "# H2(Jx, Jy, Jz)"
   ]
  },
  {
   "cell_type": "code",
   "execution_count": 39,
   "metadata": {},
   "outputs": [
    {
     "data": {
      "text/plain": [
       "-0.95"
      ]
     },
     "execution_count": 39,
     "metadata": {},
     "output_type": "execute_result"
    }
   ],
   "source": [
    "H1(Jx,Jy,Jz)"
   ]
  },
  {
   "cell_type": "code",
   "execution_count": 40,
   "metadata": {},
   "outputs": [
    {
     "data": {
      "text/plain": [
       "-1.0164473684210527"
      ]
     },
     "execution_count": 40,
     "metadata": {},
     "output_type": "execute_result"
    }
   ],
   "source": [
    "H12(Jx,Jy,Jz)"
   ]
  },
  {
   "cell_type": "code",
   "execution_count": 41,
   "metadata": {},
   "outputs": [
    {
     "data": {
      "text/plain": [
       "-1.0197368421052633"
      ]
     },
     "execution_count": 41,
     "metadata": {},
     "output_type": "execute_result"
    }
   ],
   "source": [
    "H123(Jx,Jy,Jz)"
   ]
  },
  {
   "cell_type": "markdown",
   "metadata": {},
   "source": [
    "# Finite DMRG"
   ]
  },
  {
   "cell_type": "markdown",
   "metadata": {},
   "source": [
    "There are quite some strange stuff that we can't reasonably explain in Kitaev ladders.\n",
    "For example, we are not sure about the real degeneracy... People believe that it should be 4-fold, but it's from some general experience for 1d system SPT which has apparently nothing to do with the specific Kitaev ladder model."
   ]
  },
  {
   "cell_type": "markdown",
   "metadata": {},
   "source": [
    "The best wish is that we can directly derive some low-lying energies of periodic chain, i.e. ring."
   ]
  },
  {
   "cell_type": "markdown",
   "metadata": {},
   "source": [
    "## A glance at the time elapse of fDMRG"
   ]
  },
  {
   "cell_type": "code",
   "execution_count": 10,
   "metadata": {},
   "outputs": [
    {
     "name": "stderr",
     "output_type": "stream",
     "text": [
      "/home/jerry/anaconda3/lib/python3.7/site-packages/tenpy/networks/mps.py:2179: UserWarning: canonical_form_infinite: project to smaller bond dimension\n",
      "  self.canonical_form_infinite(renormalize)\n",
      "/home/jerry/anaconda3/lib/python3.7/site-packages/tenpy/networks/mps.py:2328: UserWarning: Although we renormalized the TransferMatrix, the largest eigenvalue is not 1\n",
      "  warnings.warn(\"Although we renormalized the TransferMatrix, \"\n",
      "/home/jerry/anaconda3/lib/python3.7/site-packages/tenpy/networks/mps.py:2334: UserWarning: canonical_form_infinite: project to smaller bond dimension\n",
      "  Gl, Wr = self._canonical_form_correct_left(i1, Gl, Wr)\n",
      "/home/jerry/anaconda3/lib/python3.7/site-packages/tenpy/networks/mps.py:2179: UserWarning: canonical_form_infinite: project to smaller bond dimension\n",
      "  self.canonical_form_infinite(renormalize)\n",
      "/home/jerry/anaconda3/lib/python3.7/site-packages/tenpy/networks/mps.py:2355: UserWarning: canonical_form_infinite: project to smaller bond dimension\n",
      "  Gl, Wr = self._canonical_form_correct_left(j1, Gl, Wr_list[j1 % L])\n"
     ]
    },
    {
     "name": "stdout",
     "output_type": "stream",
     "text": [
      "Computing properties\n",
      "Time Elapsed:  433.0519528388977\n"
     ]
    }
   ],
   "source": [
    "#### Parameter Setting ####\n",
    "chi = 128\n",
    "\n",
    "L = 20\n",
    "# the folder name for storing data\n",
    "folder_prefix = f'Spin_half_snake1_finitePBC_L_{L}_chi_{chi}_two_lines/' # high resolution means the smallest step is 0.01\n",
    "\n",
    "# generate the function for running and storing the data in the folder we want\n",
    "run_save = save_after_run(run_atomic, folder_prefix=folder_prefix)\n",
    "\n",
    "initial_psi = None\n",
    "\n",
    "Jx = 2.0\n",
    "Jy = 2.0\n",
    "Jz = 1.0\n",
    "\n",
    "begin = time()\n",
    "result = run_save(Jx=Jx, Jy=Jy, Jz=Jz, L=L, chi=chi, initial_psi=initial_psi, verbose=0)\n",
    "end = time()\n",
    "print('Time Elapsed: ', end-begin)"
   ]
  },
  {
   "cell_type": "markdown",
   "metadata": {},
   "source": [
    "So each run takes ~`400` seconds to finish.\n",
    "\n",
    "If there are 300 points in the diagram to sweep over, then the least time to use up will be \n",
    "$$400 \\times 300 seconds = 120000 seconds = \\frac{120000}{3600} hours \\approx 33.3 hours$$"
   ]
  },
  {
   "cell_type": "code",
   "execution_count": 1,
   "metadata": {},
   "outputs": [
    {
     "data": {
      "text/plain": [
       "8793"
      ]
     },
     "execution_count": 1,
     "metadata": {},
     "output_type": "execute_result"
    }
   ],
   "source": [
    "9925-1132"
   ]
  },
  {
   "cell_type": "code",
   "execution_count": 2,
   "metadata": {},
   "outputs": [
    {
     "data": {
      "text/plain": [
       "7327.5"
      ]
     },
     "execution_count": 2,
     "metadata": {},
     "output_type": "execute_result"
    }
   ],
   "source": [
    "8793/1.2"
   ]
  },
  {
   "cell_type": "markdown",
   "metadata": {},
   "source": [
    "This implies that it is completely unrealistic to create such a fig.\n",
    "We have to either reduce the sampling number or just find a better algorithm."
   ]
  }
 ],
 "metadata": {
  "kernelspec": {
   "display_name": "Python 3",
   "language": "python",
   "name": "python3"
  },
  "language_info": {
   "codemirror_mode": {
    "name": "ipython",
    "version": 3
   },
   "file_extension": ".py",
   "mimetype": "text/x-python",
   "name": "python",
   "nbconvert_exporter": "python",
   "pygments_lexer": "ipython3",
   "version": "3.7.7"
  }
 },
 "nbformat": 4,
 "nbformat_minor": 4
}
