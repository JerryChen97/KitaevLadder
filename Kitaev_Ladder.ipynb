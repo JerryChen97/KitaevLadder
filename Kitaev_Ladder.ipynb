{
 "cells": [
  {
   "cell_type": "code",
   "execution_count": 1,
   "metadata": {},
   "outputs": [],
   "source": [
    "import numpy as np\n",
    "import itertools\n",
    "import warnings\n",
    "import matplotlib.pyplot as plt"
   ]
  },
  {
   "cell_type": "code",
   "execution_count": 2,
   "metadata": {},
   "outputs": [],
   "source": [
    "import tenpy\n",
    "\n",
    "from tenpy.networks.site import Site, SpinHalfFermionSite, SpinHalfSite, GroupedSite, SpinSite\n",
    "from tenpy.tools.misc import to_iterable, to_iterable_of_len, inverse_permutation\n",
    "from tenpy.networks.mps import MPS  # only to check boundary conditions\n",
    "\n",
    "from tenpy.models.lattice import Lattice, _parse_sites\n",
    "from tenpy.models.model import CouplingMPOModel, NearestNeighborModel\n",
    "from tenpy.tools.params import get_parameter\n",
    "\n",
    "from tenpy.algorithms import dmrg"
   ]
  },
  {
   "cell_type": "code",
   "execution_count": 3,
   "metadata": {},
   "outputs": [],
   "source": [
    "__all__ = ['KitaevLadder', 'KitaevLadderModel']"
   ]
  },
  {
   "cell_type": "code",
   "execution_count": 13,
   "metadata": {},
   "outputs": [],
   "source": [
    "class KitaevLadder(Lattice):    \n",
    "    \"\"\" A ladder coupling two chains of the Kitaev form\n",
    "    .. image :: /images/lattices/Ladder.*\n",
    "    Parameters\n",
    "    ----------\n",
    "    L : int\n",
    "        The length of each chain, we have 2*L sites in total.\n",
    "    sites : (list of) :class:`~tenpy.networks.site.Site`\n",
    "        The two local lattice sites making the `unit_cell` of the :class:`Lattice`.\n",
    "        If only a single :class:`~tenpy.networks.site.Site` is given, it is used for both chains.\n",
    "    **kwargs :\n",
    "        Additional keyword arguments given to the :class:`Lattice`.\n",
    "        `basis`, `pos` and `pairs` are set accordingly.\n",
    "    \"\"\"\n",
    "    dim = 1\n",
    "\n",
    "    def __init__(self, L, sites, **kwargs):\n",
    "        sites = _parse_sites(sites, 4)\n",
    "        basis = np.array([[2., 0.]])\n",
    "        pos = np.array([[0., 0.], [0., 1.], [1., 0.], [1., 1.]])\n",
    "        kwargs.setdefault('basis', basis)\n",
    "        kwargs.setdefault('positions', pos)\n",
    "        kwargs.setdefault('bc', 'periodic')\n",
    "        kwargs.setdefault('bc_MPS', 'infinite')\n",
    "        NNz = [(0, 1, np.array([0])), (2, 3, np.array([0]))]\n",
    "        NNx = [(1, 3, np.array([0])), (2, 0, np.array([1]))]\n",
    "        NNy = [(0, 2, np.array([0])), (3, 1, np.array([1]))]\n",
    "        kwargs.setdefault('pairs', {})\n",
    "        kwargs['pairs'].setdefault('nearest_neighbors_x', NNx)\n",
    "        kwargs['pairs'].setdefault('nearest_neighbors_y', NNy)\n",
    "        kwargs['pairs'].setdefault('nearest_neighbors_z', NNz)\n",
    "        Lattice.__init__(self, [L], sites, **kwargs)\n",
    "        \n",
    "        \n",
    "class KitaevLadderModel(CouplingMPOModel):\n",
    "    def __init__(self, model_params):\n",
    "        CouplingMPOModel.__init__(self, model_params)\n",
    "\n",
    "    def init_sites(self, model_params):\n",
    "        conserve = get_parameter(model_params, 'conserve', None, self.name)\n",
    "        fs = SpinHalfSite(conserve=conserve)\n",
    "        return [fs, fs, fs, fs]\n",
    "\n",
    "    def init_lattice(self, model_params):\n",
    "        L = get_parameter(model_params, 'L', 3, self.name)\n",
    "        gs = self.init_sites(model_params)\n",
    "        model_params.pop(\"L\")\n",
    "        lat = KitaevLadder(L, gs)\n",
    "        return lat\n",
    "\n",
    "    def init_terms(self, model_params):\n",
    "        Jx = get_parameter(model_params, 'Jx', 1., self.name, True)\n",
    "        Jy = get_parameter(model_params, 'Jy', 1., self.name, True)\n",
    "        Jz = get_parameter(model_params, 'Jz', 1., self.name, True)\n",
    "\n",
    "        for u1, u2, dx in self.lat.pairs['nearest_neighbors_z']:\n",
    "            self.add_coupling(-Jz, u1, 'Sz', u2, 'Sz', dx)\n",
    "        for u1, u2, dx in self.lat.pairs['nearest_neighbors_x']:\n",
    "            self.add_coupling(-Jx, u1, 'Sx', u2, 'Sx', dx)\n",
    "        for u1, u2, dx in self.lat.pairs['nearest_neighbors_y']:\n",
    "            self.add_coupling(-Jy, u1, 'Sy', u2, 'Sy', dx)\n",
    "         \n",
    "        \n",
    "def plot_lattice():\n",
    "    fig, ax = plt.subplots()\n",
    "    lat = KitaevLadder(5, None, bc='periodic')\n",
    "    links_name = 'nearest_neighbors_z'\n",
    "    lat.plot_coupling(ax, lat.pairs[links_name], linewidth=5.)\n",
    "    # print(lat.pairs['nearest_neighbors'])\n",
    "    print(lat.unit_cell)\n",
    "    lat.plot_order(ax=ax, linestyle='--')\n",
    "    lat.plot_sites(ax)\n",
    "    # lat.plot_basis(ax, color='g', linewidth=3.)\n",
    "    ax.set_aspect('equal')\n",
    "    ax.get_xaxis().set_visible(False)\n",
    "    ax.get_yaxis().set_visible(False)\n",
    "    ax.axis('off')\n",
    "    # plt.title(links_name)\n",
    "    plt.show()\n"
   ]
  },
  {
   "cell_type": "code",
   "execution_count": 17,
   "metadata": {},
   "outputs": [],
   "source": [
    "def run():\n",
    "    chi_list = np.arange(16, 50, 2)\n",
    "\n",
    "    model_params = dict(conserve=None, Jx=1., Jy=1., Jz=1., L=24, verbose=1)\n",
    "    prod_state = [\"up\", \"down\"] * (2 * model_params['L'])\n",
    "    M = KitaevLadderModel(model_params)\n",
    "    psi = MPS.from_product_state(\n",
    "        M.lat.mps_sites(), \n",
    "        prod_state, \n",
    "        bc=M.lat.bc_MPS,\n",
    "    )\n",
    "\n",
    "    dmrg_params = {\n",
    "        'start_env': 10,\n",
    "        'mixer': True,  # setting this to True helps to escape local minima\n",
    "        'mixer_params': {\n",
    "            'amplitude': 1.e-5,\n",
    "            'decay': 1.2,\n",
    "            'disable_after': 30\n",
    "        },\n",
    "        'trunc_params': {\n",
    "            'svd_min': 1.e-10,\n",
    "        },\n",
    "        'max_E_err': 1.e-10,\n",
    "        'max_S_err': 1.e-6,\n",
    "        'max_sweeps': 150,\n",
    "        'verbose': 1.,\n",
    "    }\n",
    "    \n",
    "    print(\"=\" * 100)\n",
    "    \n",
    "    eng = dmrg.TwoSiteDMRGEngine(psi, M, dmrg_params)\n",
    "    \n",
    "    data = dict(entropy_list=[], correlation_list=[])\n",
    "    for chi in chi_list:\n",
    "        \n",
    "        eng = dmrg.TwoSiteDMRGEngine(psi, M, dmrg_params)\n",
    "        eng.reset_stats()\n",
    "        eng.trunc_params['chi_max'] = chi\n",
    "        eng.run()\n",
    "        eng.engine_params['mixer'] = None\n",
    "        psi.canonical_form()\n",
    "        \n",
    "        entropy = np.mean(psi.entanglement_entropy())\n",
    "        correlation = psi.correlation_length()\n",
    "\n",
    "        data['entropy_list'].append(entropy)\n",
    "        data['correlation_list'].append(correlation)\n",
    "        tenpy.tools.optimization.optimize(3)\n",
    "        pass\n",
    "        \n",
    "    return data\n",
    "\n",
    "\n",
    "def plot_results(data):\n",
    "\n",
    "    plt.figure()\n",
    "    ax = plt.gca()\n",
    "    ax.plot(data['ent_spectrum'], marker='o')\n",
    "    ax.set_xlabel(r\"DMRG Step\")\n",
    "    ax.set_ylabel(r\"$ E $\")\n",
    "    plt.savefig(\"KitaevLadderModel.pdf\")\n"
   ]
  },
  {
   "cell_type": "code",
   "execution_count": 18,
   "metadata": {},
   "outputs": [
    {
     "name": "stdout",
     "output_type": "stream",
     "text": [
      "parameter 'verbose'=1 for KitaevLadderModel\n",
      "parameter 'L'=24 for KitaevLadderModel\n",
      "parameter 'conserve'=None for KitaevLadderModel\n",
      "parameter 'Jx'=1.0 for KitaevLadderModel\n",
      "parameter 'Jy'=1.0 for KitaevLadderModel\n",
      "parameter 'Jz'=1.0 for KitaevLadderModel\n",
      "====================================================================================================\n",
      "parameter 'verbose'=1.0 for Sweep\n",
      "parameter 'trunc_params'={'svd_min': 1e-10} for Sweep\n",
      "Initial sweeps...\n",
      "parameter 'start_env'=10 for Sweep\n",
      "Updating environment\n",
      "..........\n",
      "Initial sweeps...\n",
      "Updating environment\n",
      "..........\n",
      "parameter 'max_sweeps'=150 for DMRG\n",
      "parameter 'max_E_err'=1e-10 for DMRG\n",
      "parameter 'max_S_err'=1e-06 for DMRG\n",
      "parameter 'mixer'=True for Sweep\n",
      "parameter 'mixer_params'={'amplitude': 1e-05, 'decay': 1.2, 'disable_after': 30} for Sweep\n"
     ]
    },
    {
     "name": "stderr",
     "output_type": "stream",
     "text": [
      "/home/jerry/anaconda3/lib/python3.7/site-packages/tenpy/tools/params.py:124: UserWarning: unused parameters for Sweep mixer_params:\n",
      "['amplitude', 'decay', 'disable_after']\n",
      "  warnings.warn(msg.format(keys=sorted(unused), descr=warn))\n",
      "/home/jerry/anaconda3/lib/python3.7/site-packages/tenpy/tools/params.py:124: UserWarning: unused parameters for Sweep:\n",
      "['max_E_err', 'max_S_err', 'max_sweeps', 'mixer', 'mixer_params']\n",
      "  warnings.warn(msg.format(keys=sorted(unused), descr=warn))\n"
     ]
    },
    {
     "name": "stdout",
     "output_type": "stream",
     "text": [
      "Updating environment\n",
      ".....\n",
      "================================================================================\n",
      "sweep 10, age = 4896\n",
      "Energy = -0.2097005531048796, S = nan, norm_err = 5.6e-08\n",
      "Current memory usage 192.2 MB, time elapsed: 56.7 s\n",
      "Delta E = nan, Delta S = 0.0000e+00 (per sweep)\n",
      "max_trunc_err = 1.5800e-06, max_E_trunc = 1.3231e-06\n",
      "MPS bond dimensions: [16, 16, 16, 16, 16, 16, 16, 16, 16, 16, 16, 16, 16, 16, 16, 16, 16, 16, 16, 16, 16, 16, 16, 16, 16, 16, 16, 16, 16, 16, 16, 16, 16, 16, 16, 16, 16, 16, 16, 16, 16, 16, 16, 16, 16, 16, 16, 16, 16, 16, 16, 16, 16, 16, 16, 16, 16, 16, 16, 16, 16, 16, 16, 16, 16, 16, 16, 16, 16, 16, 16, 16, 16, 16, 16, 16, 16, 16, 16, 16, 16, 16, 16, 16, 16, 16, 16, 16, 16, 16, 16, 16, 16, 16, 16, 16]\n",
      "Updating environment\n",
      ".....\n",
      "================================================================================\n",
      "sweep 20, age = 7776\n",
      "Energy = -0.2097005512694992, S = nan, norm_err = 9.1e-09\n",
      "Current memory usage 192.2 MB, time elapsed: 98.1 s\n",
      "Delta E = 1.8354e-10, Delta S = 0.0000e+00 (per sweep)\n",
      "max_trunc_err = 1.5765e-06, max_E_trunc = 1.3290e-06\n",
      "MPS bond dimensions: [16, 16, 16, 16, 16, 16, 16, 16, 16, 16, 16, 16, 16, 16, 16, 16, 16, 16, 16, 16, 16, 16, 16, 16, 16, 16, 16, 16, 16, 16, 16, 16, 16, 16, 16, 16, 16, 16, 16, 16, 16, 16, 16, 16, 16, 16, 16, 16, 16, 16, 16, 16, 16, 16, 16, 16, 16, 16, 16, 16, 16, 16, 16, 16, 16, 16, 16, 16, 16, 16, 16, 16, 16, 16, 16, 16, 16, 16, 16, 16, 16, 16, 16, 16, 16, 16, 16, 16, 16, 16, 16, 16, 16, 16, 16, 16]\n",
      "Convergence criterium reached with enabled mixer.\n",
      "disable mixer and continue\n",
      "Updating environment\n",
      ".....\n",
      "================================================================================\n",
      "sweep 30, age = 10656\n",
      "Energy = -0.2097005508648261, S = 1.2231391194038810, norm_err = 1.3e-14\n",
      "Current memory usage 192.2 MB, time elapsed: 122.4 s\n",
      "Delta E = 4.0467e-11, Delta S = nan (per sweep)\n",
      "max_trunc_err = 7.8815e-07, max_E_trunc = 1.3291e-06\n",
      "MPS bond dimensions: [16, 16, 16, 16, 16, 16, 16, 16, 16, 16, 16, 16, 16, 16, 16, 16, 16, 16, 16, 16, 16, 16, 16, 16, 16, 16, 16, 16, 16, 16, 16, 16, 16, 16, 16, 16, 16, 16, 16, 16, 16, 16, 16, 16, 16, 16, 16, 16, 16, 16, 16, 16, 16, 16, 16, 16, 16, 16, 16, 16, 16, 16, 16, 16, 16, 16, 16, 16, 16, 16, 16, 16, 16, 16, 16, 16, 16, 16, 16, 16, 16, 16, 16, 16, 16, 16, 16, 16, 16, 16, 16, 16, 16, 16, 16, 16]\n",
      "Updating environment\n",
      ".....\n",
      "================================================================================\n",
      "sweep 40, age = 13536\n",
      "Energy = -0.2097005507092978, S = 1.2231391233129092, norm_err = 1.2e-14\n",
      "Current memory usage 192.4 MB, time elapsed: 146.5 s\n",
      "Delta E = 1.5553e-11, Delta S = 3.9090e-10 (per sweep)\n",
      "max_trunc_err = 7.8815e-07, max_E_trunc = 1.3291e-06\n",
      "MPS bond dimensions: [16, 16, 16, 16, 16, 16, 16, 16, 16, 16, 16, 16, 16, 16, 16, 16, 16, 16, 16, 16, 16, 16, 16, 16, 16, 16, 16, 16, 16, 16, 16, 16, 16, 16, 16, 16, 16, 16, 16, 16, 16, 16, 16, 16, 16, 16, 16, 16, 16, 16, 16, 16, 16, 16, 16, 16, 16, 16, 16, 16, 16, 16, 16, 16, 16, 16, 16, 16, 16, 16, 16, 16, 16, 16, 16, 16, 16, 16, 16, 16, 16, 16, 16, 16, 16, 16, 16, 16, 16, 16, 16, 16, 16, 16, 16, 16]\n",
      "================================================================================\n",
      "DMRG finished after 40 sweeps.\n",
      "total size = 13536, maximum chi = 16\n",
      "================================================================================\n"
     ]
    },
    {
     "name": "stderr",
     "output_type": "stream",
     "text": [
      "/home/jerry/anaconda3/lib/python3.7/site-packages/tenpy/networks/mps.py:2018: UserWarning: canonical_form_infinite: project to smaller bond dimension\n",
      "  self.canonical_form_infinite(renormalize)\n",
      "/home/jerry/anaconda3/lib/python3.7/site-packages/tenpy/networks/mps.py:2168: UserWarning: Although we renormalized the TransferMatrix, the largest eigenvalue is not 1\n",
      "  warnings.warn(\"Although we renormalized the TransferMatrix, \"\n"
     ]
    },
    {
     "name": "stdout",
     "output_type": "stream",
     "text": [
      "Initial sweeps...\n",
      "Updating environment\n",
      "..........\n",
      "Updating environment\n",
      ".....\n",
      "================================================================================\n",
      "sweep 10, age = 4896\n",
      "Energy = -0.2097012464072622, S = 0.5300859889637907, norm_err = 2.2e-14\n",
      "Current memory usage 192.9 MB, time elapsed: 24.4 s\n",
      "Delta E = nan, Delta S = nan (per sweep)\n",
      "max_trunc_err = 7.4552e-11, max_E_trunc = 1.4938e-10\n",
      "MPS bond dimensions: [18, 18, 18, 18, 18, 18, 18, 18, 18, 18, 18, 18, 18, 18, 18, 18, 18, 18, 18, 18, 18, 18, 18, 18, 18, 18, 18, 18, 18, 18, 18, 18, 18, 18, 18, 18, 18, 18, 18, 18, 18, 18, 18, 18, 18, 18, 18, 18, 18, 18, 18, 18, 18, 18, 18, 18, 18, 18, 18, 18, 18, 18, 18, 18, 18, 18, 18, 18, 18, 18, 18, 18, 18, 18, 18, 18, 18, 18, 18, 18, 18, 18, 18, 18, 18, 18, 18, 18, 18, 18, 18, 18, 18, 18, 18, 18]\n",
      "Updating environment\n",
      ".....\n",
      "================================================================================\n",
      "sweep 20, age = 7776\n",
      "Energy = -0.2097012464117706, S = 0.5300859972845410, norm_err = 1.8e-14\n",
      "Current memory usage 192.9 MB, time elapsed: 49.7 s\n",
      "Delta E = -4.5084e-13, Delta S = 8.3208e-10 (per sweep)\n",
      "max_trunc_err = 7.8151e-11, max_E_trunc = 1.3779e-10\n",
      "MPS bond dimensions: [18, 18, 18, 18, 18, 18, 18, 18, 18, 18, 18, 18, 18, 18, 18, 18, 18, 18, 18, 18, 18, 18, 18, 18, 18, 18, 18, 18, 18, 18, 18, 18, 18, 18, 18, 18, 18, 18, 18, 18, 18, 18, 18, 18, 18, 18, 18, 18, 18, 18, 18, 18, 18, 18, 18, 18, 18, 18, 18, 18, 18, 18, 18, 18, 18, 18, 18, 18, 18, 18, 18, 18, 18, 18, 18, 18, 18, 18, 18, 18, 18, 18, 18, 18, 18, 18, 18, 18, 18, 18, 18, 18, 18, 18, 18, 18]\n",
      "================================================================================\n",
      "DMRG finished after 20 sweeps.\n",
      "total size = 7776, maximum chi = 18\n",
      "================================================================================\n",
      "Initial sweeps...\n",
      "Updating environment\n",
      "..........\n",
      "Updating environment\n",
      ".....\n",
      "================================================================================\n",
      "sweep 10, age = 4896\n",
      "Energy = -0.2097012464771595, S = 0.5300860462779468, norm_err = 2.3e-14\n",
      "Current memory usage 192.9 MB, time elapsed: 23.9 s\n",
      "Delta E = nan, Delta S = nan (per sweep)\n",
      "max_trunc_err = 3.1138e-12, max_E_trunc = 1.2506e-11\n",
      "MPS bond dimensions: [20, 20, 20, 20, 20, 20, 20, 20, 20, 20, 20, 20, 20, 20, 20, 20, 20, 20, 20, 20, 20, 20, 20, 20, 20, 20, 20, 20, 20, 20, 20, 20, 20, 20, 20, 20, 20, 20, 20, 20, 20, 20, 20, 20, 20, 20, 20, 20, 20, 20, 20, 20, 20, 20, 20, 20, 20, 20, 20, 20, 20, 20, 20, 20, 20, 20, 20, 20, 20, 20, 20, 20, 20, 20, 20, 20, 20, 20, 20, 20, 20, 20, 20, 20, 20, 20, 20, 20, 20, 20, 20, 20, 20, 20, 20, 20]\n",
      "Updating environment\n",
      ".....\n",
      "================================================================================\n",
      "sweep 20, age = 7776\n",
      "Energy = -0.2097012464771713, S = 0.5300860465318915, norm_err = 1.5e-14\n",
      "Current memory usage 192.9 MB, time elapsed: 49.6 s\n",
      "Delta E = -1.1852e-15, Delta S = 2.5394e-11 (per sweep)\n",
      "max_trunc_err = 3.2573e-12, max_E_trunc = 1.5461e-11\n",
      "MPS bond dimensions: [20, 20, 20, 20, 20, 20, 20, 20, 20, 20, 20, 20, 20, 20, 20, 20, 20, 20, 20, 20, 20, 20, 20, 20, 20, 20, 20, 20, 20, 20, 20, 20, 20, 20, 20, 20, 20, 20, 20, 20, 20, 20, 20, 20, 20, 20, 20, 20, 20, 20, 20, 20, 20, 20, 20, 20, 20, 20, 20, 20, 20, 20, 20, 20, 20, 20, 20, 20, 20, 20, 20, 20, 20, 20, 20, 20, 20, 20, 20, 20, 20, 20, 20, 20, 20, 20, 20, 20, 20, 20, 20, 20, 20, 20, 20, 20]\n",
      "================================================================================\n",
      "DMRG finished after 20 sweeps.\n",
      "total size = 7776, maximum chi = 20\n",
      "================================================================================\n",
      "Initial sweeps...\n",
      "Updating environment\n",
      "..........\n",
      "Updating environment\n",
      ".....\n",
      "================================================================================\n",
      "sweep 10, age = 4896\n",
      "Energy = -0.2097012464792520, S = 0.5300860472469385, norm_err = 2.1e-14\n",
      "Current memory usage 192.9 MB, time elapsed: 26.4 s\n",
      "Delta E = nan, Delta S = nan (per sweep)\n",
      "max_trunc_err = 2.3762e-12, max_E_trunc = 9.2086e-12\n",
      "MPS bond dimensions: [22, 22, 22, 22, 22, 22, 22, 22, 22, 22, 22, 22, 22, 22, 22, 22, 22, 22, 22, 22, 22, 22, 22, 22, 22, 22, 22, 22, 22, 22, 22, 22, 22, 22, 22, 22, 22, 22, 22, 22, 22, 22, 22, 22, 22, 22, 22, 22, 22, 22, 22, 22, 22, 22, 22, 22, 22, 22, 22, 22, 22, 22, 22, 22, 22, 22, 22, 22, 22, 22, 22, 22, 22, 22, 22, 22, 22, 22, 22, 22, 22, 22, 22, 22, 22, 22, 22, 22, 22, 22, 22, 22, 22, 22, 22, 22]\n",
      "Updating environment\n",
      ".....\n",
      "================================================================================\n",
      "sweep 20, age = 7776\n",
      "Energy = -0.2097012464794072, S = 0.5300860472468599, norm_err = 1.8e-14\n",
      "Current memory usage 192.9 MB, time elapsed: 52.7 s\n",
      "Delta E = -1.5513e-14, Delta S = -7.8604e-15 (per sweep)\n",
      "max_trunc_err = 2.3831e-12, max_E_trunc = 9.5497e-12\n",
      "MPS bond dimensions: [22, 22, 22, 22, 22, 22, 22, 22, 22, 22, 22, 22, 22, 22, 22, 22, 22, 22, 22, 22, 22, 22, 22, 22, 22, 22, 22, 22, 22, 22, 22, 22, 22, 22, 22, 22, 22, 22, 22, 22, 22, 22, 22, 22, 22, 22, 22, 22, 22, 22, 22, 22, 22, 22, 22, 22, 22, 22, 22, 22, 22, 22, 22, 22, 22, 22, 22, 22, 22, 22, 22, 22, 22, 22, 22, 22, 22, 22, 22, 22, 22, 22, 22, 22, 22, 22, 22, 22, 22, 22, 22, 22, 22, 22, 22, 22]\n",
      "================================================================================\n",
      "DMRG finished after 20 sweeps.\n",
      "total size = 7776, maximum chi = 22\n",
      "================================================================================\n"
     ]
    },
    {
     "name": "stderr",
     "output_type": "stream",
     "text": [
      "/home/jerry/anaconda3/lib/python3.7/site-packages/tenpy/networks/mps.py:2174: UserWarning: canonical_form_infinite: project to smaller bond dimension\n",
      "  Gl, Wr = self._canonical_form_correct_left(i1, Gl, Wr)\n",
      "/home/jerry/anaconda3/lib/python3.7/site-packages/tenpy/networks/mps.py:2195: UserWarning: canonical_form_infinite: project to smaller bond dimension\n",
      "  Gl, Wr = self._canonical_form_correct_left(j1, Gl, Wr_list[j1 % L])\n"
     ]
    },
    {
     "name": "stdout",
     "output_type": "stream",
     "text": [
      "Initial sweeps...\n",
      "Updating environment\n",
      "..........\n",
      "Updating environment\n",
      ".....\n",
      "================================================================================\n",
      "sweep 10, age = 4896\n",
      "Energy = -0.2097012464806305, S = 0.5300860483119961, norm_err = 1.2e-14\n",
      "Current memory usage 192.9 MB, time elapsed: 26.9 s\n",
      "Delta E = nan, Delta S = nan (per sweep)\n",
      "max_trunc_err = 1.5386e-12, max_E_trunc = 6.9349e-12\n",
      "MPS bond dimensions: [24, 24, 24, 24, 24, 24, 24, 24, 24, 24, 24, 24, 24, 24, 24, 24, 24, 24, 24, 24, 24, 24, 24, 24, 24, 24, 24, 24, 24, 24, 24, 24, 24, 24, 24, 24, 24, 24, 24, 24, 24, 24, 24, 24, 24, 24, 24, 24, 24, 24, 24, 24, 24, 24, 24, 24, 24, 24, 24, 24, 24, 24, 24, 24, 24, 24, 24, 24, 24, 24, 24, 24, 24, 24, 24, 24, 24, 24, 24, 24, 24, 24, 24, 24, 24, 24, 24, 24, 24, 24, 24, 24, 24, 24, 24, 24]\n",
      "Updating environment\n",
      ".....\n",
      "================================================================================\n",
      "sweep 20, age = 7776\n",
      "Energy = -0.2097012464805867, S = 0.5300860482885533, norm_err = 8.7e-15\n",
      "Current memory usage 192.9 MB, time elapsed: 55.2 s\n",
      "Delta E = 4.3826e-15, Delta S = -2.3443e-12 (per sweep)\n",
      "max_trunc_err = 1.5389e-12, max_E_trunc = 8.6402e-12\n",
      "MPS bond dimensions: [24, 24, 24, 24, 24, 24, 24, 24, 24, 24, 24, 24, 24, 24, 24, 24, 24, 24, 24, 24, 24, 24, 24, 24, 24, 24, 24, 24, 24, 24, 24, 24, 24, 24, 24, 24, 24, 24, 24, 24, 24, 24, 24, 24, 24, 24, 24, 24, 24, 24, 24, 24, 24, 24, 24, 24, 24, 24, 24, 24, 24, 24, 24, 24, 24, 24, 24, 24, 24, 24, 24, 24, 24, 24, 24, 24, 24, 24, 24, 24, 24, 24, 24, 24, 24, 24, 24, 24, 24, 24, 24, 24, 24, 24, 24, 24]\n",
      "================================================================================\n",
      "DMRG finished after 20 sweeps.\n",
      "total size = 7776, maximum chi = 24\n",
      "================================================================================\n"
     ]
    },
    {
     "name": "stderr",
     "output_type": "stream",
     "text": [
      "/home/jerry/anaconda3/lib/python3.7/site-packages/tenpy/networks/mps.py:2174: UserWarning: canonical_form_infinite: project to smaller bond dimension\n",
      "  Gl, Wr = self._canonical_form_correct_left(i1, Gl, Wr)\n",
      "/home/jerry/anaconda3/lib/python3.7/site-packages/tenpy/networks/mps.py:2195: UserWarning: canonical_form_infinite: project to smaller bond dimension\n",
      "  Gl, Wr = self._canonical_form_correct_left(j1, Gl, Wr_list[j1 % L])\n"
     ]
    },
    {
     "name": "stdout",
     "output_type": "stream",
     "text": [
      "Initial sweeps...\n",
      "Updating environment\n",
      "..........\n",
      "Updating environment\n",
      ".....\n",
      "================================================================================\n",
      "sweep 10, age = 4896\n",
      "Energy = -0.2097012464818858, S = 0.5300860491012593, norm_err = 2.4e-14\n",
      "Current memory usage 192.9 MB, time elapsed: 27.5 s\n",
      "Delta E = nan, Delta S = nan (per sweep)\n",
      "max_trunc_err = 7.7781e-13, max_E_trunc = 4.7748e-12\n",
      "MPS bond dimensions: [26, 26, 26, 26, 26, 26, 26, 26, 26, 26, 26, 26, 26, 26, 26, 26, 26, 26, 26, 26, 26, 26, 26, 26, 26, 26, 26, 26, 26, 26, 26, 26, 26, 26, 26, 26, 26, 26, 26, 26, 26, 26, 26, 26, 26, 26, 26, 26, 26, 26, 26, 26, 26, 26, 26, 26, 26, 26, 26, 26, 26, 26, 26, 26, 26, 26, 26, 26, 26, 26, 26, 26, 26, 26, 26, 26, 26, 26, 26, 26, 26, 26, 26, 26, 26, 26, 26, 26, 26, 26, 26, 26, 26, 26, 26, 26]\n",
      "Updating environment\n",
      ".....\n",
      "================================================================================\n",
      "sweep 20, age = 7776\n",
      "Energy = -0.2097012464818704, S = 0.5300860491013643, norm_err = 1.5e-14\n",
      "Current memory usage 192.9 MB, time elapsed: 56.1 s\n",
      "Delta E = 1.5404e-15, Delta S = 1.0492e-14 (per sweep)\n",
      "max_trunc_err = 7.7781e-13, max_E_trunc = 5.2296e-12\n",
      "MPS bond dimensions: [26, 26, 26, 26, 26, 26, 26, 26, 26, 26, 26, 26, 26, 26, 26, 26, 26, 26, 26, 26, 26, 26, 26, 26, 26, 26, 26, 26, 26, 26, 26, 26, 26, 26, 26, 26, 26, 26, 26, 26, 26, 26, 26, 26, 26, 26, 26, 26, 26, 26, 26, 26, 26, 26, 26, 26, 26, 26, 26, 26, 26, 26, 26, 26, 26, 26, 26, 26, 26, 26, 26, 26, 26, 26, 26, 26, 26, 26, 26, 26, 26, 26, 26, 26, 26, 26, 26, 26, 26, 26, 26, 26, 26, 26, 26, 26]\n",
      "================================================================================\n",
      "DMRG finished after 20 sweeps.\n",
      "total size = 7776, maximum chi = 26\n",
      "================================================================================\n"
     ]
    },
    {
     "name": "stderr",
     "output_type": "stream",
     "text": [
      "/home/jerry/anaconda3/lib/python3.7/site-packages/tenpy/networks/mps.py:2174: UserWarning: canonical_form_infinite: project to smaller bond dimension\n",
      "  Gl, Wr = self._canonical_form_correct_left(i1, Gl, Wr)\n",
      "/home/jerry/anaconda3/lib/python3.7/site-packages/tenpy/networks/mps.py:2195: UserWarning: canonical_form_infinite: project to smaller bond dimension\n",
      "  Gl, Wr = self._canonical_form_correct_left(j1, Gl, Wr_list[j1 % L])\n"
     ]
    },
    {
     "name": "stdout",
     "output_type": "stream",
     "text": [
      "Initial sweeps...\n",
      "Updating environment\n",
      "..........\n",
      "Updating environment\n",
      ".....\n",
      "================================================================================\n",
      "sweep 10, age = 4896\n",
      "Energy = -0.2097012464826573, S = 0.5300860499489964, norm_err = 2.2e-14\n",
      "Current memory usage 192.9 MB, time elapsed: 29.2 s\n",
      "Delta E = nan, Delta S = nan (per sweep)\n",
      "max_trunc_err = 3.8482e-14, max_E_trunc = 2.7285e-12\n",
      "MPS bond dimensions: [28, 28, 28, 28, 28, 28, 28, 28, 28, 28, 28, 28, 28, 28, 28, 28, 28, 28, 28, 28, 28, 28, 28, 28, 28, 28, 28, 28, 28, 28, 28, 28, 28, 28, 28, 28, 28, 28, 28, 28, 28, 28, 28, 28, 28, 28, 28, 28, 28, 28, 28, 28, 28, 28, 28, 28, 28, 28, 28, 28, 28, 28, 28, 28, 28, 28, 28, 28, 28, 28, 28, 28, 28, 28, 28, 28, 28, 28, 28, 28, 28, 28, 28, 28, 28, 28, 28, 28, 28, 28, 28, 28, 28, 28, 28, 28]\n",
      "Updating environment\n",
      ".....\n",
      "================================================================================\n",
      "sweep 20, age = 7776\n",
      "Energy = -0.2097012464825845, S = 0.5300860499543165, norm_err = 1.9e-14\n",
      "Current memory usage 192.9 MB, time elapsed: 58.7 s\n",
      "Delta E = 7.2831e-15, Delta S = 5.3201e-13 (per sweep)\n",
      "max_trunc_err = 3.9891e-14, max_E_trunc = 5.4570e-12\n",
      "MPS bond dimensions: [28, 28, 28, 28, 28, 28, 28, 28, 28, 28, 28, 28, 28, 28, 28, 28, 28, 28, 28, 28, 28, 28, 28, 28, 28, 28, 28, 28, 28, 28, 28, 28, 28, 28, 28, 28, 28, 28, 28, 28, 28, 28, 28, 28, 28, 28, 28, 28, 28, 28, 28, 28, 28, 28, 28, 28, 28, 28, 28, 28, 28, 28, 28, 28, 28, 28, 28, 28, 28, 28, 28, 28, 28, 28, 28, 28, 28, 28, 28, 28, 28, 28, 28, 28, 28, 28, 28, 28, 28, 28, 28, 28, 28, 28, 28, 28]\n",
      "================================================================================\n",
      "DMRG finished after 20 sweeps.\n",
      "total size = 7776, maximum chi = 28\n",
      "================================================================================\n"
     ]
    },
    {
     "name": "stderr",
     "output_type": "stream",
     "text": [
      "/home/jerry/anaconda3/lib/python3.7/site-packages/tenpy/networks/mps.py:2174: UserWarning: canonical_form_infinite: project to smaller bond dimension\n",
      "  Gl, Wr = self._canonical_form_correct_left(i1, Gl, Wr)\n",
      "/home/jerry/anaconda3/lib/python3.7/site-packages/tenpy/networks/mps.py:2195: UserWarning: canonical_form_infinite: project to smaller bond dimension\n",
      "  Gl, Wr = self._canonical_form_correct_left(j1, Gl, Wr_list[j1 % L])\n"
     ]
    },
    {
     "name": "stdout",
     "output_type": "stream",
     "text": [
      "Initial sweeps...\n",
      "Updating environment\n",
      "..........\n",
      "Updating environment\n",
      ".....\n",
      "================================================================================\n",
      "sweep 10, age = 4896\n",
      "Energy = -0.2097012464827307, S = 0.5300860499716326, norm_err = 2.3e-14\n",
      "Current memory usage 192.9 MB, time elapsed: 31.5 s\n",
      "Delta E = nan, Delta S = nan (per sweep)\n",
      "max_trunc_err = 3.1176e-14, max_E_trunc = 3.1832e-12\n",
      "MPS bond dimensions: [30, 30, 30, 30, 30, 30, 30, 30, 30, 30, 30, 30, 30, 30, 30, 30, 30, 30, 30, 30, 30, 30, 30, 30, 30, 30, 30, 30, 30, 30, 30, 30, 30, 30, 30, 30, 30, 30, 30, 30, 30, 30, 30, 30, 30, 30, 30, 30, 30, 30, 30, 30, 30, 30, 30, 30, 30, 30, 30, 30, 30, 30, 30, 30, 30, 30, 30, 30, 30, 30, 30, 30, 30, 30, 30, 30, 30, 30, 30, 30, 30, 30, 30, 30, 30, 30, 30, 30, 30, 30, 30, 30, 30, 30, 30, 30]\n",
      "Updating environment\n",
      ".....\n",
      "================================================================================\n",
      "sweep 20, age = 7776\n",
      "Energy = -0.2097012464824365, S = 0.5300860499716772, norm_err = 1.7e-14\n",
      "Current memory usage 192.9 MB, time elapsed: 61.3 s\n",
      "Delta E = 2.9426e-14, Delta S = 4.4631e-15 (per sweep)\n",
      "max_trunc_err = 3.1176e-14, max_E_trunc = 7.0486e-12\n",
      "MPS bond dimensions: [30, 30, 30, 30, 30, 30, 30, 30, 30, 30, 30, 30, 30, 30, 30, 30, 30, 30, 30, 30, 30, 30, 30, 30, 30, 30, 30, 30, 30, 30, 30, 30, 30, 30, 30, 30, 30, 30, 30, 30, 30, 30, 30, 30, 30, 30, 30, 30, 30, 30, 30, 30, 30, 30, 30, 30, 30, 30, 30, 30, 30, 30, 30, 30, 30, 30, 30, 30, 30, 30, 30, 30, 30, 30, 30, 30, 30, 30, 30, 30, 30, 30, 30, 30, 30, 30, 30, 30, 30, 30, 30, 30, 30, 30, 30, 30]\n",
      "================================================================================\n",
      "DMRG finished after 20 sweeps.\n",
      "total size = 7776, maximum chi = 30\n",
      "================================================================================\n"
     ]
    },
    {
     "name": "stderr",
     "output_type": "stream",
     "text": [
      "/home/jerry/anaconda3/lib/python3.7/site-packages/tenpy/networks/mps.py:2174: UserWarning: canonical_form_infinite: project to smaller bond dimension\n",
      "  Gl, Wr = self._canonical_form_correct_left(i1, Gl, Wr)\n",
      "/home/jerry/anaconda3/lib/python3.7/site-packages/tenpy/networks/mps.py:2195: UserWarning: canonical_form_infinite: project to smaller bond dimension\n",
      "  Gl, Wr = self._canonical_form_correct_left(j1, Gl, Wr_list[j1 % L])\n"
     ]
    },
    {
     "name": "stdout",
     "output_type": "stream",
     "text": [
      "Initial sweeps...\n",
      "Updating environment\n",
      "..........\n",
      "Updating environment\n",
      ".....\n",
      "================================================================================\n",
      "sweep 10, age = 4896\n",
      "Energy = -0.2097012464827266, S = 0.5300860499876968, norm_err = 2.3e-14\n",
      "Current memory usage 193.4 MB, time elapsed: 29.6 s\n",
      "Delta E = nan, Delta S = nan (per sweep)\n",
      "max_trunc_err = 2.2739e-14, max_E_trunc = 2.7285e-12\n",
      "MPS bond dimensions: [32, 32, 32, 32, 32, 32, 32, 32, 32, 32, 32, 32, 32, 32, 32, 32, 32, 32, 32, 32, 32, 32, 32, 32, 32, 32, 32, 32, 32, 32, 32, 32, 32, 32, 32, 32, 32, 32, 32, 32, 32, 32, 32, 32, 32, 32, 32, 32, 32, 32, 32, 32, 32, 32, 32, 32, 32, 32, 32, 32, 32, 32, 32, 32, 32, 32, 32, 32, 32, 32, 32, 32, 32, 32, 32, 32, 32, 32, 32, 32, 32, 32, 32, 32, 32, 32, 32, 32, 32, 32, 32, 32, 32, 32, 32, 32]\n",
      "Updating environment\n",
      ".....\n",
      "================================================================================\n",
      "sweep 20, age = 7776\n",
      "Energy = -0.2097012464827657, S = 0.5300860499877036, norm_err = 1.7e-14\n",
      "Current memory usage 193.4 MB, time elapsed: 59.1 s\n",
      "Delta E = -3.9080e-15, Delta S = 6.7724e-16 (per sweep)\n",
      "max_trunc_err = 2.2739e-14, max_E_trunc = 4.5475e-12\n",
      "MPS bond dimensions: [32, 32, 32, 32, 32, 32, 32, 32, 32, 32, 32, 32, 32, 32, 32, 32, 32, 32, 32, 32, 32, 32, 32, 32, 32, 32, 32, 32, 32, 32, 32, 32, 32, 32, 32, 32, 32, 32, 32, 32, 32, 32, 32, 32, 32, 32, 32, 32, 32, 32, 32, 32, 32, 32, 32, 32, 32, 32, 32, 32, 32, 32, 32, 32, 32, 32, 32, 32, 32, 32, 32, 32, 32, 32, 32, 32, 32, 32, 32, 32, 32, 32, 32, 32, 32, 32, 32, 32, 32, 32, 32, 32, 32, 32, 32, 32]\n",
      "================================================================================\n",
      "DMRG finished after 20 sweeps.\n",
      "total size = 7776, maximum chi = 32\n",
      "================================================================================\n"
     ]
    },
    {
     "name": "stderr",
     "output_type": "stream",
     "text": [
      "/home/jerry/anaconda3/lib/python3.7/site-packages/tenpy/networks/mps.py:2174: UserWarning: canonical_form_infinite: project to smaller bond dimension\n",
      "  Gl, Wr = self._canonical_form_correct_left(i1, Gl, Wr)\n",
      "/home/jerry/anaconda3/lib/python3.7/site-packages/tenpy/networks/mps.py:2195: UserWarning: canonical_form_infinite: project to smaller bond dimension\n",
      "  Gl, Wr = self._canonical_form_correct_left(j1, Gl, Wr_list[j1 % L])\n"
     ]
    },
    {
     "name": "stdout",
     "output_type": "stream",
     "text": [
      "Initial sweeps...\n",
      "Updating environment\n",
      "..........\n",
      "Updating environment\n",
      ".....\n",
      "================================================================================\n",
      "sweep 10, age = 4896\n",
      "Energy = -0.2097012464827041, S = 0.5300860499994163, norm_err = 2.0e-14\n",
      "Current memory usage 193.4 MB, time elapsed: 31.8 s\n",
      "Delta E = nan, Delta S = nan (per sweep)\n",
      "max_trunc_err = 1.5060e-14, max_E_trunc = 2.8422e-12\n",
      "MPS bond dimensions: [34, 34, 34, 34, 34, 34, 34, 34, 34, 34, 34, 34, 34, 34, 34, 34, 34, 34, 34, 34, 34, 34, 34, 34, 34, 34, 34, 34, 34, 34, 34, 34, 34, 34, 34, 34, 34, 34, 34, 34, 34, 34, 34, 34, 34, 34, 34, 34, 34, 34, 34, 34, 34, 34, 34, 34, 34, 34, 34, 34, 34, 34, 34, 34, 34, 34, 34, 34, 34, 34, 34, 34, 34, 34, 34, 34, 34, 34, 34, 34, 34, 34, 34, 34, 34, 34, 34, 34, 34, 34, 34, 34, 34, 34, 34, 34]\n",
      "Updating environment\n",
      ".....\n",
      "================================================================================\n",
      "sweep 20, age = 7776\n",
      "Energy = -0.2097012464825833, S = 0.5300860499993766, norm_err = 1.6e-14\n",
      "Current memory usage 193.4 MB, time elapsed: 62.8 s\n",
      "Delta E = 1.2079e-14, Delta S = -3.9746e-15 (per sweep)\n",
      "max_trunc_err = 1.5060e-14, max_E_trunc = 4.3201e-12\n",
      "MPS bond dimensions: [34, 34, 34, 34, 34, 34, 34, 34, 34, 34, 34, 34, 34, 34, 34, 34, 34, 34, 34, 34, 34, 34, 34, 34, 34, 34, 34, 34, 34, 34, 34, 34, 34, 34, 34, 34, 34, 34, 34, 34, 34, 34, 34, 34, 34, 34, 34, 34, 34, 34, 34, 34, 34, 34, 34, 34, 34, 34, 34, 34, 34, 34, 34, 34, 34, 34, 34, 34, 34, 34, 34, 34, 34, 34, 34, 34, 34, 34, 34, 34, 34, 34, 34, 34, 34, 34, 34, 34, 34, 34, 34, 34, 34, 34, 34, 34]\n",
      "================================================================================\n",
      "DMRG finished after 20 sweeps.\n",
      "total size = 7776, maximum chi = 34\n",
      "================================================================================\n"
     ]
    },
    {
     "name": "stderr",
     "output_type": "stream",
     "text": [
      "/home/jerry/anaconda3/lib/python3.7/site-packages/tenpy/networks/mps.py:2174: UserWarning: canonical_form_infinite: project to smaller bond dimension\n",
      "  Gl, Wr = self._canonical_form_correct_left(i1, Gl, Wr)\n",
      "/home/jerry/anaconda3/lib/python3.7/site-packages/tenpy/networks/mps.py:2195: UserWarning: canonical_form_infinite: project to smaller bond dimension\n",
      "  Gl, Wr = self._canonical_form_correct_left(j1, Gl, Wr_list[j1 % L])\n"
     ]
    },
    {
     "name": "stdout",
     "output_type": "stream",
     "text": [
      "Initial sweeps...\n",
      "Updating environment\n",
      "..........\n",
      "Updating environment\n",
      ".....\n",
      "================================================================================\n",
      "sweep 10, age = 4896\n",
      "Energy = -0.2097012464827396, S = 0.5300860500096327, norm_err = 2.1e-14\n",
      "Current memory usage 199.7 MB, time elapsed: 30.9 s\n",
      "Delta E = nan, Delta S = nan (per sweep)\n",
      "max_trunc_err = 7.7495e-15, max_E_trunc = 2.7285e-12\n",
      "MPS bond dimensions: [36, 36, 36, 36, 36, 36, 36, 36, 36, 36, 36, 36, 36, 36, 36, 36, 36, 36, 36, 36, 36, 36, 36, 36, 36, 36, 36, 36, 36, 36, 36, 36, 36, 36, 36, 36, 36, 36, 36, 36, 36, 36, 36, 36, 36, 36, 36, 36, 36, 36, 36, 36, 36, 36, 36, 36, 36, 36, 36, 36, 36, 36, 36, 36, 36, 36, 36, 36, 36, 36, 36, 36, 36, 36, 36, 36, 36, 36, 36, 36, 36, 36, 36, 36, 36, 36, 36, 36, 36, 36, 36, 36, 36, 36, 36, 36]\n",
      "Updating environment\n",
      ".....\n",
      "================================================================================\n",
      "sweep 20, age = 7776\n",
      "Energy = -0.2097012464826828, S = 0.5300860500111958, norm_err = 1.8e-14\n",
      "Current memory usage 199.7 MB, time elapsed: 65.2 s\n",
      "Delta E = 5.6843e-15, Delta S = 1.5631e-13 (per sweep)\n",
      "max_trunc_err = 7.7757e-15, max_E_trunc = 3.6380e-12\n",
      "MPS bond dimensions: [36, 36, 36, 36, 36, 36, 36, 36, 36, 36, 36, 36, 36, 36, 36, 36, 36, 36, 36, 36, 36, 36, 36, 36, 36, 36, 36, 36, 36, 36, 36, 36, 36, 36, 36, 36, 36, 36, 36, 36, 36, 36, 36, 36, 36, 36, 36, 36, 36, 36, 36, 36, 36, 36, 36, 36, 36, 36, 36, 36, 36, 36, 36, 36, 36, 36, 36, 36, 36, 36, 36, 36, 36, 36, 36, 36, 36, 36, 36, 36, 36, 36, 36, 36, 36, 36, 36, 36, 36, 36, 36, 36, 36, 36, 36, 36]\n",
      "================================================================================\n",
      "DMRG finished after 20 sweeps.\n",
      "total size = 7776, maximum chi = 36\n",
      "================================================================================\n"
     ]
    },
    {
     "name": "stderr",
     "output_type": "stream",
     "text": [
      "/home/jerry/anaconda3/lib/python3.7/site-packages/tenpy/networks/mps.py:2174: UserWarning: canonical_form_infinite: project to smaller bond dimension\n",
      "  Gl, Wr = self._canonical_form_correct_left(i1, Gl, Wr)\n",
      "/home/jerry/anaconda3/lib/python3.7/site-packages/tenpy/networks/mps.py:2195: UserWarning: canonical_form_infinite: project to smaller bond dimension\n",
      "  Gl, Wr = self._canonical_form_correct_left(j1, Gl, Wr_list[j1 % L])\n"
     ]
    },
    {
     "name": "stdout",
     "output_type": "stream",
     "text": [
      "Initial sweeps...\n",
      "Updating environment\n",
      "..........\n",
      "Updating environment\n",
      ".....\n",
      "================================================================================\n",
      "sweep 10, age = 4896\n",
      "Energy = -0.2097012464828497, S = 0.5300860500234517, norm_err = 2.4e-14\n",
      "Current memory usage 205.9 MB, time elapsed: 31.4 s\n",
      "Delta E = nan, Delta S = nan (per sweep)\n",
      "max_trunc_err = 4.6957e-16, max_E_trunc = 2.3874e-12\n",
      "MPS bond dimensions: [38, 38, 38, 38, 38, 38, 38, 38, 38, 38, 38, 38, 38, 38, 38, 38, 38, 38, 38, 38, 38, 38, 38, 38, 38, 38, 38, 38, 38, 38, 38, 38, 38, 38, 38, 38, 38, 38, 38, 38, 38, 38, 38, 38, 38, 38, 38, 38, 38, 38, 38, 38, 38, 38, 38, 38, 38, 38, 38, 38, 38, 38, 38, 38, 38, 38, 38, 38, 38, 38, 38, 38, 38, 38, 38, 38, 38, 38, 38, 38, 38, 38, 38, 38, 38, 38, 38, 38, 38, 38, 38, 38, 38, 38, 38, 38]\n",
      "Updating environment\n",
      ".....\n",
      "================================================================================\n",
      "sweep 20, age = 7776\n",
      "Energy = -0.2097012464827645, S = 0.5300860500234841, norm_err = 1.8e-14\n",
      "Current memory usage 205.9 MB, time elapsed: 63.7 s\n",
      "Delta E = 8.5265e-15, Delta S = 3.2419e-15 (per sweep)\n",
      "max_trunc_err = 4.8457e-16, max_E_trunc = 3.8654e-12\n",
      "MPS bond dimensions: [38, 38, 38, 38, 38, 38, 38, 38, 38, 38, 38, 38, 38, 38, 38, 38, 38, 38, 38, 38, 38, 38, 38, 38, 38, 38, 38, 38, 38, 38, 38, 38, 38, 38, 38, 38, 38, 38, 38, 38, 38, 38, 38, 38, 38, 38, 38, 38, 38, 38, 38, 38, 38, 38, 38, 38, 38, 38, 38, 38, 38, 38, 38, 38, 38, 38, 38, 38, 38, 38, 38, 38, 38, 38, 38, 38, 38, 38, 38, 38, 38, 38, 38, 38, 38, 38, 38, 38, 38, 38, 38, 38, 38, 38, 38, 38]\n",
      "================================================================================\n",
      "DMRG finished after 20 sweeps.\n",
      "total size = 7776, maximum chi = 38\n",
      "================================================================================\n"
     ]
    },
    {
     "name": "stderr",
     "output_type": "stream",
     "text": [
      "/home/jerry/anaconda3/lib/python3.7/site-packages/tenpy/networks/mps.py:2174: UserWarning: canonical_form_infinite: project to smaller bond dimension\n",
      "  Gl, Wr = self._canonical_form_correct_left(i1, Gl, Wr)\n",
      "/home/jerry/anaconda3/lib/python3.7/site-packages/tenpy/networks/mps.py:2195: UserWarning: canonical_form_infinite: project to smaller bond dimension\n",
      "  Gl, Wr = self._canonical_form_correct_left(j1, Gl, Wr_list[j1 % L])\n"
     ]
    },
    {
     "name": "stdout",
     "output_type": "stream",
     "text": [
      "Initial sweeps...\n",
      "Updating environment\n",
      "..........\n",
      "Updating environment\n",
      ".....\n",
      "================================================================================\n",
      "sweep 10, age = 4896\n",
      "Energy = -0.2097012464827817, S = 0.5300860500237053, norm_err = 2.1e-14\n",
      "Current memory usage 207.8 MB, time elapsed: 33.1 s\n",
      "Delta E = nan, Delta S = nan (per sweep)\n",
      "max_trunc_err = 3.9899e-16, max_E_trunc = 2.1600e-12\n",
      "MPS bond dimensions: [40, 40, 40, 40, 40, 40, 40, 40, 40, 40, 40, 40, 40, 40, 40, 40, 40, 40, 40, 40, 40, 40, 40, 40, 40, 40, 40, 40, 40, 40, 40, 40, 40, 40, 40, 40, 40, 40, 40, 40, 40, 40, 40, 40, 40, 40, 40, 40, 40, 40, 40, 40, 40, 40, 40, 40, 40, 40, 40, 40, 40, 40, 40, 40, 40, 40, 40, 40, 40, 40, 39, 40, 40, 40, 40, 40, 39, 40, 40, 40, 39, 40, 40, 40, 40, 40, 40, 40, 40, 40, 40, 40, 40, 40, 40, 40]\n",
      "Updating environment\n",
      ".....\n",
      "================================================================================\n",
      "sweep 20, age = 7776\n",
      "Energy = -0.2097012464827289, S = 0.5300860500236476, norm_err = 2.0e-14\n",
      "Current memory usage 207.8 MB, time elapsed: 65.9 s\n",
      "Delta E = 5.2708e-15, Delta S = -5.7732e-15 (per sweep)\n",
      "max_trunc_err = 3.9577e-16, max_E_trunc = 3.1832e-12\n",
      "MPS bond dimensions: [40, 40, 40, 40, 40, 40, 40, 40, 40, 40, 40, 40, 40, 40, 40, 40, 40, 40, 40, 40, 40, 40, 40, 40, 40, 40, 40, 40, 40, 40, 40, 40, 40, 40, 40, 40, 40, 40, 40, 40, 40, 40, 40, 40, 40, 40, 40, 40, 40, 40, 40, 40, 40, 40, 40, 40, 40, 40, 40, 40, 40, 40, 40, 40, 40, 40, 40, 40, 40, 40, 40, 40, 40, 40, 40, 40, 40, 40, 40, 40, 40, 40, 40, 40, 40, 40, 40, 40, 40, 40, 40, 40, 40, 40, 40, 40]\n",
      "================================================================================\n",
      "DMRG finished after 20 sweeps.\n",
      "total size = 7776, maximum chi = 40\n",
      "================================================================================\n"
     ]
    },
    {
     "name": "stderr",
     "output_type": "stream",
     "text": [
      "/home/jerry/anaconda3/lib/python3.7/site-packages/tenpy/networks/mps.py:2174: UserWarning: canonical_form_infinite: project to smaller bond dimension\n",
      "  Gl, Wr = self._canonical_form_correct_left(i1, Gl, Wr)\n",
      "/home/jerry/anaconda3/lib/python3.7/site-packages/tenpy/networks/mps.py:2195: UserWarning: canonical_form_infinite: project to smaller bond dimension\n",
      "  Gl, Wr = self._canonical_form_correct_left(j1, Gl, Wr_list[j1 % L])\n"
     ]
    },
    {
     "name": "stdout",
     "output_type": "stream",
     "text": [
      "Initial sweeps...\n",
      "Updating environment\n",
      "..........\n",
      "Updating environment\n",
      ".....\n",
      "================================================================================\n",
      "sweep 10, age = 4896\n",
      "Energy = -0.2097012464826390, S = 0.5300860500239500, norm_err = 2.0e-14\n",
      "Current memory usage 207.8 MB, time elapsed: 34.6 s\n",
      "Delta E = nan, Delta S = nan (per sweep)\n",
      "max_trunc_err = 3.1054e-16, max_E_trunc = 1.7053e-12\n",
      "MPS bond dimensions: [41, 42, 41, 42, 41, 42, 41, 42, 41, 42, 41, 42, 41, 42, 41, 42, 41, 42, 41, 42, 41, 42, 41, 42, 41, 42, 41, 42, 41, 42, 41, 42, 41, 42, 41, 42, 41, 42, 41, 42, 41, 42, 41, 42, 41, 42, 41, 42, 41, 42, 41, 42, 41, 42, 41, 42, 41, 42, 41, 42, 41, 42, 41, 42, 41, 42, 41, 42, 41, 42, 41, 42, 41, 42, 41, 42, 41, 42, 41, 42, 41, 42, 41, 42, 41, 42, 41, 42, 41, 42, 41, 42, 41, 42, 41, 42]\n",
      "Updating environment\n",
      ".....\n",
      "================================================================================\n",
      "sweep 20, age = 7776\n",
      "Energy = -0.2097012464827822, S = 0.5300860500239307, norm_err = 1.8e-14\n",
      "Current memory usage 207.8 MB, time elapsed: 71.5 s\n",
      "Delta E = -1.4327e-14, Delta S = -1.9318e-15 (per sweep)\n",
      "max_trunc_err = 3.1048e-16, max_E_trunc = 3.8654e-12\n",
      "MPS bond dimensions: [41, 42, 41, 42, 41, 42, 41, 42, 41, 42, 41, 42, 41, 42, 41, 42, 41, 42, 41, 42, 41, 42, 41, 42, 41, 42, 41, 42, 41, 42, 41, 42, 41, 42, 41, 42, 41, 42, 41, 42, 41, 42, 41, 42, 41, 42, 41, 42, 41, 42, 41, 42, 41, 42, 41, 42, 41, 42, 41, 42, 41, 42, 41, 42, 41, 42, 41, 42, 41, 42, 41, 42, 41, 42, 41, 42, 41, 42, 41, 42, 41, 42, 41, 42, 41, 42, 41, 42, 41, 42, 41, 42, 41, 42, 41, 42]\n",
      "================================================================================\n",
      "DMRG finished after 20 sweeps.\n",
      "total size = 7776, maximum chi = 42\n",
      "================================================================================\n"
     ]
    },
    {
     "name": "stderr",
     "output_type": "stream",
     "text": [
      "/home/jerry/anaconda3/lib/python3.7/site-packages/tenpy/networks/mps.py:2174: UserWarning: canonical_form_infinite: project to smaller bond dimension\n",
      "  Gl, Wr = self._canonical_form_correct_left(i1, Gl, Wr)\n",
      "/home/jerry/anaconda3/lib/python3.7/site-packages/tenpy/networks/mps.py:2195: UserWarning: canonical_form_infinite: project to smaller bond dimension\n",
      "  Gl, Wr = self._canonical_form_correct_left(j1, Gl, Wr_list[j1 % L])\n"
     ]
    },
    {
     "name": "stdout",
     "output_type": "stream",
     "text": [
      "Initial sweeps...\n",
      "Updating environment\n",
      "..........\n",
      "Updating environment\n",
      ".....\n",
      "================================================================================\n",
      "sweep 10, age = 4896\n",
      "Energy = -0.2097012464826946, S = 0.5300860500242325, norm_err = 2.4e-14\n",
      "Current memory usage 207.8 MB, time elapsed: 37.4 s\n",
      "Delta E = nan, Delta S = nan (per sweep)\n",
      "max_trunc_err = 2.2850e-16, max_E_trunc = 1.5916e-12\n",
      "MPS bond dimensions: [42, 44, 42, 44, 42, 44, 42, 44, 42, 44, 42, 44, 42, 44, 42, 44, 42, 44, 42, 44, 42, 44, 42, 44, 42, 44, 42, 44, 42, 44, 42, 44, 42, 44, 42, 44, 42, 44, 42, 44, 42, 44, 42, 44, 42, 44, 42, 44, 42, 44, 42, 44, 42, 44, 42, 44, 42, 44, 42, 44, 42, 44, 42, 44, 42, 44, 42, 44, 42, 44, 42, 44, 42, 44, 42, 44, 42, 44, 42, 44, 42, 44, 42, 44, 42, 44, 42, 44, 42, 44, 42, 44, 42, 44, 42, 44]\n",
      "Updating environment\n",
      ".....\n",
      "================================================================================\n",
      "sweep 20, age = 7776\n",
      "Energy = -0.2097012464827112, S = 0.5300860500242438, norm_err = 1.8e-14\n",
      "Current memory usage 207.8 MB, time elapsed: 74.3 s\n",
      "Delta E = -1.6570e-15, Delta S = 1.1324e-15 (per sweep)\n",
      "max_trunc_err = 2.2850e-16, max_E_trunc = 3.4106e-12\n",
      "MPS bond dimensions: [42, 44, 42, 44, 42, 44, 42, 44, 42, 44, 42, 44, 42, 44, 42, 44, 42, 44, 42, 44, 42, 44, 42, 44, 42, 44, 42, 44, 42, 44, 42, 44, 42, 44, 42, 44, 42, 44, 42, 44, 42, 44, 42, 44, 42, 44, 42, 44, 42, 44, 42, 44, 42, 44, 42, 44, 42, 44, 42, 44, 42, 44, 42, 44, 42, 44, 42, 44, 42, 44, 42, 44, 42, 44, 42, 44, 42, 44, 42, 44, 42, 44, 42, 44, 42, 44, 42, 44, 42, 44, 42, 44, 42, 44, 42, 44]\n",
      "================================================================================\n",
      "DMRG finished after 20 sweeps.\n",
      "total size = 7776, maximum chi = 44\n",
      "================================================================================\n"
     ]
    },
    {
     "name": "stderr",
     "output_type": "stream",
     "text": [
      "/home/jerry/anaconda3/lib/python3.7/site-packages/tenpy/networks/mps.py:2174: UserWarning: canonical_form_infinite: project to smaller bond dimension\n",
      "  Gl, Wr = self._canonical_form_correct_left(i1, Gl, Wr)\n",
      "/home/jerry/anaconda3/lib/python3.7/site-packages/tenpy/networks/mps.py:2195: UserWarning: canonical_form_infinite: project to smaller bond dimension\n",
      "  Gl, Wr = self._canonical_form_correct_left(j1, Gl, Wr_list[j1 % L])\n"
     ]
    },
    {
     "name": "stdout",
     "output_type": "stream",
     "text": [
      "Initial sweeps...\n",
      "Updating environment\n",
      "..........\n",
      "Updating environment\n",
      ".....\n",
      "================================================================================\n",
      "sweep 10, age = 4896\n",
      "Energy = -0.2097012464827532, S = 0.5300860500243563, norm_err = 1.9e-14\n",
      "Current memory usage 220.1 MB, time elapsed: 36.9 s\n",
      "Delta E = nan, Delta S = nan (per sweep)\n",
      "max_trunc_err = 1.5166e-16, max_E_trunc = 2.3874e-12\n",
      "MPS bond dimensions: [44, 46, 44, 46, 44, 46, 44, 46, 44, 46, 44, 46, 44, 46, 44, 46, 44, 46, 44, 46, 44, 46, 44, 46, 44, 46, 44, 46, 44, 46, 44, 46, 44, 46, 44, 46, 44, 46, 44, 46, 44, 46, 44, 46, 44, 46, 44, 46, 44, 46, 44, 46, 44, 46, 44, 46, 44, 46, 44, 46, 44, 46, 44, 46, 44, 46, 44, 46, 44, 46, 44, 46, 44, 46, 44, 46, 44, 46, 44, 46, 44, 46, 44, 46, 44, 46, 44, 46, 44, 46, 44, 46, 44, 46, 44, 46]\n",
      "Updating environment\n",
      ".....\n",
      "================================================================================\n",
      "sweep 20, age = 7776\n",
      "Energy = -0.2097012464827408, S = 0.5300860500243357, norm_err = 1.7e-14\n",
      "Current memory usage 220.1 MB, time elapsed: 73.2 s\n",
      "Delta E = 1.2434e-15, Delta S = -2.0539e-15 (per sweep)\n",
      "max_trunc_err = 1.5166e-16, max_E_trunc = 4.0927e-12\n",
      "MPS bond dimensions: [44, 46, 44, 46, 44, 46, 44, 46, 44, 46, 44, 46, 44, 46, 44, 46, 44, 46, 44, 46, 44, 46, 44, 46, 44, 46, 44, 46, 44, 46, 44, 46, 44, 46, 44, 46, 44, 46, 44, 46, 44, 46, 44, 46, 44, 46, 44, 46, 44, 46, 44, 46, 44, 46, 44, 46, 44, 46, 44, 46, 44, 46, 44, 46, 44, 46, 44, 46, 44, 46, 44, 46, 44, 46, 44, 46, 44, 46, 44, 46, 44, 46, 44, 46, 44, 46, 44, 46, 44, 46, 44, 46, 44, 46, 44, 46]\n",
      "================================================================================\n",
      "DMRG finished after 20 sweeps.\n",
      "total size = 7776, maximum chi = 46\n",
      "================================================================================\n"
     ]
    },
    {
     "name": "stderr",
     "output_type": "stream",
     "text": [
      "/home/jerry/anaconda3/lib/python3.7/site-packages/tenpy/networks/mps.py:2174: UserWarning: canonical_form_infinite: project to smaller bond dimension\n",
      "  Gl, Wr = self._canonical_form_correct_left(i1, Gl, Wr)\n",
      "/home/jerry/anaconda3/lib/python3.7/site-packages/tenpy/networks/mps.py:2195: UserWarning: canonical_form_infinite: project to smaller bond dimension\n",
      "  Gl, Wr = self._canonical_form_correct_left(j1, Gl, Wr_list[j1 % L])\n"
     ]
    },
    {
     "name": "stdout",
     "output_type": "stream",
     "text": [
      "Initial sweeps...\n",
      "Updating environment\n",
      "..........\n",
      "Updating environment\n",
      ".....\n",
      "================================================================================\n",
      "sweep 10, age = 4896\n",
      "Energy = -0.2097012464827372, S = 0.5300860500245640, norm_err = 2.2e-14\n",
      "Current memory usage 222.4 MB, time elapsed: 50.4 s\n",
      "Delta E = nan, Delta S = nan (per sweep)\n",
      "max_trunc_err = 7.7930e-17, max_E_trunc = 1.7053e-12\n",
      "MPS bond dimensions: [46, 48, 46, 48, 46, 48, 46, 48, 46, 48, 46, 48, 46, 48, 46, 48, 46, 48, 46, 48, 46, 48, 46, 48, 46, 48, 46, 48, 46, 48, 46, 48, 46, 48, 46, 48, 46, 48, 46, 48, 46, 48, 46, 48, 46, 48, 46, 48, 46, 48, 46, 48, 46, 48, 46, 48, 46, 48, 46, 48, 46, 48, 46, 48, 46, 48, 46, 48, 46, 48, 46, 48, 46, 48, 46, 48, 46, 48, 46, 48, 46, 48, 46, 48, 46, 48, 46, 48, 46, 48, 46, 48, 46, 48, 46, 48]\n",
      "Updating environment\n",
      ".....\n",
      "================================================================================\n",
      "sweep 20, age = 7776\n",
      "Energy = -0.2097012464826733, S = 0.5300860500246490, norm_err = 1.7e-14\n",
      "Current memory usage 222.4 MB, time elapsed: 96.3 s\n",
      "Delta E = 6.3949e-15, Delta S = 8.5043e-15 (per sweep)\n",
      "max_trunc_err = 7.8259e-17, max_E_trunc = 3.8654e-12\n",
      "MPS bond dimensions: [46, 48, 46, 48, 46, 48, 46, 48, 46, 48, 46, 48, 46, 48, 46, 48, 46, 48, 46, 48, 46, 48, 46, 48, 46, 48, 46, 48, 46, 48, 46, 48, 46, 48, 46, 48, 46, 48, 46, 48, 46, 48, 46, 48, 46, 48, 46, 48, 46, 48, 46, 48, 46, 48, 46, 48, 46, 48, 46, 48, 46, 48, 46, 48, 46, 48, 46, 48, 46, 48, 46, 48, 46, 48, 46, 48, 46, 48, 46, 48, 46, 48, 46, 48, 46, 48, 46, 48, 46, 48, 46, 48, 46, 48, 46, 48]\n",
      "================================================================================\n",
      "DMRG finished after 20 sweeps.\n",
      "total size = 7776, maximum chi = 48\n",
      "================================================================================\n"
     ]
    },
    {
     "name": "stderr",
     "output_type": "stream",
     "text": [
      "/home/jerry/anaconda3/lib/python3.7/site-packages/tenpy/networks/mps.py:2174: UserWarning: canonical_form_infinite: project to smaller bond dimension\n",
      "  Gl, Wr = self._canonical_form_correct_left(i1, Gl, Wr)\n",
      "/home/jerry/anaconda3/lib/python3.7/site-packages/tenpy/networks/mps.py:2195: UserWarning: canonical_form_infinite: project to smaller bond dimension\n",
      "  Gl, Wr = self._canonical_form_correct_left(j1, Gl, Wr_list[j1 % L])\n"
     ]
    },
    {
     "name": "stdout",
     "output_type": "stream",
     "text": [
      "{'entropy_list': [0.6188537279336627, 0.5300859972845408, 0.530086046531891, 0.5300860472468557, 0.5300860482885209, 0.5300860491013242, 0.5300860499542779, 0.5300860499716364, 0.5300860499876751, 0.5300860499993483, 0.5300860500111569, 0.530086050023432, 0.5300860500235731, 0.5300860500238537, 0.5300860500241602, 0.5300860500242451, 0.5300860500245478], 'correlation_list': [3.0506737498487997, 2.7539655441146897, 2.7501950142739666, 2.7192829406544035, 2.7263700205540062, 2.7296541787525195, 2.7226324813236307, 2.739139992892501, 2.7377049805675613, 2.760008991623012, 2.714658110351543, 2.7605578332643104, 2.7340846815313435, 2.7555118693733993, 2.7720714524247283, 2.728154413996169, 2.730214698692389]}\n"
     ]
    }
   ],
   "source": [
    "data = run()\n",
    "# plot_results(data)\n",
    "print(data)"
   ]
  },
  {
   "cell_type": "code",
   "execution_count": 19,
   "metadata": {},
   "outputs": [
    {
     "data": {
      "text/plain": [
       "[<matplotlib.lines.Line2D at 0x7fba40353c90>]"
      ]
     },
     "execution_count": 19,
     "metadata": {},
     "output_type": "execute_result"
    },
    {
     "data": {
      "image/png": "[encoded data removed]",
      "text/plain": [
       "<Figure size 432x288 with 1 Axes>"
      ]
     },
     "metadata": {
      "needs_background": "light"
     },
     "output_type": "display_data"
    }
   ],
   "source": [
    "entropy_list = data['entropy_list'][2:-1]\n",
    "correlation_list = data['correlation_list'][2:-1]\n",
    "plt.plot(np.log(correlation_list), entropy_list, 'o')"
   ]
  },
  {
   "cell_type": "code",
   "execution_count": 20,
   "metadata": {},
   "outputs": [],
   "source": [
    "from scipy.optimize import curve_fit\n",
    "\n",
    "def func(xi, c, a):\n",
    "    return (c / 6) * np.log(xi) + a"
   ]
  },
  {
   "cell_type": "code",
   "execution_count": 21,
   "metadata": {},
   "outputs": [],
   "source": [
    "xi = correlation_list\n",
    "log_xi = np.log(correlation_list)\n",
    "s = entropy_list\n",
    "fitParams, fitCovariances = curve_fit(func, xi, s)"
   ]
  },
  {
   "cell_type": "code",
   "execution_count": 22,
   "metadata": {},
   "outputs": [
    {
     "data": {
      "text/plain": [
       "array([[ 8.96953012e-16, -1.53969115e-16],\n",
       "       [-1.53969115e-16,  2.65339052e-17]])"
      ]
     },
     "execution_count": 22,
     "metadata": {},
     "output_type": "execute_result"
    }
   ],
   "source": [
    "fitCovariances"
   ]
  },
  {
   "cell_type": "code",
   "execution_count": null,
   "metadata": {},
   "outputs": [],
   "source": []
  }
 ],
 "metadata": {
  "kernelspec": {
   "display_name": "Python 3",
   "language": "python",
   "name": "python3"
  },
  "language_info": {
   "codemirror_mode": {
    "name": "ipython",
    "version": 3
   },
   "file_extension": ".py",
   "mimetype": "text/x-python",
   "name": "python",
   "nbconvert_exporter": "python",
   "pygments_lexer": "ipython3",
   "version": "3.7.7"
  }
 },
 "nbformat": 4,
 "nbformat_minor": 4
}
