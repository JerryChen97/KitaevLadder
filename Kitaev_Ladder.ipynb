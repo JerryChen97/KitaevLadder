{
 "cells": [
  {
   "cell_type": "code",
   "execution_count": 5,
   "metadata": {},
   "outputs": [],
   "source": [
    "import numpy as np\n",
    "import itertools\n",
    "import warnings\n",
    "import matplotlib.pyplot as plt"
   ]
  },
  {
   "cell_type": "code",
   "execution_count": 1,
   "metadata": {},
   "outputs": [],
   "source": [
    "from tenpy.networks.site import Site, SpinHalfFermionSite, SpinHalfSite, GroupedSite, SpinSite\n",
    "from tenpy.tools.misc import to_iterable, to_iterable_of_len, inverse_permutation\n",
    "from tenpy.networks.mps import MPS  # only to check boundary conditions\n",
    "\n",
    "from tenpy.models.lattice import Lattice, _parse_sites\n",
    "from tenpy.models.model import CouplingMPOModel, NearestNeighborModel\n",
    "from tenpy.tools.params import get_parameter\n",
    "\n",
    "from tenpy.algorithms import dmrg"
   ]
  },
  {
   "cell_type": "code",
   "execution_count": 2,
   "metadata": {},
   "outputs": [],
   "source": [
    "__all__ = ['KitaevLadder', 'KitaevLadderModel']"
   ]
  },
  {
   "cell_type": "code",
   "execution_count": 3,
   "metadata": {},
   "outputs": [],
   "source": [
    "class KitaevLadder(Lattice):    \n",
    "    \"\"\" A ladder coupling two chains of the Kitaev form\n",
    "    .. image :: /images/lattices/Ladder.*\n",
    "    Parameters\n",
    "    ----------\n",
    "    L : int\n",
    "        The length of each chain, we have 2*L sites in total.\n",
    "    sites : (list of) :class:`~tenpy.networks.site.Site`\n",
    "        The two local lattice sites making the `unit_cell` of the :class:`Lattice`.\n",
    "        If only a single :class:`~tenpy.networks.site.Site` is given, it is used for both chains.\n",
    "    **kwargs :\n",
    "        Additional keyword arguments given to the :class:`Lattice`.\n",
    "        `basis`, `pos` and `pairs` are set accordingly.\n",
    "    \"\"\"\n",
    "    dim = 1\n",
    "\n",
    "    def __init__(self, L, sites, **kwargs):\n",
    "        sites = _parse_sites(sites, 4)\n",
    "        basis = np.array([[2., 0.]])\n",
    "        pos = np.array([[0., 0.], [0., 1.], [1., 0.], [1., 1.]])\n",
    "        kwargs.setdefault('basis', basis)\n",
    "        kwargs.setdefault('positions', pos)\n",
    "        NNz = [(0, 1, np.array([0])), (2, 3, np.array([0]))]\n",
    "        NNx = [(1, 3, np.array([0])), (2, 0, np.array([1]))]\n",
    "        NNy = [(0, 2, np.array([0])), (3, 1, np.array([1]))]\n",
    "        # nNN = [(0, 1, np.array([1])), (1, 0, np.array([1]))]\n",
    "        # nnNN = [(0, 0, np.array([2])), (1, 1, np.array([2]))]\n",
    "        kwargs.setdefault('pairs', {})\n",
    "        kwargs['pairs'].setdefault('nearest_neighbors_x', NNx)\n",
    "        kwargs['pairs'].setdefault('nearest_neighbors_y', NNy)\n",
    "        kwargs['pairs'].setdefault('nearest_neighbors_z', NNz)\n",
    "        # kwargs['pairs'].setdefault('nearest_neighbors', NNx+NNy+NNz)\n",
    "        # kwargs['pairs'].setdefault('next_nearest_neighbors', nNN)\n",
    "        # kwargs['pairs'].setdefault('next_next_nearest_neighbors', nnNN)\n",
    "        Lattice.__init__(self, [L], sites, **kwargs)\n",
    "        \n",
    "        \n",
    "class KitaevLadderModel(CouplingMPOModel):\n",
    "    def __init__(self, model_params):\n",
    "        CouplingMPOModel.__init__(self, model_params)\n",
    "\n",
    "    def init_sites(self, model_params):\n",
    "        conserve = get_parameter(model_params, 'conserve', None, self.name)\n",
    "        fs = SpinHalfSite(conserve=conserve)\n",
    "        # gs = GroupedSite([fs, fs, fs, fs])\n",
    "        return [fs, fs, fs, fs]\n",
    "\n",
    "    def init_lattice(self, model_params):\n",
    "        L = get_parameter(model_params, 'L', 3, self.name)\n",
    "        gs = self.init_sites(model_params)\n",
    "        lat = KitaevLadder(L, gs)\n",
    "        return lat\n",
    "\n",
    "    def init_terms(self, model_params):\n",
    "        Jx = get_parameter(model_params, 'Jx', 1., self.name, True)\n",
    "        Jy = get_parameter(model_params, 'Jy', 1., self.name, True)\n",
    "        Jz = get_parameter(model_params, 'Jz', 1., self.name, True)\n",
    "\n",
    "        for u1, u2, dx in self.lat.pairs['nearest_neighbors_z']:\n",
    "            self.add_coupling(-Jz, u1, 'Sigmaz', u2, 'Sigmaz', dx)\n",
    "        for u1, u2, dx in self.lat.pairs['nearest_neighbors_x']:\n",
    "            self.add_coupling(-Jx, u1, 'Sigmax', u2, 'Sigmax', dx)\n",
    "        for u1, u2, dx in self.lat.pairs['nearest_neighbors_y']:\n",
    "            self.add_coupling(-Jy, u1, 'Sigmay', u2, 'Sigmay', dx)\n",
    "         \n",
    "        \n",
    "def plot_lattice():\n",
    "    fig, ax = plt.subplots()\n",
    "    lat = KitaevLadder(5, None, bc='periodic')\n",
    "    links_name = 'nearest_neighbors_z'\n",
    "    lat.plot_coupling(ax, lat.pairs[links_name], linewidth=5.)\n",
    "    # print(lat.pairs['nearest_neighbors'])\n",
    "    print(lat.unit_cell)\n",
    "    lat.plot_order(ax=ax, linestyle='--')\n",
    "    lat.plot_sites(ax)\n",
    "    # lat.plot_basis(ax, color='g', linewidth=3.)\n",
    "    ax.set_aspect('equal')\n",
    "    ax.get_xaxis().set_visible(False)\n",
    "    ax.get_yaxis().set_visible(False)\n",
    "    ax.axis('off')\n",
    "    # plt.title(links_name)\n",
    "    plt.show()\n"
   ]
  },
  {
   "cell_type": "code",
   "execution_count": 7,
   "metadata": {},
   "outputs": [],
   "source": [
    "def run():\n",
    "\n",
    "    data = dict(ent_spectrum=[])\n",
    "\n",
    "    model_params = dict(conserve=None, Jx=1., Jy=1., Jz=1., L=20, verbose=1, bc_MPS='infinite')\n",
    "\n",
    "    dmrg_params = {\n",
    "        'mixer': True,  # setting this to True helps to escape local minima\n",
    "        'mixer_params': {\n",
    "            'amplitude': 1.e-5,\n",
    "            'decay': 1.2,\n",
    "            'disable_after': 30\n",
    "        },\n",
    "        'trunc_params': {\n",
    "            'svd_min': 1.e-10,\n",
    "        },\n",
    "        'lanczos_params': {\n",
    "            'N_min': 5,\n",
    "            'N_max': 20\n",
    "        },\n",
    "        'chi_list': {\n",
    "            0: 9,\n",
    "            10: 49,\n",
    "            20: 100\n",
    "        },\n",
    "        'max_E_err': 1.e-10,\n",
    "        'max_S_err': 1.e-6,\n",
    "        'max_sweeps': 150,\n",
    "        'verbose': 1.,\n",
    "    }\n",
    "\n",
    "    prod_state = [\"up\"] * (4 * model_params['L'])\n",
    "\n",
    "    eng = None\n",
    "\n",
    "\n",
    "    print(\"=\" * 100)\n",
    "\n",
    "\n",
    "    if eng is None:  # first time in the loop\n",
    "        M = KitaevLadderModel(model_params)\n",
    "        psi = MPS.from_product_state(M.lat.mps_sites(), prod_state, bc=M.lat.bc_MPS)\n",
    "        eng = dmrg.TwoSiteDMRGEngine(psi, M, dmrg_params)\n",
    "    else:\n",
    "        del eng.engine_params['chi_list']\n",
    "        M = KitaevLadderModel(model_params)\n",
    "        eng.init_env(model=M)\n",
    "\n",
    "    E, psi = eng.run()\n",
    "\n",
    "    data['ent_spectrum'].append(psi.entanglement_spectrum(by_charge=True)[0])\n",
    "\n",
    "    return data\n",
    "\n",
    "\n",
    "def plot_results(data):\n",
    "\n",
    "    plt.figure()\n",
    "    ax = plt.gca()\n",
    "    ax.plot(data['ent_spectrum'], marker='o')\n",
    "    ax.set_xlabel(r\"DMRG Step\")\n",
    "    ax.set_ylabel(r\"$ E $\")\n",
    "    plt.savefig(\"KitaevLadderModel.pdf\")\n"
   ]
  },
  {
   "cell_type": "code",
   "execution_count": 8,
   "metadata": {},
   "outputs": [
    {
     "name": "stdout",
     "output_type": "stream",
     "text": [
      "====================================================================================================\n",
      "parameter 'verbose'=1 for KitaevLadderModel\n",
      "parameter 'L'=20 for KitaevLadderModel\n",
      "parameter 'conserve'=None for KitaevLadderModel\n",
      "parameter 'Jx'=1.0 for KitaevLadderModel\n",
      "parameter 'Jy'=1.0 for KitaevLadderModel\n",
      "parameter 'Jz'=1.0 for KitaevLadderModel\n"
     ]
    },
    {
     "name": "stderr",
     "output_type": "stream",
     "text": [
      "/home/jerry/anaconda3/lib/python3.7/site-packages/tenpy/tools/params.py:124: UserWarning: unused parameter ['bc_MPS'] for KitaevLadderModel\n",
      "\n",
      "  warnings.warn(msg.format(keys=sorted(unused), descr=warn))\n"
     ]
    },
    {
     "name": "stdout",
     "output_type": "stream",
     "text": [
      "parameter 'verbose'=1.0 for Sweep\n",
      "parameter 'lanczos_params'={'N_min': 5, 'N_max': 20} for Sweep\n",
      "parameter 'trunc_params'={'svd_min': 1e-10} for Sweep\n",
      "parameter 'chi_list'={0: 9, 10: 49, 20: 100} for Sweep\n",
      "Setting chi_max = 9\n",
      "parameter 'max_sweeps'=150 for DMRG\n",
      "parameter 'max_E_err'=1e-10 for DMRG\n",
      "parameter 'max_S_err'=1e-06 for DMRG\n",
      "parameter 'mixer'=True for Sweep\n",
      "parameter 'mixer_params'={'amplitude': 1e-05, 'decay': 1.2, 'disable_after': 30} for Sweep\n",
      "Setting chi_max = 49\n",
      "================================================================================\n",
      "sweep 10, age = 80\n",
      "Energy = -66.5295624002501711, S = nan, norm_err = 2.5e-03\n",
      "Current memory usage 230.1 MB, time elapsed: 31.9 s\n",
      "Delta E = nan, Delta S = 0.0000e+00 (per sweep)\n",
      "max_trunc_err = 1.5343e-04, max_E_trunc = 6.2699e-04\n",
      "MPS bond dimensions: [2, 4, 8, 9, 9, 9, 9, 9, 9, 9, 9, 9, 9, 9, 9, 9, 9, 9, 9, 9, 9, 9, 9, 9, 9, 9, 9, 9, 9, 9, 9, 9, 9, 9, 9, 9, 9, 9, 9, 9, 9, 9, 9, 9, 9, 9, 9, 9, 9, 9, 9, 9, 9, 9, 9, 9, 9, 9, 9, 9, 9, 9, 9, 9, 9, 9, 9, 9, 9, 9, 9, 9, 9, 9, 9, 9, 8, 4, 2]\n",
      "Setting chi_max = 100\n",
      "================================================================================\n",
      "sweep 20, age = 80\n",
      "Energy = -66.5459408681383309, S = nan, norm_err = 2.1e-09\n",
      "Current memory usage 261.6 MB, time elapsed: 73.7 s\n",
      "Delta E = -1.6378e-03, Delta S = 0.0000e+00 (per sweep)\n",
      "max_trunc_err = 3.2185e-12, max_E_trunc = 4.0785e-11\n",
      "MPS bond dimensions: [2, 4, 8, 12, 18, 25, 40, 46, 49, 49, 49, 49, 49, 49, 49, 49, 49, 49, 49, 49, 49, 49, 49, 49, 49, 49, 49, 49, 49, 49, 49, 49, 49, 49, 49, 49, 49, 49, 49, 49, 49, 49, 49, 49, 49, 49, 49, 49, 49, 49, 49, 49, 49, 49, 49, 49, 49, 49, 49, 49, 49, 49, 49, 49, 49, 49, 49, 49, 49, 49, 49, 42, 35, 23, 18, 11, 8, 4, 2]\n",
      "disable mixer after 30 sweeps, final amplitude 4.21e-08\n",
      "================================================================================\n",
      "sweep 30, age = 80\n",
      "Energy = -66.5459408688506215, S = nan, norm_err = 2.3e-10\n",
      "Current memory usage 351.2 MB, time elapsed: 153.5 s\n",
      "Delta E = -7.1229e-11, Delta S = 0.0000e+00 (per sweep)\n",
      "max_trunc_err = 1.6845e-16, max_E_trunc = 3.9790e-13\n",
      "MPS bond dimensions: [2, 4, 8, 12, 22, 25, 37, 41, 67, 70, 93, 87, 100, 92, 100, 94, 100, 97, 100, 100, 100, 100, 100, 100, 100, 100, 100, 100, 100, 100, 100, 100, 100, 100, 100, 100, 100, 100, 100, 99, 100, 100, 100, 100, 100, 100, 100, 100, 100, 100, 100, 100, 100, 100, 100, 100, 100, 100, 100, 100, 100, 99, 100, 93, 100, 85, 100, 80, 93, 62, 64, 44, 33, 22, 20, 12, 8, 4, 2]\n",
      "================================================================================\n",
      "DMRG finished after 30 sweeps.\n",
      "total size = 80, maximum chi = 100\n",
      "================================================================================\n",
      "{'ent_spectrum': [[(array([], dtype=int64), array([0.69314718, 0.69314718]))]]}\n"
     ]
    }
   ],
   "source": [
    "data = run()\n",
    "# plot_results(data)\n",
    "print(data)"
   ]
  },
  {
   "cell_type": "code",
   "execution_count": 6,
   "metadata": {},
   "outputs": [
    {
     "name": "stdout",
     "output_type": "stream",
     "text": [
      "[None, None, None, None]\n"
     ]
    },
    {
     "data": {
      "image/png": "[encoded data removed]",
      "text/plain": [
       "<Figure size 432x288 with 1 Axes>"
      ]
     },
     "metadata": {
      "needs_background": "light"
     },
     "output_type": "display_data"
    }
   ],
   "source": [
    "plot_lattice()"
   ]
  },
  {
   "cell_type": "code",
   "execution_count": null,
   "metadata": {},
   "outputs": [],
   "source": []
  }
 ],
 "metadata": {
  "kernelspec": {
   "display_name": "Python 3",
   "language": "python",
   "name": "python3"
  },
  "language_info": {
   "codemirror_mode": {
    "name": "ipython",
    "version": 3
   },
   "file_extension": ".py",
   "mimetype": "text/x-python",
   "name": "python",
   "nbconvert_exporter": "python",
   "pygments_lexer": "ipython3",
   "version": "3.7.7"
  }
 },
 "nbformat": 4,
 "nbformat_minor": 4
}
