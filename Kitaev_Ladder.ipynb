{
 "cells": [
  {
   "cell_type": "code",
   "execution_count": 1,
   "metadata": {},
   "outputs": [],
   "source": [
    "import numpy as np\n",
    "import itertools\n",
    "import warnings\n",
    "import matplotlib.pyplot as plt"
   ]
  },
  {
   "cell_type": "code",
   "execution_count": 2,
   "metadata": {},
   "outputs": [],
   "source": [
    "import tenpy\n",
    "\n",
    "from tenpy.networks.site import Site, SpinHalfFermionSite, SpinHalfSite, GroupedSite, SpinSite\n",
    "from tenpy.tools.misc import to_iterable, to_iterable_of_len, inverse_permutation\n",
    "from tenpy.networks.mps import MPS  # only to check boundary conditions\n",
    "\n",
    "from tenpy.models.lattice import Lattice, _parse_sites\n",
    "from tenpy.models.model import CouplingMPOModel, NearestNeighborModel\n",
    "from tenpy.tools.params import get_parameter\n",
    "\n",
    "from tenpy.algorithms import dmrg"
   ]
  },
  {
   "cell_type": "code",
   "execution_count": 3,
   "metadata": {},
   "outputs": [],
   "source": [
    "__all__ = ['KitaevLadder', 'KitaevLadderModel']"
   ]
  },
  {
   "cell_type": "code",
   "execution_count": 13,
   "metadata": {},
   "outputs": [],
   "source": [
    "class KitaevLadder(Lattice):    \n",
    "    \"\"\" A ladder coupling two chains of the Kitaev form\n",
    "    .. image :: /images/lattices/Ladder.*\n",
    "    Parameters\n",
    "    ----------\n",
    "    L : int\n",
    "        The length of each chain, we have 2*L sites in total.\n",
    "    sites : (list of) :class:`~tenpy.networks.site.Site`\n",
    "        The two local lattice sites making the `unit_cell` of the :class:`Lattice`.\n",
    "        If only a single :class:`~tenpy.networks.site.Site` is given, it is used for both chains.\n",
    "    **kwargs :\n",
    "        Additional keyword arguments given to the :class:`Lattice`.\n",
    "        `basis`, `pos` and `pairs` are set accordingly.\n",
    "    \"\"\"\n",
    "    dim = 1\n",
    "\n",
    "    def __init__(self, L, sites, **kwargs):\n",
    "        sites = _parse_sites(sites, 4)\n",
    "        basis = np.array([[2., 0.]])\n",
    "        pos = np.array([[0., 0.], [0., 1.], [1., 0.], [1., 1.]])\n",
    "        kwargs.setdefault('basis', basis)\n",
    "        kwargs.setdefault('positions', pos)\n",
    "        kwargs.setdefault('bc', 'periodic')\n",
    "        kwargs.setdefault('bc_MPS', 'infinite')\n",
    "        NNz = [(0, 1, np.array([0])), (2, 3, np.array([0]))]\n",
    "        NNx = [(1, 3, np.array([0])), (2, 0, np.array([1]))]\n",
    "        NNy = [(0, 2, np.array([0])), (3, 1, np.array([1]))]\n",
    "        kwargs.setdefault('pairs', {})\n",
    "        kwargs['pairs'].setdefault('nearest_neighbors_x', NNx)\n",
    "        kwargs['pairs'].setdefault('nearest_neighbors_y', NNy)\n",
    "        kwargs['pairs'].setdefault('nearest_neighbors_z', NNz)\n",
    "        Lattice.__init__(self, [L], sites, **kwargs)\n",
    "        \n",
    "        \n",
    "class KitaevLadderModel(CouplingMPOModel):\n",
    "    def __init__(self, model_params):\n",
    "        CouplingMPOModel.__init__(self, model_params)\n",
    "\n",
    "    def init_sites(self, model_params):\n",
    "        conserve = get_parameter(model_params, 'conserve', None, self.name)\n",
    "        fs = SpinHalfSite(conserve=conserve)\n",
    "        return [fs, fs, fs, fs]\n",
    "\n",
    "    def init_lattice(self, model_params):\n",
    "        L = get_parameter(model_params, 'L', 3, self.name)\n",
    "        gs = self.init_sites(model_params)\n",
    "        model_params.pop(\"L\")\n",
    "        lat = KitaevLadder(L, gs)\n",
    "        return lat\n",
    "\n",
    "    def init_terms(self, model_params):\n",
    "        Jx = get_parameter(model_params, 'Jx', 1., self.name, True)\n",
    "        Jy = get_parameter(model_params, 'Jy', 1., self.name, True)\n",
    "        Jz = get_parameter(model_params, 'Jz', 1., self.name, True)\n",
    "\n",
    "        for u1, u2, dx in self.lat.pairs['nearest_neighbors_z']:\n",
    "            self.add_coupling(-Jz, u1, 'Sz', u2, 'Sz', dx)\n",
    "        for u1, u2, dx in self.lat.pairs['nearest_neighbors_x']:\n",
    "            self.add_coupling(-Jx, u1, 'Sx', u2, 'Sx', dx)\n",
    "        for u1, u2, dx in self.lat.pairs['nearest_neighbors_y']:\n",
    "            self.add_coupling(-Jy, u1, 'Sy', u2, 'Sy', dx)\n",
    "         \n",
    "        \n",
    "def plot_lattice():\n",
    "    fig, ax = plt.subplots()\n",
    "    lat = KitaevLadder(5, None, bc='periodic')\n",
    "    links_name = 'nearest_neighbors_z'\n",
    "    lat.plot_coupling(ax, lat.pairs[links_name], linewidth=5.)\n",
    "    # print(lat.pairs['nearest_neighbors'])\n",
    "    print(lat.unit_cell)\n",
    "    lat.plot_order(ax=ax, linestyle='--')\n",
    "    lat.plot_sites(ax)\n",
    "    # lat.plot_basis(ax, color='g', linewidth=3.)\n",
    "    ax.set_aspect('equal')\n",
    "    ax.get_xaxis().set_visible(False)\n",
    "    ax.get_yaxis().set_visible(False)\n",
    "    ax.axis('off')\n",
    "    # plt.title(links_name)\n",
    "    plt.show()\n"
   ]
  },
  {
   "cell_type": "code",
   "execution_count": 14,
   "metadata": {},
   "outputs": [],
   "source": [
    "def run():\n",
    "    chi_list = np.arange(16, 50, 2)\n",
    "\n",
    "    model_params = dict(conserve=None, Jx=1., Jy=1., Jz=1., L=2, verbose=1)\n",
    "    prod_state = [\"up\", \"down\"] * (2 * model_params['L'])\n",
    "    M = KitaevLadderModel(model_params)\n",
    "    psi = MPS.from_product_state(\n",
    "        M.lat.mps_sites(), \n",
    "        prod_state, \n",
    "        bc=M.lat.bc_MPS,\n",
    "    )\n",
    "\n",
    "    dmrg_params = {\n",
    "        'start_env': 10,\n",
    "        'mixer': True,  # setting this to True helps to escape local minima\n",
    "        'mixer_params': {\n",
    "            'amplitude': 1.e-5,\n",
    "            'decay': 1.2,\n",
    "            'disable_after': 30\n",
    "        },\n",
    "        'trunc_params': {\n",
    "            'svd_min': 1.e-10,\n",
    "        },\n",
    "        'max_E_err': 1.e-10,\n",
    "        'max_S_err': 1.e-6,\n",
    "        'max_sweeps': 150,\n",
    "        'verbose': 1.,\n",
    "    }\n",
    "    \n",
    "    print(\"=\" * 100)\n",
    "    \n",
    "    eng = dmrg.TwoSiteDMRGEngine(psi, M, dmrg_params)\n",
    "    \n",
    "    data = dict(entropy_list=[], correlation_list=[])\n",
    "    for chi in chi_list:\n",
    "        \n",
    "        eng = dmrg.TwoSiteDMRGEngine(psi, M, dmrg_params)\n",
    "        eng.reset_stats()\n",
    "        eng.trunc_params['chi_max'] = chi\n",
    "        eng.run()\n",
    "        eng.engine_params['mixer'] = None\n",
    "        psi.canonical_form()\n",
    "        \n",
    "        entropy = np.mean(psi.entanglement_entropy())\n",
    "        correlation = psi.correlation_length()\n",
    "\n",
    "        data['entropy_list'].append(entropy)\n",
    "        data['correlation_list'].append(correlation)\n",
    "        tenpy.tools.optimization.optimize(3)\n",
    "        pass\n",
    "        \n",
    "    return data\n",
    "\n",
    "\n",
    "def plot_results(data):\n",
    "\n",
    "    plt.figure()\n",
    "    ax = plt.gca()\n",
    "    ax.plot(data['ent_spectrum'], marker='o')\n",
    "    ax.set_xlabel(r\"DMRG Step\")\n",
    "    ax.set_ylabel(r\"$ E $\")\n",
    "    plt.savefig(\"KitaevLadderModel.pdf\")\n"
   ]
  },
  {
   "cell_type": "code",
   "execution_count": 15,
   "metadata": {},
   "outputs": [
    {
     "name": "stdout",
     "output_type": "stream",
     "text": [
      "parameter 'verbose'=1 for KitaevLadderModel\n",
      "parameter 'L'=2 for KitaevLadderModel\n",
      "parameter 'conserve'=None for KitaevLadderModel\n",
      "parameter 'Jx'=1.0 for KitaevLadderModel\n",
      "parameter 'Jy'=1.0 for KitaevLadderModel\n",
      "parameter 'Jz'=1.0 for KitaevLadderModel\n",
      "====================================================================================================\n",
      "parameter 'verbose'=1.0 for Sweep\n",
      "parameter 'trunc_params'={'svd_min': 1e-10} for Sweep\n",
      "Initial sweeps...\n",
      "parameter 'start_env'=10 for Sweep\n",
      "Updating environment\n",
      "..........\n",
      "Initial sweeps...\n",
      "Updating environment\n",
      "..........\n",
      "parameter 'max_sweeps'=150 for DMRG\n",
      "parameter 'max_E_err'=1e-10 for DMRG\n",
      "parameter 'max_S_err'=1e-06 for DMRG\n",
      "parameter 'mixer'=True for Sweep\n",
      "parameter 'mixer_params'={'amplitude': 1e-05, 'decay': 1.2, 'disable_after': 30} for Sweep\n"
     ]
    },
    {
     "name": "stderr",
     "output_type": "stream",
     "text": [
      "/home/jerry/anaconda3/lib/python3.7/site-packages/tenpy/tools/params.py:124: UserWarning: unused parameters for Sweep mixer_params:\n",
      "['amplitude', 'decay', 'disable_after']\n",
      "  warnings.warn(msg.format(keys=sorted(unused), descr=warn))\n",
      "/home/jerry/anaconda3/lib/python3.7/site-packages/tenpy/tools/params.py:124: UserWarning: unused parameters for Sweep:\n",
      "['max_E_err', 'max_S_err', 'max_sweeps', 'mixer', 'mixer_params']\n",
      "  warnings.warn(msg.format(keys=sorted(unused), descr=warn))\n"
     ]
    },
    {
     "name": "stdout",
     "output_type": "stream",
     "text": [
      "Updating environment\n",
      ".....\n",
      "================================================================================\n",
      "sweep 10, age = 408\n",
      "Energy = -0.2097005543799209, S = nan, norm_err = 1.8e-08\n",
      "Current memory usage 190.5 MB, time elapsed: 4.7 s\n",
      "Delta E = nan, Delta S = 0.0000e+00 (per sweep)\n",
      "max_trunc_err = 1.5800e-06, max_E_trunc = 1.3231e-06\n",
      "MPS bond dimensions: [16, 16, 16, 16, 16, 16, 16, 16]\n",
      "Updating environment\n",
      ".....\n",
      "================================================================================\n",
      "sweep 20, age = 648\n",
      "Energy = -0.2097005536675587, S = nan, norm_err = 3.0e-09\n",
      "Current memory usage 190.5 MB, time elapsed: 8.0 s\n",
      "Delta E = 7.1236e-11, Delta S = 0.0000e+00 (per sweep)\n",
      "max_trunc_err = 1.5765e-06, max_E_trunc = 1.3249e-06\n",
      "MPS bond dimensions: [16, 16, 16, 16, 16, 16, 16, 16]\n",
      "Convergence criterium reached with enabled mixer.\n",
      "disable mixer and continue\n",
      "Updating environment\n",
      ".....\n",
      "================================================================================\n",
      "sweep 30, age = 888\n",
      "Energy = -0.2097005535489673, S = 1.2231370488123785, norm_err = 2.6e-15\n",
      "Current memory usage 190.5 MB, time elapsed: 9.9 s\n",
      "Delta E = 1.1859e-11, Delta S = nan (per sweep)\n",
      "max_trunc_err = 7.8813e-07, max_E_trunc = 1.3251e-06\n",
      "MPS bond dimensions: [16, 16, 16, 16, 16, 16, 16, 16]\n",
      "Updating environment\n",
      ".....\n",
      "================================================================================\n",
      "sweep 40, age = 1128\n",
      "Energy = -0.2097005535532581, S = 1.2231370094553686, norm_err = 2.6e-15\n",
      "Current memory usage 190.5 MB, time elapsed: 11.8 s\n",
      "Delta E = -4.2908e-13, Delta S = -3.9357e-09 (per sweep)\n",
      "max_trunc_err = 7.8812e-07, max_E_trunc = 1.3251e-06\n",
      "MPS bond dimensions: [16, 16, 16, 16, 16, 16, 16, 16]\n",
      "================================================================================\n",
      "DMRG finished after 40 sweeps.\n",
      "total size = 1128, maximum chi = 16\n",
      "================================================================================\n"
     ]
    },
    {
     "name": "stderr",
     "output_type": "stream",
     "text": [
      "/home/jerry/anaconda3/lib/python3.7/site-packages/tenpy/networks/mps.py:2018: UserWarning: canonical_form_infinite: project to smaller bond dimension\n",
      "  self.canonical_form_infinite(renormalize)\n",
      "/home/jerry/anaconda3/lib/python3.7/site-packages/tenpy/networks/mps.py:2168: UserWarning: Although we renormalized the TransferMatrix, the largest eigenvalue is not 1\n",
      "  warnings.warn(\"Although we renormalized the TransferMatrix, \"\n"
     ]
    },
    {
     "name": "stdout",
     "output_type": "stream",
     "text": [
      "Initial sweeps...\n",
      "Updating environment\n",
      "..........\n",
      "Updating environment\n",
      ".....\n",
      "================================================================================\n",
      "sweep 10, age = 408\n",
      "Energy = -0.2097012464080974, S = 0.5300859892315385, norm_err = 2.6e-15\n",
      "Current memory usage 190.5 MB, time elapsed: 2.0 s\n",
      "Delta E = nan, Delta S = nan (per sweep)\n",
      "max_trunc_err = 7.4585e-11, max_E_trunc = 1.4769e-10\n",
      "MPS bond dimensions: [18, 18, 18, 18, 18, 18, 18, 18]\n",
      "Updating environment\n",
      ".....\n",
      "================================================================================\n",
      "sweep 20, age = 648\n",
      "Energy = -0.2097012464120311, S = 0.5300859969192029, norm_err = 2.7e-15\n",
      "Current memory usage 190.5 MB, time elapsed: 4.2 s\n",
      "Delta E = -3.9337e-13, Delta S = 7.6877e-10 (per sweep)\n",
      "max_trunc_err = 7.8151e-11, max_E_trunc = 1.3490e-10\n",
      "MPS bond dimensions: [18, 18, 18, 18, 18, 18, 18, 18]\n",
      "================================================================================\n",
      "DMRG finished after 20 sweeps.\n",
      "total size = 648, maximum chi = 18\n",
      "================================================================================\n",
      "Initial sweeps...\n",
      "Updating environment\n",
      "..........\n",
      "Updating environment\n",
      ".....\n",
      "================================================================================\n",
      "sweep 10, age = 408\n",
      "Energy = -0.2097012464772607, S = 0.5300860462759727, norm_err = 2.9e-15\n",
      "Current memory usage 190.7 MB, time elapsed: 2.3 s\n",
      "Delta E = nan, Delta S = nan (per sweep)\n",
      "max_trunc_err = 3.1138e-12, max_E_trunc = 1.0800e-11\n",
      "MPS bond dimensions: [20, 20, 20, 20, 20, 20, 20, 20]\n",
      "Updating environment\n",
      ".....\n",
      "================================================================================\n",
      "sweep 20, age = 648\n",
      "Energy = -0.2097012464772554, S = 0.5300860465170865, norm_err = 2.9e-15\n",
      "Current memory usage 190.7 MB, time elapsed: 4.8 s\n",
      "Delta E = 5.3291e-16, Delta S = 2.4111e-11 (per sweep)\n",
      "max_trunc_err = 3.2573e-12, max_E_trunc = 1.0957e-11\n",
      "MPS bond dimensions: [20, 20, 20, 20, 20, 20, 20, 20]\n",
      "================================================================================\n",
      "DMRG finished after 20 sweeps.\n",
      "total size = 648, maximum chi = 20\n",
      "================================================================================\n",
      "Initial sweeps...\n",
      "Updating environment\n",
      "..........\n",
      "Updating environment\n",
      ".....\n",
      "================================================================================\n",
      "sweep 10, age = 408\n",
      "Energy = -0.2097012464793142, S = 0.5300860472288278, norm_err = 2.4e-15\n",
      "Current memory usage 190.7 MB, time elapsed: 2.4 s\n",
      "Delta E = nan, Delta S = nan (per sweep)\n",
      "max_trunc_err = 2.3747e-12, max_E_trunc = 6.9349e-12\n",
      "MPS bond dimensions: [22, 22, 22, 22, 22, 22, 22, 22]\n",
      "Updating environment\n",
      ".....\n",
      "================================================================================\n",
      "sweep 20, age = 648\n",
      "Energy = -0.2097012464793391, S = 0.5300860472660722, norm_err = 2.6e-15\n",
      "Current memory usage 190.7 MB, time elapsed: 4.9 s\n",
      "Delta E = -2.4869e-15, Delta S = 3.7244e-12 (per sweep)\n",
      "max_trunc_err = 2.3777e-12, max_E_trunc = 6.8923e-12\n",
      "MPS bond dimensions: [22, 22, 22, 22, 22, 22, 22, 22]\n",
      "================================================================================\n",
      "DMRG finished after 20 sweeps.\n",
      "total size = 648, maximum chi = 22\n",
      "================================================================================\n"
     ]
    },
    {
     "name": "stderr",
     "output_type": "stream",
     "text": [
      "/home/jerry/anaconda3/lib/python3.7/site-packages/tenpy/networks/mps.py:2174: UserWarning: canonical_form_infinite: project to smaller bond dimension\n",
      "  Gl, Wr = self._canonical_form_correct_left(i1, Gl, Wr)\n",
      "/home/jerry/anaconda3/lib/python3.7/site-packages/tenpy/networks/mps.py:2195: UserWarning: canonical_form_infinite: project to smaller bond dimension\n",
      "  Gl, Wr = self._canonical_form_correct_left(j1, Gl, Wr_list[j1 % L])\n"
     ]
    },
    {
     "name": "stdout",
     "output_type": "stream",
     "text": [
      "Initial sweeps...\n",
      "Updating environment\n",
      "..........\n",
      "Updating environment\n",
      ".....\n",
      "================================================================================\n",
      "sweep 10, age = 408\n",
      "Energy = -0.2097012464806891, S = 0.5300860483549861, norm_err = 2.7e-15\n",
      "Current memory usage 190.7 MB, time elapsed: 2.6 s\n",
      "Delta E = nan, Delta S = nan (per sweep)\n",
      "max_trunc_err = 1.5370e-12, max_E_trunc = 4.1211e-12\n",
      "MPS bond dimensions: [24, 24, 24, 24, 24, 24, 24, 24]\n",
      "Updating environment\n",
      ".....\n",
      "================================================================================\n",
      "sweep 20, age = 648\n",
      "Energy = -0.2097012464806838, S = 0.5300860483370360, norm_err = 2.0e-15\n",
      "Current memory usage 190.7 MB, time elapsed: 5.5 s\n",
      "Delta E = 5.3291e-16, Delta S = -1.7950e-12 (per sweep)\n",
      "max_trunc_err = 1.5382e-12, max_E_trunc = 4.2633e-12\n",
      "MPS bond dimensions: [24, 24, 24, 24, 24, 24, 24, 24]\n",
      "================================================================================\n",
      "DMRG finished after 20 sweeps.\n",
      "total size = 648, maximum chi = 24\n",
      "================================================================================\n"
     ]
    },
    {
     "name": "stderr",
     "output_type": "stream",
     "text": [
      "/home/jerry/anaconda3/lib/python3.7/site-packages/tenpy/networks/mps.py:2174: UserWarning: canonical_form_infinite: project to smaller bond dimension\n",
      "  Gl, Wr = self._canonical_form_correct_left(i1, Gl, Wr)\n",
      "/home/jerry/anaconda3/lib/python3.7/site-packages/tenpy/networks/mps.py:2195: UserWarning: canonical_form_infinite: project to smaller bond dimension\n",
      "  Gl, Wr = self._canonical_form_correct_left(j1, Gl, Wr_list[j1 % L])\n"
     ]
    },
    {
     "name": "stdout",
     "output_type": "stream",
     "text": [
      "Initial sweeps...\n",
      "Updating environment\n",
      "..........\n",
      "Updating environment\n",
      ".....\n",
      "================================================================================\n",
      "sweep 10, age = 408\n",
      "Energy = -0.2097012464820640, S = 0.5300860491135162, norm_err = 1.8e-15\n",
      "Current memory usage 190.7 MB, time elapsed: 3.2 s\n",
      "Delta E = nan, Delta S = nan (per sweep)\n",
      "max_trunc_err = 7.7781e-13, max_E_trunc = 1.5206e-12\n",
      "MPS bond dimensions: [26, 26, 26, 26, 26, 26, 26, 26]\n",
      "Updating environment\n",
      ".....\n",
      "================================================================================\n",
      "sweep 20, age = 648\n",
      "Energy = -0.2097012464820853, S = 0.5300860491134856, norm_err = 2.5e-15\n",
      "Current memory usage 190.7 MB, time elapsed: 5.8 s\n",
      "Delta E = -2.1316e-15, Delta S = -3.0642e-15 (per sweep)\n",
      "max_trunc_err = 7.7781e-13, max_E_trunc = 1.5774e-12\n",
      "MPS bond dimensions: [26, 26, 26, 26, 26, 26, 26, 26]\n",
      "================================================================================\n",
      "DMRG finished after 20 sweeps.\n",
      "total size = 648, maximum chi = 26\n",
      "================================================================================\n"
     ]
    },
    {
     "name": "stderr",
     "output_type": "stream",
     "text": [
      "/home/jerry/anaconda3/lib/python3.7/site-packages/tenpy/networks/mps.py:2174: UserWarning: canonical_form_infinite: project to smaller bond dimension\n",
      "  Gl, Wr = self._canonical_form_correct_left(i1, Gl, Wr)\n",
      "/home/jerry/anaconda3/lib/python3.7/site-packages/tenpy/networks/mps.py:2195: UserWarning: canonical_form_infinite: project to smaller bond dimension\n",
      "  Gl, Wr = self._canonical_form_correct_left(j1, Gl, Wr_list[j1 % L])\n"
     ]
    },
    {
     "name": "stdout",
     "output_type": "stream",
     "text": [
      "Initial sweeps...\n",
      "Updating environment\n",
      "..........\n",
      "Updating environment\n",
      ".....\n",
      "================================================================================\n",
      "sweep 10, age = 408\n",
      "Energy = -0.2097012464826946, S = 0.5300860499489854, norm_err = 2.1e-15\n",
      "Current memory usage 190.7 MB, time elapsed: 2.5 s\n",
      "Delta E = nan, Delta S = nan (per sweep)\n",
      "max_trunc_err = 3.8482e-14, max_E_trunc = 3.2685e-13\n",
      "MPS bond dimensions: [28, 28, 28, 28, 28, 28, 28, 28]\n",
      "Updating environment\n",
      ".....\n",
      "================================================================================\n",
      "sweep 20, age = 648\n",
      "Energy = -0.2097012464827248, S = 0.5300860499539379, norm_err = 9.4e-15\n",
      "Current memory usage 190.7 MB, time elapsed: 5.3 s\n",
      "Delta E = -3.0198e-15, Delta S = 4.9525e-13 (per sweep)\n",
      "max_trunc_err = 3.9891e-14, max_E_trunc = 3.4106e-13\n",
      "MPS bond dimensions: [28, 28, 28, 28, 28, 28, 28, 28]\n",
      "================================================================================\n",
      "DMRG finished after 20 sweeps.\n",
      "total size = 648, maximum chi = 28\n",
      "================================================================================\n"
     ]
    },
    {
     "name": "stderr",
     "output_type": "stream",
     "text": [
      "/home/jerry/anaconda3/lib/python3.7/site-packages/tenpy/networks/mps.py:2174: UserWarning: canonical_form_infinite: project to smaller bond dimension\n",
      "  Gl, Wr = self._canonical_form_correct_left(i1, Gl, Wr)\n",
      "/home/jerry/anaconda3/lib/python3.7/site-packages/tenpy/networks/mps.py:2195: UserWarning: canonical_form_infinite: project to smaller bond dimension\n",
      "  Gl, Wr = self._canonical_form_correct_left(j1, Gl, Wr_list[j1 % L])\n"
     ]
    },
    {
     "name": "stdout",
     "output_type": "stream",
     "text": [
      "Initial sweeps...\n",
      "Updating environment\n",
      "..........\n",
      "Updating environment\n",
      ".....\n",
      "================================================================================\n",
      "sweep 10, age = 408\n",
      "Energy = -0.2097012464827239, S = 0.5300860499713780, norm_err = 2.5e-15\n",
      "Current memory usage 190.7 MB, time elapsed: 2.7 s\n",
      "Delta E = nan, Delta S = nan (per sweep)\n",
      "max_trunc_err = 3.1182e-14, max_E_trunc = 2.4158e-13\n",
      "MPS bond dimensions: [30, 30, 30, 30, 30, 30, 30, 30]\n",
      "Updating environment\n",
      ".....\n",
      "================================================================================\n",
      "sweep 20, age = 648\n",
      "Energy = -0.2097012464826680, S = 0.5300860499715246, norm_err = 1.9e-15\n",
      "Current memory usage 190.7 MB, time elapsed: 5.4 s\n",
      "Delta E = 5.5955e-15, Delta S = 1.4666e-14 (per sweep)\n",
      "max_trunc_err = 3.1167e-14, max_E_trunc = 4.1211e-13\n",
      "MPS bond dimensions: [30, 30, 30, 30, 30, 30, 30, 30]\n",
      "================================================================================\n",
      "DMRG finished after 20 sweeps.\n",
      "total size = 648, maximum chi = 30\n",
      "================================================================================\n"
     ]
    },
    {
     "name": "stderr",
     "output_type": "stream",
     "text": [
      "/home/jerry/anaconda3/lib/python3.7/site-packages/tenpy/networks/mps.py:2174: UserWarning: canonical_form_infinite: project to smaller bond dimension\n",
      "  Gl, Wr = self._canonical_form_correct_left(i1, Gl, Wr)\n",
      "/home/jerry/anaconda3/lib/python3.7/site-packages/tenpy/networks/mps.py:2195: UserWarning: canonical_form_infinite: project to smaller bond dimension\n",
      "  Gl, Wr = self._canonical_form_correct_left(j1, Gl, Wr_list[j1 % L])\n"
     ]
    },
    {
     "name": "stdout",
     "output_type": "stream",
     "text": [
      "Initial sweeps...\n",
      "Updating environment\n",
      "..........\n",
      "Updating environment\n",
      ".....\n",
      "================================================================================\n",
      "sweep 10, age = 408\n",
      "Energy = -0.2097012464827381, S = 0.5300860499883098, norm_err = 2.6e-15\n",
      "Current memory usage 190.7 MB, time elapsed: 2.8 s\n",
      "Delta E = nan, Delta S = nan (per sweep)\n",
      "max_trunc_err = 2.2737e-14, max_E_trunc = 1.7053e-13\n",
      "MPS bond dimensions: [32, 32, 32, 32, 32, 32, 32, 32]\n",
      "Updating environment\n",
      ".....\n",
      "================================================================================\n",
      "sweep 20, age = 648\n",
      "Energy = -0.2097012464827301, S = 0.5300860499883148, norm_err = 2.3e-15\n",
      "Current memory usage 190.7 MB, time elapsed: 5.5 s\n",
      "Delta E = 7.9936e-16, Delta S = 4.9960e-16 (per sweep)\n",
      "max_trunc_err = 2.2737e-14, max_E_trunc = 3.9790e-13\n",
      "MPS bond dimensions: [32, 32, 32, 32, 32, 32, 32, 32]\n",
      "================================================================================\n",
      "DMRG finished after 20 sweeps.\n",
      "total size = 648, maximum chi = 32\n",
      "================================================================================\n"
     ]
    },
    {
     "name": "stderr",
     "output_type": "stream",
     "text": [
      "/home/jerry/anaconda3/lib/python3.7/site-packages/tenpy/networks/mps.py:2174: UserWarning: canonical_form_infinite: project to smaller bond dimension\n",
      "  Gl, Wr = self._canonical_form_correct_left(i1, Gl, Wr)\n",
      "/home/jerry/anaconda3/lib/python3.7/site-packages/tenpy/networks/mps.py:2195: UserWarning: canonical_form_infinite: project to smaller bond dimension\n",
      "  Gl, Wr = self._canonical_form_correct_left(j1, Gl, Wr_list[j1 % L])\n"
     ]
    },
    {
     "name": "stdout",
     "output_type": "stream",
     "text": [
      "Initial sweeps...\n",
      "Updating environment\n",
      "..........\n",
      "Updating environment\n",
      ".....\n",
      "================================================================================\n",
      "sweep 10, age = 408\n",
      "Energy = -0.2097012464827053, S = 0.5300860499992113, norm_err = 2.4e-15\n",
      "Current memory usage 190.7 MB, time elapsed: 2.9 s\n",
      "Delta E = nan, Delta S = nan (per sweep)\n",
      "max_trunc_err = 1.5060e-14, max_E_trunc = 1.4211e-13\n",
      "MPS bond dimensions: [34, 34, 34, 34, 34, 34, 34, 34]\n",
      "Updating environment\n",
      ".....\n",
      "================================================================================\n",
      "sweep 20, age = 648\n",
      "Energy = -0.2097012464827266, S = 0.5300860499991336, norm_err = 2.1e-15\n",
      "Current memory usage 190.7 MB, time elapsed: 5.7 s\n",
      "Delta E = -2.1316e-15, Delta S = -7.7716e-15 (per sweep)\n",
      "max_trunc_err = 1.5060e-14, max_E_trunc = 2.5580e-13\n",
      "MPS bond dimensions: [34, 34, 34, 34, 34, 34, 34, 34]\n",
      "================================================================================\n",
      "DMRG finished after 20 sweeps.\n",
      "total size = 648, maximum chi = 34\n",
      "================================================================================\n"
     ]
    },
    {
     "name": "stderr",
     "output_type": "stream",
     "text": [
      "/home/jerry/anaconda3/lib/python3.7/site-packages/tenpy/networks/mps.py:2174: UserWarning: canonical_form_infinite: project to smaller bond dimension\n",
      "  Gl, Wr = self._canonical_form_correct_left(i1, Gl, Wr)\n",
      "/home/jerry/anaconda3/lib/python3.7/site-packages/tenpy/networks/mps.py:2195: UserWarning: canonical_form_infinite: project to smaller bond dimension\n",
      "  Gl, Wr = self._canonical_form_correct_left(j1, Gl, Wr_list[j1 % L])\n"
     ]
    },
    {
     "name": "stdout",
     "output_type": "stream",
     "text": [
      "Initial sweeps...\n",
      "Updating environment\n",
      "..........\n",
      "Updating environment\n",
      ".....\n",
      "================================================================================\n",
      "sweep 10, age = 408\n",
      "Energy = -0.2097012464827719, S = 0.5300860500096880, norm_err = 2.5e-15\n",
      "Current memory usage 190.7 MB, time elapsed: 2.9 s\n",
      "Delta E = nan, Delta S = nan (per sweep)\n",
      "max_trunc_err = 7.7495e-15, max_E_trunc = 1.1369e-13\n",
      "MPS bond dimensions: [36, 36, 36, 36, 36, 36, 36, 36]\n",
      "Updating environment\n",
      ".....\n",
      "================================================================================\n",
      "sweep 20, age = 648\n",
      "Energy = -0.2097012464827728, S = 0.5300860500115399, norm_err = 3.0e-15\n",
      "Current memory usage 190.7 MB, time elapsed: 6.0 s\n",
      "Delta E = -8.8818e-17, Delta S = 1.8519e-13 (per sweep)\n",
      "max_trunc_err = 7.7757e-15, max_E_trunc = 2.4158e-13\n",
      "MPS bond dimensions: [36, 36, 36, 36, 36, 36, 36, 36]\n",
      "================================================================================\n",
      "DMRG finished after 20 sweeps.\n",
      "total size = 648, maximum chi = 36\n",
      "================================================================================\n"
     ]
    },
    {
     "name": "stderr",
     "output_type": "stream",
     "text": [
      "/home/jerry/anaconda3/lib/python3.7/site-packages/tenpy/networks/mps.py:2174: UserWarning: canonical_form_infinite: project to smaller bond dimension\n",
      "  Gl, Wr = self._canonical_form_correct_left(i1, Gl, Wr)\n",
      "/home/jerry/anaconda3/lib/python3.7/site-packages/tenpy/networks/mps.py:2195: UserWarning: canonical_form_infinite: project to smaller bond dimension\n",
      "  Gl, Wr = self._canonical_form_correct_left(j1, Gl, Wr_list[j1 % L])\n"
     ]
    },
    {
     "name": "stdout",
     "output_type": "stream",
     "text": [
      "Initial sweeps...\n",
      "Updating environment\n",
      "..........\n",
      "Updating environment\n",
      ".....\n",
      "================================================================================\n",
      "sweep 10, age = 408\n",
      "Energy = -0.2097012464827710, S = 0.5300860500234506, norm_err = 2.5e-15\n",
      "Current memory usage 190.7 MB, time elapsed: 4.3 s\n",
      "Delta E = nan, Delta S = nan (per sweep)\n",
      "max_trunc_err = 4.6957e-16, max_E_trunc = 9.9476e-14\n",
      "MPS bond dimensions: [38, 38, 38, 38, 38, 38, 38, 38]\n",
      "Updating environment\n",
      ".....\n",
      "================================================================================\n",
      "sweep 20, age = 648\n",
      "Energy = -0.2097012464828083, S = 0.5300860500235005, norm_err = 2.0e-15\n",
      "Current memory usage 190.7 MB, time elapsed: 9.4 s\n",
      "Delta E = -3.7303e-15, Delta S = 4.9960e-15 (per sweep)\n",
      "max_trunc_err = 4.8457e-16, max_E_trunc = 2.2737e-13\n",
      "MPS bond dimensions: [38, 38, 38, 38, 38, 38, 38, 38]\n",
      "================================================================================\n",
      "DMRG finished after 20 sweeps.\n",
      "total size = 648, maximum chi = 38\n",
      "================================================================================\n"
     ]
    },
    {
     "name": "stderr",
     "output_type": "stream",
     "text": [
      "/home/jerry/anaconda3/lib/python3.7/site-packages/tenpy/networks/mps.py:2174: UserWarning: canonical_form_infinite: project to smaller bond dimension\n",
      "  Gl, Wr = self._canonical_form_correct_left(i1, Gl, Wr)\n",
      "/home/jerry/anaconda3/lib/python3.7/site-packages/tenpy/networks/mps.py:2195: UserWarning: canonical_form_infinite: project to smaller bond dimension\n",
      "  Gl, Wr = self._canonical_form_correct_left(j1, Gl, Wr_list[j1 % L])\n"
     ]
    },
    {
     "name": "stdout",
     "output_type": "stream",
     "text": [
      "Initial sweeps...\n",
      "Updating environment\n",
      "..........\n",
      "Updating environment\n",
      ".....\n",
      "================================================================================\n",
      "sweep 10, age = 408\n",
      "Energy = -0.2097012464827817, S = 0.5300860500237279, norm_err = 3.7e-15\n",
      "Current memory usage 190.7 MB, time elapsed: 4.5 s\n",
      "Delta E = nan, Delta S = nan (per sweep)\n",
      "max_trunc_err = 3.9679e-16, max_E_trunc = 1.8474e-13\n",
      "MPS bond dimensions: [39, 40, 40, 40, 40, 40, 40, 40]\n",
      "Updating environment\n",
      ".....\n",
      "================================================================================\n",
      "sweep 20, age = 648\n",
      "Energy = -0.2097012464827905, S = 0.5300860500237345, norm_err = 2.6e-15\n",
      "Current memory usage 190.7 MB, time elapsed: 8.0 s\n",
      "Delta E = -8.8818e-16, Delta S = 6.6613e-16 (per sweep)\n",
      "max_trunc_err = 3.9571e-16, max_E_trunc = 2.7001e-13\n",
      "MPS bond dimensions: [40, 40, 40, 40, 40, 40, 40, 40]\n",
      "================================================================================\n",
      "DMRG finished after 20 sweeps.\n",
      "total size = 648, maximum chi = 40\n",
      "================================================================================\n"
     ]
    },
    {
     "name": "stderr",
     "output_type": "stream",
     "text": [
      "/home/jerry/anaconda3/lib/python3.7/site-packages/tenpy/networks/mps.py:2174: UserWarning: canonical_form_infinite: project to smaller bond dimension\n",
      "  Gl, Wr = self._canonical_form_correct_left(i1, Gl, Wr)\n",
      "/home/jerry/anaconda3/lib/python3.7/site-packages/tenpy/networks/mps.py:2195: UserWarning: canonical_form_infinite: project to smaller bond dimension\n",
      "  Gl, Wr = self._canonical_form_correct_left(j1, Gl, Wr_list[j1 % L])\n"
     ]
    },
    {
     "name": "stdout",
     "output_type": "stream",
     "text": [
      "Initial sweeps...\n",
      "Updating environment\n",
      "..........\n",
      "Updating environment\n",
      ".....\n",
      "================================================================================\n",
      "sweep 10, age = 408\n",
      "Energy = -0.2097012464827728, S = 0.5300860500239652, norm_err = 2.3e-15\n",
      "Current memory usage 190.7 MB, time elapsed: 3.4 s\n",
      "Delta E = nan, Delta S = nan (per sweep)\n",
      "max_trunc_err = 3.1031e-16, max_E_trunc = 5.6843e-14\n",
      "MPS bond dimensions: [41, 42, 41, 42, 41, 42, 41, 42]\n",
      "Updating environment\n",
      ".....\n",
      "================================================================================\n",
      "sweep 20, age = 648\n",
      "Energy = -0.2097012464827603, S = 0.5300860500239772, norm_err = 2.2e-15\n",
      "Current memory usage 190.7 MB, time elapsed: 7.4 s\n",
      "Delta E = 1.2434e-15, Delta S = 1.1990e-15 (per sweep)\n",
      "max_trunc_err = 3.1033e-16, max_E_trunc = 2.5580e-13\n",
      "MPS bond dimensions: [41, 42, 41, 42, 41, 42, 41, 42]\n",
      "================================================================================\n",
      "DMRG finished after 20 sweeps.\n",
      "total size = 648, maximum chi = 42\n",
      "================================================================================\n"
     ]
    },
    {
     "name": "stderr",
     "output_type": "stream",
     "text": [
      "/home/jerry/anaconda3/lib/python3.7/site-packages/tenpy/networks/mps.py:2174: UserWarning: canonical_form_infinite: project to smaller bond dimension\n",
      "  Gl, Wr = self._canonical_form_correct_left(i1, Gl, Wr)\n",
      "/home/jerry/anaconda3/lib/python3.7/site-packages/tenpy/networks/mps.py:2195: UserWarning: canonical_form_infinite: project to smaller bond dimension\n",
      "  Gl, Wr = self._canonical_form_correct_left(j1, Gl, Wr_list[j1 % L])\n"
     ]
    },
    {
     "name": "stdout",
     "output_type": "stream",
     "text": [
      "Initial sweeps...\n",
      "Updating environment\n",
      "..........\n",
      "Updating environment\n",
      ".....\n",
      "================================================================================\n",
      "sweep 10, age = 408\n",
      "Energy = -0.2097012464827399, S = 0.5300860500242686, norm_err = 2.4e-15\n",
      "Current memory usage 190.7 MB, time elapsed: 4.3 s\n",
      "Delta E = nan, Delta S = nan (per sweep)\n",
      "max_trunc_err = 2.2850e-16, max_E_trunc = 4.2633e-14\n",
      "MPS bond dimensions: [42, 44, 42, 44, 42, 44, 42, 44]\n",
      "Updating environment\n",
      ".....\n",
      "================================================================================\n",
      "sweep 20, age = 648\n",
      "Energy = -0.2097012464827337, S = 0.5300860500242465, norm_err = 2.9e-15\n",
      "Current memory usage 190.7 MB, time elapsed: 8.4 s\n",
      "Delta E = 6.2172e-16, Delta S = -2.2093e-15 (per sweep)\n",
      "max_trunc_err = 2.2850e-16, max_E_trunc = 1.8474e-13\n",
      "MPS bond dimensions: [42, 44, 42, 44, 42, 44, 42, 44]\n",
      "================================================================================\n",
      "DMRG finished after 20 sweeps.\n",
      "total size = 648, maximum chi = 44\n",
      "================================================================================\n"
     ]
    },
    {
     "name": "stderr",
     "output_type": "stream",
     "text": [
      "/home/jerry/anaconda3/lib/python3.7/site-packages/tenpy/networks/mps.py:2174: UserWarning: canonical_form_infinite: project to smaller bond dimension\n",
      "  Gl, Wr = self._canonical_form_correct_left(i1, Gl, Wr)\n",
      "/home/jerry/anaconda3/lib/python3.7/site-packages/tenpy/networks/mps.py:2195: UserWarning: canonical_form_infinite: project to smaller bond dimension\n",
      "  Gl, Wr = self._canonical_form_correct_left(j1, Gl, Wr_list[j1 % L])\n"
     ]
    },
    {
     "name": "stdout",
     "output_type": "stream",
     "text": [
      "Initial sweeps...\n",
      "Updating environment\n",
      "..........\n",
      "Updating environment\n",
      ".....\n",
      "================================================================================\n",
      "sweep 10, age = 408\n",
      "Energy = -0.2097012464827390, S = 0.5300860500242962, norm_err = 2.5e-15\n",
      "Current memory usage 191.4 MB, time elapsed: 4.0 s\n",
      "Delta E = nan, Delta S = nan (per sweep)\n",
      "max_trunc_err = 1.5165e-16, max_E_trunc = 5.6843e-14\n",
      "MPS bond dimensions: [44, 46, 44, 46, 44, 46, 44, 46]\n",
      "Updating environment\n",
      ".....\n",
      "================================================================================\n",
      "sweep 20, age = 648\n",
      "Energy = -0.2097012464827284, S = 0.5300860500242968, norm_err = 2.2e-15\n",
      "Current memory usage 191.4 MB, time elapsed: 7.9 s\n",
      "Delta E = 1.0658e-15, Delta S = 5.5511e-17 (per sweep)\n",
      "max_trunc_err = 1.5165e-16, max_E_trunc = 2.5580e-13\n",
      "MPS bond dimensions: [44, 46, 44, 46, 44, 46, 44, 46]\n",
      "================================================================================\n",
      "DMRG finished after 20 sweeps.\n",
      "total size = 648, maximum chi = 46\n",
      "================================================================================\n"
     ]
    },
    {
     "name": "stderr",
     "output_type": "stream",
     "text": [
      "/home/jerry/anaconda3/lib/python3.7/site-packages/tenpy/networks/mps.py:2174: UserWarning: canonical_form_infinite: project to smaller bond dimension\n",
      "  Gl, Wr = self._canonical_form_correct_left(i1, Gl, Wr)\n",
      "/home/jerry/anaconda3/lib/python3.7/site-packages/tenpy/networks/mps.py:2195: UserWarning: canonical_form_infinite: project to smaller bond dimension\n",
      "  Gl, Wr = self._canonical_form_correct_left(j1, Gl, Wr_list[j1 % L])\n"
     ]
    },
    {
     "name": "stdout",
     "output_type": "stream",
     "text": [
      "Initial sweeps...\n",
      "Updating environment\n",
      "..........\n",
      "Updating environment\n",
      ".....\n",
      "================================================================================\n",
      "sweep 10, age = 408\n",
      "Energy = -0.2097012464827586, S = 0.5300860500245629, norm_err = 2.6e-15\n",
      "Current memory usage 191.4 MB, time elapsed: 4.0 s\n",
      "Delta E = nan, Delta S = nan (per sweep)\n",
      "max_trunc_err = 7.7930e-17, max_E_trunc = 8.5265e-14\n",
      "MPS bond dimensions: [46, 48, 46, 48, 46, 48, 46, 48]\n",
      "Updating environment\n",
      ".....\n",
      "================================================================================\n",
      "sweep 20, age = 648\n",
      "Energy = -0.2097012464827444, S = 0.5300860500245810, norm_err = 2.0e-15\n",
      "Current memory usage 191.4 MB, time elapsed: 8.0 s\n",
      "Delta E = 1.4211e-15, Delta S = 1.8097e-15 (per sweep)\n",
      "max_trunc_err = 7.8259e-17, max_E_trunc = 1.4211e-13\n",
      "MPS bond dimensions: [46, 48, 46, 48, 46, 48, 46, 48]\n",
      "================================================================================\n",
      "DMRG finished after 20 sweeps.\n",
      "total size = 648, maximum chi = 48\n",
      "================================================================================\n"
     ]
    },
    {
     "name": "stderr",
     "output_type": "stream",
     "text": [
      "/home/jerry/anaconda3/lib/python3.7/site-packages/tenpy/networks/mps.py:2174: UserWarning: canonical_form_infinite: project to smaller bond dimension\n",
      "  Gl, Wr = self._canonical_form_correct_left(i1, Gl, Wr)\n",
      "/home/jerry/anaconda3/lib/python3.7/site-packages/tenpy/networks/mps.py:2195: UserWarning: canonical_form_infinite: project to smaller bond dimension\n",
      "  Gl, Wr = self._canonical_form_correct_left(j1, Gl, Wr_list[j1 % L])\n"
     ]
    },
    {
     "name": "stdout",
     "output_type": "stream",
     "text": [
      "{'entropy_list': [0.9955880641963268, 0.5300859969192031, 0.5300860465170838, 0.5300860472660682, 0.5300860483370078, 0.5300860491134538, 0.5300860499539048, 0.530086049971471, 0.5300860499882794, 0.5300860499991136, 0.5300860500115167, 0.5300860500234442, 0.5300860500236884, 0.5300860500239328, 0.5300860500241948, 0.5300860500242257, 0.5300860500245144], 'correlation_list': [2.4729480821082865, 1.8776045185642138, 1.9157227292911188, 1.917267614169005, 1.9174086552680818, 1.9185219064394838, 1.9381589398407424, 1.9382629772875084, 1.9383771873498221, 1.9386671694321125, 1.9568482451089575, 1.9687913309507397, 1.9684313226259316, 1.9696695438912541, 1.9696066095120255, 1.9696884791021594, 1.969761745610054]}\n"
     ]
    }
   ],
   "source": [
    "data = run()\n",
    "# plot_results(data)\n",
    "print(data)"
   ]
  },
  {
   "cell_type": "code",
   "execution_count": 16,
   "metadata": {},
   "outputs": [
    {
     "data": {
      "text/plain": [
       "[<matplotlib.lines.Line2D at 0x7fba3bbbe450>]"
      ]
     },
     "execution_count": 16,
     "metadata": {},
     "output_type": "execute_result"
    },
    {
     "data": {
      "image/png": "[encoded data removed]",
      "text/plain": [
       "<Figure size 432x288 with 1 Axes>"
      ]
     },
     "metadata": {
      "needs_background": "light"
     },
     "output_type": "display_data"
    }
   ],
   "source": [
    "entropy_list = data['entropy_list'][2:-1]\n",
    "correlation_list = data['correlation_list'][2:-1]\n",
    "plt.plot(np.log(correlation_list), entropy_list, 'o')"
   ]
  },
  {
   "cell_type": "code",
   "execution_count": 8,
   "metadata": {},
   "outputs": [],
   "source": [
    "from scipy.optimize import curve_fit\n",
    "\n",
    "def func(xi, c, a):\n",
    "    return (c / 6) * np.log(xi) + a"
   ]
  },
  {
   "cell_type": "code",
   "execution_count": 9,
   "metadata": {},
   "outputs": [],
   "source": [
    "xi = correlation_list\n",
    "log_xi = np.log(correlation_list)\n",
    "s = entropy_list\n",
    "fitParams, fitCovariances = curve_fit(func, xi, s)"
   ]
  },
  {
   "cell_type": "code",
   "execution_count": 11,
   "metadata": {},
   "outputs": [
    {
     "data": {
      "text/plain": [
       "array([[ 2.73915781e-07, -7.76050243e-08],\n",
       "       [-7.76050243e-08,  1.37468858e-07]])"
      ]
     },
     "execution_count": 11,
     "metadata": {},
     "output_type": "execute_result"
    }
   ],
   "source": [
    "fitCovariances"
   ]
  },
  {
   "cell_type": "code",
   "execution_count": null,
   "metadata": {},
   "outputs": [],
   "source": []
  }
 ],
 "metadata": {
  "kernelspec": {
   "display_name": "Python 3",
   "language": "python",
   "name": "python3"
  },
  "language_info": {
   "codemirror_mode": {
    "name": "ipython",
    "version": 3
   },
   "file_extension": ".py",
   "mimetype": "text/x-python",
   "name": "python",
   "nbconvert_exporter": "python",
   "pygments_lexer": "ipython3",
   "version": "3.7.7"
  }
 },
 "nbformat": 4,
 "nbformat_minor": 4
}
