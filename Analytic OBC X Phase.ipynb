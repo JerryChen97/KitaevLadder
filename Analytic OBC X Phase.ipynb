{
 "cells": [
  {
   "cell_type": "code",
   "execution_count": 1,
   "metadata": {},
   "outputs": [],
   "source": [
    "from Majorana import get_Majorana_spectrum, decompose_skew_schur, H_fermionic_skew, get_parity, get_two_E\n",
    "from Majorana import get_lowest_E"
   ]
  },
  {
   "cell_type": "code",
   "execution_count": 7,
   "metadata": {},
   "outputs": [],
   "source": [
    "import numpy as np"
   ]
  },
  {
   "cell_type": "code",
   "execution_count": 2,
   "metadata": {},
   "outputs": [],
   "source": [
    "Jx = 1.75\n",
    "Jy = 0.25\n",
    "Jz = 1.0\n",
    "N = 20\n",
    "D_list = [1 for i in range(2*N)]\n",
    "bc = 'open'\n",
    "SigmaY = 1"
   ]
  },
  {
   "cell_type": "code",
   "execution_count": 5,
   "metadata": {},
   "outputs": [
    {
     "data": {
      "text/plain": [
       "array([-2.50659926e+00, -2.50659854e+00, -2.50520912e+00, -2.50500323e+00,\n",
       "       -2.50336180e+00, -2.50272370e+00, -2.50110202e+00, -2.50085692e+00,\n",
       "       -2.50014515e+00, -2.49578083e+00, -2.48800376e+00, -2.47709312e+00,\n",
       "       -2.46264800e+00, -2.44425973e+00, -2.42154092e+00, -2.39413564e+00,\n",
       "       -2.36172583e+00, -2.32403596e+00, -2.28083675e+00, -2.23194817e+00,\n",
       "       -2.17724185e+00, -2.11664310e+00, -2.05013272e+00, -1.97774868e+00,\n",
       "       -1.89958806e+00, -1.81580948e+00, -1.72663654e+00, -1.63236301e+00,\n",
       "       -1.53336104e+00, -1.43009421e+00, -1.32313892e+00, -1.21322012e+00,\n",
       "       -1.10127230e+00, -9.88546974e-01, -8.76807253e-01, -7.68689168e-01,\n",
       "       -6.68369656e-01, -5.82687635e-01, -5.22297845e-01, -1.27127446e-05])"
      ]
     },
     "execution_count": 5,
     "metadata": {},
     "output_type": "execute_result"
    }
   ],
   "source": [
    "spec = get_Majorana_spectrum(Jx, Jy, Jz, N, SigmaY, D_list, bc)\n",
    "spec"
   ]
  },
  {
   "cell_type": "code",
   "execution_count": 10,
   "metadata": {},
   "outputs": [
    {
     "data": {
      "text/plain": [
       "array([-2.49573024, -2.42953209, -2.21152228, -1.79107431, -1.17056073,\n",
       "       -0.15720684])"
      ]
     },
     "execution_count": 10,
     "metadata": {},
     "output_type": "execute_result"
    }
   ],
   "source": [
    "\n",
    "N = 3\n",
    "D_list = [1 for i in range(2*N)]\n",
    "\n",
    "spec = get_Majorana_spectrum(Jx, Jy, Jz, N, SigmaY, D_list, bc)\n",
    "spec"
   ]
  },
  {
   "cell_type": "code",
   "execution_count": 18,
   "metadata": {},
   "outputs": [
    {
     "name": "stdout",
     "output_type": "stream",
     "text": [
      "[-10.16742278 -10.16742278 -10.16613598 -10.116951   -10.116951  ]\n"
     ]
    }
   ],
   "source": [
    "N = 3\n",
    "E_list_3 = []\n",
    "for i in range(2*N - 1):\n",
    "\n",
    "    D_list=[1 for i in range(2*N)]\n",
    "    D_list[i] *= -1\n",
    "    spec = get_Majorana_spectrum(Jx, Jy, Jz, N, SigmaY, D_list, bc)\n",
    "#     print(\"A possible Excited energy\")\n",
    "#     print(np.sum(spec))\n",
    "    E_list_3.append(np.sum(spec))\n",
    "    \n",
    "print(np.sort(E_list_3))"
   ]
  },
  {
   "cell_type": "code",
   "execution_count": 20,
   "metadata": {},
   "outputs": [
    {
     "name": "stdout",
     "output_type": "stream",
     "text": [
      "[-1, 1, 1, 1, 1, 1, 1, 1]\n",
      "A possible Excited energy\n",
      "-13.92230259965002\n",
      "[1, -1, 1, 1, 1, 1, 1, 1]\n",
      "A possible Excited energy\n",
      "-13.96909924385485\n",
      "[1, 1, -1, 1, 1, 1, 1, 1]\n",
      "A possible Excited energy\n",
      "-13.974040062400697\n",
      "[1, 1, 1, -1, 1, 1, 1, 1]\n",
      "A possible Excited energy\n",
      "-13.977203434075829\n",
      "[1, 1, 1, 1, -1, 1, 1, 1]\n",
      "A possible Excited energy\n",
      "-13.97404006240069\n",
      "[1, 1, 1, 1, 1, -1, 1, 1]\n",
      "A possible Excited energy\n",
      "-13.969099243854846\n",
      "[1, 1, 1, 1, 1, 1, -1, 1]\n",
      "A possible Excited energy\n",
      "-13.922302599650024\n",
      "[]\n",
      "-14.040376698171148\n"
     ]
    }
   ],
   "source": [
    "N = 4\n",
    "E_list_4 = []\n",
    "for i in range(2*N - 1):\n",
    "\n",
    "    D_list=[1 for i in range(2*N)]\n",
    "    D_list[i] *= -1\n",
    "    print(D_list)\n",
    "    spec = get_Majorana_spectrum(Jx, Jy, Jz, N, SigmaY, D_list, bc)\n",
    "    print(\"A possible Excited energy\")\n",
    "    print(np.sum(spec))\n",
    "#     E_list_4.append(np.sum(spec))\n",
    "    \n",
    "print(np.sort(E_list_4))\n",
    "print(np.sum(get_Majorana_spectrum(Jx, Jy, Jz, N, SigmaY, [1 for i in range(2*N)], bc)))"
   ]
  },
  {
   "cell_type": "code",
   "execution_count": 29,
   "metadata": {},
   "outputs": [
    {
     "name": "stdout",
     "output_type": "stream",
     "text": [
      "System size  4\n",
      "0.00036765857950982195\n",
      "\n",
      "System size  5\n",
      "0.00030181676807572444\n",
      "\n",
      "System size  6\n",
      "0.00028097999741838464\n",
      "\n",
      "System size  7\n",
      "0.0002791637704575578\n",
      "\n",
      "System size  8\n",
      "0.0002787035451969899\n",
      "\n",
      "System size  9\n",
      "0.0002786696499725849\n",
      "\n",
      "System size  10\n",
      "0.0002786725700225645\n",
      "\n",
      "System size  11\n",
      "0.0002786620541037621\n",
      "\n",
      "System size  12\n",
      "0.00027866337523008156\n",
      "\n",
      "System size  13\n",
      "0.00027865593696674296\n",
      "\n",
      "System size  14\n",
      "0.0002786501963178978\n",
      "\n",
      "System size  15\n",
      "0.0002786583711404944\n",
      "\n",
      "System size  16\n",
      "0.00027865122860504243\n",
      "\n",
      "System size  17\n",
      "0.00027865735757615084\n",
      "\n",
      "System size  18\n",
      "0.00027865666112347753\n",
      "\n",
      "System size  19\n",
      "0.0002786486285302203\n",
      "\n",
      "System size  20\n",
      "0.0002786511851766704\n",
      "\n",
      "System size  21\n",
      "0.00027863327549226824\n",
      "\n",
      "System size  22\n",
      "0.00027863801164329516\n",
      "\n",
      "System size  23\n",
      "0.00027863327549937367\n",
      "\n",
      "System size  24\n",
      "0.00027865735741983144\n",
      "\n",
      "System size  25\n",
      "0.0002786441839219833\n",
      "\n",
      "System size  26\n",
      "0.0002786573574411477\n",
      "\n",
      "System size  27\n",
      "0.0002786696040217862\n",
      "\n",
      "System size  28\n",
      "0.0002786556297706966\n",
      "\n",
      "System size  29\n",
      "0.00027861966031395013\n",
      "\n"
     ]
    }
   ],
   "source": [
    "Jx = 1\n",
    "Jy = .1\n",
    "Jz = .1\n",
    "\n",
    "for N in range(4, 30):\n",
    "    D_list = [1 for i in range(2*N)]\n",
    "    GS = np.sum(get_Majorana_spectrum(Jx, Jy, Jz, N, SigmaY, D_list, bc))\n",
    "#     print()\n",
    "    D_list[N-1] *= -1\n",
    "    ES = np.sum(get_Majorana_spectrum(Jx, Jy, Jz, N, SigmaY, D_list, bc))\n",
    "    print(\"System size \", N)\n",
    "    print(ES - GS)\n",
    "#     print(np.sum(get_Majorana_spectrum(Jx, Jy, Jz, N, SigmaY, D_list, bc)))\n",
    "#     print(D_list)\n",
    "    \n",
    "    print()"
   ]
  },
  {
   "cell_type": "code",
   "execution_count": 30,
   "metadata": {},
   "outputs": [
    {
     "data": {
      "text/plain": [
       "0.00025000000000000006"
      ]
     },
     "execution_count": 30,
     "metadata": {},
     "output_type": "execute_result"
    }
   ],
   "source": [
    "2 * Jz**2 * Jy / (Jx **2 * 8)"
   ]
  },
  {
   "cell_type": "code",
   "execution_count": 16,
   "metadata": {},
   "outputs": [
    {
     "name": "stdout",
     "output_type": "stream",
     "text": [
      "[-17.79571005 -17.79475937 -17.79475937 -17.79027783 -17.79027783\n",
      " -17.78325192 -17.78325192 -17.73889438 -17.73889438]\n"
     ]
    }
   ],
   "source": [
    "N = 5\n",
    "E_list_5 = []\n",
    "for i in range(2*N - 1):\n",
    "\n",
    "    D_list=[1 for i in range(2*N)]\n",
    "    D_list[i] *= -1\n",
    "    spec = get_Majorana_spectrum(Jx, Jy, Jz, N, SigmaY, D_list, bc)\n",
    "#     print(\"A possible Excited energy\")\n",
    "#     print(np.sum(spec))\n",
    "    E_list_5.append(np.sum(spec))\n",
    "    \n",
    "print(np.sort(E_list_5))"
   ]
  },
  {
   "cell_type": "code",
   "execution_count": 8,
   "metadata": {},
   "outputs": [
    {
     "data": {
      "text/plain": [
       "-75.31826975302407"
      ]
     },
     "execution_count": 8,
     "metadata": {},
     "output_type": "execute_result"
    }
   ],
   "source": [
    "np.sum(spec)"
   ]
  },
  {
   "cell_type": "code",
   "execution_count": 9,
   "metadata": {},
   "outputs": [
    {
     "data": {
      "text/plain": [
       "-75.31824432753483"
      ]
     },
     "execution_count": 9,
     "metadata": {},
     "output_type": "execute_result"
    }
   ],
   "source": [
    "np.sum(spec) - 2*spec[-1]"
   ]
  }
 ],
 "metadata": {
  "kernelspec": {
   "display_name": "Python 3",
   "language": "python",
   "name": "python3"
  },
  "language_info": {
   "codemirror_mode": {
    "name": "ipython",
    "version": 3
   },
   "file_extension": ".py",
   "mimetype": "text/x-python",
   "name": "python",
   "nbconvert_exporter": "python",
   "pygments_lexer": "ipython3",
   "version": "3.7.7"
  }
 },
 "nbformat": 4,
 "nbformat_minor": 4
}
