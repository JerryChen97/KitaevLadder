{
 "cells": [
  {
   "cell_type": "markdown",
   "metadata": {},
   "source": [
    "In principle this is not about the algebraic property but the commutativeness.\n",
    "Basically the point is that we need a automatical function to treat the definition of local operators and the commutativeness between them.\n",
    "\n",
    " - Define the op on a chain as a list.\n",
    " - Equivalently represent `sigma_0==I, sigma_1, sigma_2, sigma_3` as `0, 1, 2, 3`."
   ]
  },
  {
   "cell_type": "code",
   "execution_count": 64,
   "metadata": {},
   "outputs": [],
   "source": [
    "import numpy as np\n",
    "from itertools import product\n",
    "\n",
    "def comm(i1:int, i2:int):\n",
    "    available_set = [0, 1, 2, 3]\n",
    "    assert i1 in available_set\n",
    "    assert i2 in available_set\n",
    "    if i1 * i2 == 0:\n",
    "        return 1\n",
    "    elif i1 == i2:\n",
    "        return 1\n",
    "    else:\n",
    "        return -1\n",
    "\n",
    "class Op:\n",
    "    def __init__(self, ops:list, shift:int = 0):\n",
    "        for op in ops:\n",
    "            assert op==0 or op==1 or op==2 or op==3\n",
    "        self.ops = ops\n",
    "        assert type(shift) is int\n",
    "        assert shift >= 0\n",
    "        \n",
    "        # standardization\n",
    "        if ops == []:\n",
    "            shift = 0\n",
    "            pass\n",
    "        else:\n",
    "            while ops[0] == 0:\n",
    "                shift += 1\n",
    "                ops.pop(0)\n",
    "                pass\n",
    "            while ops[-1] == 0:\n",
    "                ops.pop(-1)\n",
    "                pass\n",
    "        \n",
    "        self.shift = shift\n",
    "        self.start_site = self.shift\n",
    "        self.end_site = self.start_site + len(ops)\n",
    "        pass \n",
    "    \n",
    "    def __str__(self):\n",
    "        if self.shift==0:\n",
    "            return str(self.ops)\n",
    "        else:\n",
    "            return str([0 for i in range(self.shift)] + self.ops)\n",
    "        pass\n",
    "    \n",
    "    def init_from_str(self, opstr:str):\n",
    "        self.__init__([int(ch) for ch in str])\n",
    "        pass\n",
    "    \n",
    "    def get_full_ops(self):\n",
    "        return [0 for i in range(self.shift)] + self.ops\n",
    "    \n",
    "    def to_str(self):\n",
    "        if self.shift==0:\n",
    "            return ''.join([str(i) for i in self.ops])\n",
    "        else:\n",
    "            return ''.join('0' for i in range(self.shift)) + ''.join([str(j) for j in self.ops])\n",
    "        pass\n",
    "        \n",
    "    \"\"\"\n",
    "        Function return whether the Op commute with another (op2):\n",
    "            return 1 when commutative\n",
    "            return -1 when anti-commutative\n",
    "    \"\"\"\n",
    "    def commute_with(self, op2) -> int:\n",
    "        \n",
    "        # first of all, we only consider the region that the two op_list overlap with each other\n",
    "        if self.start_site >= op2.end_site or op2.start_site >= self.end_site:\n",
    "            return 1\n",
    "        else:\n",
    "            start_site = max(self.start_site, op2.start_site)\n",
    "            end_site = min(self.end_site, op2.end_site)\n",
    "            comm_list = [0 for i in range(start_site, end_site)]\n",
    "#             print(comm_list)\n",
    "            for i in range(start_site, end_site):\n",
    "                site1 = i - self.shift\n",
    "                site2 = i - op2.shift\n",
    "                comm_list[i-start_site] = comm(self.ops[site1],op2.ops[site2])\n",
    "                pass\n",
    "            return np.prod(comm_list)\n",
    "        pass\n",
    "        "
   ]
  },
  {
   "cell_type": "code",
   "execution_count": 77,
   "metadata": {},
   "outputs": [],
   "source": [
    "\"\"\" \n",
    "    Generate the local symmetries we used in Kitaev ladders\n",
    "\"\"\"\n",
    "def gen_local_sym_D(domin='x', shift=0):\n",
    "    assert domin=='x' or domin=='y'\n",
    "    if domin=='x':\n",
    "        return Op([1, 2, 2, 1], shift=shift)\n",
    "    else:\n",
    "        return Op([2, 1, 1, 2], shift=shift)\n",
    "    \n",
    "\"\"\"\n",
    "    Generate the Hamiltonian we used in Kitaev ladders.\n",
    "    The model we will consider is defined on the 1D chain.\n",
    "\"\"\"\n",
    "def gen_Hamiltonian(domin='x', bc='open', max_N_unitcell=8):\n",
    "    assert domin=='x' or domin=='y'\n",
    "    \n",
    "    first_bond = 3\n",
    "    second_bond = 1 if domin=='x' else 2\n",
    "    third_bond = 2 if domin=='x' else 1\n",
    "    \n",
    "    first_bond_set = [Op(ops=[first_bond, first_bond], shift=2*k) for k in range(max_N_unitcell)]\n",
    "    second_bond_set = [Op(ops=[second_bond, second_bond], shift=1+2*k) for k in range(max_N_unitcell)]\n",
    "    third_bond_set = [Op(ops=[third_bond, 0, 0, third_bond], shift=2*k) for k in range(max_N_unitcell)]\n",
    "    \n",
    "    return first_bond_set + second_bond_set + third_bond_set\n",
    "    \n",
    "\"\"\"\n",
    "    Generate all the possible local operators to some extent that we specify\n",
    "\"\"\"\n",
    "def gen_local_ops(\n",
    "    local_range=1, # the number of unicells involved\n",
    "):\n",
    "    assert type(local_range) is int\n",
    "    assert local_range >= 1\n",
    "    all_ops = []\n",
    "    if local_range == 1: # all the possible local ops occupying only one unitcell\n",
    "        non_trivial = [1, 2, 3]\n",
    "        for op in non_trivial:\n",
    "            all_ops.append(Op([op, 0]))\n",
    "        for op in non_trivial:\n",
    "            all_ops.append(Op([0, op]))\n",
    "        for op1 in non_trivial:\n",
    "            for op2 in non_trivial:\n",
    "                all_ops.append(Op([op1, op2]))\n",
    "    else:\n",
    "        one_cell_ops = gen_local_ops(local_range=1) # the base ops\n",
    "        possible_op = [0, 1, 2, 3] # the candidates for the descending op\n",
    "        iter_res = list(product(possible_op, repeat=2*(local_range - 1)))\n",
    "        \n",
    "        \n",
    "        for op in one_cell_ops:\n",
    "            prefix = op.get_full_ops()\n",
    "#             print(f\"prefix: {prefix}\")\n",
    "            for t in iter_res:\n",
    "                suffix = list(t)\n",
    "#                 print(f\"suffix: {suffix}\")\n",
    "                all_ops.append(Op(prefix+suffix))\n",
    "                pass\n",
    "            pass\n",
    "    return all_ops"
   ]
  },
  {
   "cell_type": "code",
   "execution_count": 14,
   "metadata": {},
   "outputs": [
    {
     "name": "stdout",
     "output_type": "stream",
     "text": [
      "[3, 3]\n",
      "[0, 0, 3, 3]\n",
      "[0, 0, 0, 0, 3, 3]\n",
      "[0, 0, 0, 0, 0, 0, 3, 3]\n",
      "[0, 0, 0, 0, 0, 0, 0, 0, 3, 3]\n",
      "[0, 0, 0, 0, 0, 0, 0, 0, 0, 0, 3, 3]\n",
      "[0, 0, 0, 0, 0, 0, 0, 0, 0, 0, 0, 0, 3, 3]\n",
      "[0, 0, 0, 0, 0, 0, 0, 0, 0, 0, 0, 0, 0, 0, 3, 3]\n",
      "[0, 1, 1]\n",
      "[0, 0, 0, 1, 1]\n",
      "[0, 0, 0, 0, 0, 1, 1]\n",
      "[0, 0, 0, 0, 0, 0, 0, 1, 1]\n",
      "[0, 0, 0, 0, 0, 0, 0, 0, 0, 1, 1]\n",
      "[0, 0, 0, 0, 0, 0, 0, 0, 0, 0, 0, 1, 1]\n",
      "[0, 0, 0, 0, 0, 0, 0, 0, 0, 0, 0, 0, 0, 1, 1]\n",
      "[0, 0, 0, 0, 0, 0, 0, 0, 0, 0, 0, 0, 0, 0, 0, 1, 1]\n",
      "[2, 0, 0, 2]\n",
      "[0, 0, 2, 0, 0, 2]\n",
      "[0, 0, 0, 0, 2, 0, 0, 2]\n",
      "[0, 0, 0, 0, 0, 0, 2, 0, 0, 2]\n",
      "[0, 0, 0, 0, 0, 0, 0, 0, 2, 0, 0, 2]\n",
      "[0, 0, 0, 0, 0, 0, 0, 0, 0, 0, 2, 0, 0, 2]\n",
      "[0, 0, 0, 0, 0, 0, 0, 0, 0, 0, 0, 0, 2, 0, 0, 2]\n",
      "[0, 0, 0, 0, 0, 0, 0, 0, 0, 0, 0, 0, 0, 0, 2, 0, 0, 2]\n"
     ]
    }
   ],
   "source": [
    "H = gen_Hamiltonian()\n",
    "for t in H:\n",
    "    print(t)"
   ]
  },
  {
   "cell_type": "code",
   "execution_count": 50,
   "metadata": {},
   "outputs": [
    {
     "data": {
      "text/plain": [
       "1"
      ]
     },
     "execution_count": 50,
     "metadata": {},
     "output_type": "execute_result"
    }
   ],
   "source": [
    "op1 = Op([1,2,3], shift=2)\n",
    "op2 = Op([2,1,1])\n",
    "op1.commute_with(op2)"
   ]
  },
  {
   "cell_type": "code",
   "execution_count": 53,
   "metadata": {},
   "outputs": [
    {
     "name": "stdout",
     "output_type": "stream",
     "text": [
      "[0, 0, 0, 0, 0, 0, 0, 0, 0, 0, 1, 2, 2, 1]\n"
     ]
    }
   ],
   "source": [
    "D = gen_local_sym_D(shift=10)\n",
    "print(D)"
   ]
  },
  {
   "cell_type": "code",
   "execution_count": 13,
   "metadata": {},
   "outputs": [
    {
     "name": "stdout",
     "output_type": "stream",
     "text": [
      "The commutativeness between op1 Sigma0 and op2 Sigma0 is 1\n",
      "The commutativeness between op1 Sigma0 and op2 Sigma1 is 1\n",
      "The commutativeness between op1 Sigma0 and op2 Sigma2 is 1\n",
      "The commutativeness between op1 Sigma0 and op2 Sigma3 is 1\n",
      "The commutativeness between op1 Sigma1 and op2 Sigma0 is 1\n",
      "The commutativeness between op1 Sigma1 and op2 Sigma1 is 1\n",
      "The commutativeness between op1 Sigma1 and op2 Sigma2 is -1\n",
      "The commutativeness between op1 Sigma1 and op2 Sigma3 is -1\n",
      "The commutativeness between op1 Sigma2 and op2 Sigma0 is 1\n",
      "The commutativeness between op1 Sigma2 and op2 Sigma1 is -1\n",
      "The commutativeness between op1 Sigma2 and op2 Sigma2 is 1\n",
      "The commutativeness between op1 Sigma2 and op2 Sigma3 is -1\n",
      "The commutativeness between op1 Sigma3 and op2 Sigma0 is 1\n",
      "The commutativeness between op1 Sigma3 and op2 Sigma1 is -1\n",
      "The commutativeness between op1 Sigma3 and op2 Sigma2 is -1\n",
      "The commutativeness between op1 Sigma3 and op2 Sigma3 is 1\n"
     ]
    }
   ],
   "source": [
    "ops = [0, 1, 2, 3]\n",
    "for op1 in ops:\n",
    "    for op2 in ops:\n",
    "        print(f\"The commutativeness between op1 Sigma{op1} and op2 Sigma{op2} is\", comm(op1, op2))"
   ]
  },
  {
   "cell_type": "code",
   "execution_count": 39,
   "metadata": {},
   "outputs": [],
   "source": [
    "op_list = [0, 0, 1, 2, 3, 0, 1, 0]\n",
    "op = Op(op_list)"
   ]
  },
  {
   "cell_type": "code",
   "execution_count": 40,
   "metadata": {},
   "outputs": [
    {
     "name": "stdout",
     "output_type": "stream",
     "text": [
      "[0, 0, 1, 2, 3, 0, 1]\n",
      "[1, 2, 3, 0, 1]\n",
      "2\n"
     ]
    },
    {
     "data": {
      "text/plain": [
       "'0012301'"
      ]
     },
     "execution_count": 40,
     "metadata": {},
     "output_type": "execute_result"
    }
   ],
   "source": [
    "print(op)\n",
    "print(op.ops)\n",
    "print(op.shift)\n",
    "op.to_str()"
   ]
  },
  {
   "cell_type": "code",
   "execution_count": 22,
   "metadata": {},
   "outputs": [
    {
     "data": {
      "text/plain": [
       "'01'"
      ]
     },
     "execution_count": 22,
     "metadata": {},
     "output_type": "execute_result"
    }
   ],
   "source": [
    "''.join([str(i) for i in [0, 1]])"
   ]
  },
  {
   "cell_type": "code",
   "execution_count": 25,
   "metadata": {},
   "outputs": [
    {
     "data": {
      "text/plain": [
       "'01012'"
      ]
     },
     "execution_count": 25,
     "metadata": {},
     "output_type": "execute_result"
    }
   ],
   "source": [
    "'0101' + '2'"
   ]
  },
  {
   "cell_type": "code",
   "execution_count": 26,
   "metadata": {},
   "outputs": [
    {
     "data": {
      "text/plain": [
       "'0101'"
      ]
     },
     "execution_count": 26,
     "metadata": {},
     "output_type": "execute_result"
    }
   ],
   "source": [
    "k = '0101'\n",
    "p = k\n",
    "p = p + '3'\n",
    "k"
   ]
  },
  {
   "cell_type": "code",
   "execution_count": 41,
   "metadata": {},
   "outputs": [
    {
     "name": "stdout",
     "output_type": "stream",
     "text": [
      "10.0000\n"
     ]
    }
   ],
   "source": [
    "num = 10\n",
    "print(f'{num:.4f}')"
   ]
  },
  {
   "cell_type": "code",
   "execution_count": 74,
   "metadata": {},
   "outputs": [
    {
     "name": "stdout",
     "output_type": "stream",
     "text": [
      "[1, 1]\n",
      "[1, 2]\n",
      "[1, 3]\n",
      "[2, 1]\n",
      "[2, 2]\n",
      "[2, 3]\n",
      "[3, 1]\n",
      "[3, 2]\n",
      "[3, 3]\n",
      "[1, 1]\n",
      "[1, 2]\n",
      "[1, 3]\n",
      "[2, 1]\n",
      "[2, 2]\n",
      "[2, 3]\n",
      "[3, 1]\n",
      "[3, 2]\n",
      "[3, 3]\n"
     ]
    }
   ],
   "source": [
    "from itertools import product\n",
    "test_set = [1, 2, 3]\n",
    "t = list(product(test_set, repeat=2))\n",
    "for i in t:\n",
    "    list(i)\n",
    "    print(list(i))\n",
    "for i in t:\n",
    "    list(i)\n",
    "    print(list(i))"
   ]
  },
  {
   "cell_type": "code",
   "execution_count": 81,
   "metadata": {},
   "outputs": [
    {
     "name": "stdout",
     "output_type": "stream",
     "text": [
      "[1]\n",
      "[1, 0, 1]\n",
      "[1, 0, 2]\n",
      "[1, 0, 3]\n",
      "[1, 1]\n",
      "[1, 1, 1]\n",
      "[1, 1, 2]\n",
      "[1, 1, 3]\n",
      "[1, 2]\n",
      "[1, 2, 1]\n",
      "[1, 2, 2]\n",
      "[1, 2, 3]\n",
      "[1, 3]\n",
      "[1, 3, 1]\n",
      "[1, 3, 2]\n",
      "[1, 3, 3]\n",
      "[2]\n",
      "[2, 0, 1]\n",
      "[2, 0, 2]\n",
      "[2, 0, 3]\n",
      "[2, 1]\n",
      "[2, 1, 1]\n",
      "[2, 1, 2]\n",
      "[2, 1, 3]\n",
      "[2, 2]\n",
      "[2, 2, 1]\n",
      "[2, 2, 2]\n",
      "[2, 2, 3]\n",
      "[2, 3]\n",
      "[2, 3, 1]\n",
      "[2, 3, 2]\n",
      "[2, 3, 3]\n",
      "[3]\n",
      "[3, 0, 1]\n",
      "[3, 0, 2]\n",
      "[3, 0, 3]\n",
      "[3, 1]\n",
      "[3, 1, 1]\n",
      "[3, 1, 2]\n",
      "[3, 1, 3]\n",
      "[3, 2]\n",
      "[3, 2, 1]\n",
      "[3, 2, 2]\n",
      "[3, 2, 3]\n",
      "[3, 3]\n",
      "[3, 3, 1]\n",
      "[3, 3, 2]\n",
      "[3, 3, 3]\n",
      "[0, 1]\n",
      "[0, 1, 0, 1]\n",
      "[0, 1, 0, 2]\n",
      "[0, 1, 0, 3]\n",
      "[0, 1, 1]\n",
      "[0, 1, 1, 1]\n",
      "[0, 1, 1, 2]\n",
      "[0, 1, 1, 3]\n",
      "[0, 1, 2]\n",
      "[0, 1, 2, 1]\n",
      "[0, 1, 2, 2]\n",
      "[0, 1, 2, 3]\n",
      "[0, 1, 3]\n",
      "[0, 1, 3, 1]\n",
      "[0, 1, 3, 2]\n",
      "[0, 1, 3, 3]\n",
      "[0, 2]\n",
      "[0, 2, 0, 1]\n",
      "[0, 2, 0, 2]\n",
      "[0, 2, 0, 3]\n",
      "[0, 2, 1]\n",
      "[0, 2, 1, 1]\n",
      "[0, 2, 1, 2]\n",
      "[0, 2, 1, 3]\n",
      "[0, 2, 2]\n",
      "[0, 2, 2, 1]\n",
      "[0, 2, 2, 2]\n",
      "[0, 2, 2, 3]\n",
      "[0, 2, 3]\n",
      "[0, 2, 3, 1]\n",
      "[0, 2, 3, 2]\n",
      "[0, 2, 3, 3]\n",
      "[0, 3]\n",
      "[0, 3, 0, 1]\n",
      "[0, 3, 0, 2]\n",
      "[0, 3, 0, 3]\n",
      "[0, 3, 1]\n",
      "[0, 3, 1, 1]\n",
      "[0, 3, 1, 2]\n",
      "[0, 3, 1, 3]\n",
      "[0, 3, 2]\n",
      "[0, 3, 2, 1]\n",
      "[0, 3, 2, 2]\n",
      "[0, 3, 2, 3]\n",
      "[0, 3, 3]\n",
      "[0, 3, 3, 1]\n",
      "[0, 3, 3, 2]\n",
      "[0, 3, 3, 3]\n",
      "[1, 1]\n",
      "[1, 1, 0, 1]\n",
      "[1, 1, 0, 2]\n",
      "[1, 1, 0, 3]\n",
      "[1, 1, 1]\n",
      "[1, 1, 1, 1]\n",
      "[1, 1, 1, 2]\n",
      "[1, 1, 1, 3]\n",
      "[1, 1, 2]\n",
      "[1, 1, 2, 1]\n",
      "[1, 1, 2, 2]\n",
      "[1, 1, 2, 3]\n",
      "[1, 1, 3]\n",
      "[1, 1, 3, 1]\n",
      "[1, 1, 3, 2]\n",
      "[1, 1, 3, 3]\n",
      "[1, 2]\n",
      "[1, 2, 0, 1]\n",
      "[1, 2, 0, 2]\n",
      "[1, 2, 0, 3]\n",
      "[1, 2, 1]\n",
      "[1, 2, 1, 1]\n",
      "[1, 2, 1, 2]\n",
      "[1, 2, 1, 3]\n",
      "[1, 2, 2]\n",
      "[1, 2, 2, 1]\n",
      "[1, 2, 2, 2]\n",
      "[1, 2, 2, 3]\n",
      "[1, 2, 3]\n",
      "[1, 2, 3, 1]\n",
      "[1, 2, 3, 2]\n",
      "[1, 2, 3, 3]\n",
      "[1, 3]\n",
      "[1, 3, 0, 1]\n",
      "[1, 3, 0, 2]\n",
      "[1, 3, 0, 3]\n",
      "[1, 3, 1]\n",
      "[1, 3, 1, 1]\n",
      "[1, 3, 1, 2]\n",
      "[1, 3, 1, 3]\n",
      "[1, 3, 2]\n",
      "[1, 3, 2, 1]\n",
      "[1, 3, 2, 2]\n",
      "[1, 3, 2, 3]\n",
      "[1, 3, 3]\n",
      "[1, 3, 3, 1]\n",
      "[1, 3, 3, 2]\n",
      "[1, 3, 3, 3]\n",
      "[2, 1]\n",
      "[2, 1, 0, 1]\n",
      "[2, 1, 0, 2]\n",
      "[2, 1, 0, 3]\n",
      "[2, 1, 1]\n",
      "[2, 1, 1, 1]\n",
      "[2, 1, 1, 2]\n",
      "[2, 1, 1, 3]\n",
      "[2, 1, 2]\n",
      "[2, 1, 2, 1]\n",
      "[2, 1, 2, 2]\n",
      "[2, 1, 2, 3]\n",
      "[2, 1, 3]\n",
      "[2, 1, 3, 1]\n",
      "[2, 1, 3, 2]\n",
      "[2, 1, 3, 3]\n",
      "[2, 2]\n",
      "[2, 2, 0, 1]\n",
      "[2, 2, 0, 2]\n",
      "[2, 2, 0, 3]\n",
      "[2, 2, 1]\n",
      "[2, 2, 1, 1]\n",
      "[2, 2, 1, 2]\n",
      "[2, 2, 1, 3]\n",
      "[2, 2, 2]\n",
      "[2, 2, 2, 1]\n",
      "[2, 2, 2, 2]\n",
      "[2, 2, 2, 3]\n",
      "[2, 2, 3]\n",
      "[2, 2, 3, 1]\n",
      "[2, 2, 3, 2]\n",
      "[2, 2, 3, 3]\n",
      "[2, 3]\n",
      "[2, 3, 0, 1]\n",
      "[2, 3, 0, 2]\n",
      "[2, 3, 0, 3]\n",
      "[2, 3, 1]\n",
      "[2, 3, 1, 1]\n",
      "[2, 3, 1, 2]\n",
      "[2, 3, 1, 3]\n",
      "[2, 3, 2]\n",
      "[2, 3, 2, 1]\n",
      "[2, 3, 2, 2]\n",
      "[2, 3, 2, 3]\n",
      "[2, 3, 3]\n",
      "[2, 3, 3, 1]\n",
      "[2, 3, 3, 2]\n",
      "[2, 3, 3, 3]\n",
      "[3, 1]\n",
      "[3, 1, 0, 1]\n",
      "[3, 1, 0, 2]\n",
      "[3, 1, 0, 3]\n",
      "[3, 1, 1]\n",
      "[3, 1, 1, 1]\n",
      "[3, 1, 1, 2]\n",
      "[3, 1, 1, 3]\n",
      "[3, 1, 2]\n",
      "[3, 1, 2, 1]\n",
      "[3, 1, 2, 2]\n",
      "[3, 1, 2, 3]\n",
      "[3, 1, 3]\n",
      "[3, 1, 3, 1]\n",
      "[3, 1, 3, 2]\n",
      "[3, 1, 3, 3]\n",
      "[3, 2]\n",
      "[3, 2, 0, 1]\n",
      "[3, 2, 0, 2]\n",
      "[3, 2, 0, 3]\n",
      "[3, 2, 1]\n",
      "[3, 2, 1, 1]\n",
      "[3, 2, 1, 2]\n",
      "[3, 2, 1, 3]\n",
      "[3, 2, 2]\n",
      "[3, 2, 2, 1]\n",
      "[3, 2, 2, 2]\n",
      "[3, 2, 2, 3]\n",
      "[3, 2, 3]\n",
      "[3, 2, 3, 1]\n",
      "[3, 2, 3, 2]\n",
      "[3, 2, 3, 3]\n",
      "[3, 3]\n",
      "[3, 3, 0, 1]\n",
      "[3, 3, 0, 2]\n",
      "[3, 3, 0, 3]\n",
      "[3, 3, 1]\n",
      "[3, 3, 1, 1]\n",
      "[3, 3, 1, 2]\n",
      "[3, 3, 1, 3]\n",
      "[3, 3, 2]\n",
      "[3, 3, 2, 1]\n",
      "[3, 3, 2, 2]\n",
      "[3, 3, 2, 3]\n",
      "[3, 3, 3]\n",
      "[3, 3, 3, 1]\n",
      "[3, 3, 3, 2]\n",
      "[3, 3, 3, 3]\n"
     ]
    },
    {
     "data": {
      "text/plain": [
       "240"
      ]
     },
     "execution_count": 81,
     "metadata": {},
     "output_type": "execute_result"
    }
   ],
   "source": [
    "r = gen_local_ops(2)\n",
    "for i in r:\n",
    "    print(i.get_full_ops())\n",
    "    \n",
    "len(r)"
   ]
  },
  {
   "cell_type": "code",
   "execution_count": 82,
   "metadata": {},
   "outputs": [
    {
     "data": {
      "text/plain": [
       "15.0"
      ]
     },
     "execution_count": 82,
     "metadata": {},
     "output_type": "execute_result"
    }
   ],
   "source": []
  }
 ],
 "metadata": {
  "kernelspec": {
   "display_name": "Python 3",
   "language": "python",
   "name": "python3"
  },
  "language_info": {
   "codemirror_mode": {
    "name": "ipython",
    "version": 3
   },
   "file_extension": ".py",
   "mimetype": "text/x-python",
   "name": "python",
   "nbconvert_exporter": "python",
   "pygments_lexer": "ipython3",
   "version": "3.7.7"
  }
 },
 "nbformat": 4,
 "nbformat_minor": 4
}
