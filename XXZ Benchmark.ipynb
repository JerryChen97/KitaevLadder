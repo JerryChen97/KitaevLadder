{
 "cells": [
  {
   "cell_type": "markdown",
   "metadata": {},
   "source": [
    "# An fDMRG Benchmark for XXZ Model\n",
    "\n",
    "In this notebook, we will carry a benchmark for XXZ model as a demonstration that the task of finding the energy gap in TeNPy is possible and accurate."
   ]
  },
  {
   "cell_type": "code",
   "execution_count": 1,
   "metadata": {},
   "outputs": [],
   "source": [
    "import numpy as np\n",
    "\n",
    "from tenpy.networks.mps import MPS\n",
    "from tenpy.models.tf_ising import TFIChain\n",
    "from tenpy.models.spins import SpinModel\n",
    "from tenpy.algorithms import dmrg"
   ]
  },
  {
   "cell_type": "code",
   "execution_count": 23,
   "metadata": {},
   "outputs": [],
   "source": [
    "def fDMRG_heisenberg_xxz(\n",
    "    S=0.5,\n",
    "    Jx=2,\n",
    "    Jy=2,\n",
    "    Jz=0.5, \n",
    "    L=20,\n",
    "    chi=100,\n",
    "    conserve='best',\n",
    "    orthogonal_to=[],\n",
    "    verbose=True,\n",
    "):\n",
    "    print(f\"finite DMRG, Heisenberg XXZ chain of length {L}\")\n",
    "    print(\"Jz={Jz:.2f}, conserve={conserve!r}\".format(Jz=Jz, conserve=conserve))\n",
    "    model_params = dict(\n",
    "        L=L,\n",
    "        S=S,  # spin 1/2\n",
    "        Jx=Jx,\n",
    "        Jy=Jy,\n",
    "        Jz=Jz,  # couplings\n",
    "        bc_MPS='finite',\n",
    "        conserve=conserve,\n",
    "        verbose=verbose,\n",
    "    )\n",
    "    M = SpinModel(model_params)\n",
    "    product_state = [\"up\", \"down\"] * int(L/2)  # initial Neel state\n",
    "    psi = MPS.from_product_state(M.lat.mps_sites(), product_state, bc=M.lat.bc_MPS)\n",
    "    dmrg_params = {\n",
    "        'mixer': True,  # setting this to True helps to escape local minima\n",
    "        'trunc_params': {\n",
    "            'chi_max': 100,\n",
    "            'svd_min': 1.e-10,\n",
    "        },\n",
    "        'max_E_err': 1.e-10,\n",
    "        'verbose': verbose,\n",
    "        'orthogonal_to': orthogonal_to,\n",
    "    }\n",
    "    info = dmrg.run(psi, M, dmrg_params)\n",
    "    E = info['E']\n",
    "    print(\"E = {E:.13f}\".format(E=E))\n",
    "    print(\"final bond dimensions: \", psi.chi)\n",
    "    Sz = psi.expectation_value(\"Sz\")  # Sz instead of Sigma z: spin-1/2 operators!\n",
    "    mag_z = np.mean(Sz)\n",
    "    print(\"<S_z> = [{Sz0:.5f}, {Sz1:.5f}]; mean ={mag_z:.5f}\".format(Sz0=Sz[0],\n",
    "                                                                     Sz1=Sz[1],\n",
    "                                                                     mag_z=mag_z))\n",
    "    \n",
    "    return E, psi, M"
   ]
  },
  {
   "cell_type": "code",
   "execution_count": 9,
   "metadata": {
    "scrolled": true
   },
   "outputs": [
    {
     "name": "stdout",
     "output_type": "stream",
     "text": [
      "infinite DMRG, Heisenberg XXZ chain\n",
      "Jz=0.50, conserve='best'\n",
      "Reading 'bc_MPS'='finite' for config SpinModel\n",
      "Reading 'S'=0.5 for config SpinModel\n",
      "Reading 'conserve'='best' for config SpinModel\n",
      "SpinModel: set conserve to Sz\n",
      "Reading 'L'=20 for config SpinModel\n",
      "Reading 'Jx'=2 for config SpinModel\n",
      "Reading 'Jy'=2 for config SpinModel\n",
      "Reading 'Jz'=0.5 for config SpinModel\n",
      "Subconfig 'trunc_params'=Config(<3 options>, 'trunc_params') for config DMRG\n",
      "Reading 'max_E_err'=1e-10 for config DMRG\n",
      "Reading 'mixer'=True for config DMRG\n"
     ]
    },
    {
     "name": "stderr",
     "output_type": "stream",
     "text": [
      "/home/jerry/anaconda3/lib/python3.7/site-packages/tenpy/tools/params.py:225: UserWarning: unused options for config SpinModel:\n",
      "['bc', 'orthogonal_to']\n",
      "  warnings.warn(msg.format(keys=sorted(unused), name=self.name))\n"
     ]
    },
    {
     "name": "stdout",
     "output_type": "stream",
     "text": [
      "================================================================================\n",
      "sweep 10, age = 20\n",
      "Energy = -13.4701829289053325, S = nan, norm_err = 3.7e-13\n",
      "Current memory usage 146.5 MB, time elapsed: 7.0 s\n",
      "Delta E = nan, Delta S = 0.0000e+00 (per sweep)\n",
      "max_trunc_err = 1.4064e-16, max_E_trunc = 1.4211e-14\n",
      "MPS bond dimensions: [2, 4, 8, 16, 32, 62, 100, 100, 100, 100, 100, 100, 100, 64, 32, 16, 8, 4, 2]\n",
      "disable mixer after 15 sweeps, final amplitude 3.05e-10\n",
      "================================================================================\n",
      "sweep 20, age = 20\n",
      "Energy = -13.4701829289053876, S = 0.6995604925752987, norm_err = 3.8e-14\n",
      "Current memory usage 146.8 MB, time elapsed: 12.2 s\n",
      "Delta E = -5.5067e-15, Delta S = nan (per sweep)\n",
      "max_trunc_err = 5.9015e-17, max_E_trunc = 1.4211e-14\n",
      "MPS bond dimensions: [2, 4, 8, 16, 32, 63, 98, 100, 100, 100, 100, 100, 98, 63, 32, 16, 8, 4, 2]\n",
      "================================================================================\n",
      "sweep 30, age = 20\n",
      "Energy = -13.4701829289053876, S = 0.6995604925752980, norm_err = 6.9e-14\n",
      "Current memory usage 146.8 MB, time elapsed: 16.2 s\n",
      "Delta E = 0.0000e+00, Delta S = -7.7716e-17 (per sweep)\n",
      "max_trunc_err = 5.9505e-17, max_E_trunc = 1.7764e-14\n",
      "MPS bond dimensions: [2, 4, 8, 16, 32, 63, 98, 100, 100, 100, 100, 100, 98, 63, 32, 16, 8, 4, 2]\n",
      "================================================================================\n",
      "DMRG finished after 30 sweeps.\n",
      "total size = 20, maximum chi = 100\n",
      "================================================================================\n",
      "E = -13.4701829289054\n",
      "final bond dimensions:  [2, 4, 8, 16, 32, 63, 98, 100, 100, 100, 100, 100, 98, 63, 32, 16, 8, 4, 2]\n",
      "<S_z> = [0.00000, 0.00000]; mean =-0.00000\n"
     ]
    },
    {
     "name": "stderr",
     "output_type": "stream",
     "text": [
      "/home/jerry/anaconda3/lib/python3.7/site-packages/tenpy/tools/params.py:225: UserWarning: unused option ['bc'] for config SpinModel\n",
      "\n",
      "  warnings.warn(msg.format(keys=sorted(unused), name=self.name))\n"
     ]
    }
   ],
   "source": [
    "E, psi, M = fDMRG_heisenberg_xxz()"
   ]
  },
  {
   "cell_type": "code",
   "execution_count": 24,
   "metadata": {
    "scrolled": true
   },
   "outputs": [
    {
     "name": "stdout",
     "output_type": "stream",
     "text": [
      "finite DMRG, Heisenberg XXZ chain of length 20\n",
      "Jz=0.50, conserve='best'\n",
      "Reading 'bc_MPS'='finite' for config SpinModel\n",
      "Reading 'S'=0.5 for config SpinModel\n",
      "Reading 'conserve'='best' for config SpinModel\n",
      "SpinModel: set conserve to Sz\n",
      "Reading 'L'=20 for config SpinModel\n",
      "Reading 'Jx'=2 for config SpinModel\n",
      "Reading 'Jy'=2 for config SpinModel\n",
      "Reading 'Jz'=0.5 for config SpinModel\n",
      "Subconfig 'trunc_params'=Config(<3 options>, 'trunc_params') for config DMRG\n",
      "Reading 'orthogonal_to'=[] for config DMRG\n",
      "Reading 'max_E_err'=1e-10 for config DMRG\n",
      "Reading 'mixer'=True for config DMRG\n",
      "================================================================================\n",
      "sweep 10, age = 20\n",
      "Energy = -13.4701829289053325, S = nan, norm_err = 3.7e-13\n",
      "Current memory usage 149.4 MB, time elapsed: 7.1 s\n",
      "Delta E = nan, Delta S = 0.0000e+00 (per sweep)\n",
      "max_trunc_err = 1.4064e-16, max_E_trunc = 1.4211e-14\n",
      "MPS bond dimensions: [2, 4, 8, 16, 32, 62, 100, 100, 100, 100, 100, 100, 100, 64, 32, 16, 8, 4, 2]\n",
      "disable mixer after 15 sweeps, final amplitude 3.05e-10\n",
      "================================================================================\n",
      "sweep 20, age = 20\n",
      "Energy = -13.4701829289053876, S = 0.6995604925752987, norm_err = 3.8e-14\n",
      "Current memory usage 149.4 MB, time elapsed: 12.3 s\n",
      "Delta E = -5.5067e-15, Delta S = nan (per sweep)\n",
      "max_trunc_err = 5.9015e-17, max_E_trunc = 1.4211e-14\n",
      "MPS bond dimensions: [2, 4, 8, 16, 32, 63, 98, 100, 100, 100, 100, 100, 98, 63, 32, 16, 8, 4, 2]\n",
      "================================================================================\n",
      "sweep 30, age = 20\n",
      "Energy = -13.4701829289053876, S = 0.6995604925752980, norm_err = 6.9e-14\n",
      "Current memory usage 149.4 MB, time elapsed: 16.4 s\n",
      "Delta E = 0.0000e+00, Delta S = -7.7716e-17 (per sweep)\n",
      "max_trunc_err = 5.9505e-17, max_E_trunc = 1.7764e-14\n",
      "MPS bond dimensions: [2, 4, 8, 16, 32, 63, 98, 100, 100, 100, 100, 100, 98, 63, 32, 16, 8, 4, 2]\n",
      "================================================================================\n",
      "DMRG finished after 30 sweeps.\n",
      "total size = 20, maximum chi = 100\n",
      "================================================================================\n",
      "E = -13.4701829289054\n",
      "final bond dimensions:  [2, 4, 8, 16, 32, 63, 98, 100, 100, 100, 100, 100, 98, 63, 32, 16, 8, 4, 2]\n",
      "<S_z> = [0.00000, 0.00000]; mean =-0.00000\n",
      "finite DMRG, Heisenberg XXZ chain of length 20\n",
      "Jz=0.50, conserve='best'\n",
      "Reading 'bc_MPS'='finite' for config SpinModel\n",
      "Reading 'S'=0.5 for config SpinModel\n",
      "Reading 'conserve'='best' for config SpinModel\n",
      "SpinModel: set conserve to Sz\n",
      "Reading 'L'=20 for config SpinModel\n",
      "Reading 'Jx'=2 for config SpinModel\n",
      "Reading 'Jy'=2 for config SpinModel\n",
      "Reading 'Jz'=0.5 for config SpinModel\n",
      "Subconfig 'trunc_params'=Config(<3 options>, 'trunc_params') for config DMRG\n",
      "Reading 'orthogonal_to'=[<tenpy.networks.mps.MPS object at 0x7fe2578f9610>] for config DMRG\n",
      "Reading 'max_E_err'=1e-10 for config DMRG\n",
      "Reading 'mixer'=True for config DMRG\n"
     ]
    },
    {
     "name": "stderr",
     "output_type": "stream",
     "text": [
      "/home/jerry/anaconda3/lib/python3.7/site-packages/tenpy/tools/params.py:225: UserWarning: unused options for config SpinModel:\n",
      "['bc', 'orthogonal_to']\n",
      "  warnings.warn(msg.format(keys=sorted(unused), name=self.name))\n"
     ]
    },
    {
     "name": "stdout",
     "output_type": "stream",
     "text": [
      "================================================================================\n",
      "sweep 10, age = 20\n",
      "Energy = -13.1318414171220059, S = nan, norm_err = 1.2e-12\n",
      "Current memory usage 149.7 MB, time elapsed: 10.2 s\n",
      "Delta E = nan, Delta S = 0.0000e+00 (per sweep)\n",
      "max_trunc_err = 4.6343e-15, max_E_trunc = 2.6645e-14\n",
      "MPS bond dimensions: [2, 4, 8, 16, 32, 63, 100, 100, 100, 100, 100, 100, 100, 64, 32, 16, 8, 4, 2]\n",
      "disable mixer after 15 sweeps, final amplitude 3.05e-10\n",
      "================================================================================\n",
      "sweep 20, age = 20\n",
      "Energy = -13.1318414171219882, S = 1.0100759226337845, norm_err = 7.3e-13\n",
      "Current memory usage 149.7 MB, time elapsed: 17.8 s\n",
      "Delta E = 1.7764e-15, Delta S = nan (per sweep)\n",
      "max_trunc_err = 1.9952e-15, max_E_trunc = 2.6645e-14\n",
      "MPS bond dimensions: [2, 4, 8, 16, 32, 64, 100, 100, 100, 100, 100, 100, 100, 64, 32, 16, 8, 4, 2]\n",
      "================================================================================\n",
      "sweep 30, age = 20\n",
      "Energy = -13.1318414171220059, S = 1.0100759226337783, norm_err = 7.3e-13\n",
      "Current memory usage 149.7 MB, time elapsed: 24.3 s\n",
      "Delta E = -1.7764e-15, Delta S = -6.2172e-16 (per sweep)\n",
      "max_trunc_err = 1.9952e-15, max_E_trunc = 1.7764e-14\n",
      "MPS bond dimensions: [2, 4, 8, 16, 32, 64, 100, 100, 100, 100, 100, 100, 100, 64, 32, 16, 8, 4, 2]\n",
      "================================================================================\n",
      "DMRG finished after 30 sweeps.\n",
      "total size = 20, maximum chi = 100\n",
      "================================================================================\n",
      "E = -13.1318414171220\n",
      "final bond dimensions:  [2, 4, 8, 16, 32, 64, 100, 100, 100, 100, 100, 100, 100, 64, 32, 16, 8, 4, 2]\n",
      "<S_z> = [0.00000, -0.00000]; mean =0.00000\n"
     ]
    }
   ],
   "source": [
    "orthogonal_to = []\n",
    "energy = []\n",
    "\n",
    "for i in range(2):\n",
    "    E, psi, M = fDMRG_heisenberg_xxz(orthogonal_to=orthogonal_to)\n",
    "    energy.append(E)\n",
    "    orthogonal_to.append(psi.copy())\n",
    "    "
   ]
  },
  {
   "cell_type": "code",
   "execution_count": 25,
   "metadata": {},
   "outputs": [
    {
     "data": {
      "text/plain": [
       "3.3306690738754696e-16"
      ]
     },
     "execution_count": 25,
     "metadata": {},
     "output_type": "execute_result"
    }
   ],
   "source": [
    "orthogonal_to[0].overlap(orthogonal_to[1])"
   ]
  },
  {
   "cell_type": "code",
   "execution_count": 26,
   "metadata": {},
   "outputs": [
    {
     "data": {
      "text/plain": [
       "0.3383415117833817"
      ]
     },
     "execution_count": 26,
     "metadata": {},
     "output_type": "execute_result"
    }
   ],
   "source": [
    "energy[1] - energy[0]"
   ]
  },
  {
   "cell_type": "code",
   "execution_count": null,
   "metadata": {},
   "outputs": [],
   "source": []
  }
 ],
 "metadata": {
  "kernelspec": {
   "display_name": "Python 3",
   "language": "python",
   "name": "python3"
  },
  "language_info": {
   "codemirror_mode": {
    "name": "ipython",
    "version": 3
   },
   "file_extension": ".py",
   "mimetype": "text/x-python",
   "name": "python",
   "nbconvert_exporter": "python",
   "pygments_lexer": "ipython3",
   "version": "3.7.7"
  }
 },
 "nbformat": 4,
 "nbformat_minor": 4
}
