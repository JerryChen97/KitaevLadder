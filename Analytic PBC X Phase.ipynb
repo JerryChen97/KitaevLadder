{
 "cells": [
  {
   "cell_type": "code",
   "execution_count": 1,
   "metadata": {},
   "outputs": [],
   "source": [
    "from Majorana import get_Majorana_spectrum, decompose_skew_schur, H_fermionic_skew, get_parity, get_two_E, get_lowest_E"
   ]
  },
  {
   "cell_type": "code",
   "execution_count": 2,
   "metadata": {},
   "outputs": [],
   "source": [
    "import numpy as np\n",
    "import matplotlib.pyplot as plt\n",
    "from time import time"
   ]
  },
  {
   "cell_type": "code",
   "execution_count": 3,
   "metadata": {},
   "outputs": [],
   "source": [
    "Jx = 1.75\n",
    "Jy = 0.25\n",
    "Jz = 1.0\n",
    "N = 10\n",
    "D_list = [1 for i in range(2*N)]\n",
    "bc = 'periodic'\n",
    "SigmaY = 1"
   ]
  },
  {
   "cell_type": "code",
   "execution_count": 4,
   "metadata": {},
   "outputs": [
    {
     "name": "stdout",
     "output_type": "stream",
     "text": [
      "The two lowest levels: \n",
      "[-38.346605748989056, -38.31810836801075]\n"
     ]
    }
   ],
   "source": [
    "print(\"The two lowest levels: \")\n",
    "print(get_two_E(Jx, Jy, Jz, N))"
   ]
  },
  {
   "cell_type": "code",
   "execution_count": 5,
   "metadata": {},
   "outputs": [],
   "source": [
    "import pickle\n",
    "f = open(\"DegeneracyData.pkl\",\"rb\")\n",
    "dictfrompickle = pickle.load(f)"
   ]
  },
  {
   "cell_type": "code",
   "execution_count": 6,
   "metadata": {},
   "outputs": [
    {
     "data": {
      "text/plain": [
       "([-38.346605748678435,\n",
       "  -38.318108367945484,\n",
       "  -38.318108367933036,\n",
       "  -38.31810811252964],\n",
       " [<tenpy.networks.mps.MPS at 0x7f6428888650>,\n",
       "  <tenpy.networks.mps.MPS at 0x7f6428845510>,\n",
       "  <tenpy.networks.mps.MPS at 0x7f64287f2d90>,\n",
       "  <tenpy.networks.mps.MPS at 0x7f64287a5650>])"
      ]
     },
     "execution_count": 6,
     "metadata": {},
     "output_type": "execute_result"
    }
   ],
   "source": [
    "bc_str = 'OBC' if bc=='open' else 'PBC'\n",
    "dictfrompickle[f'{bc_str}_Jx_{Jx}_Jy_{Jy}_Jz_{Jz}'][-1]"
   ]
  },
  {
   "cell_type": "code",
   "execution_count": 7,
   "metadata": {},
   "outputs": [
    {
     "name": "stdout",
     "output_type": "stream",
     "text": [
      "D all +1\n",
      "[-38.346605748989056, -37.34510682471712]\n",
      "\n",
      "One of Ds set to -1\n",
      "[-37.185532994844934, -38.31810836801074]\n",
      "\n",
      "Two -1\n",
      "Distance between the two -1: 1\n",
      "[-38.29506345492925, -37.2117660959427]\n",
      "\n",
      "Distance between the two -1: 2\n",
      "[-38.293119067021145, -37.219267784310865]\n",
      "\n",
      "Distance between the two -1: 3\n",
      "[-38.292049807515006, -37.21129973353226]\n",
      "\n",
      "Distance between the two -1: 4\n",
      "[-38.29176604612865, -37.207507255595964]\n",
      "\n",
      "Distance between the two -1: 5\n",
      "[-38.29163966543691, -37.20325376701388]\n",
      "\n",
      "Distance between the two -1: 6\n",
      "[-38.29158870727081, -37.19945710835352]\n",
      "\n",
      "Distance between the two -1: 7\n",
      "[-38.291565517552, -37.19610805060911]\n",
      "\n",
      "Distance between the two -1: 8\n",
      "[-38.29155516122455, -37.19346735747471]\n",
      "\n",
      "Distance between the two -1: 9\n",
      "[-38.291550669589405, -37.19176117095761]\n",
      "\n",
      "Distance between the two -1: 10\n",
      "[-38.291549422035864, -37.19116994576309]\n",
      "\n",
      "Distance between the two -1: 11\n",
      "[-38.291550669589384, -37.191761170957605]\n",
      "\n",
      "Distance between the two -1: 12\n",
      "[-38.29155516122456, -37.19346735747471]\n",
      "\n",
      "Distance between the two -1: 13\n",
      "[-38.29156551755201, -37.196108050609105]\n",
      "\n",
      "Distance between the two -1: 14\n",
      "[-38.291588707270805, -37.19945710835353]\n",
      "\n",
      "Distance between the two -1: 15\n",
      "[-38.29163966543691, -37.20325376701388]\n",
      "\n",
      "Distance between the two -1: 16\n",
      "[-38.29176604612866, -37.20750725559595]\n",
      "\n",
      "Distance between the two -1: 17\n",
      "[-38.292049807515, -37.21129973353227]\n",
      "\n",
      "Distance between the two -1: 18\n",
      "[-38.293119067021145, -37.219267784310865]\n",
      "\n",
      "Distance between the two -1: 19\n",
      "[-38.295063454929256, -37.21176609594271]\n",
      "\n"
     ]
    }
   ],
   "source": [
    "print('D all +1')\n",
    "D_list = [1 for i in range(2*N)]\n",
    "print(get_lowest_E(Jx, Jy, Jz, N, D_list, bc='periodic'))\n",
    "print('')\n",
    "\n",
    "print('One of Ds set to -1')\n",
    "D_list = [1 for i in range(2*N)]\n",
    "D_list[0] *= -1\n",
    "print(get_lowest_E(Jx, Jy, Jz, N, D_list, bc='periodic'))\n",
    "print('')\n",
    "\n",
    "print('Two -1')\n",
    "for i in range(1, 2*N):\n",
    "    print(f\"Distance between the two -1: {i}\")\n",
    "    D_list = [1 for i in range(2*N)]\n",
    "    D_list[0] *= -1\n",
    "    D_list[i] *= -1\n",
    "    print(get_lowest_E(Jx, Jy, Jz, N, D_list, bc='periodic'))\n",
    "    print('')"
   ]
  },
  {
   "cell_type": "code",
   "execution_count": 11,
   "metadata": {},
   "outputs": [
    {
     "name": "stdout",
     "output_type": "stream",
     "text": [
      "System size  4\n",
      "0.0004013745062341201\n",
      "\n",
      "System size  5\n",
      "0.00029292908812017515\n",
      "\n",
      "System size  6\n",
      "0.00028038877173663934\n",
      "\n",
      "System size  7\n",
      "0.0002788729609672913\n",
      "\n",
      "System size  8\n",
      "0.0002786846674496246\n",
      "\n",
      "System size  9\n",
      "0.0002786608577061145\n",
      "\n",
      "System size  10\n",
      "0.0002786578098969983\n",
      "\n",
      "System size  11\n",
      "0.00027865741630250795\n",
      "\n",
      "System size  12\n",
      "0.0002786573651221147\n",
      "\n",
      "System size  13\n",
      "0.00027865735843590755\n",
      "\n",
      "System size  14\n",
      "0.0002786573575583873\n",
      "\n",
      "System size  15\n",
      "0.00027865735744825315\n",
      "\n",
      "System size  16\n",
      "0.0002786573574340423\n",
      "\n",
      "System size  17\n",
      "0.00027865735741983144\n",
      "\n",
      "System size  18\n",
      "0.00027865735741983144\n",
      "\n",
      "System size  19\n",
      "0.00027865735742693687\n",
      "\n",
      "System size  20\n",
      "0.00027865735742693687\n",
      "\n",
      "System size  21\n",
      "0.00027865735742693687\n",
      "\n",
      "System size  22\n",
      "0.0002786573574340423\n",
      "\n",
      "System size  23\n",
      "0.00027865735744825315\n",
      "\n",
      "System size  24\n",
      "0.00027865735742693687\n",
      "\n",
      "System size  25\n",
      "0.0002786573574340423\n",
      "\n",
      "System size  26\n",
      "0.000278657357412726\n",
      "\n",
      "System size  27\n",
      "0.000278657357412726\n",
      "\n",
      "System size  28\n",
      "0.00027865735742693687\n",
      "\n",
      "System size  29\n",
      "0.000278657357412726\n",
      "\n"
     ]
    }
   ],
   "source": [
    "Jx = 1\n",
    "Jy = .1\n",
    "Jz = .1\n",
    "\n",
    "bc = 'periodic'\n",
    "\n",
    "for N in range(4, 30):\n",
    "    D_list = [1 for i in range(2*N)]\n",
    "    GS = (get_lowest_E(Jx, Jy, Jz, N, D_list, bc))\n",
    "#     print()\n",
    "    D_list[N-1] *= -1\n",
    "    ES = (get_lowest_E(Jx, Jy, Jz, N, D_list, bc))\n",
    "    print(\"System size \", N)\n",
    "    print(np.min(ES) - np.min(GS))\n",
    "#     print(np.sum(get_Majorana_spectrum(Jx, Jy, Jz, N, SigmaY, D_list, bc)))\n",
    "#     print(D_list)\n",
    "    \n",
    "    print()"
   ]
  },
  {
   "cell_type": "code",
   "execution_count": null,
   "metadata": {},
   "outputs": [],
   "source": []
  }
 ],
 "metadata": {
  "kernelspec": {
   "display_name": "Python 3",
   "language": "python",
   "name": "python3"
  },
  "language_info": {
   "codemirror_mode": {
    "name": "ipython",
    "version": 3
   },
   "file_extension": ".py",
   "mimetype": "text/x-python",
   "name": "python",
   "nbconvert_exporter": "python",
   "pygments_lexer": "ipython3",
   "version": "3.7.7"
  }
 },
 "nbformat": 4,
 "nbformat_minor": 4
}
