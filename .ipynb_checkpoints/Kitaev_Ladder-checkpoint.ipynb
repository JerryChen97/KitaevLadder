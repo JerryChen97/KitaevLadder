{
 "cells": [
  {
   "cell_type": "code",
   "execution_count": 1,
   "metadata": {},
   "outputs": [],
   "source": [
    "import numpy as np\n",
    "import itertools\n",
    "import warnings\n",
    "import matplotlib.pyplot as plt"
   ]
  },
  {
   "cell_type": "code",
   "execution_count": 2,
   "metadata": {},
   "outputs": [],
   "source": [
    "import tenpy\n",
    "\n",
    "from tenpy.networks.site import Site, SpinHalfFermionSite, SpinHalfSite, GroupedSite, SpinSite\n",
    "from tenpy.tools.misc import to_iterable, to_iterable_of_len, inverse_permutation\n",
    "from tenpy.networks.mps import MPS  # only to check boundary conditions\n",
    "\n",
    "from tenpy.models.lattice import Lattice, _parse_sites\n",
    "from tenpy.models.model import CouplingMPOModel, NearestNeighborModel\n",
    "from tenpy.tools.params import get_parameter\n",
    "\n",
    "from tenpy.algorithms import dmrg"
   ]
  },
  {
   "cell_type": "code",
   "execution_count": 3,
   "metadata": {},
   "outputs": [],
   "source": [
    "__all__ = ['KitaevLadder', 'KitaevLadderModel']"
   ]
  },
  {
   "cell_type": "code",
   "execution_count": 4,
   "metadata": {},
   "outputs": [],
   "source": [
    "class KitaevLadder(Lattice):    \n",
    "    \"\"\" A ladder coupling two chains of the Kitaev form\n",
    "    .. image :: /images/lattices/Ladder.*\n",
    "    Parameters\n",
    "    ----------\n",
    "    L : int\n",
    "        The length of each chain, we have 2*L sites in total.\n",
    "    sites : (list of) :class:`~tenpy.networks.site.Site`\n",
    "        The two local lattice sites making the `unit_cell` of the :class:`Lattice`.\n",
    "        If only a single :class:`~tenpy.networks.site.Site` is given, it is used for both chains.\n",
    "    **kwargs :\n",
    "        Additional keyword arguments given to the :class:`Lattice`.\n",
    "        `basis`, `pos` and `pairs` are set accordingly.\n",
    "    \"\"\"\n",
    "    dim = 1\n",
    "\n",
    "    def __init__(self, L, sites, **kwargs):\n",
    "        sites = _parse_sites(sites, 4)\n",
    "        basis = np.array([[2., 0.]])\n",
    "        pos = np.array([[0., 0.], [0., 1.], [1., 0.], [1., 1.]])\n",
    "        kwargs.setdefault('basis', basis)\n",
    "        kwargs.setdefault('positions', pos)\n",
    "        kwargs.setdefault('bc', 'periodic')\n",
    "        kwargs.setdefault('bc_MPS', 'infinite')\n",
    "        NNz = [(0, 1, np.array([0])), (2, 3, np.array([0]))]\n",
    "        NNx = [(1, 3, np.array([0])), (2, 0, np.array([1]))]\n",
    "        NNy = [(0, 2, np.array([0])), (3, 1, np.array([1]))]\n",
    "        kwargs.setdefault('pairs', {})\n",
    "        kwargs['pairs'].setdefault('nearest_neighbors_x', NNx)\n",
    "        kwargs['pairs'].setdefault('nearest_neighbors_y', NNy)\n",
    "        kwargs['pairs'].setdefault('nearest_neighbors_z', NNz)\n",
    "        Lattice.__init__(self, [L], sites, **kwargs)\n",
    "        \n",
    "        \n",
    "class KitaevLadderModel(CouplingMPOModel):\n",
    "    def __init__(self, model_params):\n",
    "        CouplingMPOModel.__init__(self, model_params)\n",
    "\n",
    "    def init_sites(self, model_params):\n",
    "        conserve = get_parameter(model_params, 'conserve', None, self.name)\n",
    "        fs = SpinHalfSite(conserve=conserve)\n",
    "        return [fs, fs, fs, fs]\n",
    "\n",
    "    def init_lattice(self, model_params):\n",
    "        L = get_parameter(model_params, 'L', 3, self.name)\n",
    "        gs = self.init_sites(model_params)\n",
    "        model_params.pop(\"L\")\n",
    "        lat = KitaevLadder(L, gs)\n",
    "        return lat\n",
    "\n",
    "    def init_terms(self, model_params):\n",
    "        Jx = get_parameter(model_params, 'Jx', 1., self.name, True)\n",
    "        Jy = get_parameter(model_params, 'Jy', 1., self.name, True)\n",
    "        Jz = get_parameter(model_params, 'Jz', 1., self.name, True)\n",
    "\n",
    "        for u1, u2, dx in self.lat.pairs['nearest_neighbors_z']:\n",
    "            self.add_coupling(-Jz, u1, 'Sz', u2, 'Sz', dx)\n",
    "        for u1, u2, dx in self.lat.pairs['nearest_neighbors_x']:\n",
    "            self.add_coupling(-Jx, u1, 'Sx', u2, 'Sx', dx)\n",
    "        for u1, u2, dx in self.lat.pairs['nearest_neighbors_y']:\n",
    "            self.add_coupling(-Jy, u1, 'Sy', u2, 'Sy', dx)\n",
    "         \n",
    "        \n",
    "def plot_lattice():\n",
    "    fig, ax = plt.subplots()\n",
    "    lat = KitaevLadder(5, None, bc='periodic')\n",
    "    links_name = 'nearest_neighbors_z'\n",
    "    lat.plot_coupling(ax, lat.pairs[links_name], linewidth=5.)\n",
    "    # print(lat.pairs['nearest_neighbors'])\n",
    "    print(lat.unit_cell)\n",
    "    lat.plot_order(ax=ax, linestyle='--')\n",
    "    lat.plot_sites(ax)\n",
    "    # lat.plot_basis(ax, color='g', linewidth=3.)\n",
    "    ax.set_aspect('equal')\n",
    "    ax.get_xaxis().set_visible(False)\n",
    "    ax.get_yaxis().set_visible(False)\n",
    "    ax.axis('off')\n",
    "    # plt.title(links_name)\n",
    "    plt.show()\n"
   ]
  },
  {
   "cell_type": "code",
   "execution_count": 5,
   "metadata": {},
   "outputs": [],
   "source": [
    "def run():\n",
    "\n",
    "    model_params = dict(conserve=None, Jx=1., Jy=1., Jz=1., L=2, verbose=1)\n",
    "    prod_state = [\"up\", \"up\"] * (2 * model_params['L'])\n",
    "    M = KitaevLadderModel(model_params)\n",
    "    psi = MPS.from_product_state(\n",
    "        M.lat.mps_sites(), \n",
    "        prod_state, \n",
    "        bc=M.lat.bc_MPS,\n",
    "    )\n",
    "\n",
    "    dmrg_params = {\n",
    "        'start_env': 10,\n",
    "        'mixer': False,  # setting this to True helps to escape local minima\n",
    "#         'mixer': True,\n",
    "#         'mixer_params': {\n",
    "#             'amplitude': 1.e-5,\n",
    "#             'decay': 1.2,\n",
    "#             'disable_after': 30\n",
    "#         },\n",
    "        'trunc_params': {\n",
    "            'chi_max': 4,\n",
    "            'svd_min': 1.e-10,\n",
    "        },\n",
    "        'max_E_err': 1.e-10,\n",
    "        'max_S_err': 1.e-6,\n",
    "        'max_sweeps': 150,\n",
    "        'verbose': 1.,\n",
    "    }\n",
    "    \n",
    "    \n",
    "    eng = dmrg.TwoSiteDMRGEngine(psi, M, dmrg_params)\n",
    "    \n",
    "    data = dict(entropy_list=[], correlation_list=[])\n",
    "    chi_list = [4, 8, 16, 32, 64, 128]\n",
    "    for chi in chi_list:\n",
    "        \n",
    "        print(\"=\" * 100)\n",
    "        print(\"Chi = \", chi, '\\n')\n",
    "        \n",
    "#         eng = dmrg.TwoSiteDMRGEngine(psi, M, dmrg_params)\n",
    "        eng.reset_stats()\n",
    "        eng.trunc_params['chi_max'] = chi\n",
    "        eng.run()\n",
    "        \n",
    "        print(\"Canonicalizing...\")\n",
    "        psi.canonical_form()\n",
    "        \n",
    "        print(\"Computing properties\")\n",
    "        entropy = np.mean(psi.entanglement_entropy())\n",
    "        correlation = psi.correlation_length()\n",
    "\n",
    "        data['entropy_list'].append(entropy)\n",
    "        data['correlation_list'].append(correlation)\n",
    "        \n",
    "        print(\"Optimizing\")\n",
    "        tenpy.tools.optimization.optimize(3)\n",
    "        pass\n",
    "        \n",
    "    return data\n",
    "\n",
    "\n",
    "def plot_results(data):\n",
    "\n",
    "    plt.figure()\n",
    "    ax = plt.gca()\n",
    "    ax.plot(data['ent_spectrum'], marker='o')\n",
    "    ax.set_xlabel(r\"DMRG Step\")\n",
    "    ax.set_ylabel(r\"$ E $\")\n",
    "    plt.savefig(\"KitaevLadderModel.pdf\")\n"
   ]
  },
  {
   "cell_type": "code",
   "execution_count": 6,
   "metadata": {},
   "outputs": [
    {
     "name": "stdout",
     "output_type": "stream",
     "text": [
      "parameter 'verbose'=1 for KitaevLadderModel\n",
      "parameter 'L'=2 for KitaevLadderModel\n",
      "parameter 'conserve'=None for KitaevLadderModel\n",
      "parameter 'Jx'=1.0 for KitaevLadderModel\n",
      "parameter 'Jy'=1.0 for KitaevLadderModel\n",
      "parameter 'Jz'=1.0 for KitaevLadderModel\n",
      "parameter 'verbose'=1.0 for Sweep\n",
      "parameter 'trunc_params'={'chi_max': 4, 'svd_min': 1e-10} for Sweep\n",
      "Initial sweeps...\n",
      "parameter 'start_env'=10 for Sweep\n",
      "Updating environment\n",
      "..........\n",
      "====================================================================================================\n",
      "Chi =  4 \n",
      "\n",
      "parameter 'max_sweeps'=150 for DMRG\n",
      "parameter 'max_E_err'=1e-10 for DMRG\n",
      "parameter 'max_S_err'=1e-06 for DMRG\n",
      "parameter 'mixer'=False for Sweep\n",
      "Updating environment\n",
      ".....\n",
      "================================================================================\n",
      "sweep 10, age = 408\n",
      "Energy = -0.1250000000000000, S = 0.0000000000000000, norm_err = 0.0e+00\n",
      "Current memory usage 117.3 MB, time elapsed: 1.8 s\n",
      "Delta E = nan, Delta S = nan (per sweep)\n",
      "max_trunc_err = 0.0000e+00, max_E_trunc = 0.0000e+00\n",
      "MPS bond dimensions: [1, 1, 1, 1, 1, 1, 1, 1]\n",
      "Updating environment\n",
      ".....\n",
      "================================================================================\n",
      "sweep 20, age = 648\n",
      "Energy = -0.1250000000000000, S = 0.0000000000000000, norm_err = 0.0e+00\n",
      "Current memory usage 117.3 MB, time elapsed: 3.7 s\n",
      "Delta E = 0.0000e+00, Delta S = 0.0000e+00 (per sweep)\n",
      "max_trunc_err = 0.0000e+00, max_E_trunc = 0.0000e+00\n",
      "MPS bond dimensions: [1, 1, 1, 1, 1, 1, 1, 1]\n",
      "================================================================================\n",
      "DMRG finished after 20 sweeps.\n",
      "total size = 648, maximum chi = 1\n",
      "================================================================================\n",
      "Canonicalizing...\n",
      "Computing properties\n",
      "Optimizing\n",
      "====================================================================================================\n",
      "Chi =  8 \n",
      "\n"
     ]
    },
    {
     "name": "stderr",
     "output_type": "stream",
     "text": [
      "/home/jerry/anaconda3/lib/python3.7/site-packages/tenpy/networks/mps.py:3673: UserWarning: trimming speigs k to smaller matrix dimension d\n",
      "  eta, A = speigs(flat_linop, k=k, which='LM', **kwargs)\n"
     ]
    },
    {
     "name": "stdout",
     "output_type": "stream",
     "text": [
      "Updating environment\n",
      ".....\n",
      "================================================================================\n",
      "sweep 10, age = 888\n",
      "Energy = -0.1250000000000000, S = 0.0000000000000000, norm_err = 0.0e+00\n",
      "Current memory usage 118.3 MB, time elapsed: 1.9 s\n",
      "Delta E = nan, Delta S = nan (per sweep)\n",
      "max_trunc_err = 0.0000e+00, max_E_trunc = 0.0000e+00\n",
      "MPS bond dimensions: [1, 1, 1, 1, 1, 1, 1, 1]\n",
      "Updating environment\n",
      ".....\n",
      "================================================================================\n",
      "sweep 20, age = 1128\n",
      "Energy = -0.1250000000000000, S = 0.0000000000000000, norm_err = 0.0e+00\n",
      "Current memory usage 118.3 MB, time elapsed: 3.9 s\n",
      "Delta E = 0.0000e+00, Delta S = 0.0000e+00 (per sweep)\n",
      "max_trunc_err = 0.0000e+00, max_E_trunc = 0.0000e+00\n",
      "MPS bond dimensions: [1, 1, 1, 1, 1, 1, 1, 1]\n",
      "================================================================================\n",
      "DMRG finished after 20 sweeps.\n",
      "total size = 1128, maximum chi = 1\n",
      "================================================================================\n",
      "Canonicalizing...\n",
      "Computing properties\n",
      "Optimizing\n",
      "====================================================================================================\n",
      "Chi =  16 \n",
      "\n"
     ]
    },
    {
     "name": "stderr",
     "output_type": "stream",
     "text": [
      "/home/jerry/anaconda3/lib/python3.7/site-packages/tenpy/networks/mps.py:3673: UserWarning: trimming speigs k to smaller matrix dimension d\n",
      "  eta, A = speigs(flat_linop, k=k, which='LM', **kwargs)\n"
     ]
    },
    {
     "name": "stdout",
     "output_type": "stream",
     "text": [
      "Updating environment\n",
      ".....\n",
      "================================================================================\n",
      "sweep 10, age = 1368\n",
      "Energy = -0.1250000000000000, S = 0.0000000000000000, norm_err = 0.0e+00\n",
      "Current memory usage 118.3 MB, time elapsed: 1.9 s\n",
      "Delta E = nan, Delta S = nan (per sweep)\n",
      "max_trunc_err = 0.0000e+00, max_E_trunc = 0.0000e+00\n",
      "MPS bond dimensions: [1, 1, 1, 1, 1, 1, 1, 1]\n",
      "Updating environment\n",
      ".....\n",
      "================================================================================\n",
      "sweep 20, age = 1608\n",
      "Energy = -0.1250000000000000, S = 0.0000000000000000, norm_err = 0.0e+00\n",
      "Current memory usage 118.3 MB, time elapsed: 3.7 s\n",
      "Delta E = 0.0000e+00, Delta S = 0.0000e+00 (per sweep)\n",
      "max_trunc_err = 0.0000e+00, max_E_trunc = 0.0000e+00\n",
      "MPS bond dimensions: [1, 1, 1, 1, 1, 1, 1, 1]\n",
      "================================================================================\n",
      "DMRG finished after 20 sweeps.\n",
      "total size = 1608, maximum chi = 1\n",
      "================================================================================\n",
      "Canonicalizing...\n",
      "Computing properties\n",
      "Optimizing\n",
      "====================================================================================================\n",
      "Chi =  32 \n",
      "\n"
     ]
    },
    {
     "name": "stderr",
     "output_type": "stream",
     "text": [
      "/home/jerry/anaconda3/lib/python3.7/site-packages/tenpy/networks/mps.py:3673: UserWarning: trimming speigs k to smaller matrix dimension d\n",
      "  eta, A = speigs(flat_linop, k=k, which='LM', **kwargs)\n"
     ]
    },
    {
     "name": "stdout",
     "output_type": "stream",
     "text": [
      "Updating environment\n",
      ".....\n",
      "================================================================================\n",
      "sweep 10, age = 1848\n",
      "Energy = -0.1250000000000000, S = 0.0000000000000000, norm_err = 0.0e+00\n",
      "Current memory usage 118.3 MB, time elapsed: 1.9 s\n",
      "Delta E = nan, Delta S = nan (per sweep)\n",
      "max_trunc_err = 0.0000e+00, max_E_trunc = 0.0000e+00\n",
      "MPS bond dimensions: [1, 1, 1, 1, 1, 1, 1, 1]\n",
      "Updating environment\n",
      ".....\n",
      "================================================================================\n",
      "sweep 20, age = 2088\n",
      "Energy = -0.1250000000000000, S = 0.0000000000000000, norm_err = 0.0e+00\n",
      "Current memory usage 118.3 MB, time elapsed: 3.7 s\n",
      "Delta E = 0.0000e+00, Delta S = 0.0000e+00 (per sweep)\n",
      "max_trunc_err = 0.0000e+00, max_E_trunc = 0.0000e+00\n",
      "MPS bond dimensions: [1, 1, 1, 1, 1, 1, 1, 1]\n",
      "================================================================================\n",
      "DMRG finished after 20 sweeps.\n",
      "total size = 2088, maximum chi = 1\n",
      "================================================================================\n",
      "Canonicalizing...\n",
      "Computing properties\n",
      "Optimizing\n",
      "====================================================================================================\n",
      "Chi =  64 \n",
      "\n"
     ]
    },
    {
     "name": "stderr",
     "output_type": "stream",
     "text": [
      "/home/jerry/anaconda3/lib/python3.7/site-packages/tenpy/networks/mps.py:3673: UserWarning: trimming speigs k to smaller matrix dimension d\n",
      "  eta, A = speigs(flat_linop, k=k, which='LM', **kwargs)\n"
     ]
    },
    {
     "name": "stdout",
     "output_type": "stream",
     "text": [
      "Updating environment\n",
      ".....\n",
      "================================================================================\n",
      "sweep 10, age = 2328\n",
      "Energy = -0.1250000000000000, S = 0.0000000000000000, norm_err = 0.0e+00\n",
      "Current memory usage 118.3 MB, time elapsed: 1.8 s\n",
      "Delta E = nan, Delta S = nan (per sweep)\n",
      "max_trunc_err = 0.0000e+00, max_E_trunc = 0.0000e+00\n",
      "MPS bond dimensions: [1, 1, 1, 1, 1, 1, 1, 1]\n",
      "Updating environment\n",
      ".....\n",
      "================================================================================\n",
      "sweep 20, age = 2568\n",
      "Energy = -0.1250000000000000, S = 0.0000000000000000, norm_err = 0.0e+00\n",
      "Current memory usage 118.3 MB, time elapsed: 3.7 s\n",
      "Delta E = 0.0000e+00, Delta S = 0.0000e+00 (per sweep)\n",
      "max_trunc_err = 0.0000e+00, max_E_trunc = 0.0000e+00\n",
      "MPS bond dimensions: [1, 1, 1, 1, 1, 1, 1, 1]\n",
      "================================================================================\n",
      "DMRG finished after 20 sweeps.\n",
      "total size = 2568, maximum chi = 1\n",
      "================================================================================\n",
      "Canonicalizing...\n",
      "Computing properties\n",
      "Optimizing\n",
      "====================================================================================================\n",
      "Chi =  128 \n",
      "\n"
     ]
    },
    {
     "name": "stderr",
     "output_type": "stream",
     "text": [
      "/home/jerry/anaconda3/lib/python3.7/site-packages/tenpy/networks/mps.py:3673: UserWarning: trimming speigs k to smaller matrix dimension d\n",
      "  eta, A = speigs(flat_linop, k=k, which='LM', **kwargs)\n"
     ]
    },
    {
     "name": "stdout",
     "output_type": "stream",
     "text": [
      "Updating environment\n",
      ".....\n",
      "================================================================================\n",
      "sweep 10, age = 2808\n",
      "Energy = -0.1250000000000000, S = 0.0000000000000000, norm_err = 0.0e+00\n",
      "Current memory usage 118.3 MB, time elapsed: 1.8 s\n",
      "Delta E = nan, Delta S = nan (per sweep)\n",
      "max_trunc_err = 0.0000e+00, max_E_trunc = 0.0000e+00\n",
      "MPS bond dimensions: [1, 1, 1, 1, 1, 1, 1, 1]\n",
      "Updating environment\n",
      ".....\n",
      "================================================================================\n",
      "sweep 20, age = 3048\n",
      "Energy = -0.1250000000000000, S = 0.0000000000000000, norm_err = 0.0e+00\n",
      "Current memory usage 118.3 MB, time elapsed: 3.7 s\n",
      "Delta E = 0.0000e+00, Delta S = 0.0000e+00 (per sweep)\n",
      "max_trunc_err = 0.0000e+00, max_E_trunc = 0.0000e+00\n",
      "MPS bond dimensions: [1, 1, 1, 1, 1, 1, 1, 1]\n",
      "================================================================================\n",
      "DMRG finished after 20 sweeps.\n",
      "total size = 3048, maximum chi = 1\n",
      "================================================================================\n",
      "Canonicalizing...\n",
      "Computing properties\n",
      "Optimizing\n",
      "{'entropy_list': [0.0, 0.0, 0.0, 0.0, 0.0, 0.0], 'correlation_list': [0.0, 0.0, 0.0, 0.0, 0.0, 0.0]}\n"
     ]
    },
    {
     "name": "stderr",
     "output_type": "stream",
     "text": [
      "/home/jerry/anaconda3/lib/python3.7/site-packages/tenpy/networks/mps.py:3673: UserWarning: trimming speigs k to smaller matrix dimension d\n",
      "  eta, A = speigs(flat_linop, k=k, which='LM', **kwargs)\n"
     ]
    }
   ],
   "source": [
    "data = run()\n",
    "# plot_results(data)\n",
    "print(data)"
   ]
  },
  {
   "cell_type": "code",
   "execution_count": 7,
   "metadata": {},
   "outputs": [
    {
     "name": "stderr",
     "output_type": "stream",
     "text": [
      "/home/jerry/anaconda3/lib/python3.7/site-packages/ipykernel_launcher.py:3: RuntimeWarning: divide by zero encountered in log\n",
      "  This is separate from the ipykernel package so we can avoid doing imports until\n"
     ]
    },
    {
     "data": {
      "text/plain": [
       "[<matplotlib.lines.Line2D at 0x7f897396d950>]"
      ]
     },
     "execution_count": 7,
     "metadata": {},
     "output_type": "execute_result"
    },
    {
     "data": {
      "image/png": "[encoded data removed]",
      "text/plain": [
       "<Figure size 432x288 with 1 Axes>"
      ]
     },
     "metadata": {
      "needs_background": "light"
     },
     "output_type": "display_data"
    }
   ],
   "source": [
    "entropy_list = data['entropy_list'][2:-1]\n",
    "correlation_list = data['correlation_list'][2:-1]\n",
    "plt.plot(np.log(correlation_list), entropy_list, 'o')"
   ]
  },
  {
   "cell_type": "code",
   "execution_count": 8,
   "metadata": {},
   "outputs": [],
   "source": [
    "from scipy.optimize import curve_fit\n",
    "\n",
    "def func(xi, c, a):\n",
    "    return (c / 6) * np.log(xi) + a"
   ]
  },
  {
   "cell_type": "code",
   "execution_count": 9,
   "metadata": {},
   "outputs": [
    {
     "name": "stderr",
     "output_type": "stream",
     "text": [
      "/home/jerry/anaconda3/lib/python3.7/site-packages/ipykernel_launcher.py:2: RuntimeWarning: divide by zero encountered in log\n",
      "  \n",
      "/home/jerry/anaconda3/lib/python3.7/site-packages/ipykernel_launcher.py:4: RuntimeWarning: divide by zero encountered in log\n",
      "  after removing the cwd from sys.path.\n",
      "/home/jerry/anaconda3/lib/python3.7/site-packages/scipy/optimize/minpack.py:808: OptimizeWarning: Covariance of the parameters could not be estimated\n",
      "  category=OptimizeWarning)\n"
     ]
    }
   ],
   "source": [
    "xi = correlation_list\n",
    "log_xi = np.log(correlation_list)\n",
    "s = entropy_list\n",
    "fitParams, fitCovariances = curve_fit(func, xi, s)"
   ]
  },
  {
   "cell_type": "code",
   "execution_count": 10,
   "metadata": {},
   "outputs": [
    {
     "data": {
      "text/plain": [
       "array([[inf, inf],\n",
       "       [inf, inf]])"
      ]
     },
     "execution_count": 10,
     "metadata": {},
     "output_type": "execute_result"
    }
   ],
   "source": [
    "fitCovariances"
   ]
  },
  {
   "cell_type": "code",
   "execution_count": 11,
   "metadata": {},
   "outputs": [
    {
     "data": {
      "text/plain": [
       "16"
      ]
     },
     "execution_count": 11,
     "metadata": {},
     "output_type": "execute_result"
    }
   ],
   "source": [
    "2**4"
   ]
  },
  {
   "cell_type": "code",
   "execution_count": 12,
   "metadata": {},
   "outputs": [
    {
     "data": {
      "text/plain": [
       "int"
      ]
     },
     "execution_count": 12,
     "metadata": {},
     "output_type": "execute_result"
    }
   ],
   "source": [
    "type(2**4)"
   ]
  },
  {
   "cell_type": "code",
   "execution_count": null,
   "metadata": {},
   "outputs": [],
   "source": []
  }
 ],
 "metadata": {
  "kernelspec": {
   "display_name": "Python 3",
   "language": "python",
   "name": "python3"
  },
  "language_info": {
   "codemirror_mode": {
    "name": "ipython",
    "version": 3
   },
   "file_extension": ".py",
   "mimetype": "text/x-python",
   "name": "python",
   "nbconvert_exporter": "python",
   "pygments_lexer": "ipython3",
   "version": "3.7.7"
  }
 },
 "nbformat": 4,
 "nbformat_minor": 4
}
