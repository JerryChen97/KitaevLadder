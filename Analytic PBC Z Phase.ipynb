{
 "cells": [
  {
   "cell_type": "code",
   "execution_count": 1,
   "metadata": {},
   "outputs": [],
   "source": [
    "from Majorana import get_Majorana_spectrum, decompose_skew_schur, H_fermionic_skew, get_parity, get_two_E\n",
    "from Majorana import get_lowest_E"
   ]
  },
  {
   "cell_type": "code",
   "execution_count": 2,
   "metadata": {},
   "outputs": [],
   "source": [
    "import matplotlib.pyplot as plt"
   ]
  },
  {
   "cell_type": "code",
   "execution_count": 3,
   "metadata": {},
   "outputs": [],
   "source": [
    "import numpy as np\n",
    "import matplotlib.pyplot as plt\n",
    "from time import time"
   ]
  },
  {
   "cell_type": "code",
   "execution_count": 4,
   "metadata": {},
   "outputs": [],
   "source": [
    "Jx = 1.0\n",
    "Jy = 1.0\n",
    "Jz = 1.0\n",
    "N = 10\n",
    "D_list = [1 for i in range(2*N)]\n",
    "bc = 'periodic'\n",
    "SigmaY = 1"
   ]
  },
  {
   "cell_type": "code",
   "execution_count": 14,
   "metadata": {},
   "outputs": [
    {
     "name": "stdout",
     "output_type": "stream",
     "text": [
      "2-fold GS:\n"
     ]
    },
    {
     "data": {
      "text/plain": [
       "[-33.55223652839073, -33.552162344406405]"
      ]
     },
     "execution_count": 14,
     "metadata": {},
     "output_type": "execute_result"
    }
   ],
   "source": [
    "print(\"2-fold GS:\")\n",
    "get_lowest_E(Jx, Jy, Jz, N, [1 for i in range(2*N)], bc)"
   ]
  },
  {
   "cell_type": "code",
   "execution_count": 15,
   "metadata": {},
   "outputs": [],
   "source": [
    "import pickle\n",
    "f = open(\"DegeneracyData.pkl\",\"rb\")\n",
    "dictfrompickle = pickle.load(f)"
   ]
  },
  {
   "cell_type": "code",
   "execution_count": 44,
   "metadata": {},
   "outputs": [
    {
     "data": {
      "text/plain": [
       "([-33.552236475338546,\n",
       "  -33.552162295175904,\n",
       "  -32.87742419963248,\n",
       "  -32.87722627175848],\n",
       " [<tenpy.networks.mps.MPS at 0x7f7afbad8250>,\n",
       "  <tenpy.networks.mps.MPS at 0x7f7afba93110>,\n",
       "  <tenpy.networks.mps.MPS at 0x7f7afba43990>,\n",
       "  <tenpy.networks.mps.MPS at 0x7f7afba76250>])"
      ]
     },
     "execution_count": 44,
     "metadata": {},
     "output_type": "execute_result"
    }
   ],
   "source": [
    "bc_str = 'OBC' if bc=='open' else 'PBC'\n",
    "dictfrompickle[f'{bc_str}_Jx_{Jx}_Jy_{Jy}_Jz_{Jz}'][-1]"
   ]
  },
  {
   "cell_type": "code",
   "execution_count": 74,
   "metadata": {},
   "outputs": [
    {
     "name": "stdout",
     "output_type": "stream",
     "text": [
      "D all +1\n",
      "[-33.55223652839073, -33.552162344406405]\n",
      "\n",
      "One of Ds set to -1\n",
      "[-32.316131458898774, -32.31613145889879]\n",
      "\n",
      "Two -1\n",
      "Distance between the two -1: 1\n",
      "[-32.54083241533114, -32.54054455493515]\n",
      "\n",
      "Distance between the two -1: 2\n",
      "[-32.8774243204049, -32.87722638165795]\n",
      "\n",
      "Distance between the two -1: 3\n",
      "[-32.70872345473189, -32.70854387028839]\n",
      "\n",
      "Distance between the two -1: 4\n",
      "[-32.75740219315688, -32.757138855190526]\n",
      "\n",
      "Distance between the two -1: 5\n",
      "[-32.73287085499244, -32.732701858395124]\n",
      "\n",
      "Distance between the two -1: 6\n",
      "[-32.73981624576777, -32.73953958976616]\n",
      "\n",
      "Distance between the two -1: 7\n",
      "[-32.73639923435634, -32.736231779593815]\n",
      "\n",
      "Distance between the two -1: 8\n",
      "[-32.737438191342704, -32.73715953780497]\n",
      "\n",
      "Distance between the two -1: 9\n",
      "[-32.73690212668843, -32.73673490172159]\n",
      "\n",
      "Distance between the two -1: 10\n",
      "[-32.73715953780496, -32.7368806388992]\n",
      "\n",
      "Distance between the two -1: 11\n",
      "[-32.73690212668841, -32.7367349017216]\n",
      "\n",
      "Distance between the two -1: 12\n",
      "[-32.7374381913427, -32.73715953780497]\n",
      "\n",
      "Distance between the two -1: 13\n",
      "[-32.73639923435635, -32.736231779593815]\n",
      "\n",
      "Distance between the two -1: 14\n",
      "[-32.73981624576778, -32.73953958976616]\n",
      "\n",
      "Distance between the two -1: 15\n",
      "[-32.73287085499245, -32.73270185839513]\n",
      "\n",
      "Distance between the two -1: 16\n",
      "[-32.75740219315688, -32.75713885519052]\n",
      "\n",
      "Distance between the two -1: 17\n",
      "[-32.70872345473189, -32.70854387028838]\n",
      "\n",
      "Distance between the two -1: 18\n",
      "[-32.8774243204049, -32.877226381657955]\n",
      "\n",
      "Distance between the two -1: 19\n",
      "[-32.54083241533114, -32.54054455493518]\n",
      "\n"
     ]
    }
   ],
   "source": [
    "print('D all +1')\n",
    "D_list = [1 for i in range(2*N)]\n",
    "print(get_lowest_E(Jx, Jy, Jz, N, D_list, bc='periodic'))\n",
    "print('')\n",
    "\n",
    "print('One of Ds set to -1')\n",
    "D_list = [1 for i in range(2*N)]\n",
    "D_list[0] *= -1\n",
    "print(get_lowest_E(Jx, Jy, Jz, N, D_list, bc='periodic'))\n",
    "print('')\n",
    "\n",
    "print('Two -1')\n",
    "for i in range(1, 2*N):\n",
    "    print(f\"Distance between the two -1: {i}\")\n",
    "    D_list = [1 for i in range(2*N)]\n",
    "    D_list[0] *= -1\n",
    "    D_list[i] *= -1\n",
    "    print(get_lowest_E(Jx, Jy, Jz, N, D_list, bc='periodic'))\n",
    "    print('')"
   ]
  },
  {
   "cell_type": "code",
   "execution_count": null,
   "metadata": {},
   "outputs": [],
   "source": []
  },
  {
   "cell_type": "code",
   "execution_count": 90,
   "metadata": {},
   "outputs": [],
   "source": [
    "Jx = 0\n",
    "Jy = 1.0\n",
    "Jz = 1.0\n",
    "N = 10\n",
    "D_list = [1 for i in range(2*N)]\n",
    "bc = 'periodic'\n",
    "SigmaY = 1"
   ]
  },
  {
   "cell_type": "code",
   "execution_count": 91,
   "metadata": {},
   "outputs": [
    {
     "name": "stdout",
     "output_type": "stream",
     "text": [
      "2-fold GS:\n"
     ]
    },
    {
     "data": {
      "text/plain": [
       "[-25.49098968636475, -25.41240945229312]"
      ]
     },
     "execution_count": 91,
     "metadata": {},
     "output_type": "execute_result"
    }
   ],
   "source": [
    "print(\"2-fold GS:\")\n",
    "get_lowest_E(Jx, Jy, Jz, N, [1 for i in range(2*N)], bc)"
   ]
  },
  {
   "cell_type": "code",
   "execution_count": 92,
   "metadata": {},
   "outputs": [
    {
     "name": "stdout",
     "output_type": "stream",
     "text": [
      "D all +1\n",
      "[-25.49098968636475, -25.41240945229312]\n",
      "\n",
      "One of Ds set to -1\n",
      "[-25.412409492405715, -25.177153303453373]\n",
      "\n",
      "Two -1\n",
      "Distance between the two -1: 1\n",
      "[-25.49098968636475, -25.41240945229312]\n",
      "\n",
      "Distance between the two -1: 2\n",
      "[-25.49098968636475, -25.41240945229312]\n",
      "\n",
      "Distance between the two -1: 3\n",
      "[-25.49098968636475, -25.41240945229312]\n",
      "\n",
      "Distance between the two -1: 4\n",
      "[-25.49098968636475, -25.41240945229312]\n",
      "\n",
      "Distance between the two -1: 5\n",
      "[-25.49098968636475, -25.41240945229312]\n",
      "\n",
      "Distance between the two -1: 6\n",
      "[-25.49098968636475, -25.41240945229312]\n",
      "\n",
      "Distance between the two -1: 7\n",
      "[-25.49098968636475, -25.41240945229312]\n",
      "\n",
      "Distance between the two -1: 8\n",
      "[-25.49098968636475, -25.41240945229312]\n",
      "\n",
      "Distance between the two -1: 9\n",
      "[-25.49098968636475, -25.41240945229312]\n",
      "\n",
      "Distance between the two -1: 10\n",
      "[-25.49098968636475, -25.41240945229312]\n",
      "\n",
      "Distance between the two -1: 11\n",
      "[-25.49098968636475, -25.41240945229312]\n",
      "\n",
      "Distance between the two -1: 12\n",
      "[-25.49098968636475, -25.41240945229312]\n",
      "\n",
      "Distance between the two -1: 13\n",
      "[-25.49098968636475, -25.41240945229312]\n",
      "\n",
      "Distance between the two -1: 14\n",
      "[-25.49098968636475, -25.41240945229312]\n",
      "\n",
      "Distance between the two -1: 15\n",
      "[-25.49098968636475, -25.41240945229312]\n",
      "\n",
      "Distance between the two -1: 16\n",
      "[-25.49098968636475, -25.41240945229312]\n",
      "\n",
      "Distance between the two -1: 17\n",
      "[-25.49098968636475, -25.41240945229312]\n",
      "\n",
      "Distance between the two -1: 18\n",
      "[-25.49098968636475, -25.41240945229312]\n",
      "\n",
      "Distance between the two -1: 19\n",
      "[-25.49098968636475, -25.41240945229312]\n",
      "\n"
     ]
    }
   ],
   "source": [
    "print('D all +1')\n",
    "D_list = [1 for i in range(2*N)]\n",
    "print(get_lowest_E(Jx, Jy, Jz, N, D_list, bc='periodic'))\n",
    "print('')\n",
    "\n",
    "print('One of Ds set to -1')\n",
    "D_list = [1 for i in range(2*N)]\n",
    "D_list[0] *= -1\n",
    "print(get_lowest_E(Jx, Jy, Jz, N, D_list, bc='periodic'))\n",
    "print('')\n",
    "\n",
    "print('Two -1')\n",
    "for i in range(1, 2*N):\n",
    "    print(f\"Distance between the two -1: {i}\")\n",
    "    D_list = [1 for i in range(2*N)]\n",
    "    D_list[0] *= -1\n",
    "    D_list[i] *= -1\n",
    "    print(get_lowest_E(Jx, Jy, Jz, N, D_list, bc='periodic'))\n",
    "    print('')"
   ]
  },
  {
   "cell_type": "code",
   "execution_count": 94,
   "metadata": {},
   "outputs": [],
   "source": [
    "Jx = 0\n",
    "Jy = 2.0\n",
    "Jz = 1.0\n",
    "N = 10\n",
    "D_list = [1 for i in range(2*N)]\n",
    "bc = 'periodic'\n",
    "SigmaY = 1"
   ]
  },
  {
   "cell_type": "code",
   "execution_count": 95,
   "metadata": {},
   "outputs": [
    {
     "name": "stdout",
     "output_type": "stream",
     "text": [
      "2-fold GS:\n"
     ]
    },
    {
     "data": {
      "text/plain": [
       "[-42.54177661383856, -40.541776184030496]"
      ]
     },
     "execution_count": 95,
     "metadata": {},
     "output_type": "execute_result"
    }
   ],
   "source": [
    "print(\"2-fold GS:\")\n",
    "get_lowest_E(Jx, Jy, Jz, N, [1 for i in range(2*N)], bc)"
   ]
  },
  {
   "cell_type": "code",
   "execution_count": 96,
   "metadata": {},
   "outputs": [
    {
     "name": "stdout",
     "output_type": "stream",
     "text": [
      "D all +1\n",
      "[-42.54177661383856, -40.541776184030496]\n",
      "\n",
      "One of Ds set to -1\n",
      "[-42.54177618403051, -40.493121798971536]\n",
      "\n",
      "Two -1\n",
      "Distance between the two -1: 1\n",
      "[-42.54177661383855, -40.54177618403051]\n",
      "\n",
      "Distance between the two -1: 2\n",
      "[-42.54177661383855, -40.54177618403051]\n",
      "\n",
      "Distance between the two -1: 3\n",
      "[-42.54177661383855, -40.54177618403051]\n",
      "\n",
      "Distance between the two -1: 4\n",
      "[-42.54177661383855, -40.54177618403051]\n",
      "\n",
      "Distance between the two -1: 5\n",
      "[-42.54177661383855, -40.54177618403051]\n",
      "\n",
      "Distance between the two -1: 6\n",
      "[-42.54177661383855, -40.54177618403051]\n",
      "\n",
      "Distance between the two -1: 7\n",
      "[-42.54177661383855, -40.54177618403051]\n",
      "\n",
      "Distance between the two -1: 8\n",
      "[-42.54177661383855, -40.54177618403051]\n",
      "\n",
      "Distance between the two -1: 9\n",
      "[-42.54177661383855, -40.54177618403051]\n",
      "\n",
      "Distance between the two -1: 10\n",
      "[-42.54177661383855, -40.54177618403051]\n",
      "\n",
      "Distance between the two -1: 11\n",
      "[-42.54177661383855, -40.54177618403051]\n",
      "\n",
      "Distance between the two -1: 12\n",
      "[-42.54177661383855, -40.54177618403051]\n",
      "\n",
      "Distance between the two -1: 13\n",
      "[-42.54177661383855, -40.54177618403051]\n",
      "\n",
      "Distance between the two -1: 14\n",
      "[-42.54177661383855, -40.54177618403051]\n",
      "\n",
      "Distance between the two -1: 15\n",
      "[-42.54177661383855, -40.54177618403051]\n",
      "\n",
      "Distance between the two -1: 16\n",
      "[-42.54177661383855, -40.54177618403051]\n",
      "\n",
      "Distance between the two -1: 17\n",
      "[-42.54177661383855, -40.54177618403051]\n",
      "\n",
      "Distance between the two -1: 18\n",
      "[-42.54177661383855, -40.54177618403051]\n",
      "\n",
      "Distance between the two -1: 19\n",
      "[-42.54177661383855, -40.54177618403051]\n",
      "\n"
     ]
    }
   ],
   "source": [
    "print('D all +1')\n",
    "D_list = [1 for i in range(2*N)]\n",
    "print(get_lowest_E(Jx, Jy, Jz, N, D_list, bc='periodic'))\n",
    "print('')\n",
    "\n",
    "print('One of Ds set to -1')\n",
    "D_list = [1 for i in range(2*N)]\n",
    "D_list[0] *= -1\n",
    "print(get_lowest_E(Jx, Jy, Jz, N, D_list, bc='periodic'))\n",
    "print('')\n",
    "\n",
    "print('Two -1')\n",
    "for i in range(1, 2*N):\n",
    "    print(f\"Distance between the two -1: {i}\")\n",
    "    D_list = [1 for i in range(2*N)]\n",
    "    D_list[0] *= -1\n",
    "    D_list[i] *= -1\n",
    "    print(get_lowest_E(Jx, Jy, Jz, N, D_list, bc='periodic'))\n",
    "    print('')"
   ]
  },
  {
   "cell_type": "markdown",
   "metadata": {},
   "source": [
    "Note that here `SigmaY` is also the symmetry broken (same for `SigmaX` of course)."
   ]
  }
 ],
 "metadata": {
  "kernelspec": {
   "display_name": "Python 3",
   "language": "python",
   "name": "python3"
  },
  "language_info": {
   "codemirror_mode": {
    "name": "ipython",
    "version": 3
   },
   "file_extension": ".py",
   "mimetype": "text/x-python",
   "name": "python",
   "nbconvert_exporter": "python",
   "pygments_lexer": "ipython3",
   "version": "3.7.7"
  }
 },
 "nbformat": 4,
 "nbformat_minor": 4
}
